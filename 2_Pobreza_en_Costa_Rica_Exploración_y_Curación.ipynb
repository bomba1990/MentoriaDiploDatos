{
 "cells": [
  {
   "cell_type": "markdown",
   "metadata": {
    "colab_type": "text",
    "id": "msSmmQWg4T8d"
   },
   "source": [
    "<center>\n",
    "<h4>Diplomatura en CDAAyA 2019 - FaMAF - UNC</h4>\n",
    "<h1>Predicción del Nivel de Pobreza de Hogares en Costa Rica</h1>\n",
    "<h3>Exploración y Curación</h3>\n",
    "</center>\n",
    "</left>\n",
    "<h4>Sofía Luján</h4>\n",
    "<h4>Mariano Ramirez</h4>\n",
    "</left>"
   ]
  },
  {
   "cell_type": "markdown",
   "metadata": {
    "colab_type": "text",
    "id": "Xdtwf4Y34T8f"
   },
   "source": [
    "### Introducción\n",
    "\n",
    "En la siguiente notebook, se presentará la consigna a seguir para el segundo práctico de la materia Exploración y Curación. El objetivo consiste en identificar e implementar los pasos necesarios para la limpieza de la base de datos de pobreza en hogares de Costa Rica, así como también analizar cruces de datos con mayor profundidad y validando el sentido lógico. Para ello, comenzaremos con las importaciones pertinentes."
   ]
  },
  {
   "cell_type": "markdown",
   "metadata": {
    "colab_type": "text",
    "id": "KA4EdJa54T8g"
   },
   "source": [
    "### Importaciones"
   ]
  },
  {
   "cell_type": "code",
   "execution_count": 2,
   "metadata": {
    "colab": {},
    "colab_type": "code",
    "id": "r2ELWhZL4T8h"
   },
   "outputs": [],
   "source": [
    "# Importación de las librerías necesarias\n",
    "import numpy as np\n",
    "import pandas as pd\n",
    "# Puede que nos sirvan también\n",
    "import matplotlib as mpl\n",
    "mpl.get_cachedir()\n",
    "import matplotlib.pyplot as plt\n",
    "%matplotlib inline\n",
    "import seaborn as sns"
   ]
  },
  {
   "cell_type": "code",
   "execution_count": 3,
   "metadata": {
    "colab": {},
    "colab_type": "code",
    "id": "8QbhclSv4T8m"
   },
   "outputs": [],
   "source": [
    "pd.set_option('display.max_columns', 150)\n",
    "pd.set_option('display.max_rows', 150)\n",
    "pd.set_option('max_colwidth', 151)"
   ]
  },
  {
   "cell_type": "markdown",
   "metadata": {
    "colab_type": "text",
    "id": "2hH3K42u4T8p"
   },
   "source": [
    "## Consigna para Curación y Exploración del Dataset"
   ]
  },
  {
   "cell_type": "markdown",
   "metadata": {
    "colab_type": "text",
    "id": "iCXHGNzy4T8q"
   },
   "source": [
    "### I. Rutina de Curación\n",
    "\n",
    "Inicialmente, con el objetivo de preparar los datos que alimentarán futuros modelos de aprendizaje automático (ML), se propone seguir la siguiente __[checklist](https://dimewiki.worldbank.org/wiki/Checklist:_Data_Cleaning)__ para la limpieza de los datos de nuestro proyecto. Esta _checklist_ es la misma que utilizaron en el primer práctico de la materia y nos será de utilidad como guía para curar el dataset. A modo de ayuda, **en esta notebook encontrarán una especie de template** que sigue la _checklist_ y que deberán ir completando.\n",
    "\n",
    "**Cada decisión tomada deberá quedar registrada de manera explícita y clara.** Luego de pasar por todos los puntos de la _checklist_ propuesta, deberán almacenar en un nuevo archivo los datos resultantes. Adicionalmente, deben tener en cuenta que las acciones de limpieza que realicen sobre este dataset también deberán ser implementadas sobre el dataset de test (que, por el momento, no ha sido disponibilizado).\n",
    "\n",
    "A los fines de realizar este práctico, se utilizará el dataset original, pero descartando todas aquellas columnas que se hayan calculado en base a features preexistentes, ya que éstas están relacionadas a decisiones que adoptaremos más adelante, como por ejemplo, sobre si es necesario crear nuevas features y si incluirlas o no. Recuerden que la ciencia de datos es un **proceso circular, continuo y no lineal**. Es decir, si los datos requieren de mayor procesamiento para satisfacer las necesidades de algoritmos de ML (cualesquiera de ellos), vamos a volver a la etapa inicial para, por ejemplo, crear nuevas features, tomar decisiones diferentes sobre valores faltantes o valores atípicos (outliers), descartar features, entre otras."
   ]
  },
  {
   "cell_type": "markdown",
   "metadata": {
    "colab_type": "text",
    "id": "zE6eD6il4T8r"
   },
   "source": [
    "### II. Análisis en Profundidad del Contenido\n",
    "\n",
    "Una vez aplicada la _Checklist_, lo que vamos a hacer es profundizar aún más el análisis y tomar decisiones que se consideren pertinentes, si es que no lo han hecho aún en el desarrollo del primer apartado. Por supuesto, se deberán registrar todas las decisiones que tomen al respecto.\n",
    "\n",
    "Al finalizar con el práctico, las preguntas listadas a continuación deberán quedar respondidas, mientras que si ya lo hicieron durante el desarrollo de la ´checklist´, el objetivo es que se replanteen las decisiones tomadas al respecto:\n",
    "\n",
    "1. Hay tres features que, por su descripción, deberían ser numéricas: `dependency`, `edjefe` y `edjefa`. Sin embargo, el tipo de dato de estos campos es 'Objeto'. Obtener los valores únicos, analizar por qué no son numéricos y decidir cómo se transformarán a numéricos, teniendo en cuenta su significado.\n",
    "\n",
    "2. Comparar los campos `tamhog` y `hhsize`. ¿Qué información nos da cada una? ¿Qué deberíamos hacer al respecto? ¿Qué diferencia hay con el campo `r4t3`?\n",
    "\n",
    "3. ¿Qué ocurre con las rentas (`v2a1`) outliers? ¿Son razonables? ¿Mantenemos o descartamos estos registros?\n",
    "\n",
    "4. ¿Para qué casos de las variables TipoVivienda (`tipovivi`) no existe renta? ¿Es un si y solo si? Es decir, por ejemplo, si son propietarios, nunca hay valor en el campo renta, mientras que si no lo son, siempre hay valor. En caso de que esto no sea así, ¿es razonable? ¿Qué decisión tomarían al respecto?\n",
    "\n",
    "5. ¿Qué decidieron respecto a los valores faltantes de la renta? Una **propuesta que podría considerarse interesante** es completar tales valores faltantes con el **costo de oportunidad** de los propietarios de ese hogar. Es decir, ese hogar está dejando de percibir una renta igual a $x$ por estar habitando esa vivienda. Por lo tanto, ese costo de oportunidad puede estimarse de acuerdo al valor de la renta de viviendas similares, en base a múltiples criterios, como por ejemplo: zona, región, tipo de construcción, acceso a servicios y todas las características que ustedes consideren pertinentes. Esto quedará a su criterio. ¿Cuál es el único feature que no deberíamos usar para obtener el costo de oportunidad y por qué?\n",
    "\n",
    "6. ¿Qué datos se repiten para `idhogar` y cuáles no? ¿Tiene sentido?\n",
    "\n",
    "7. Si contamos la cantidad de individuos entrevistados por hogar, ¿coincide con el tamaño del hogar? ¿Y coincide con la suma de las variables que indican cantidad de personas? ¿Qué se puede hacer en los casos en que no?\n",
    "\n",
    "8. Considerando los campos `rooms` y `bedrooms`, debería haber al menos tantos ambientes como habitaciones o bien más. Comprobar si esto es así efectivamente. Si no lo fuera, ¿puede ser un error de carga? ¿Cómo lo solucionarían?\n",
    "\n",
    "9. ¿Todos los `idhogar` tienen jefa o jefe de hogar? (`parentesco1` == 1) Si esto no ocurre, ¿qué harían con los hogares que no tienen?\n",
    "\n",
    "Esta lista es extensa e intenta abarcar todas las posibles irregularidades en los datos, pero puede no ser exhaustiva. **Cualquier análisis adicional de consistencia que deseen agregar porque lo consideran pertinente, será bienvenido y valorado.**"
   ]
  },
  {
   "cell_type": "markdown",
   "metadata": {
    "colab_type": "text",
    "id": "-TO4K_lT4T8s"
   },
   "source": [
    "### Entregables\n",
    "\n",
    "El entregable de este práctico consiste en esta misma Notebook, pero con la _checklist_ realizada y el análisis de contenido completo, explicando las decisiones tomadas en cada etapa. Además, deberán elaborar un script que contenga una función para curar nuevos datos con la misma estructura. Finalmente, deberán actualizar la metadata."
   ]
  },
  {
   "cell_type": "markdown",
   "metadata": {
    "colab_type": "text",
    "id": "eendfik24T8t"
   },
   "source": [
    "# Resolución"
   ]
  },
  {
   "cell_type": "markdown",
   "metadata": {
    "colab_type": "text",
    "id": "1Py0paOw4T8u"
   },
   "source": [
    "## I. Rutina de Curación\n",
    "\n",
    "### 1. Importación de Datos\n",
    "\n",
    "#### 1.1. Verificación de Inexistencia de Problemas en la Importación"
   ]
  },
  {
   "cell_type": "markdown",
   "metadata": {
    "colab_type": "text",
    "id": "gET_XkkF4T8v"
   },
   "source": [
    "Para comenzar, importamos los datos que vamos a procesar:"
   ]
  },
  {
   "cell_type": "code",
   "execution_count": null,
   "metadata": {
    "colab": {},
    "colab_type": "code",
    "id": "6VMr58vd4T8w"
   },
   "outputs": [],
   "source": [
    "# Cargamos el Dataset original en una variable\n",
    "# url = 'https://github.com/jbergamasco/DiploDatos2019/raw/master/ProyectoPobrezaCostaRica/DatasetPobCR_Train.txt'\n",
    "url_data = 'https://github.com/jbergamasco/DiploDatos2019/raw/master/ProyectoPobrezaCostaRica/DatasetPobCR_Train.csv'\n",
    "ds = pd.read_csv(url_data)\n",
    "ds.head()"
   ]
  },
  {
   "cell_type": "code",
   "execution_count": null,
   "metadata": {
    "colab": {
     "base_uri": "https://localhost:8080/",
     "height": 1000
    },
    "colab_type": "code",
    "id": "tsXrobE54T83",
    "outputId": "74f770f0-60ad-476a-8056-b7d6f51ab5f2"
   },
   "outputs": [],
   "source": [
    "# Cargamos el Dataset Fields en una variable, para tener la información de cada campo\n",
    "url_fields_info = 'https://raw.githubusercontent.com/solujan/DiploDatos2019/master/ProyectoPobrezaCostaRica/Dataset%20Fields.csv'\n",
    "_data_fields = pd.read_csv(url_fields_info, sep=';')\n",
    "_data_fields"
   ]
  },
  {
   "cell_type": "markdown",
   "metadata": {
    "colab_type": "text",
    "id": "89nzEgQA4T87"
   },
   "source": [
    "Recuerden que la variable `Target` constituye nuestro objetivo de predicción. Es la etiqueta de los datos de acuerdo al nivel de pobreza del hogar que habitan, según la siguiente escala o clases:\n",
    "\n",
    "1 = pobreza extrema<br>\n",
    "2 = pobreza moderada<br>\n",
    "3 = hogares vulnerables<br>\n",
    "4 = hogares no vulnerables<br>"
   ]
  },
  {
   "cell_type": "code",
   "execution_count": 6,
   "metadata": {
    "colab": {
     "base_uri": "https://localhost:8080/",
     "height": 50
    },
    "colab_type": "code",
    "id": "2maVI3bK4T88",
    "outputId": "e459b9b9-e1da-4ef7-a2dc-1022b2a7daa7",
    "scrolled": false
   },
   "outputs": [
    {
     "name": "stdout",
     "output_type": "stream",
     "text": [
      "Columnas eliminadas:  ['SQBescolari' 'SQBage' 'SQBhogar_total' 'SQBedjefe' 'SQBhogar_nin'\n",
      " 'SQBovercrowding' 'SQBdependency' 'SQBmeaned' 'agesq']\n"
     ]
    }
   ],
   "source": [
    "# Eliminamos columnas que son features calculadas en base a otros features\n",
    "_calc_feat = ds.loc[:,'SQBescolari':'agesq'].columns\n",
    "print('Columnas eliminadas: ', _calc_feat.values)\n",
    "ds.drop(columns = _calc_feat, inplace = True)"
   ]
  },
  {
   "cell_type": "markdown",
   "metadata": {
    "colab_type": "text",
    "id": "0HJ7rvZQ4T9E"
   },
   "source": [
    "Tomamos una muestra aleatoria para ver valores más dispersos."
   ]
  },
  {
   "cell_type": "code",
   "execution_count": 7,
   "metadata": {
    "colab": {
     "base_uri": "https://localhost:8080/",
     "height": 363
    },
    "colab_type": "code",
    "id": "FKcx3bYa4T9F",
    "outputId": "c5a92e29-bb6c-4a7d-ffdf-79fa503eca6e"
   },
   "outputs": [
    {
     "data": {
      "text/html": [
       "<div>\n",
       "<style scoped>\n",
       "    .dataframe tbody tr th:only-of-type {\n",
       "        vertical-align: middle;\n",
       "    }\n",
       "\n",
       "    .dataframe tbody tr th {\n",
       "        vertical-align: top;\n",
       "    }\n",
       "\n",
       "    .dataframe thead th {\n",
       "        text-align: right;\n",
       "    }\n",
       "</style>\n",
       "<table border=\"1\" class=\"dataframe\">\n",
       "  <thead>\n",
       "    <tr style=\"text-align: right;\">\n",
       "      <th></th>\n",
       "      <th>Id</th>\n",
       "      <th>v2a1</th>\n",
       "      <th>hacdor</th>\n",
       "      <th>rooms</th>\n",
       "      <th>hacapo</th>\n",
       "      <th>v14a</th>\n",
       "      <th>refrig</th>\n",
       "      <th>v18q</th>\n",
       "      <th>v18q1</th>\n",
       "      <th>r4h1</th>\n",
       "      <th>r4h2</th>\n",
       "      <th>r4h3</th>\n",
       "      <th>r4m1</th>\n",
       "      <th>r4m2</th>\n",
       "      <th>r4m3</th>\n",
       "      <th>r4t1</th>\n",
       "      <th>r4t2</th>\n",
       "      <th>r4t3</th>\n",
       "      <th>tamhog</th>\n",
       "      <th>tamviv</th>\n",
       "      <th>escolari</th>\n",
       "      <th>rez_esc</th>\n",
       "      <th>hhsize</th>\n",
       "      <th>paredblolad</th>\n",
       "      <th>paredzocalo</th>\n",
       "      <th>paredpreb</th>\n",
       "      <th>pareddes</th>\n",
       "      <th>paredmad</th>\n",
       "      <th>paredzinc</th>\n",
       "      <th>paredfibras</th>\n",
       "      <th>paredother</th>\n",
       "      <th>pisomoscer</th>\n",
       "      <th>pisocemento</th>\n",
       "      <th>pisoother</th>\n",
       "      <th>pisonatur</th>\n",
       "      <th>pisonotiene</th>\n",
       "      <th>pisomadera</th>\n",
       "      <th>techozinc</th>\n",
       "      <th>techoentrepiso</th>\n",
       "      <th>techocane</th>\n",
       "      <th>techootro</th>\n",
       "      <th>cielorazo</th>\n",
       "      <th>abastaguadentro</th>\n",
       "      <th>abastaguafuera</th>\n",
       "      <th>abastaguano</th>\n",
       "      <th>public</th>\n",
       "      <th>planpri</th>\n",
       "      <th>noelec</th>\n",
       "      <th>coopele</th>\n",
       "      <th>sanitario1</th>\n",
       "      <th>sanitario2</th>\n",
       "      <th>sanitario3</th>\n",
       "      <th>sanitario5</th>\n",
       "      <th>sanitario6</th>\n",
       "      <th>energcocinar1</th>\n",
       "      <th>energcocinar2</th>\n",
       "      <th>energcocinar3</th>\n",
       "      <th>energcocinar4</th>\n",
       "      <th>elimbasu1</th>\n",
       "      <th>elimbasu2</th>\n",
       "      <th>elimbasu3</th>\n",
       "      <th>elimbasu4</th>\n",
       "      <th>elimbasu5</th>\n",
       "      <th>elimbasu6</th>\n",
       "      <th>epared1</th>\n",
       "      <th>epared2</th>\n",
       "      <th>epared3</th>\n",
       "      <th>etecho1</th>\n",
       "      <th>etecho2</th>\n",
       "      <th>etecho3</th>\n",
       "      <th>eviv1</th>\n",
       "      <th>eviv2</th>\n",
       "      <th>eviv3</th>\n",
       "      <th>dis</th>\n",
       "      <th>male</th>\n",
       "      <th>female</th>\n",
       "      <th>estadocivil1</th>\n",
       "      <th>estadocivil2</th>\n",
       "      <th>estadocivil3</th>\n",
       "      <th>estadocivil4</th>\n",
       "      <th>estadocivil5</th>\n",
       "      <th>estadocivil6</th>\n",
       "      <th>estadocivil7</th>\n",
       "      <th>parentesco1</th>\n",
       "      <th>parentesco2</th>\n",
       "      <th>parentesco3</th>\n",
       "      <th>parentesco4</th>\n",
       "      <th>parentesco5</th>\n",
       "      <th>parentesco6</th>\n",
       "      <th>parentesco7</th>\n",
       "      <th>parentesco8</th>\n",
       "      <th>parentesco9</th>\n",
       "      <th>parentesco10</th>\n",
       "      <th>parentesco11</th>\n",
       "      <th>parentesco12</th>\n",
       "      <th>idhogar</th>\n",
       "      <th>hogar_nin</th>\n",
       "      <th>hogar_adul</th>\n",
       "      <th>hogar_mayor</th>\n",
       "      <th>hogar_total</th>\n",
       "      <th>dependency</th>\n",
       "      <th>edjefe</th>\n",
       "      <th>edjefa</th>\n",
       "      <th>meaneduc</th>\n",
       "      <th>instlevel1</th>\n",
       "      <th>instlevel2</th>\n",
       "      <th>instlevel3</th>\n",
       "      <th>instlevel4</th>\n",
       "      <th>instlevel5</th>\n",
       "      <th>instlevel6</th>\n",
       "      <th>instlevel7</th>\n",
       "      <th>instlevel8</th>\n",
       "      <th>instlevel9</th>\n",
       "      <th>bedrooms</th>\n",
       "      <th>overcrowding</th>\n",
       "      <th>tipovivi1</th>\n",
       "      <th>tipovivi2</th>\n",
       "      <th>tipovivi3</th>\n",
       "      <th>tipovivi4</th>\n",
       "      <th>tipovivi5</th>\n",
       "      <th>computer</th>\n",
       "      <th>television</th>\n",
       "      <th>mobilephone</th>\n",
       "      <th>qmobilephone</th>\n",
       "      <th>lugar1</th>\n",
       "      <th>lugar2</th>\n",
       "      <th>lugar3</th>\n",
       "      <th>lugar4</th>\n",
       "      <th>lugar5</th>\n",
       "      <th>lugar6</th>\n",
       "      <th>area1</th>\n",
       "      <th>area2</th>\n",
       "      <th>age</th>\n",
       "      <th>Target</th>\n",
       "    </tr>\n",
       "  </thead>\n",
       "  <tbody>\n",
       "    <tr>\n",
       "      <th>4319</th>\n",
       "      <td>ID_c9fdb7266</td>\n",
       "      <td>NaN</td>\n",
       "      <td>0</td>\n",
       "      <td>6</td>\n",
       "      <td>0</td>\n",
       "      <td>1</td>\n",
       "      <td>1</td>\n",
       "      <td>0</td>\n",
       "      <td>NaN</td>\n",
       "      <td>0</td>\n",
       "      <td>2</td>\n",
       "      <td>2</td>\n",
       "      <td>0</td>\n",
       "      <td>2</td>\n",
       "      <td>2</td>\n",
       "      <td>0</td>\n",
       "      <td>4</td>\n",
       "      <td>4</td>\n",
       "      <td>4</td>\n",
       "      <td>4</td>\n",
       "      <td>11</td>\n",
       "      <td>NaN</td>\n",
       "      <td>4</td>\n",
       "      <td>1</td>\n",
       "      <td>0</td>\n",
       "      <td>0</td>\n",
       "      <td>0</td>\n",
       "      <td>0</td>\n",
       "      <td>0</td>\n",
       "      <td>0</td>\n",
       "      <td>0</td>\n",
       "      <td>1</td>\n",
       "      <td>0</td>\n",
       "      <td>0</td>\n",
       "      <td>0</td>\n",
       "      <td>0</td>\n",
       "      <td>0</td>\n",
       "      <td>1</td>\n",
       "      <td>0</td>\n",
       "      <td>0</td>\n",
       "      <td>0</td>\n",
       "      <td>1</td>\n",
       "      <td>1</td>\n",
       "      <td>0</td>\n",
       "      <td>0</td>\n",
       "      <td>1</td>\n",
       "      <td>0</td>\n",
       "      <td>0</td>\n",
       "      <td>0</td>\n",
       "      <td>0</td>\n",
       "      <td>0</td>\n",
       "      <td>1</td>\n",
       "      <td>0</td>\n",
       "      <td>0</td>\n",
       "      <td>0</td>\n",
       "      <td>1</td>\n",
       "      <td>0</td>\n",
       "      <td>0</td>\n",
       "      <td>1</td>\n",
       "      <td>0</td>\n",
       "      <td>0</td>\n",
       "      <td>0</td>\n",
       "      <td>0</td>\n",
       "      <td>0</td>\n",
       "      <td>0</td>\n",
       "      <td>1</td>\n",
       "      <td>0</td>\n",
       "      <td>0</td>\n",
       "      <td>1</td>\n",
       "      <td>0</td>\n",
       "      <td>0</td>\n",
       "      <td>1</td>\n",
       "      <td>0</td>\n",
       "      <td>0</td>\n",
       "      <td>1</td>\n",
       "      <td>0</td>\n",
       "      <td>0</td>\n",
       "      <td>0</td>\n",
       "      <td>0</td>\n",
       "      <td>0</td>\n",
       "      <td>0</td>\n",
       "      <td>0</td>\n",
       "      <td>1</td>\n",
       "      <td>0</td>\n",
       "      <td>0</td>\n",
       "      <td>1</td>\n",
       "      <td>0</td>\n",
       "      <td>0</td>\n",
       "      <td>0</td>\n",
       "      <td>0</td>\n",
       "      <td>0</td>\n",
       "      <td>0</td>\n",
       "      <td>0</td>\n",
       "      <td>0</td>\n",
       "      <td>0</td>\n",
       "      <td>c92ca11d1</td>\n",
       "      <td>1</td>\n",
       "      <td>3</td>\n",
       "      <td>0</td>\n",
       "      <td>4</td>\n",
       "      <td>.33333334</td>\n",
       "      <td>no</td>\n",
       "      <td>6</td>\n",
       "      <td>9.333333</td>\n",
       "      <td>0</td>\n",
       "      <td>0</td>\n",
       "      <td>0</td>\n",
       "      <td>0</td>\n",
       "      <td>1</td>\n",
       "      <td>0</td>\n",
       "      <td>0</td>\n",
       "      <td>0</td>\n",
       "      <td>0</td>\n",
       "      <td>3</td>\n",
       "      <td>1.333333</td>\n",
       "      <td>0</td>\n",
       "      <td>0</td>\n",
       "      <td>0</td>\n",
       "      <td>0</td>\n",
       "      <td>1</td>\n",
       "      <td>1</td>\n",
       "      <td>1</td>\n",
       "      <td>1</td>\n",
       "      <td>4</td>\n",
       "      <td>1</td>\n",
       "      <td>0</td>\n",
       "      <td>0</td>\n",
       "      <td>0</td>\n",
       "      <td>0</td>\n",
       "      <td>0</td>\n",
       "      <td>1</td>\n",
       "      <td>0</td>\n",
       "      <td>25</td>\n",
       "      <td>4</td>\n",
       "    </tr>\n",
       "    <tr>\n",
       "      <th>3883</th>\n",
       "      <td>ID_fd6cc8def</td>\n",
       "      <td>NaN</td>\n",
       "      <td>0</td>\n",
       "      <td>4</td>\n",
       "      <td>0</td>\n",
       "      <td>1</td>\n",
       "      <td>1</td>\n",
       "      <td>1</td>\n",
       "      <td>1.0</td>\n",
       "      <td>0</td>\n",
       "      <td>0</td>\n",
       "      <td>0</td>\n",
       "      <td>0</td>\n",
       "      <td>2</td>\n",
       "      <td>2</td>\n",
       "      <td>0</td>\n",
       "      <td>2</td>\n",
       "      <td>2</td>\n",
       "      <td>2</td>\n",
       "      <td>2</td>\n",
       "      <td>14</td>\n",
       "      <td>NaN</td>\n",
       "      <td>2</td>\n",
       "      <td>0</td>\n",
       "      <td>0</td>\n",
       "      <td>1</td>\n",
       "      <td>0</td>\n",
       "      <td>0</td>\n",
       "      <td>0</td>\n",
       "      <td>0</td>\n",
       "      <td>0</td>\n",
       "      <td>1</td>\n",
       "      <td>0</td>\n",
       "      <td>0</td>\n",
       "      <td>0</td>\n",
       "      <td>0</td>\n",
       "      <td>0</td>\n",
       "      <td>1</td>\n",
       "      <td>0</td>\n",
       "      <td>0</td>\n",
       "      <td>0</td>\n",
       "      <td>1</td>\n",
       "      <td>1</td>\n",
       "      <td>0</td>\n",
       "      <td>0</td>\n",
       "      <td>1</td>\n",
       "      <td>0</td>\n",
       "      <td>0</td>\n",
       "      <td>0</td>\n",
       "      <td>0</td>\n",
       "      <td>1</td>\n",
       "      <td>0</td>\n",
       "      <td>0</td>\n",
       "      <td>0</td>\n",
       "      <td>0</td>\n",
       "      <td>1</td>\n",
       "      <td>0</td>\n",
       "      <td>0</td>\n",
       "      <td>1</td>\n",
       "      <td>0</td>\n",
       "      <td>0</td>\n",
       "      <td>0</td>\n",
       "      <td>0</td>\n",
       "      <td>0</td>\n",
       "      <td>0</td>\n",
       "      <td>0</td>\n",
       "      <td>1</td>\n",
       "      <td>1</td>\n",
       "      <td>0</td>\n",
       "      <td>0</td>\n",
       "      <td>0</td>\n",
       "      <td>0</td>\n",
       "      <td>1</td>\n",
       "      <td>0</td>\n",
       "      <td>0</td>\n",
       "      <td>1</td>\n",
       "      <td>0</td>\n",
       "      <td>0</td>\n",
       "      <td>0</td>\n",
       "      <td>1</td>\n",
       "      <td>0</td>\n",
       "      <td>0</td>\n",
       "      <td>0</td>\n",
       "      <td>1</td>\n",
       "      <td>0</td>\n",
       "      <td>0</td>\n",
       "      <td>0</td>\n",
       "      <td>0</td>\n",
       "      <td>0</td>\n",
       "      <td>0</td>\n",
       "      <td>0</td>\n",
       "      <td>0</td>\n",
       "      <td>0</td>\n",
       "      <td>0</td>\n",
       "      <td>0</td>\n",
       "      <td>72524240f</td>\n",
       "      <td>0</td>\n",
       "      <td>2</td>\n",
       "      <td>0</td>\n",
       "      <td>2</td>\n",
       "      <td>no</td>\n",
       "      <td>no</td>\n",
       "      <td>14</td>\n",
       "      <td>14.000000</td>\n",
       "      <td>0</td>\n",
       "      <td>0</td>\n",
       "      <td>0</td>\n",
       "      <td>0</td>\n",
       "      <td>0</td>\n",
       "      <td>0</td>\n",
       "      <td>0</td>\n",
       "      <td>1</td>\n",
       "      <td>0</td>\n",
       "      <td>2</td>\n",
       "      <td>1.000000</td>\n",
       "      <td>1</td>\n",
       "      <td>0</td>\n",
       "      <td>0</td>\n",
       "      <td>0</td>\n",
       "      <td>0</td>\n",
       "      <td>0</td>\n",
       "      <td>0</td>\n",
       "      <td>1</td>\n",
       "      <td>2</td>\n",
       "      <td>1</td>\n",
       "      <td>0</td>\n",
       "      <td>0</td>\n",
       "      <td>0</td>\n",
       "      <td>0</td>\n",
       "      <td>0</td>\n",
       "      <td>1</td>\n",
       "      <td>0</td>\n",
       "      <td>57</td>\n",
       "      <td>4</td>\n",
       "    </tr>\n",
       "    <tr>\n",
       "      <th>3775</th>\n",
       "      <td>ID_85d5cd65c</td>\n",
       "      <td>180000.0</td>\n",
       "      <td>0</td>\n",
       "      <td>4</td>\n",
       "      <td>0</td>\n",
       "      <td>1</td>\n",
       "      <td>1</td>\n",
       "      <td>1</td>\n",
       "      <td>2.0</td>\n",
       "      <td>1</td>\n",
       "      <td>1</td>\n",
       "      <td>2</td>\n",
       "      <td>1</td>\n",
       "      <td>1</td>\n",
       "      <td>2</td>\n",
       "      <td>2</td>\n",
       "      <td>2</td>\n",
       "      <td>4</td>\n",
       "      <td>4</td>\n",
       "      <td>4</td>\n",
       "      <td>15</td>\n",
       "      <td>NaN</td>\n",
       "      <td>4</td>\n",
       "      <td>1</td>\n",
       "      <td>0</td>\n",
       "      <td>0</td>\n",
       "      <td>0</td>\n",
       "      <td>0</td>\n",
       "      <td>0</td>\n",
       "      <td>0</td>\n",
       "      <td>0</td>\n",
       "      <td>1</td>\n",
       "      <td>0</td>\n",
       "      <td>0</td>\n",
       "      <td>0</td>\n",
       "      <td>0</td>\n",
       "      <td>0</td>\n",
       "      <td>1</td>\n",
       "      <td>0</td>\n",
       "      <td>0</td>\n",
       "      <td>0</td>\n",
       "      <td>1</td>\n",
       "      <td>1</td>\n",
       "      <td>0</td>\n",
       "      <td>0</td>\n",
       "      <td>1</td>\n",
       "      <td>0</td>\n",
       "      <td>0</td>\n",
       "      <td>0</td>\n",
       "      <td>0</td>\n",
       "      <td>0</td>\n",
       "      <td>1</td>\n",
       "      <td>0</td>\n",
       "      <td>0</td>\n",
       "      <td>0</td>\n",
       "      <td>1</td>\n",
       "      <td>0</td>\n",
       "      <td>0</td>\n",
       "      <td>1</td>\n",
       "      <td>0</td>\n",
       "      <td>0</td>\n",
       "      <td>0</td>\n",
       "      <td>0</td>\n",
       "      <td>0</td>\n",
       "      <td>0</td>\n",
       "      <td>1</td>\n",
       "      <td>0</td>\n",
       "      <td>0</td>\n",
       "      <td>1</td>\n",
       "      <td>0</td>\n",
       "      <td>0</td>\n",
       "      <td>1</td>\n",
       "      <td>0</td>\n",
       "      <td>0</td>\n",
       "      <td>1</td>\n",
       "      <td>0</td>\n",
       "      <td>0</td>\n",
       "      <td>0</td>\n",
       "      <td>1</td>\n",
       "      <td>0</td>\n",
       "      <td>0</td>\n",
       "      <td>0</td>\n",
       "      <td>0</td>\n",
       "      <td>1</td>\n",
       "      <td>0</td>\n",
       "      <td>0</td>\n",
       "      <td>0</td>\n",
       "      <td>0</td>\n",
       "      <td>0</td>\n",
       "      <td>0</td>\n",
       "      <td>0</td>\n",
       "      <td>0</td>\n",
       "      <td>0</td>\n",
       "      <td>0</td>\n",
       "      <td>0</td>\n",
       "      <td>006031de3</td>\n",
       "      <td>2</td>\n",
       "      <td>2</td>\n",
       "      <td>0</td>\n",
       "      <td>4</td>\n",
       "      <td>yes</td>\n",
       "      <td>15</td>\n",
       "      <td>no</td>\n",
       "      <td>15.500000</td>\n",
       "      <td>0</td>\n",
       "      <td>0</td>\n",
       "      <td>0</td>\n",
       "      <td>0</td>\n",
       "      <td>0</td>\n",
       "      <td>0</td>\n",
       "      <td>0</td>\n",
       "      <td>1</td>\n",
       "      <td>0</td>\n",
       "      <td>2</td>\n",
       "      <td>2.000000</td>\n",
       "      <td>0</td>\n",
       "      <td>0</td>\n",
       "      <td>1</td>\n",
       "      <td>0</td>\n",
       "      <td>0</td>\n",
       "      <td>0</td>\n",
       "      <td>0</td>\n",
       "      <td>1</td>\n",
       "      <td>2</td>\n",
       "      <td>1</td>\n",
       "      <td>0</td>\n",
       "      <td>0</td>\n",
       "      <td>0</td>\n",
       "      <td>0</td>\n",
       "      <td>0</td>\n",
       "      <td>1</td>\n",
       "      <td>0</td>\n",
       "      <td>39</td>\n",
       "      <td>4</td>\n",
       "    </tr>\n",
       "    <tr>\n",
       "      <th>1519</th>\n",
       "      <td>ID_c230376ae</td>\n",
       "      <td>NaN</td>\n",
       "      <td>0</td>\n",
       "      <td>5</td>\n",
       "      <td>0</td>\n",
       "      <td>1</td>\n",
       "      <td>1</td>\n",
       "      <td>1</td>\n",
       "      <td>2.0</td>\n",
       "      <td>0</td>\n",
       "      <td>1</td>\n",
       "      <td>1</td>\n",
       "      <td>1</td>\n",
       "      <td>1</td>\n",
       "      <td>2</td>\n",
       "      <td>1</td>\n",
       "      <td>2</td>\n",
       "      <td>3</td>\n",
       "      <td>3</td>\n",
       "      <td>3</td>\n",
       "      <td>12</td>\n",
       "      <td>NaN</td>\n",
       "      <td>3</td>\n",
       "      <td>1</td>\n",
       "      <td>0</td>\n",
       "      <td>0</td>\n",
       "      <td>0</td>\n",
       "      <td>0</td>\n",
       "      <td>0</td>\n",
       "      <td>0</td>\n",
       "      <td>0</td>\n",
       "      <td>1</td>\n",
       "      <td>0</td>\n",
       "      <td>0</td>\n",
       "      <td>0</td>\n",
       "      <td>0</td>\n",
       "      <td>0</td>\n",
       "      <td>1</td>\n",
       "      <td>0</td>\n",
       "      <td>0</td>\n",
       "      <td>0</td>\n",
       "      <td>1</td>\n",
       "      <td>1</td>\n",
       "      <td>0</td>\n",
       "      <td>0</td>\n",
       "      <td>1</td>\n",
       "      <td>0</td>\n",
       "      <td>0</td>\n",
       "      <td>0</td>\n",
       "      <td>0</td>\n",
       "      <td>1</td>\n",
       "      <td>0</td>\n",
       "      <td>0</td>\n",
       "      <td>0</td>\n",
       "      <td>0</td>\n",
       "      <td>0</td>\n",
       "      <td>1</td>\n",
       "      <td>0</td>\n",
       "      <td>1</td>\n",
       "      <td>0</td>\n",
       "      <td>0</td>\n",
       "      <td>0</td>\n",
       "      <td>0</td>\n",
       "      <td>0</td>\n",
       "      <td>0</td>\n",
       "      <td>0</td>\n",
       "      <td>1</td>\n",
       "      <td>0</td>\n",
       "      <td>0</td>\n",
       "      <td>1</td>\n",
       "      <td>0</td>\n",
       "      <td>0</td>\n",
       "      <td>1</td>\n",
       "      <td>0</td>\n",
       "      <td>1</td>\n",
       "      <td>0</td>\n",
       "      <td>0</td>\n",
       "      <td>0</td>\n",
       "      <td>0</td>\n",
       "      <td>0</td>\n",
       "      <td>0</td>\n",
       "      <td>0</td>\n",
       "      <td>1</td>\n",
       "      <td>0</td>\n",
       "      <td>0</td>\n",
       "      <td>1</td>\n",
       "      <td>0</td>\n",
       "      <td>0</td>\n",
       "      <td>0</td>\n",
       "      <td>0</td>\n",
       "      <td>0</td>\n",
       "      <td>0</td>\n",
       "      <td>0</td>\n",
       "      <td>0</td>\n",
       "      <td>0</td>\n",
       "      <td>c0480739d</td>\n",
       "      <td>2</td>\n",
       "      <td>1</td>\n",
       "      <td>0</td>\n",
       "      <td>3</td>\n",
       "      <td>2</td>\n",
       "      <td>no</td>\n",
       "      <td>16</td>\n",
       "      <td>28.000000</td>\n",
       "      <td>0</td>\n",
       "      <td>0</td>\n",
       "      <td>0</td>\n",
       "      <td>0</td>\n",
       "      <td>0</td>\n",
       "      <td>0</td>\n",
       "      <td>1</td>\n",
       "      <td>0</td>\n",
       "      <td>0</td>\n",
       "      <td>3</td>\n",
       "      <td>1.000000</td>\n",
       "      <td>1</td>\n",
       "      <td>0</td>\n",
       "      <td>0</td>\n",
       "      <td>0</td>\n",
       "      <td>0</td>\n",
       "      <td>0</td>\n",
       "      <td>1</td>\n",
       "      <td>1</td>\n",
       "      <td>3</td>\n",
       "      <td>1</td>\n",
       "      <td>0</td>\n",
       "      <td>0</td>\n",
       "      <td>0</td>\n",
       "      <td>0</td>\n",
       "      <td>0</td>\n",
       "      <td>1</td>\n",
       "      <td>0</td>\n",
       "      <td>19</td>\n",
       "      <td>4</td>\n",
       "    </tr>\n",
       "    <tr>\n",
       "      <th>8810</th>\n",
       "      <td>ID_991b84866</td>\n",
       "      <td>NaN</td>\n",
       "      <td>0</td>\n",
       "      <td>4</td>\n",
       "      <td>0</td>\n",
       "      <td>1</td>\n",
       "      <td>1</td>\n",
       "      <td>0</td>\n",
       "      <td>NaN</td>\n",
       "      <td>1</td>\n",
       "      <td>1</td>\n",
       "      <td>2</td>\n",
       "      <td>1</td>\n",
       "      <td>1</td>\n",
       "      <td>2</td>\n",
       "      <td>2</td>\n",
       "      <td>2</td>\n",
       "      <td>4</td>\n",
       "      <td>4</td>\n",
       "      <td>4</td>\n",
       "      <td>5</td>\n",
       "      <td>0.0</td>\n",
       "      <td>4</td>\n",
       "      <td>1</td>\n",
       "      <td>0</td>\n",
       "      <td>0</td>\n",
       "      <td>0</td>\n",
       "      <td>0</td>\n",
       "      <td>0</td>\n",
       "      <td>0</td>\n",
       "      <td>0</td>\n",
       "      <td>1</td>\n",
       "      <td>0</td>\n",
       "      <td>0</td>\n",
       "      <td>0</td>\n",
       "      <td>0</td>\n",
       "      <td>0</td>\n",
       "      <td>1</td>\n",
       "      <td>0</td>\n",
       "      <td>0</td>\n",
       "      <td>0</td>\n",
       "      <td>1</td>\n",
       "      <td>1</td>\n",
       "      <td>0</td>\n",
       "      <td>0</td>\n",
       "      <td>0</td>\n",
       "      <td>0</td>\n",
       "      <td>0</td>\n",
       "      <td>1</td>\n",
       "      <td>0</td>\n",
       "      <td>0</td>\n",
       "      <td>1</td>\n",
       "      <td>0</td>\n",
       "      <td>0</td>\n",
       "      <td>0</td>\n",
       "      <td>0</td>\n",
       "      <td>1</td>\n",
       "      <td>0</td>\n",
       "      <td>1</td>\n",
       "      <td>0</td>\n",
       "      <td>0</td>\n",
       "      <td>0</td>\n",
       "      <td>0</td>\n",
       "      <td>0</td>\n",
       "      <td>0</td>\n",
       "      <td>0</td>\n",
       "      <td>1</td>\n",
       "      <td>0</td>\n",
       "      <td>0</td>\n",
       "      <td>1</td>\n",
       "      <td>0</td>\n",
       "      <td>0</td>\n",
       "      <td>1</td>\n",
       "      <td>0</td>\n",
       "      <td>1</td>\n",
       "      <td>0</td>\n",
       "      <td>0</td>\n",
       "      <td>0</td>\n",
       "      <td>0</td>\n",
       "      <td>0</td>\n",
       "      <td>0</td>\n",
       "      <td>0</td>\n",
       "      <td>1</td>\n",
       "      <td>0</td>\n",
       "      <td>0</td>\n",
       "      <td>1</td>\n",
       "      <td>0</td>\n",
       "      <td>0</td>\n",
       "      <td>0</td>\n",
       "      <td>0</td>\n",
       "      <td>0</td>\n",
       "      <td>0</td>\n",
       "      <td>0</td>\n",
       "      <td>0</td>\n",
       "      <td>0</td>\n",
       "      <td>a8dcd4364</td>\n",
       "      <td>2</td>\n",
       "      <td>2</td>\n",
       "      <td>0</td>\n",
       "      <td>4</td>\n",
       "      <td>yes</td>\n",
       "      <td>9</td>\n",
       "      <td>no</td>\n",
       "      <td>9.500000</td>\n",
       "      <td>0</td>\n",
       "      <td>1</td>\n",
       "      <td>0</td>\n",
       "      <td>0</td>\n",
       "      <td>0</td>\n",
       "      <td>0</td>\n",
       "      <td>0</td>\n",
       "      <td>0</td>\n",
       "      <td>0</td>\n",
       "      <td>2</td>\n",
       "      <td>2.000000</td>\n",
       "      <td>1</td>\n",
       "      <td>0</td>\n",
       "      <td>0</td>\n",
       "      <td>0</td>\n",
       "      <td>0</td>\n",
       "      <td>0</td>\n",
       "      <td>0</td>\n",
       "      <td>1</td>\n",
       "      <td>4</td>\n",
       "      <td>0</td>\n",
       "      <td>0</td>\n",
       "      <td>0</td>\n",
       "      <td>0</td>\n",
       "      <td>0</td>\n",
       "      <td>1</td>\n",
       "      <td>1</td>\n",
       "      <td>0</td>\n",
       "      <td>11</td>\n",
       "      <td>2</td>\n",
       "    </tr>\n",
       "    <tr>\n",
       "      <th>4398</th>\n",
       "      <td>ID_6846cbaac</td>\n",
       "      <td>NaN</td>\n",
       "      <td>0</td>\n",
       "      <td>6</td>\n",
       "      <td>0</td>\n",
       "      <td>1</td>\n",
       "      <td>1</td>\n",
       "      <td>0</td>\n",
       "      <td>NaN</td>\n",
       "      <td>0</td>\n",
       "      <td>2</td>\n",
       "      <td>2</td>\n",
       "      <td>0</td>\n",
       "      <td>2</td>\n",
       "      <td>2</td>\n",
       "      <td>0</td>\n",
       "      <td>4</td>\n",
       "      <td>4</td>\n",
       "      <td>4</td>\n",
       "      <td>4</td>\n",
       "      <td>6</td>\n",
       "      <td>NaN</td>\n",
       "      <td>4</td>\n",
       "      <td>0</td>\n",
       "      <td>0</td>\n",
       "      <td>0</td>\n",
       "      <td>0</td>\n",
       "      <td>1</td>\n",
       "      <td>0</td>\n",
       "      <td>0</td>\n",
       "      <td>0</td>\n",
       "      <td>1</td>\n",
       "      <td>0</td>\n",
       "      <td>0</td>\n",
       "      <td>0</td>\n",
       "      <td>0</td>\n",
       "      <td>0</td>\n",
       "      <td>1</td>\n",
       "      <td>0</td>\n",
       "      <td>0</td>\n",
       "      <td>0</td>\n",
       "      <td>1</td>\n",
       "      <td>1</td>\n",
       "      <td>0</td>\n",
       "      <td>0</td>\n",
       "      <td>1</td>\n",
       "      <td>0</td>\n",
       "      <td>0</td>\n",
       "      <td>0</td>\n",
       "      <td>0</td>\n",
       "      <td>0</td>\n",
       "      <td>1</td>\n",
       "      <td>0</td>\n",
       "      <td>0</td>\n",
       "      <td>0</td>\n",
       "      <td>0</td>\n",
       "      <td>1</td>\n",
       "      <td>0</td>\n",
       "      <td>1</td>\n",
       "      <td>0</td>\n",
       "      <td>0</td>\n",
       "      <td>0</td>\n",
       "      <td>0</td>\n",
       "      <td>0</td>\n",
       "      <td>0</td>\n",
       "      <td>1</td>\n",
       "      <td>0</td>\n",
       "      <td>0</td>\n",
       "      <td>1</td>\n",
       "      <td>0</td>\n",
       "      <td>0</td>\n",
       "      <td>0</td>\n",
       "      <td>1</td>\n",
       "      <td>0</td>\n",
       "      <td>1</td>\n",
       "      <td>0</td>\n",
       "      <td>0</td>\n",
       "      <td>0</td>\n",
       "      <td>0</td>\n",
       "      <td>0</td>\n",
       "      <td>0</td>\n",
       "      <td>0</td>\n",
       "      <td>1</td>\n",
       "      <td>0</td>\n",
       "      <td>0</td>\n",
       "      <td>0</td>\n",
       "      <td>0</td>\n",
       "      <td>0</td>\n",
       "      <td>0</td>\n",
       "      <td>0</td>\n",
       "      <td>0</td>\n",
       "      <td>0</td>\n",
       "      <td>0</td>\n",
       "      <td>1</td>\n",
       "      <td>0</td>\n",
       "      <td>3677a8765</td>\n",
       "      <td>0</td>\n",
       "      <td>4</td>\n",
       "      <td>3</td>\n",
       "      <td>4</td>\n",
       "      <td>3</td>\n",
       "      <td>no</td>\n",
       "      <td>6</td>\n",
       "      <td>4.500000</td>\n",
       "      <td>0</td>\n",
       "      <td>0</td>\n",
       "      <td>1</td>\n",
       "      <td>0</td>\n",
       "      <td>0</td>\n",
       "      <td>0</td>\n",
       "      <td>0</td>\n",
       "      <td>0</td>\n",
       "      <td>0</td>\n",
       "      <td>3</td>\n",
       "      <td>1.333333</td>\n",
       "      <td>1</td>\n",
       "      <td>0</td>\n",
       "      <td>0</td>\n",
       "      <td>0</td>\n",
       "      <td>0</td>\n",
       "      <td>0</td>\n",
       "      <td>1</td>\n",
       "      <td>1</td>\n",
       "      <td>3</td>\n",
       "      <td>1</td>\n",
       "      <td>0</td>\n",
       "      <td>0</td>\n",
       "      <td>0</td>\n",
       "      <td>0</td>\n",
       "      <td>0</td>\n",
       "      <td>1</td>\n",
       "      <td>0</td>\n",
       "      <td>33</td>\n",
       "      <td>4</td>\n",
       "    </tr>\n",
       "    <tr>\n",
       "      <th>6632</th>\n",
       "      <td>ID_af3dd1bd2</td>\n",
       "      <td>NaN</td>\n",
       "      <td>0</td>\n",
       "      <td>7</td>\n",
       "      <td>0</td>\n",
       "      <td>1</td>\n",
       "      <td>1</td>\n",
       "      <td>1</td>\n",
       "      <td>1.0</td>\n",
       "      <td>0</td>\n",
       "      <td>0</td>\n",
       "      <td>0</td>\n",
       "      <td>1</td>\n",
       "      <td>2</td>\n",
       "      <td>3</td>\n",
       "      <td>1</td>\n",
       "      <td>2</td>\n",
       "      <td>3</td>\n",
       "      <td>3</td>\n",
       "      <td>3</td>\n",
       "      <td>12</td>\n",
       "      <td>NaN</td>\n",
       "      <td>3</td>\n",
       "      <td>1</td>\n",
       "      <td>0</td>\n",
       "      <td>0</td>\n",
       "      <td>0</td>\n",
       "      <td>0</td>\n",
       "      <td>0</td>\n",
       "      <td>0</td>\n",
       "      <td>0</td>\n",
       "      <td>1</td>\n",
       "      <td>0</td>\n",
       "      <td>0</td>\n",
       "      <td>0</td>\n",
       "      <td>0</td>\n",
       "      <td>0</td>\n",
       "      <td>1</td>\n",
       "      <td>0</td>\n",
       "      <td>0</td>\n",
       "      <td>0</td>\n",
       "      <td>1</td>\n",
       "      <td>1</td>\n",
       "      <td>0</td>\n",
       "      <td>0</td>\n",
       "      <td>1</td>\n",
       "      <td>0</td>\n",
       "      <td>0</td>\n",
       "      <td>0</td>\n",
       "      <td>0</td>\n",
       "      <td>0</td>\n",
       "      <td>1</td>\n",
       "      <td>0</td>\n",
       "      <td>0</td>\n",
       "      <td>0</td>\n",
       "      <td>1</td>\n",
       "      <td>0</td>\n",
       "      <td>0</td>\n",
       "      <td>1</td>\n",
       "      <td>0</td>\n",
       "      <td>0</td>\n",
       "      <td>0</td>\n",
       "      <td>0</td>\n",
       "      <td>0</td>\n",
       "      <td>0</td>\n",
       "      <td>0</td>\n",
       "      <td>1</td>\n",
       "      <td>0</td>\n",
       "      <td>0</td>\n",
       "      <td>1</td>\n",
       "      <td>0</td>\n",
       "      <td>0</td>\n",
       "      <td>1</td>\n",
       "      <td>0</td>\n",
       "      <td>0</td>\n",
       "      <td>1</td>\n",
       "      <td>0</td>\n",
       "      <td>0</td>\n",
       "      <td>0</td>\n",
       "      <td>1</td>\n",
       "      <td>0</td>\n",
       "      <td>0</td>\n",
       "      <td>0</td>\n",
       "      <td>0</td>\n",
       "      <td>0</td>\n",
       "      <td>1</td>\n",
       "      <td>0</td>\n",
       "      <td>0</td>\n",
       "      <td>0</td>\n",
       "      <td>0</td>\n",
       "      <td>0</td>\n",
       "      <td>0</td>\n",
       "      <td>0</td>\n",
       "      <td>0</td>\n",
       "      <td>0</td>\n",
       "      <td>351a9fd58</td>\n",
       "      <td>1</td>\n",
       "      <td>2</td>\n",
       "      <td>1</td>\n",
       "      <td>3</td>\n",
       "      <td>2</td>\n",
       "      <td>no</td>\n",
       "      <td>6</td>\n",
       "      <td>9.000000</td>\n",
       "      <td>0</td>\n",
       "      <td>0</td>\n",
       "      <td>0</td>\n",
       "      <td>0</td>\n",
       "      <td>0</td>\n",
       "      <td>0</td>\n",
       "      <td>1</td>\n",
       "      <td>0</td>\n",
       "      <td>0</td>\n",
       "      <td>3</td>\n",
       "      <td>1.000000</td>\n",
       "      <td>1</td>\n",
       "      <td>0</td>\n",
       "      <td>0</td>\n",
       "      <td>0</td>\n",
       "      <td>0</td>\n",
       "      <td>0</td>\n",
       "      <td>1</td>\n",
       "      <td>1</td>\n",
       "      <td>2</td>\n",
       "      <td>0</td>\n",
       "      <td>0</td>\n",
       "      <td>1</td>\n",
       "      <td>0</td>\n",
       "      <td>0</td>\n",
       "      <td>0</td>\n",
       "      <td>1</td>\n",
       "      <td>0</td>\n",
       "      <td>51</td>\n",
       "      <td>3</td>\n",
       "    </tr>\n",
       "    <tr>\n",
       "      <th>5790</th>\n",
       "      <td>ID_b6889eed0</td>\n",
       "      <td>NaN</td>\n",
       "      <td>0</td>\n",
       "      <td>3</td>\n",
       "      <td>0</td>\n",
       "      <td>1</td>\n",
       "      <td>1</td>\n",
       "      <td>0</td>\n",
       "      <td>NaN</td>\n",
       "      <td>0</td>\n",
       "      <td>1</td>\n",
       "      <td>1</td>\n",
       "      <td>0</td>\n",
       "      <td>2</td>\n",
       "      <td>2</td>\n",
       "      <td>0</td>\n",
       "      <td>3</td>\n",
       "      <td>3</td>\n",
       "      <td>3</td>\n",
       "      <td>3</td>\n",
       "      <td>11</td>\n",
       "      <td>NaN</td>\n",
       "      <td>3</td>\n",
       "      <td>1</td>\n",
       "      <td>0</td>\n",
       "      <td>0</td>\n",
       "      <td>0</td>\n",
       "      <td>0</td>\n",
       "      <td>0</td>\n",
       "      <td>0</td>\n",
       "      <td>0</td>\n",
       "      <td>0</td>\n",
       "      <td>1</td>\n",
       "      <td>0</td>\n",
       "      <td>0</td>\n",
       "      <td>0</td>\n",
       "      <td>0</td>\n",
       "      <td>0</td>\n",
       "      <td>1</td>\n",
       "      <td>0</td>\n",
       "      <td>0</td>\n",
       "      <td>0</td>\n",
       "      <td>1</td>\n",
       "      <td>0</td>\n",
       "      <td>0</td>\n",
       "      <td>0</td>\n",
       "      <td>0</td>\n",
       "      <td>0</td>\n",
       "      <td>1</td>\n",
       "      <td>0</td>\n",
       "      <td>0</td>\n",
       "      <td>1</td>\n",
       "      <td>0</td>\n",
       "      <td>0</td>\n",
       "      <td>0</td>\n",
       "      <td>1</td>\n",
       "      <td>0</td>\n",
       "      <td>0</td>\n",
       "      <td>1</td>\n",
       "      <td>0</td>\n",
       "      <td>0</td>\n",
       "      <td>0</td>\n",
       "      <td>0</td>\n",
       "      <td>0</td>\n",
       "      <td>0</td>\n",
       "      <td>1</td>\n",
       "      <td>0</td>\n",
       "      <td>0</td>\n",
       "      <td>1</td>\n",
       "      <td>0</td>\n",
       "      <td>0</td>\n",
       "      <td>1</td>\n",
       "      <td>0</td>\n",
       "      <td>0</td>\n",
       "      <td>1</td>\n",
       "      <td>0</td>\n",
       "      <td>0</td>\n",
       "      <td>0</td>\n",
       "      <td>1</td>\n",
       "      <td>0</td>\n",
       "      <td>0</td>\n",
       "      <td>0</td>\n",
       "      <td>0</td>\n",
       "      <td>0</td>\n",
       "      <td>1</td>\n",
       "      <td>0</td>\n",
       "      <td>0</td>\n",
       "      <td>0</td>\n",
       "      <td>0</td>\n",
       "      <td>0</td>\n",
       "      <td>0</td>\n",
       "      <td>0</td>\n",
       "      <td>0</td>\n",
       "      <td>0</td>\n",
       "      <td>0</td>\n",
       "      <td>ef6b27244</td>\n",
       "      <td>1</td>\n",
       "      <td>2</td>\n",
       "      <td>0</td>\n",
       "      <td>3</td>\n",
       "      <td>.5</td>\n",
       "      <td>no</td>\n",
       "      <td>8</td>\n",
       "      <td>15.000000</td>\n",
       "      <td>0</td>\n",
       "      <td>0</td>\n",
       "      <td>0</td>\n",
       "      <td>0</td>\n",
       "      <td>1</td>\n",
       "      <td>0</td>\n",
       "      <td>0</td>\n",
       "      <td>0</td>\n",
       "      <td>0</td>\n",
       "      <td>1</td>\n",
       "      <td>3.000000</td>\n",
       "      <td>1</td>\n",
       "      <td>0</td>\n",
       "      <td>0</td>\n",
       "      <td>0</td>\n",
       "      <td>0</td>\n",
       "      <td>0</td>\n",
       "      <td>0</td>\n",
       "      <td>1</td>\n",
       "      <td>3</td>\n",
       "      <td>0</td>\n",
       "      <td>1</td>\n",
       "      <td>0</td>\n",
       "      <td>0</td>\n",
       "      <td>0</td>\n",
       "      <td>0</td>\n",
       "      <td>1</td>\n",
       "      <td>0</td>\n",
       "      <td>58</td>\n",
       "      <td>1</td>\n",
       "    </tr>\n",
       "    <tr>\n",
       "      <th>3978</th>\n",
       "      <td>ID_22886534c</td>\n",
       "      <td>NaN</td>\n",
       "      <td>0</td>\n",
       "      <td>4</td>\n",
       "      <td>0</td>\n",
       "      <td>1</td>\n",
       "      <td>1</td>\n",
       "      <td>0</td>\n",
       "      <td>NaN</td>\n",
       "      <td>1</td>\n",
       "      <td>3</td>\n",
       "      <td>4</td>\n",
       "      <td>1</td>\n",
       "      <td>1</td>\n",
       "      <td>2</td>\n",
       "      <td>2</td>\n",
       "      <td>4</td>\n",
       "      <td>6</td>\n",
       "      <td>6</td>\n",
       "      <td>6</td>\n",
       "      <td>7</td>\n",
       "      <td>NaN</td>\n",
       "      <td>6</td>\n",
       "      <td>0</td>\n",
       "      <td>0</td>\n",
       "      <td>1</td>\n",
       "      <td>0</td>\n",
       "      <td>0</td>\n",
       "      <td>0</td>\n",
       "      <td>0</td>\n",
       "      <td>0</td>\n",
       "      <td>1</td>\n",
       "      <td>0</td>\n",
       "      <td>0</td>\n",
       "      <td>0</td>\n",
       "      <td>0</td>\n",
       "      <td>0</td>\n",
       "      <td>1</td>\n",
       "      <td>0</td>\n",
       "      <td>0</td>\n",
       "      <td>0</td>\n",
       "      <td>0</td>\n",
       "      <td>1</td>\n",
       "      <td>0</td>\n",
       "      <td>0</td>\n",
       "      <td>1</td>\n",
       "      <td>0</td>\n",
       "      <td>0</td>\n",
       "      <td>0</td>\n",
       "      <td>0</td>\n",
       "      <td>1</td>\n",
       "      <td>0</td>\n",
       "      <td>0</td>\n",
       "      <td>0</td>\n",
       "      <td>0</td>\n",
       "      <td>1</td>\n",
       "      <td>0</td>\n",
       "      <td>0</td>\n",
       "      <td>1</td>\n",
       "      <td>0</td>\n",
       "      <td>0</td>\n",
       "      <td>0</td>\n",
       "      <td>0</td>\n",
       "      <td>0</td>\n",
       "      <td>0</td>\n",
       "      <td>1</td>\n",
       "      <td>0</td>\n",
       "      <td>0</td>\n",
       "      <td>0</td>\n",
       "      <td>1</td>\n",
       "      <td>0</td>\n",
       "      <td>1</td>\n",
       "      <td>0</td>\n",
       "      <td>0</td>\n",
       "      <td>0</td>\n",
       "      <td>1</td>\n",
       "      <td>0</td>\n",
       "      <td>0</td>\n",
       "      <td>1</td>\n",
       "      <td>0</td>\n",
       "      <td>0</td>\n",
       "      <td>0</td>\n",
       "      <td>0</td>\n",
       "      <td>0</td>\n",
       "      <td>1</td>\n",
       "      <td>0</td>\n",
       "      <td>0</td>\n",
       "      <td>0</td>\n",
       "      <td>0</td>\n",
       "      <td>0</td>\n",
       "      <td>0</td>\n",
       "      <td>0</td>\n",
       "      <td>0</td>\n",
       "      <td>0</td>\n",
       "      <td>0</td>\n",
       "      <td>f95f4c3a5</td>\n",
       "      <td>3</td>\n",
       "      <td>3</td>\n",
       "      <td>0</td>\n",
       "      <td>6</td>\n",
       "      <td>yes</td>\n",
       "      <td>9</td>\n",
       "      <td>no</td>\n",
       "      <td>10.000000</td>\n",
       "      <td>0</td>\n",
       "      <td>0</td>\n",
       "      <td>0</td>\n",
       "      <td>1</td>\n",
       "      <td>0</td>\n",
       "      <td>0</td>\n",
       "      <td>0</td>\n",
       "      <td>0</td>\n",
       "      <td>0</td>\n",
       "      <td>2</td>\n",
       "      <td>3.000000</td>\n",
       "      <td>1</td>\n",
       "      <td>0</td>\n",
       "      <td>0</td>\n",
       "      <td>0</td>\n",
       "      <td>0</td>\n",
       "      <td>0</td>\n",
       "      <td>0</td>\n",
       "      <td>1</td>\n",
       "      <td>3</td>\n",
       "      <td>1</td>\n",
       "      <td>0</td>\n",
       "      <td>0</td>\n",
       "      <td>0</td>\n",
       "      <td>0</td>\n",
       "      <td>0</td>\n",
       "      <td>1</td>\n",
       "      <td>0</td>\n",
       "      <td>42</td>\n",
       "      <td>2</td>\n",
       "    </tr>\n",
       "    <tr>\n",
       "      <th>8012</th>\n",
       "      <td>ID_e1842b79b</td>\n",
       "      <td>NaN</td>\n",
       "      <td>0</td>\n",
       "      <td>4</td>\n",
       "      <td>0</td>\n",
       "      <td>1</td>\n",
       "      <td>1</td>\n",
       "      <td>0</td>\n",
       "      <td>NaN</td>\n",
       "      <td>2</td>\n",
       "      <td>0</td>\n",
       "      <td>2</td>\n",
       "      <td>0</td>\n",
       "      <td>2</td>\n",
       "      <td>2</td>\n",
       "      <td>2</td>\n",
       "      <td>2</td>\n",
       "      <td>4</td>\n",
       "      <td>4</td>\n",
       "      <td>4</td>\n",
       "      <td>0</td>\n",
       "      <td>NaN</td>\n",
       "      <td>4</td>\n",
       "      <td>0</td>\n",
       "      <td>0</td>\n",
       "      <td>1</td>\n",
       "      <td>0</td>\n",
       "      <td>0</td>\n",
       "      <td>0</td>\n",
       "      <td>0</td>\n",
       "      <td>0</td>\n",
       "      <td>1</td>\n",
       "      <td>0</td>\n",
       "      <td>0</td>\n",
       "      <td>0</td>\n",
       "      <td>0</td>\n",
       "      <td>0</td>\n",
       "      <td>1</td>\n",
       "      <td>0</td>\n",
       "      <td>0</td>\n",
       "      <td>0</td>\n",
       "      <td>0</td>\n",
       "      <td>1</td>\n",
       "      <td>0</td>\n",
       "      <td>0</td>\n",
       "      <td>1</td>\n",
       "      <td>0</td>\n",
       "      <td>0</td>\n",
       "      <td>0</td>\n",
       "      <td>0</td>\n",
       "      <td>1</td>\n",
       "      <td>0</td>\n",
       "      <td>0</td>\n",
       "      <td>0</td>\n",
       "      <td>0</td>\n",
       "      <td>0</td>\n",
       "      <td>1</td>\n",
       "      <td>0</td>\n",
       "      <td>1</td>\n",
       "      <td>0</td>\n",
       "      <td>0</td>\n",
       "      <td>0</td>\n",
       "      <td>0</td>\n",
       "      <td>0</td>\n",
       "      <td>0</td>\n",
       "      <td>0</td>\n",
       "      <td>1</td>\n",
       "      <td>0</td>\n",
       "      <td>1</td>\n",
       "      <td>0</td>\n",
       "      <td>0</td>\n",
       "      <td>0</td>\n",
       "      <td>1</td>\n",
       "      <td>0</td>\n",
       "      <td>0</td>\n",
       "      <td>1</td>\n",
       "      <td>0</td>\n",
       "      <td>0</td>\n",
       "      <td>0</td>\n",
       "      <td>0</td>\n",
       "      <td>1</td>\n",
       "      <td>0</td>\n",
       "      <td>0</td>\n",
       "      <td>1</td>\n",
       "      <td>0</td>\n",
       "      <td>0</td>\n",
       "      <td>0</td>\n",
       "      <td>0</td>\n",
       "      <td>0</td>\n",
       "      <td>0</td>\n",
       "      <td>0</td>\n",
       "      <td>0</td>\n",
       "      <td>0</td>\n",
       "      <td>0</td>\n",
       "      <td>0</td>\n",
       "      <td>320f51f70</td>\n",
       "      <td>2</td>\n",
       "      <td>2</td>\n",
       "      <td>0</td>\n",
       "      <td>4</td>\n",
       "      <td>yes</td>\n",
       "      <td>no</td>\n",
       "      <td>no</td>\n",
       "      <td>3.000000</td>\n",
       "      <td>1</td>\n",
       "      <td>0</td>\n",
       "      <td>0</td>\n",
       "      <td>0</td>\n",
       "      <td>0</td>\n",
       "      <td>0</td>\n",
       "      <td>0</td>\n",
       "      <td>0</td>\n",
       "      <td>0</td>\n",
       "      <td>2</td>\n",
       "      <td>2.000000</td>\n",
       "      <td>1</td>\n",
       "      <td>0</td>\n",
       "      <td>0</td>\n",
       "      <td>0</td>\n",
       "      <td>0</td>\n",
       "      <td>0</td>\n",
       "      <td>1</td>\n",
       "      <td>1</td>\n",
       "      <td>2</td>\n",
       "      <td>0</td>\n",
       "      <td>0</td>\n",
       "      <td>0</td>\n",
       "      <td>0</td>\n",
       "      <td>1</td>\n",
       "      <td>0</td>\n",
       "      <td>1</td>\n",
       "      <td>0</td>\n",
       "      <td>45</td>\n",
       "      <td>4</td>\n",
       "    </tr>\n",
       "  </tbody>\n",
       "</table>\n",
       "</div>"
      ],
      "text/plain": [
       "                Id      v2a1  hacdor  rooms  hacapo  v14a  refrig  v18q  \\\n",
       "4319  ID_c9fdb7266       NaN       0      6       0     1       1     0   \n",
       "3883  ID_fd6cc8def       NaN       0      4       0     1       1     1   \n",
       "3775  ID_85d5cd65c  180000.0       0      4       0     1       1     1   \n",
       "1519  ID_c230376ae       NaN       0      5       0     1       1     1   \n",
       "8810  ID_991b84866       NaN       0      4       0     1       1     0   \n",
       "4398  ID_6846cbaac       NaN       0      6       0     1       1     0   \n",
       "6632  ID_af3dd1bd2       NaN       0      7       0     1       1     1   \n",
       "5790  ID_b6889eed0       NaN       0      3       0     1       1     0   \n",
       "3978  ID_22886534c       NaN       0      4       0     1       1     0   \n",
       "8012  ID_e1842b79b       NaN       0      4       0     1       1     0   \n",
       "\n",
       "      v18q1  r4h1  r4h2  r4h3  r4m1  r4m2  r4m3  r4t1  r4t2  r4t3  tamhog  \\\n",
       "4319    NaN     0     2     2     0     2     2     0     4     4       4   \n",
       "3883    1.0     0     0     0     0     2     2     0     2     2       2   \n",
       "3775    2.0     1     1     2     1     1     2     2     2     4       4   \n",
       "1519    2.0     0     1     1     1     1     2     1     2     3       3   \n",
       "8810    NaN     1     1     2     1     1     2     2     2     4       4   \n",
       "4398    NaN     0     2     2     0     2     2     0     4     4       4   \n",
       "6632    1.0     0     0     0     1     2     3     1     2     3       3   \n",
       "5790    NaN     0     1     1     0     2     2     0     3     3       3   \n",
       "3978    NaN     1     3     4     1     1     2     2     4     6       6   \n",
       "8012    NaN     2     0     2     0     2     2     2     2     4       4   \n",
       "\n",
       "      tamviv  escolari  rez_esc  hhsize  paredblolad  paredzocalo  paredpreb  \\\n",
       "4319       4        11      NaN       4            1            0          0   \n",
       "3883       2        14      NaN       2            0            0          1   \n",
       "3775       4        15      NaN       4            1            0          0   \n",
       "1519       3        12      NaN       3            1            0          0   \n",
       "8810       4         5      0.0       4            1            0          0   \n",
       "4398       4         6      NaN       4            0            0          0   \n",
       "6632       3        12      NaN       3            1            0          0   \n",
       "5790       3        11      NaN       3            1            0          0   \n",
       "3978       6         7      NaN       6            0            0          1   \n",
       "8012       4         0      NaN       4            0            0          1   \n",
       "\n",
       "      pareddes  paredmad  paredzinc  paredfibras  paredother  pisomoscer  \\\n",
       "4319         0         0          0            0           0           1   \n",
       "3883         0         0          0            0           0           1   \n",
       "3775         0         0          0            0           0           1   \n",
       "1519         0         0          0            0           0           1   \n",
       "8810         0         0          0            0           0           1   \n",
       "4398         0         1          0            0           0           1   \n",
       "6632         0         0          0            0           0           1   \n",
       "5790         0         0          0            0           0           0   \n",
       "3978         0         0          0            0           0           1   \n",
       "8012         0         0          0            0           0           1   \n",
       "\n",
       "      pisocemento  pisoother  pisonatur  pisonotiene  pisomadera  techozinc  \\\n",
       "4319            0          0          0            0           0          1   \n",
       "3883            0          0          0            0           0          1   \n",
       "3775            0          0          0            0           0          1   \n",
       "1519            0          0          0            0           0          1   \n",
       "8810            0          0          0            0           0          1   \n",
       "4398            0          0          0            0           0          1   \n",
       "6632            0          0          0            0           0          1   \n",
       "5790            1          0          0            0           0          0   \n",
       "3978            0          0          0            0           0          1   \n",
       "8012            0          0          0            0           0          1   \n",
       "\n",
       "      techoentrepiso  techocane  techootro  cielorazo  abastaguadentro  \\\n",
       "4319               0          0          0          1                1   \n",
       "3883               0          0          0          1                1   \n",
       "3775               0          0          0          1                1   \n",
       "1519               0          0          0          1                1   \n",
       "8810               0          0          0          1                1   \n",
       "4398               0          0          0          1                1   \n",
       "6632               0          0          0          1                1   \n",
       "5790               1          0          0          0                1   \n",
       "3978               0          0          0          0                1   \n",
       "8012               0          0          0          0                1   \n",
       "\n",
       "      abastaguafuera  abastaguano  public  planpri  noelec  coopele  \\\n",
       "4319               0            0       1        0       0        0   \n",
       "3883               0            0       1        0       0        0   \n",
       "3775               0            0       1        0       0        0   \n",
       "1519               0            0       1        0       0        0   \n",
       "8810               0            0       0        0       0        1   \n",
       "4398               0            0       1        0       0        0   \n",
       "6632               0            0       1        0       0        0   \n",
       "5790               0            0       0        0       0        1   \n",
       "3978               0            0       1        0       0        0   \n",
       "8012               0            0       1        0       0        0   \n",
       "\n",
       "      sanitario1  sanitario2  sanitario3  sanitario5  sanitario6  \\\n",
       "4319           0           0           1           0           0   \n",
       "3883           0           1           0           0           0   \n",
       "3775           0           0           1           0           0   \n",
       "1519           0           1           0           0           0   \n",
       "8810           0           0           1           0           0   \n",
       "4398           0           0           1           0           0   \n",
       "6632           0           0           1           0           0   \n",
       "5790           0           0           1           0           0   \n",
       "3978           0           1           0           0           0   \n",
       "8012           0           1           0           0           0   \n",
       "\n",
       "      energcocinar1  energcocinar2  energcocinar3  energcocinar4  elimbasu1  \\\n",
       "4319              0              1              0              0          1   \n",
       "3883              0              1              0              0          1   \n",
       "3775              0              1              0              0          1   \n",
       "1519              0              0              1              0          1   \n",
       "8810              0              0              1              0          1   \n",
       "4398              0              0              1              0          1   \n",
       "6632              0              1              0              0          1   \n",
       "5790              0              1              0              0          1   \n",
       "3978              0              1              0              0          1   \n",
       "8012              0              0              1              0          1   \n",
       "\n",
       "      elimbasu2  elimbasu3  elimbasu4  elimbasu5  elimbasu6  epared1  epared2  \\\n",
       "4319          0          0          0          0          0        0        1   \n",
       "3883          0          0          0          0          0        0        0   \n",
       "3775          0          0          0          0          0        0        1   \n",
       "1519          0          0          0          0          0        0        0   \n",
       "8810          0          0          0          0          0        0        0   \n",
       "4398          0          0          0          0          0        0        1   \n",
       "6632          0          0          0          0          0        0        0   \n",
       "5790          0          0          0          0          0        0        1   \n",
       "3978          0          0          0          0          0        0        1   \n",
       "8012          0          0          0          0          0        0        0   \n",
       "\n",
       "      epared3  etecho1  etecho2  etecho3  eviv1  eviv2  eviv3  dis  male  \\\n",
       "4319        0        0        1        0      0      1      0    0     1   \n",
       "3883        1        1        0        0      0      0      1    0     0   \n",
       "3775        0        0        1        0      0      1      0    0     1   \n",
       "1519        1        0        0        1      0      0      1    0     1   \n",
       "8810        1        0        0        1      0      0      1    0     1   \n",
       "4398        0        0        1        0      0      0      1    0     1   \n",
       "6632        1        0        0        1      0      0      1    0     0   \n",
       "5790        0        0        1        0      0      1      0    0     1   \n",
       "3978        0        0        0        1      0      1      0    0     0   \n",
       "8012        1        0        1        0      0      0      1    0     0   \n",
       "\n",
       "      female  estadocivil1  estadocivil2  estadocivil3  estadocivil4  \\\n",
       "4319       0             0             0             0             0   \n",
       "3883       1             0             0             0             1   \n",
       "3775       0             0             0             1             0   \n",
       "1519       0             0             0             0             0   \n",
       "8810       0             0             0             0             0   \n",
       "4398       0             0             0             0             0   \n",
       "6632       1             0             0             0             1   \n",
       "5790       0             0             0             1             0   \n",
       "3978       1             0             0             1             0   \n",
       "8012       1             0             0             0             0   \n",
       "\n",
       "      estadocivil5  estadocivil6  estadocivil7  parentesco1  parentesco2  \\\n",
       "4319             0             0             1            0            0   \n",
       "3883             0             0             0            1            0   \n",
       "3775             0             0             0            1            0   \n",
       "1519             0             0             1            0            0   \n",
       "8810             0             0             1            0            0   \n",
       "4398             0             0             1            0            0   \n",
       "6632             0             0             0            0            0   \n",
       "5790             0             0             0            0            1   \n",
       "3978             0             0             0            0            1   \n",
       "8012             1             0             0            1            0   \n",
       "\n",
       "      parentesco3  parentesco4  parentesco5  parentesco6  parentesco7  \\\n",
       "4319            1            0            0            0            0   \n",
       "3883            0            0            0            0            0   \n",
       "3775            0            0            0            0            0   \n",
       "1519            1            0            0            0            0   \n",
       "8810            1            0            0            0            0   \n",
       "4398            0            0            0            0            0   \n",
       "6632            1            0            0            0            0   \n",
       "5790            0            0            0            0            0   \n",
       "3978            0            0            0            0            0   \n",
       "8012            0            0            0            0            0   \n",
       "\n",
       "      parentesco8  parentesco9  parentesco10  parentesco11  parentesco12  \\\n",
       "4319            0            0             0             0             0   \n",
       "3883            0            0             0             0             0   \n",
       "3775            0            0             0             0             0   \n",
       "1519            0            0             0             0             0   \n",
       "8810            0            0             0             0             0   \n",
       "4398            0            0             0             1             0   \n",
       "6632            0            0             0             0             0   \n",
       "5790            0            0             0             0             0   \n",
       "3978            0            0             0             0             0   \n",
       "8012            0            0             0             0             0   \n",
       "\n",
       "        idhogar  hogar_nin  hogar_adul  hogar_mayor  hogar_total dependency  \\\n",
       "4319  c92ca11d1          1           3            0            4  .33333334   \n",
       "3883  72524240f          0           2            0            2         no   \n",
       "3775  006031de3          2           2            0            4        yes   \n",
       "1519  c0480739d          2           1            0            3          2   \n",
       "8810  a8dcd4364          2           2            0            4        yes   \n",
       "4398  3677a8765          0           4            3            4          3   \n",
       "6632  351a9fd58          1           2            1            3          2   \n",
       "5790  ef6b27244          1           2            0            3         .5   \n",
       "3978  f95f4c3a5          3           3            0            6        yes   \n",
       "8012  320f51f70          2           2            0            4        yes   \n",
       "\n",
       "     edjefe edjefa   meaneduc  instlevel1  instlevel2  instlevel3  instlevel4  \\\n",
       "4319     no      6   9.333333           0           0           0           0   \n",
       "3883     no     14  14.000000           0           0           0           0   \n",
       "3775     15     no  15.500000           0           0           0           0   \n",
       "1519     no     16  28.000000           0           0           0           0   \n",
       "8810      9     no   9.500000           0           1           0           0   \n",
       "4398     no      6   4.500000           0           0           1           0   \n",
       "6632     no      6   9.000000           0           0           0           0   \n",
       "5790     no      8  15.000000           0           0           0           0   \n",
       "3978      9     no  10.000000           0           0           0           1   \n",
       "8012     no     no   3.000000           1           0           0           0   \n",
       "\n",
       "      instlevel5  instlevel6  instlevel7  instlevel8  instlevel9  bedrooms  \\\n",
       "4319           1           0           0           0           0         3   \n",
       "3883           0           0           0           1           0         2   \n",
       "3775           0           0           0           1           0         2   \n",
       "1519           0           0           1           0           0         3   \n",
       "8810           0           0           0           0           0         2   \n",
       "4398           0           0           0           0           0         3   \n",
       "6632           0           0           1           0           0         3   \n",
       "5790           1           0           0           0           0         1   \n",
       "3978           0           0           0           0           0         2   \n",
       "8012           0           0           0           0           0         2   \n",
       "\n",
       "      overcrowding  tipovivi1  tipovivi2  tipovivi3  tipovivi4  tipovivi5  \\\n",
       "4319      1.333333          0          0          0          0          1   \n",
       "3883      1.000000          1          0          0          0          0   \n",
       "3775      2.000000          0          0          1          0          0   \n",
       "1519      1.000000          1          0          0          0          0   \n",
       "8810      2.000000          1          0          0          0          0   \n",
       "4398      1.333333          1          0          0          0          0   \n",
       "6632      1.000000          1          0          0          0          0   \n",
       "5790      3.000000          1          0          0          0          0   \n",
       "3978      3.000000          1          0          0          0          0   \n",
       "8012      2.000000          1          0          0          0          0   \n",
       "\n",
       "      computer  television  mobilephone  qmobilephone  lugar1  lugar2  lugar3  \\\n",
       "4319         1           1            1             4       1       0       0   \n",
       "3883         0           0            1             2       1       0       0   \n",
       "3775         0           0            1             2       1       0       0   \n",
       "1519         0           1            1             3       1       0       0   \n",
       "8810         0           0            1             4       0       0       0   \n",
       "4398         0           1            1             3       1       0       0   \n",
       "6632         0           1            1             2       0       0       1   \n",
       "5790         0           0            1             3       0       1       0   \n",
       "3978         0           0            1             3       1       0       0   \n",
       "8012         0           1            1             2       0       0       0   \n",
       "\n",
       "      lugar4  lugar5  lugar6  area1  area2  age  Target  \n",
       "4319       0       0       0      1      0   25       4  \n",
       "3883       0       0       0      1      0   57       4  \n",
       "3775       0       0       0      1      0   39       4  \n",
       "1519       0       0       0      1      0   19       4  \n",
       "8810       0       0       1      1      0   11       2  \n",
       "4398       0       0       0      1      0   33       4  \n",
       "6632       0       0       0      1      0   51       3  \n",
       "5790       0       0       0      1      0   58       1  \n",
       "3978       0       0       0      1      0   42       2  \n",
       "8012       0       1       0      1      0   45       4  "
      ]
     },
     "execution_count": 7,
     "metadata": {},
     "output_type": "execute_result"
    }
   ],
   "source": [
    "# Fijar seed para asegurar reproducibilidad\n",
    "np.random.seed(0)\n",
    "ds.sample(10)"
   ]
  },
  {
   "cell_type": "markdown",
   "metadata": {
    "colab_type": "text",
    "id": "WdhW9AFR4T9N"
   },
   "source": [
    "\n",
    "Veamos los tipos de datos que tenemos"
   ]
  },
  {
   "cell_type": "code",
   "execution_count": 8,
   "metadata": {
    "colab": {
     "base_uri": "https://localhost:8080/",
     "height": 34
    },
    "colab_type": "code",
    "id": "mQ1dTL4S4T9P",
    "outputId": "16e01a48-8911-4b98-fdf2-b9ee8585d9ec"
   },
   "outputs": [
    {
     "name": "stdout",
     "output_type": "stream",
     "text": [
      "Total Features:  5 objetos + 129 numerical = 134 features\n"
     ]
    }
   ],
   "source": [
    "cat = len(ds.select_dtypes(include=['object']).columns)\n",
    "num = len(ds.select_dtypes(include=['int64','float64']).columns)\n",
    "print('Total Features: ', cat, 'objetos', '+',\n",
    "      num, 'numerical', '=', cat+num, 'features')"
   ]
  },
  {
   "cell_type": "markdown",
   "metadata": {
    "colab_type": "text",
    "id": "psjJcYiBkIZo"
   },
   "source": [
    "Verificamos los tipos de datos objeto, el porque estan hay y que tipo de datos deberian ser.\n",
    "\n",
    "Lo primero que notamos es que la edjefe, edjefa y dependency. \n",
    "\n",
    "*  Segun la descrićión de las columnas dependency, es un campo calculado, y no deberia tener valores como yes o no.\n",
    "\n",
    "*   edjefe y edjefa, que son el nivel de educación del jefe y de la jefa, tienen mezcla de valores numericos, y no numericos como \"no\" y \"yes\"\n",
    "\n",
    "Considero que se deben descartar y volver a ser calculadas despues de manera adecuada. \n"
   ]
  },
  {
   "cell_type": "code",
   "execution_count": 9,
   "metadata": {
    "colab": {
     "base_uri": "https://localhost:8080/",
     "height": 235
    },
    "colab_type": "code",
    "id": "MLihuRMvmH0R",
    "outputId": "843fc6ea-63c2-4fff-8f3e-129089c48530"
   },
   "outputs": [
    {
     "name": "stdout",
     "output_type": "stream",
     "text": [
      "['10' '12' 'no' '11' '9' '15' '4' '6' '8' '17' '7' '16' '14' '5' '21' '2'\n",
      " '19' 'yes' '3' '18' '13' '20']\n",
      "['no' '11' '4' '10' '9' '15' '7' '14' '13' '8' '17' '6' '5' '3' '16' '19'\n",
      " 'yes' '21' '12' '2' '20' '18']\n",
      "['no' '8' 'yes' '3' '.5' '.25' '2' '.66666669' '.33333334' '1.5'\n",
      " '.40000001' '.75' '1.25' '.2' '2.5' '1.2' '4' '1.3333334' '2.25'\n",
      " '.22222222' '5' '.83333331' '.80000001' '6' '3.5' '1.6666666' '.2857143'\n",
      " '1.75' '.71428573' '.16666667' '.60000002']\n",
      "                  Id    idhogar dependency edjefe edjefa\n",
      "count           9557       9557       9557   9557   9557\n",
      "unique          9557       2988         31     22     22\n",
      "top     ID_d50087b22  fd8a6d014        yes     no     no\n",
      "freq               1         13       2192   3762   6230\n"
     ]
    }
   ],
   "source": [
    "print(ds.edjefe.unique())\n",
    "print(ds.edjefa.unique())\n",
    "print(ds.dependency.unique())\n",
    "print(ds.select_dtypes(include=['object']).describe())"
   ]
  },
  {
   "cell_type": "code",
   "execution_count": 10,
   "metadata": {
    "colab": {
     "base_uri": "https://localhost:8080/",
     "height": 343
    },
    "colab_type": "code",
    "id": "0dsZQKbRjywj",
    "outputId": "35b6c08e-0a64-4ac7-88b6-5f2589b96ec2"
   },
   "outputs": [
    {
     "data": {
      "text/html": [
       "<div>\n",
       "<style scoped>\n",
       "    .dataframe tbody tr th:only-of-type {\n",
       "        vertical-align: middle;\n",
       "    }\n",
       "\n",
       "    .dataframe tbody tr th {\n",
       "        vertical-align: top;\n",
       "    }\n",
       "\n",
       "    .dataframe thead th {\n",
       "        text-align: right;\n",
       "    }\n",
       "</style>\n",
       "<table border=\"1\" class=\"dataframe\">\n",
       "  <thead>\n",
       "    <tr style=\"text-align: right;\">\n",
       "      <th></th>\n",
       "      <th>Id</th>\n",
       "      <th>idhogar</th>\n",
       "      <th>dependency</th>\n",
       "      <th>age</th>\n",
       "      <th>edjefe</th>\n",
       "      <th>edjefa</th>\n",
       "      <th>parentesco1</th>\n",
       "      <th>escolari</th>\n",
       "    </tr>\n",
       "  </thead>\n",
       "  <tbody>\n",
       "    <tr>\n",
       "      <th>0</th>\n",
       "      <td>ID_279628684</td>\n",
       "      <td>21eb7fcc1</td>\n",
       "      <td>no</td>\n",
       "      <td>43</td>\n",
       "      <td>10</td>\n",
       "      <td>no</td>\n",
       "      <td>1</td>\n",
       "      <td>10</td>\n",
       "    </tr>\n",
       "    <tr>\n",
       "      <th>1</th>\n",
       "      <td>ID_f29eb3ddd</td>\n",
       "      <td>0e5d7a658</td>\n",
       "      <td>8</td>\n",
       "      <td>67</td>\n",
       "      <td>12</td>\n",
       "      <td>no</td>\n",
       "      <td>1</td>\n",
       "      <td>12</td>\n",
       "    </tr>\n",
       "    <tr>\n",
       "      <th>2</th>\n",
       "      <td>ID_68de51c94</td>\n",
       "      <td>2c7317ea8</td>\n",
       "      <td>8</td>\n",
       "      <td>92</td>\n",
       "      <td>no</td>\n",
       "      <td>11</td>\n",
       "      <td>1</td>\n",
       "      <td>11</td>\n",
       "    </tr>\n",
       "    <tr>\n",
       "      <th>3</th>\n",
       "      <td>ID_d671db89c</td>\n",
       "      <td>2b58d945f</td>\n",
       "      <td>yes</td>\n",
       "      <td>17</td>\n",
       "      <td>11</td>\n",
       "      <td>no</td>\n",
       "      <td>0</td>\n",
       "      <td>9</td>\n",
       "    </tr>\n",
       "    <tr>\n",
       "      <th>4</th>\n",
       "      <td>ID_d56d6f5f5</td>\n",
       "      <td>2b58d945f</td>\n",
       "      <td>yes</td>\n",
       "      <td>37</td>\n",
       "      <td>11</td>\n",
       "      <td>no</td>\n",
       "      <td>0</td>\n",
       "      <td>11</td>\n",
       "    </tr>\n",
       "    <tr>\n",
       "      <th>5</th>\n",
       "      <td>ID_ec05b1a7b</td>\n",
       "      <td>2b58d945f</td>\n",
       "      <td>yes</td>\n",
       "      <td>38</td>\n",
       "      <td>11</td>\n",
       "      <td>no</td>\n",
       "      <td>1</td>\n",
       "      <td>11</td>\n",
       "    </tr>\n",
       "    <tr>\n",
       "      <th>6</th>\n",
       "      <td>ID_e9e0c1100</td>\n",
       "      <td>2b58d945f</td>\n",
       "      <td>yes</td>\n",
       "      <td>8</td>\n",
       "      <td>11</td>\n",
       "      <td>no</td>\n",
       "      <td>0</td>\n",
       "      <td>2</td>\n",
       "    </tr>\n",
       "    <tr>\n",
       "      <th>7</th>\n",
       "      <td>ID_3e04e571e</td>\n",
       "      <td>d6dae86b7</td>\n",
       "      <td>yes</td>\n",
       "      <td>7</td>\n",
       "      <td>9</td>\n",
       "      <td>no</td>\n",
       "      <td>0</td>\n",
       "      <td>0</td>\n",
       "    </tr>\n",
       "    <tr>\n",
       "      <th>8</th>\n",
       "      <td>ID_1284f8aad</td>\n",
       "      <td>d6dae86b7</td>\n",
       "      <td>yes</td>\n",
       "      <td>30</td>\n",
       "      <td>9</td>\n",
       "      <td>no</td>\n",
       "      <td>1</td>\n",
       "      <td>9</td>\n",
       "    </tr>\n",
       "    <tr>\n",
       "      <th>9</th>\n",
       "      <td>ID_51f52fdd2</td>\n",
       "      <td>d6dae86b7</td>\n",
       "      <td>yes</td>\n",
       "      <td>28</td>\n",
       "      <td>9</td>\n",
       "      <td>no</td>\n",
       "      <td>0</td>\n",
       "      <td>11</td>\n",
       "    </tr>\n",
       "  </tbody>\n",
       "</table>\n",
       "</div>"
      ],
      "text/plain": [
       "             Id    idhogar dependency  age edjefe edjefa  parentesco1  \\\n",
       "0  ID_279628684  21eb7fcc1         no   43     10     no            1   \n",
       "1  ID_f29eb3ddd  0e5d7a658          8   67     12     no            1   \n",
       "2  ID_68de51c94  2c7317ea8          8   92     no     11            1   \n",
       "3  ID_d671db89c  2b58d945f        yes   17     11     no            0   \n",
       "4  ID_d56d6f5f5  2b58d945f        yes   37     11     no            0   \n",
       "5  ID_ec05b1a7b  2b58d945f        yes   38     11     no            1   \n",
       "6  ID_e9e0c1100  2b58d945f        yes    8     11     no            0   \n",
       "7  ID_3e04e571e  d6dae86b7        yes    7      9     no            0   \n",
       "8  ID_1284f8aad  d6dae86b7        yes   30      9     no            1   \n",
       "9  ID_51f52fdd2  d6dae86b7        yes   28      9     no            0   \n",
       "\n",
       "   escolari  \n",
       "0        10  \n",
       "1        12  \n",
       "2        11  \n",
       "3         9  \n",
       "4        11  \n",
       "5        11  \n",
       "6         2  \n",
       "7         0  \n",
       "8         9  \n",
       "9        11  "
      ]
     },
     "execution_count": 10,
     "metadata": {},
     "output_type": "execute_result"
    }
   ],
   "source": [
    "ds[[\"Id\",\"idhogar\", \"dependency\",\"age\",\"edjefe\", \"edjefa\", \"parentesco1\", \"escolari\"]].head(10)"
   ]
  },
  {
   "cell_type": "code",
   "execution_count": 11,
   "metadata": {
    "colab": {
     "base_uri": "https://localhost:8080/",
     "height": 34
    },
    "colab_type": "code",
    "id": "ySDPX-qIo0Wu",
    "outputId": "9c8ceaeb-aa2a-4c99-a3b5-b71fd4528ab5"
   },
   "outputs": [
    {
     "name": "stdout",
     "output_type": "stream",
     "text": [
      "Total Features:  2 objetos + 128 numerical = 130 features\n"
     ]
    }
   ],
   "source": [
    "#Elimino aoarte de edjefe, edjega y dependency. meaneduc ya que tambien es una variable calculada. \n",
    "ds.drop(columns =[\"edjefe\", \"edjefa\", \"dependency\", \"meaneduc\"], inplace = True)\n",
    "cat = len(ds.select_dtypes(include=['object']).columns)\n",
    "num = len(ds.select_dtypes(include=['int64','float64']).columns)\n",
    "print('Total Features: ', cat, 'objetos', '+',\n",
    "      num, 'numerical', '=', cat+num, 'features')"
   ]
  },
  {
   "cell_type": "markdown",
   "metadata": {
    "colab_type": "text",
    "id": "XdZYbJovsrx1"
   },
   "source": [
    "Y veamos el resumen de los datos"
   ]
  },
  {
   "cell_type": "code",
   "execution_count": 12,
   "metadata": {
    "colab": {
     "base_uri": "https://localhost:8080/",
     "height": 393
    },
    "colab_type": "code",
    "id": "2pS35oaRssJz",
    "outputId": "7acf4572-8a4e-47b2-9cb6-87af861cf13b"
   },
   "outputs": [
    {
     "data": {
      "text/html": [
       "<div>\n",
       "<style scoped>\n",
       "    .dataframe tbody tr th:only-of-type {\n",
       "        vertical-align: middle;\n",
       "    }\n",
       "\n",
       "    .dataframe tbody tr th {\n",
       "        vertical-align: top;\n",
       "    }\n",
       "\n",
       "    .dataframe thead th {\n",
       "        text-align: right;\n",
       "    }\n",
       "</style>\n",
       "<table border=\"1\" class=\"dataframe\">\n",
       "  <thead>\n",
       "    <tr style=\"text-align: right;\">\n",
       "      <th></th>\n",
       "      <th>Id</th>\n",
       "      <th>v2a1</th>\n",
       "      <th>hacdor</th>\n",
       "      <th>rooms</th>\n",
       "      <th>hacapo</th>\n",
       "      <th>v14a</th>\n",
       "      <th>refrig</th>\n",
       "      <th>v18q</th>\n",
       "      <th>v18q1</th>\n",
       "      <th>r4h1</th>\n",
       "      <th>r4h2</th>\n",
       "      <th>r4h3</th>\n",
       "      <th>r4m1</th>\n",
       "      <th>r4m2</th>\n",
       "      <th>r4m3</th>\n",
       "      <th>r4t1</th>\n",
       "      <th>r4t2</th>\n",
       "      <th>r4t3</th>\n",
       "      <th>tamhog</th>\n",
       "      <th>tamviv</th>\n",
       "      <th>escolari</th>\n",
       "      <th>rez_esc</th>\n",
       "      <th>hhsize</th>\n",
       "      <th>paredblolad</th>\n",
       "      <th>paredzocalo</th>\n",
       "      <th>paredpreb</th>\n",
       "      <th>pareddes</th>\n",
       "      <th>paredmad</th>\n",
       "      <th>paredzinc</th>\n",
       "      <th>paredfibras</th>\n",
       "      <th>paredother</th>\n",
       "      <th>pisomoscer</th>\n",
       "      <th>pisocemento</th>\n",
       "      <th>pisoother</th>\n",
       "      <th>pisonatur</th>\n",
       "      <th>pisonotiene</th>\n",
       "      <th>pisomadera</th>\n",
       "      <th>techozinc</th>\n",
       "      <th>techoentrepiso</th>\n",
       "      <th>techocane</th>\n",
       "      <th>techootro</th>\n",
       "      <th>cielorazo</th>\n",
       "      <th>abastaguadentro</th>\n",
       "      <th>abastaguafuera</th>\n",
       "      <th>abastaguano</th>\n",
       "      <th>public</th>\n",
       "      <th>planpri</th>\n",
       "      <th>noelec</th>\n",
       "      <th>coopele</th>\n",
       "      <th>sanitario1</th>\n",
       "      <th>sanitario2</th>\n",
       "      <th>sanitario3</th>\n",
       "      <th>sanitario5</th>\n",
       "      <th>sanitario6</th>\n",
       "      <th>energcocinar1</th>\n",
       "      <th>energcocinar2</th>\n",
       "      <th>energcocinar3</th>\n",
       "      <th>energcocinar4</th>\n",
       "      <th>elimbasu1</th>\n",
       "      <th>elimbasu2</th>\n",
       "      <th>elimbasu3</th>\n",
       "      <th>elimbasu4</th>\n",
       "      <th>elimbasu5</th>\n",
       "      <th>elimbasu6</th>\n",
       "      <th>epared1</th>\n",
       "      <th>epared2</th>\n",
       "      <th>epared3</th>\n",
       "      <th>etecho1</th>\n",
       "      <th>etecho2</th>\n",
       "      <th>etecho3</th>\n",
       "      <th>eviv1</th>\n",
       "      <th>eviv2</th>\n",
       "      <th>eviv3</th>\n",
       "      <th>dis</th>\n",
       "      <th>male</th>\n",
       "      <th>female</th>\n",
       "      <th>estadocivil1</th>\n",
       "      <th>estadocivil2</th>\n",
       "      <th>estadocivil3</th>\n",
       "      <th>estadocivil4</th>\n",
       "      <th>estadocivil5</th>\n",
       "      <th>estadocivil6</th>\n",
       "      <th>estadocivil7</th>\n",
       "      <th>parentesco1</th>\n",
       "      <th>parentesco2</th>\n",
       "      <th>parentesco3</th>\n",
       "      <th>parentesco4</th>\n",
       "      <th>parentesco5</th>\n",
       "      <th>parentesco6</th>\n",
       "      <th>parentesco7</th>\n",
       "      <th>parentesco8</th>\n",
       "      <th>parentesco9</th>\n",
       "      <th>parentesco10</th>\n",
       "      <th>parentesco11</th>\n",
       "      <th>parentesco12</th>\n",
       "      <th>idhogar</th>\n",
       "      <th>hogar_nin</th>\n",
       "      <th>hogar_adul</th>\n",
       "      <th>hogar_mayor</th>\n",
       "      <th>hogar_total</th>\n",
       "      <th>instlevel1</th>\n",
       "      <th>instlevel2</th>\n",
       "      <th>instlevel3</th>\n",
       "      <th>instlevel4</th>\n",
       "      <th>instlevel5</th>\n",
       "      <th>instlevel6</th>\n",
       "      <th>instlevel7</th>\n",
       "      <th>instlevel8</th>\n",
       "      <th>instlevel9</th>\n",
       "      <th>bedrooms</th>\n",
       "      <th>overcrowding</th>\n",
       "      <th>tipovivi1</th>\n",
       "      <th>tipovivi2</th>\n",
       "      <th>tipovivi3</th>\n",
       "      <th>tipovivi4</th>\n",
       "      <th>tipovivi5</th>\n",
       "      <th>computer</th>\n",
       "      <th>television</th>\n",
       "      <th>mobilephone</th>\n",
       "      <th>qmobilephone</th>\n",
       "      <th>lugar1</th>\n",
       "      <th>lugar2</th>\n",
       "      <th>lugar3</th>\n",
       "      <th>lugar4</th>\n",
       "      <th>lugar5</th>\n",
       "      <th>lugar6</th>\n",
       "      <th>area1</th>\n",
       "      <th>area2</th>\n",
       "      <th>age</th>\n",
       "      <th>Target</th>\n",
       "    </tr>\n",
       "  </thead>\n",
       "  <tbody>\n",
       "    <tr>\n",
       "      <th>count</th>\n",
       "      <td>9557</td>\n",
       "      <td>2.697000e+03</td>\n",
       "      <td>9557.000000</td>\n",
       "      <td>9557.000000</td>\n",
       "      <td>9557.000000</td>\n",
       "      <td>9557.000000</td>\n",
       "      <td>9557.000000</td>\n",
       "      <td>9557.000000</td>\n",
       "      <td>2215.000000</td>\n",
       "      <td>9557.000000</td>\n",
       "      <td>9557.000000</td>\n",
       "      <td>9557.000000</td>\n",
       "      <td>9557.000000</td>\n",
       "      <td>9557.000000</td>\n",
       "      <td>9557.000000</td>\n",
       "      <td>9557.000000</td>\n",
       "      <td>9557.000000</td>\n",
       "      <td>9557.000000</td>\n",
       "      <td>9557.000000</td>\n",
       "      <td>9557.000000</td>\n",
       "      <td>9557.000000</td>\n",
       "      <td>1629.000000</td>\n",
       "      <td>9557.000000</td>\n",
       "      <td>9557.000000</td>\n",
       "      <td>9557.000000</td>\n",
       "      <td>9557.000000</td>\n",
       "      <td>9557.000000</td>\n",
       "      <td>9557.000000</td>\n",
       "      <td>9557.000000</td>\n",
       "      <td>9557.000000</td>\n",
       "      <td>9557.000000</td>\n",
       "      <td>9557.000000</td>\n",
       "      <td>9557.000000</td>\n",
       "      <td>9557.000000</td>\n",
       "      <td>9557.000000</td>\n",
       "      <td>9557.000000</td>\n",
       "      <td>9557.000000</td>\n",
       "      <td>9557.000000</td>\n",
       "      <td>9557.000000</td>\n",
       "      <td>9557.000000</td>\n",
       "      <td>9557.000000</td>\n",
       "      <td>9557.000000</td>\n",
       "      <td>9557.000000</td>\n",
       "      <td>9557.000000</td>\n",
       "      <td>9557.000000</td>\n",
       "      <td>9557.000000</td>\n",
       "      <td>9557.000000</td>\n",
       "      <td>9557.000000</td>\n",
       "      <td>9557.000000</td>\n",
       "      <td>9557.000000</td>\n",
       "      <td>9557.000000</td>\n",
       "      <td>9557.000000</td>\n",
       "      <td>9557.000000</td>\n",
       "      <td>9557.000000</td>\n",
       "      <td>9557.000000</td>\n",
       "      <td>9557.000000</td>\n",
       "      <td>9557.000000</td>\n",
       "      <td>9557.000000</td>\n",
       "      <td>9557.000000</td>\n",
       "      <td>9557.00000</td>\n",
       "      <td>9557.000000</td>\n",
       "      <td>9557.000000</td>\n",
       "      <td>9557.0</td>\n",
       "      <td>9557.000000</td>\n",
       "      <td>9557.000000</td>\n",
       "      <td>9557.000000</td>\n",
       "      <td>9557.000000</td>\n",
       "      <td>9557.000000</td>\n",
       "      <td>9557.000000</td>\n",
       "      <td>9557.000000</td>\n",
       "      <td>9557.000000</td>\n",
       "      <td>9557.000000</td>\n",
       "      <td>9557.000000</td>\n",
       "      <td>9557.000000</td>\n",
       "      <td>9557.000000</td>\n",
       "      <td>9557.000000</td>\n",
       "      <td>9557.000000</td>\n",
       "      <td>9557.000000</td>\n",
       "      <td>9557.000000</td>\n",
       "      <td>9557.000000</td>\n",
       "      <td>9557.000000</td>\n",
       "      <td>9557.000000</td>\n",
       "      <td>9557.000000</td>\n",
       "      <td>9557.000000</td>\n",
       "      <td>9557.000000</td>\n",
       "      <td>9557.000000</td>\n",
       "      <td>9557.000000</td>\n",
       "      <td>9557.000000</td>\n",
       "      <td>9557.000000</td>\n",
       "      <td>9557.000000</td>\n",
       "      <td>9557.000000</td>\n",
       "      <td>9557.000000</td>\n",
       "      <td>9557.000000</td>\n",
       "      <td>9557.000000</td>\n",
       "      <td>9557.000000</td>\n",
       "      <td>9557</td>\n",
       "      <td>9557.000000</td>\n",
       "      <td>9557.000000</td>\n",
       "      <td>9557.000000</td>\n",
       "      <td>9557.000000</td>\n",
       "      <td>9557.000000</td>\n",
       "      <td>9557.000000</td>\n",
       "      <td>9557.000000</td>\n",
       "      <td>9557.000000</td>\n",
       "      <td>9557.000000</td>\n",
       "      <td>9557.000000</td>\n",
       "      <td>9557.000000</td>\n",
       "      <td>9557.000000</td>\n",
       "      <td>9557.000000</td>\n",
       "      <td>9557.000000</td>\n",
       "      <td>9557.000000</td>\n",
       "      <td>9557.00000</td>\n",
       "      <td>9557.000000</td>\n",
       "      <td>9557.000000</td>\n",
       "      <td>9557.000000</td>\n",
       "      <td>9557.000000</td>\n",
       "      <td>9557.000000</td>\n",
       "      <td>9557.000000</td>\n",
       "      <td>9557.000000</td>\n",
       "      <td>9557.000000</td>\n",
       "      <td>9557.000000</td>\n",
       "      <td>9557.000000</td>\n",
       "      <td>9557.000000</td>\n",
       "      <td>9557.000000</td>\n",
       "      <td>9557.000000</td>\n",
       "      <td>9557.000000</td>\n",
       "      <td>9557.000000</td>\n",
       "      <td>9557.000000</td>\n",
       "      <td>9557.000000</td>\n",
       "      <td>9557.000000</td>\n",
       "    </tr>\n",
       "    <tr>\n",
       "      <th>unique</th>\n",
       "      <td>9557</td>\n",
       "      <td>NaN</td>\n",
       "      <td>NaN</td>\n",
       "      <td>NaN</td>\n",
       "      <td>NaN</td>\n",
       "      <td>NaN</td>\n",
       "      <td>NaN</td>\n",
       "      <td>NaN</td>\n",
       "      <td>NaN</td>\n",
       "      <td>NaN</td>\n",
       "      <td>NaN</td>\n",
       "      <td>NaN</td>\n",
       "      <td>NaN</td>\n",
       "      <td>NaN</td>\n",
       "      <td>NaN</td>\n",
       "      <td>NaN</td>\n",
       "      <td>NaN</td>\n",
       "      <td>NaN</td>\n",
       "      <td>NaN</td>\n",
       "      <td>NaN</td>\n",
       "      <td>NaN</td>\n",
       "      <td>NaN</td>\n",
       "      <td>NaN</td>\n",
       "      <td>NaN</td>\n",
       "      <td>NaN</td>\n",
       "      <td>NaN</td>\n",
       "      <td>NaN</td>\n",
       "      <td>NaN</td>\n",
       "      <td>NaN</td>\n",
       "      <td>NaN</td>\n",
       "      <td>NaN</td>\n",
       "      <td>NaN</td>\n",
       "      <td>NaN</td>\n",
       "      <td>NaN</td>\n",
       "      <td>NaN</td>\n",
       "      <td>NaN</td>\n",
       "      <td>NaN</td>\n",
       "      <td>NaN</td>\n",
       "      <td>NaN</td>\n",
       "      <td>NaN</td>\n",
       "      <td>NaN</td>\n",
       "      <td>NaN</td>\n",
       "      <td>NaN</td>\n",
       "      <td>NaN</td>\n",
       "      <td>NaN</td>\n",
       "      <td>NaN</td>\n",
       "      <td>NaN</td>\n",
       "      <td>NaN</td>\n",
       "      <td>NaN</td>\n",
       "      <td>NaN</td>\n",
       "      <td>NaN</td>\n",
       "      <td>NaN</td>\n",
       "      <td>NaN</td>\n",
       "      <td>NaN</td>\n",
       "      <td>NaN</td>\n",
       "      <td>NaN</td>\n",
       "      <td>NaN</td>\n",
       "      <td>NaN</td>\n",
       "      <td>NaN</td>\n",
       "      <td>NaN</td>\n",
       "      <td>NaN</td>\n",
       "      <td>NaN</td>\n",
       "      <td>NaN</td>\n",
       "      <td>NaN</td>\n",
       "      <td>NaN</td>\n",
       "      <td>NaN</td>\n",
       "      <td>NaN</td>\n",
       "      <td>NaN</td>\n",
       "      <td>NaN</td>\n",
       "      <td>NaN</td>\n",
       "      <td>NaN</td>\n",
       "      <td>NaN</td>\n",
       "      <td>NaN</td>\n",
       "      <td>NaN</td>\n",
       "      <td>NaN</td>\n",
       "      <td>NaN</td>\n",
       "      <td>NaN</td>\n",
       "      <td>NaN</td>\n",
       "      <td>NaN</td>\n",
       "      <td>NaN</td>\n",
       "      <td>NaN</td>\n",
       "      <td>NaN</td>\n",
       "      <td>NaN</td>\n",
       "      <td>NaN</td>\n",
       "      <td>NaN</td>\n",
       "      <td>NaN</td>\n",
       "      <td>NaN</td>\n",
       "      <td>NaN</td>\n",
       "      <td>NaN</td>\n",
       "      <td>NaN</td>\n",
       "      <td>NaN</td>\n",
       "      <td>NaN</td>\n",
       "      <td>NaN</td>\n",
       "      <td>NaN</td>\n",
       "      <td>NaN</td>\n",
       "      <td>2988</td>\n",
       "      <td>NaN</td>\n",
       "      <td>NaN</td>\n",
       "      <td>NaN</td>\n",
       "      <td>NaN</td>\n",
       "      <td>NaN</td>\n",
       "      <td>NaN</td>\n",
       "      <td>NaN</td>\n",
       "      <td>NaN</td>\n",
       "      <td>NaN</td>\n",
       "      <td>NaN</td>\n",
       "      <td>NaN</td>\n",
       "      <td>NaN</td>\n",
       "      <td>NaN</td>\n",
       "      <td>NaN</td>\n",
       "      <td>NaN</td>\n",
       "      <td>NaN</td>\n",
       "      <td>NaN</td>\n",
       "      <td>NaN</td>\n",
       "      <td>NaN</td>\n",
       "      <td>NaN</td>\n",
       "      <td>NaN</td>\n",
       "      <td>NaN</td>\n",
       "      <td>NaN</td>\n",
       "      <td>NaN</td>\n",
       "      <td>NaN</td>\n",
       "      <td>NaN</td>\n",
       "      <td>NaN</td>\n",
       "      <td>NaN</td>\n",
       "      <td>NaN</td>\n",
       "      <td>NaN</td>\n",
       "      <td>NaN</td>\n",
       "      <td>NaN</td>\n",
       "      <td>NaN</td>\n",
       "      <td>NaN</td>\n",
       "    </tr>\n",
       "    <tr>\n",
       "      <th>top</th>\n",
       "      <td>ID_d50087b22</td>\n",
       "      <td>NaN</td>\n",
       "      <td>NaN</td>\n",
       "      <td>NaN</td>\n",
       "      <td>NaN</td>\n",
       "      <td>NaN</td>\n",
       "      <td>NaN</td>\n",
       "      <td>NaN</td>\n",
       "      <td>NaN</td>\n",
       "      <td>NaN</td>\n",
       "      <td>NaN</td>\n",
       "      <td>NaN</td>\n",
       "      <td>NaN</td>\n",
       "      <td>NaN</td>\n",
       "      <td>NaN</td>\n",
       "      <td>NaN</td>\n",
       "      <td>NaN</td>\n",
       "      <td>NaN</td>\n",
       "      <td>NaN</td>\n",
       "      <td>NaN</td>\n",
       "      <td>NaN</td>\n",
       "      <td>NaN</td>\n",
       "      <td>NaN</td>\n",
       "      <td>NaN</td>\n",
       "      <td>NaN</td>\n",
       "      <td>NaN</td>\n",
       "      <td>NaN</td>\n",
       "      <td>NaN</td>\n",
       "      <td>NaN</td>\n",
       "      <td>NaN</td>\n",
       "      <td>NaN</td>\n",
       "      <td>NaN</td>\n",
       "      <td>NaN</td>\n",
       "      <td>NaN</td>\n",
       "      <td>NaN</td>\n",
       "      <td>NaN</td>\n",
       "      <td>NaN</td>\n",
       "      <td>NaN</td>\n",
       "      <td>NaN</td>\n",
       "      <td>NaN</td>\n",
       "      <td>NaN</td>\n",
       "      <td>NaN</td>\n",
       "      <td>NaN</td>\n",
       "      <td>NaN</td>\n",
       "      <td>NaN</td>\n",
       "      <td>NaN</td>\n",
       "      <td>NaN</td>\n",
       "      <td>NaN</td>\n",
       "      <td>NaN</td>\n",
       "      <td>NaN</td>\n",
       "      <td>NaN</td>\n",
       "      <td>NaN</td>\n",
       "      <td>NaN</td>\n",
       "      <td>NaN</td>\n",
       "      <td>NaN</td>\n",
       "      <td>NaN</td>\n",
       "      <td>NaN</td>\n",
       "      <td>NaN</td>\n",
       "      <td>NaN</td>\n",
       "      <td>NaN</td>\n",
       "      <td>NaN</td>\n",
       "      <td>NaN</td>\n",
       "      <td>NaN</td>\n",
       "      <td>NaN</td>\n",
       "      <td>NaN</td>\n",
       "      <td>NaN</td>\n",
       "      <td>NaN</td>\n",
       "      <td>NaN</td>\n",
       "      <td>NaN</td>\n",
       "      <td>NaN</td>\n",
       "      <td>NaN</td>\n",
       "      <td>NaN</td>\n",
       "      <td>NaN</td>\n",
       "      <td>NaN</td>\n",
       "      <td>NaN</td>\n",
       "      <td>NaN</td>\n",
       "      <td>NaN</td>\n",
       "      <td>NaN</td>\n",
       "      <td>NaN</td>\n",
       "      <td>NaN</td>\n",
       "      <td>NaN</td>\n",
       "      <td>NaN</td>\n",
       "      <td>NaN</td>\n",
       "      <td>NaN</td>\n",
       "      <td>NaN</td>\n",
       "      <td>NaN</td>\n",
       "      <td>NaN</td>\n",
       "      <td>NaN</td>\n",
       "      <td>NaN</td>\n",
       "      <td>NaN</td>\n",
       "      <td>NaN</td>\n",
       "      <td>NaN</td>\n",
       "      <td>NaN</td>\n",
       "      <td>NaN</td>\n",
       "      <td>NaN</td>\n",
       "      <td>fd8a6d014</td>\n",
       "      <td>NaN</td>\n",
       "      <td>NaN</td>\n",
       "      <td>NaN</td>\n",
       "      <td>NaN</td>\n",
       "      <td>NaN</td>\n",
       "      <td>NaN</td>\n",
       "      <td>NaN</td>\n",
       "      <td>NaN</td>\n",
       "      <td>NaN</td>\n",
       "      <td>NaN</td>\n",
       "      <td>NaN</td>\n",
       "      <td>NaN</td>\n",
       "      <td>NaN</td>\n",
       "      <td>NaN</td>\n",
       "      <td>NaN</td>\n",
       "      <td>NaN</td>\n",
       "      <td>NaN</td>\n",
       "      <td>NaN</td>\n",
       "      <td>NaN</td>\n",
       "      <td>NaN</td>\n",
       "      <td>NaN</td>\n",
       "      <td>NaN</td>\n",
       "      <td>NaN</td>\n",
       "      <td>NaN</td>\n",
       "      <td>NaN</td>\n",
       "      <td>NaN</td>\n",
       "      <td>NaN</td>\n",
       "      <td>NaN</td>\n",
       "      <td>NaN</td>\n",
       "      <td>NaN</td>\n",
       "      <td>NaN</td>\n",
       "      <td>NaN</td>\n",
       "      <td>NaN</td>\n",
       "      <td>NaN</td>\n",
       "    </tr>\n",
       "    <tr>\n",
       "      <th>freq</th>\n",
       "      <td>1</td>\n",
       "      <td>NaN</td>\n",
       "      <td>NaN</td>\n",
       "      <td>NaN</td>\n",
       "      <td>NaN</td>\n",
       "      <td>NaN</td>\n",
       "      <td>NaN</td>\n",
       "      <td>NaN</td>\n",
       "      <td>NaN</td>\n",
       "      <td>NaN</td>\n",
       "      <td>NaN</td>\n",
       "      <td>NaN</td>\n",
       "      <td>NaN</td>\n",
       "      <td>NaN</td>\n",
       "      <td>NaN</td>\n",
       "      <td>NaN</td>\n",
       "      <td>NaN</td>\n",
       "      <td>NaN</td>\n",
       "      <td>NaN</td>\n",
       "      <td>NaN</td>\n",
       "      <td>NaN</td>\n",
       "      <td>NaN</td>\n",
       "      <td>NaN</td>\n",
       "      <td>NaN</td>\n",
       "      <td>NaN</td>\n",
       "      <td>NaN</td>\n",
       "      <td>NaN</td>\n",
       "      <td>NaN</td>\n",
       "      <td>NaN</td>\n",
       "      <td>NaN</td>\n",
       "      <td>NaN</td>\n",
       "      <td>NaN</td>\n",
       "      <td>NaN</td>\n",
       "      <td>NaN</td>\n",
       "      <td>NaN</td>\n",
       "      <td>NaN</td>\n",
       "      <td>NaN</td>\n",
       "      <td>NaN</td>\n",
       "      <td>NaN</td>\n",
       "      <td>NaN</td>\n",
       "      <td>NaN</td>\n",
       "      <td>NaN</td>\n",
       "      <td>NaN</td>\n",
       "      <td>NaN</td>\n",
       "      <td>NaN</td>\n",
       "      <td>NaN</td>\n",
       "      <td>NaN</td>\n",
       "      <td>NaN</td>\n",
       "      <td>NaN</td>\n",
       "      <td>NaN</td>\n",
       "      <td>NaN</td>\n",
       "      <td>NaN</td>\n",
       "      <td>NaN</td>\n",
       "      <td>NaN</td>\n",
       "      <td>NaN</td>\n",
       "      <td>NaN</td>\n",
       "      <td>NaN</td>\n",
       "      <td>NaN</td>\n",
       "      <td>NaN</td>\n",
       "      <td>NaN</td>\n",
       "      <td>NaN</td>\n",
       "      <td>NaN</td>\n",
       "      <td>NaN</td>\n",
       "      <td>NaN</td>\n",
       "      <td>NaN</td>\n",
       "      <td>NaN</td>\n",
       "      <td>NaN</td>\n",
       "      <td>NaN</td>\n",
       "      <td>NaN</td>\n",
       "      <td>NaN</td>\n",
       "      <td>NaN</td>\n",
       "      <td>NaN</td>\n",
       "      <td>NaN</td>\n",
       "      <td>NaN</td>\n",
       "      <td>NaN</td>\n",
       "      <td>NaN</td>\n",
       "      <td>NaN</td>\n",
       "      <td>NaN</td>\n",
       "      <td>NaN</td>\n",
       "      <td>NaN</td>\n",
       "      <td>NaN</td>\n",
       "      <td>NaN</td>\n",
       "      <td>NaN</td>\n",
       "      <td>NaN</td>\n",
       "      <td>NaN</td>\n",
       "      <td>NaN</td>\n",
       "      <td>NaN</td>\n",
       "      <td>NaN</td>\n",
       "      <td>NaN</td>\n",
       "      <td>NaN</td>\n",
       "      <td>NaN</td>\n",
       "      <td>NaN</td>\n",
       "      <td>NaN</td>\n",
       "      <td>NaN</td>\n",
       "      <td>NaN</td>\n",
       "      <td>13</td>\n",
       "      <td>NaN</td>\n",
       "      <td>NaN</td>\n",
       "      <td>NaN</td>\n",
       "      <td>NaN</td>\n",
       "      <td>NaN</td>\n",
       "      <td>NaN</td>\n",
       "      <td>NaN</td>\n",
       "      <td>NaN</td>\n",
       "      <td>NaN</td>\n",
       "      <td>NaN</td>\n",
       "      <td>NaN</td>\n",
       "      <td>NaN</td>\n",
       "      <td>NaN</td>\n",
       "      <td>NaN</td>\n",
       "      <td>NaN</td>\n",
       "      <td>NaN</td>\n",
       "      <td>NaN</td>\n",
       "      <td>NaN</td>\n",
       "      <td>NaN</td>\n",
       "      <td>NaN</td>\n",
       "      <td>NaN</td>\n",
       "      <td>NaN</td>\n",
       "      <td>NaN</td>\n",
       "      <td>NaN</td>\n",
       "      <td>NaN</td>\n",
       "      <td>NaN</td>\n",
       "      <td>NaN</td>\n",
       "      <td>NaN</td>\n",
       "      <td>NaN</td>\n",
       "      <td>NaN</td>\n",
       "      <td>NaN</td>\n",
       "      <td>NaN</td>\n",
       "      <td>NaN</td>\n",
       "      <td>NaN</td>\n",
       "    </tr>\n",
       "    <tr>\n",
       "      <th>mean</th>\n",
       "      <td>NaN</td>\n",
       "      <td>1.652316e+05</td>\n",
       "      <td>0.038087</td>\n",
       "      <td>4.955530</td>\n",
       "      <td>0.023648</td>\n",
       "      <td>0.994768</td>\n",
       "      <td>0.957623</td>\n",
       "      <td>0.231767</td>\n",
       "      <td>1.404063</td>\n",
       "      <td>0.385895</td>\n",
       "      <td>1.559171</td>\n",
       "      <td>1.945066</td>\n",
       "      <td>0.399184</td>\n",
       "      <td>1.661714</td>\n",
       "      <td>2.060898</td>\n",
       "      <td>0.785079</td>\n",
       "      <td>3.220885</td>\n",
       "      <td>4.005964</td>\n",
       "      <td>3.999058</td>\n",
       "      <td>4.094590</td>\n",
       "      <td>7.200272</td>\n",
       "      <td>0.459791</td>\n",
       "      <td>3.999058</td>\n",
       "      <td>0.594015</td>\n",
       "      <td>0.077744</td>\n",
       "      <td>0.188030</td>\n",
       "      <td>0.008580</td>\n",
       "      <td>0.115622</td>\n",
       "      <td>0.013079</td>\n",
       "      <td>0.001465</td>\n",
       "      <td>0.001465</td>\n",
       "      <td>0.692791</td>\n",
       "      <td>0.222873</td>\n",
       "      <td>0.000942</td>\n",
       "      <td>0.001046</td>\n",
       "      <td>0.016428</td>\n",
       "      <td>0.065920</td>\n",
       "      <td>0.970074</td>\n",
       "      <td>0.017683</td>\n",
       "      <td>0.003139</td>\n",
       "      <td>0.002197</td>\n",
       "      <td>0.677409</td>\n",
       "      <td>0.964738</td>\n",
       "      <td>0.031705</td>\n",
       "      <td>0.003558</td>\n",
       "      <td>0.885110</td>\n",
       "      <td>0.000314</td>\n",
       "      <td>0.002197</td>\n",
       "      <td>0.110809</td>\n",
       "      <td>0.003872</td>\n",
       "      <td>0.213979</td>\n",
       "      <td>0.764257</td>\n",
       "      <td>0.015381</td>\n",
       "      <td>0.002511</td>\n",
       "      <td>0.001883</td>\n",
       "      <td>0.489589</td>\n",
       "      <td>0.458407</td>\n",
       "      <td>0.050120</td>\n",
       "      <td>0.882704</td>\n",
       "      <td>0.03003</td>\n",
       "      <td>0.084545</td>\n",
       "      <td>0.001465</td>\n",
       "      <td>0.0</td>\n",
       "      <td>0.001256</td>\n",
       "      <td>0.102438</td>\n",
       "      <td>0.327404</td>\n",
       "      <td>0.570158</td>\n",
       "      <td>0.128388</td>\n",
       "      <td>0.288061</td>\n",
       "      <td>0.583551</td>\n",
       "      <td>0.101078</td>\n",
       "      <td>0.252799</td>\n",
       "      <td>0.646123</td>\n",
       "      <td>0.057549</td>\n",
       "      <td>0.483415</td>\n",
       "      <td>0.516585</td>\n",
       "      <td>0.137805</td>\n",
       "      <td>0.123260</td>\n",
       "      <td>0.268390</td>\n",
       "      <td>0.031914</td>\n",
       "      <td>0.062781</td>\n",
       "      <td>0.033169</td>\n",
       "      <td>0.342681</td>\n",
       "      <td>0.311081</td>\n",
       "      <td>0.184054</td>\n",
       "      <td>0.381814</td>\n",
       "      <td>0.012138</td>\n",
       "      <td>0.009522</td>\n",
       "      <td>0.051167</td>\n",
       "      <td>0.010045</td>\n",
       "      <td>0.002407</td>\n",
       "      <td>0.013289</td>\n",
       "      <td>0.003139</td>\n",
       "      <td>0.012661</td>\n",
       "      <td>0.008685</td>\n",
       "      <td>NaN</td>\n",
       "      <td>1.406613</td>\n",
       "      <td>2.592445</td>\n",
       "      <td>0.284085</td>\n",
       "      <td>3.999058</td>\n",
       "      <td>0.134666</td>\n",
       "      <td>0.170556</td>\n",
       "      <td>0.207701</td>\n",
       "      <td>0.185414</td>\n",
       "      <td>0.112692</td>\n",
       "      <td>0.017893</td>\n",
       "      <td>0.015591</td>\n",
       "      <td>0.139793</td>\n",
       "      <td>0.015381</td>\n",
       "      <td>2.739981</td>\n",
       "      <td>1.605380</td>\n",
       "      <td>0.61850</td>\n",
       "      <td>0.100555</td>\n",
       "      <td>0.181647</td>\n",
       "      <td>0.017056</td>\n",
       "      <td>0.082243</td>\n",
       "      <td>0.102124</td>\n",
       "      <td>0.284608</td>\n",
       "      <td>0.975306</td>\n",
       "      <td>2.821492</td>\n",
       "      <td>0.587632</td>\n",
       "      <td>0.092707</td>\n",
       "      <td>0.062363</td>\n",
       "      <td>0.082767</td>\n",
       "      <td>0.093858</td>\n",
       "      <td>0.080674</td>\n",
       "      <td>0.714555</td>\n",
       "      <td>0.285445</td>\n",
       "      <td>34.303547</td>\n",
       "      <td>3.302292</td>\n",
       "    </tr>\n",
       "    <tr>\n",
       "      <th>std</th>\n",
       "      <td>NaN</td>\n",
       "      <td>1.504571e+05</td>\n",
       "      <td>0.191417</td>\n",
       "      <td>1.468381</td>\n",
       "      <td>0.151957</td>\n",
       "      <td>0.072145</td>\n",
       "      <td>0.201459</td>\n",
       "      <td>0.421983</td>\n",
       "      <td>0.763131</td>\n",
       "      <td>0.680779</td>\n",
       "      <td>1.036574</td>\n",
       "      <td>1.188852</td>\n",
       "      <td>0.692460</td>\n",
       "      <td>0.933052</td>\n",
       "      <td>1.206172</td>\n",
       "      <td>1.047559</td>\n",
       "      <td>1.440995</td>\n",
       "      <td>1.771202</td>\n",
       "      <td>1.772216</td>\n",
       "      <td>1.876428</td>\n",
       "      <td>4.730877</td>\n",
       "      <td>0.946550</td>\n",
       "      <td>1.772216</td>\n",
       "      <td>0.491107</td>\n",
       "      <td>0.267782</td>\n",
       "      <td>0.390756</td>\n",
       "      <td>0.092235</td>\n",
       "      <td>0.319788</td>\n",
       "      <td>0.113621</td>\n",
       "      <td>0.038248</td>\n",
       "      <td>0.038248</td>\n",
       "      <td>0.461361</td>\n",
       "      <td>0.416196</td>\n",
       "      <td>0.030675</td>\n",
       "      <td>0.032332</td>\n",
       "      <td>0.127120</td>\n",
       "      <td>0.248156</td>\n",
       "      <td>0.170391</td>\n",
       "      <td>0.131805</td>\n",
       "      <td>0.055942</td>\n",
       "      <td>0.046827</td>\n",
       "      <td>0.467492</td>\n",
       "      <td>0.184451</td>\n",
       "      <td>0.175221</td>\n",
       "      <td>0.059543</td>\n",
       "      <td>0.318905</td>\n",
       "      <td>0.017716</td>\n",
       "      <td>0.046827</td>\n",
       "      <td>0.313912</td>\n",
       "      <td>0.062104</td>\n",
       "      <td>0.410134</td>\n",
       "      <td>0.424485</td>\n",
       "      <td>0.123071</td>\n",
       "      <td>0.050052</td>\n",
       "      <td>0.043360</td>\n",
       "      <td>0.499918</td>\n",
       "      <td>0.498293</td>\n",
       "      <td>0.218205</td>\n",
       "      <td>0.321790</td>\n",
       "      <td>0.17068</td>\n",
       "      <td>0.278219</td>\n",
       "      <td>0.038248</td>\n",
       "      <td>0.0</td>\n",
       "      <td>0.035414</td>\n",
       "      <td>0.303239</td>\n",
       "      <td>0.469291</td>\n",
       "      <td>0.495079</td>\n",
       "      <td>0.334538</td>\n",
       "      <td>0.452883</td>\n",
       "      <td>0.492996</td>\n",
       "      <td>0.301447</td>\n",
       "      <td>0.434639</td>\n",
       "      <td>0.478197</td>\n",
       "      <td>0.232902</td>\n",
       "      <td>0.499751</td>\n",
       "      <td>0.499751</td>\n",
       "      <td>0.344713</td>\n",
       "      <td>0.328753</td>\n",
       "      <td>0.443145</td>\n",
       "      <td>0.175780</td>\n",
       "      <td>0.242582</td>\n",
       "      <td>0.179088</td>\n",
       "      <td>0.474631</td>\n",
       "      <td>0.462960</td>\n",
       "      <td>0.387548</td>\n",
       "      <td>0.485857</td>\n",
       "      <td>0.109506</td>\n",
       "      <td>0.097119</td>\n",
       "      <td>0.220349</td>\n",
       "      <td>0.099725</td>\n",
       "      <td>0.049001</td>\n",
       "      <td>0.114514</td>\n",
       "      <td>0.055942</td>\n",
       "      <td>0.111812</td>\n",
       "      <td>0.092791</td>\n",
       "      <td>NaN</td>\n",
       "      <td>1.366185</td>\n",
       "      <td>1.166074</td>\n",
       "      <td>0.597163</td>\n",
       "      <td>1.772216</td>\n",
       "      <td>0.341384</td>\n",
       "      <td>0.376140</td>\n",
       "      <td>0.405683</td>\n",
       "      <td>0.388653</td>\n",
       "      <td>0.316233</td>\n",
       "      <td>0.132568</td>\n",
       "      <td>0.123892</td>\n",
       "      <td>0.346790</td>\n",
       "      <td>0.123071</td>\n",
       "      <td>0.944507</td>\n",
       "      <td>0.819946</td>\n",
       "      <td>0.48578</td>\n",
       "      <td>0.300754</td>\n",
       "      <td>0.385573</td>\n",
       "      <td>0.129485</td>\n",
       "      <td>0.274750</td>\n",
       "      <td>0.302827</td>\n",
       "      <td>0.451251</td>\n",
       "      <td>0.155199</td>\n",
       "      <td>1.483249</td>\n",
       "      <td>0.492286</td>\n",
       "      <td>0.290036</td>\n",
       "      <td>0.241826</td>\n",
       "      <td>0.275543</td>\n",
       "      <td>0.291646</td>\n",
       "      <td>0.272348</td>\n",
       "      <td>0.451650</td>\n",
       "      <td>0.451650</td>\n",
       "      <td>21.612261</td>\n",
       "      <td>1.009565</td>\n",
       "    </tr>\n",
       "    <tr>\n",
       "      <th>min</th>\n",
       "      <td>NaN</td>\n",
       "      <td>0.000000e+00</td>\n",
       "      <td>0.000000</td>\n",
       "      <td>1.000000</td>\n",
       "      <td>0.000000</td>\n",
       "      <td>0.000000</td>\n",
       "      <td>0.000000</td>\n",
       "      <td>0.000000</td>\n",
       "      <td>1.000000</td>\n",
       "      <td>0.000000</td>\n",
       "      <td>0.000000</td>\n",
       "      <td>0.000000</td>\n",
       "      <td>0.000000</td>\n",
       "      <td>0.000000</td>\n",
       "      <td>0.000000</td>\n",
       "      <td>0.000000</td>\n",
       "      <td>1.000000</td>\n",
       "      <td>1.000000</td>\n",
       "      <td>1.000000</td>\n",
       "      <td>1.000000</td>\n",
       "      <td>0.000000</td>\n",
       "      <td>0.000000</td>\n",
       "      <td>1.000000</td>\n",
       "      <td>0.000000</td>\n",
       "      <td>0.000000</td>\n",
       "      <td>0.000000</td>\n",
       "      <td>0.000000</td>\n",
       "      <td>0.000000</td>\n",
       "      <td>0.000000</td>\n",
       "      <td>0.000000</td>\n",
       "      <td>0.000000</td>\n",
       "      <td>0.000000</td>\n",
       "      <td>0.000000</td>\n",
       "      <td>0.000000</td>\n",
       "      <td>0.000000</td>\n",
       "      <td>0.000000</td>\n",
       "      <td>0.000000</td>\n",
       "      <td>0.000000</td>\n",
       "      <td>0.000000</td>\n",
       "      <td>0.000000</td>\n",
       "      <td>0.000000</td>\n",
       "      <td>0.000000</td>\n",
       "      <td>0.000000</td>\n",
       "      <td>0.000000</td>\n",
       "      <td>0.000000</td>\n",
       "      <td>0.000000</td>\n",
       "      <td>0.000000</td>\n",
       "      <td>0.000000</td>\n",
       "      <td>0.000000</td>\n",
       "      <td>0.000000</td>\n",
       "      <td>0.000000</td>\n",
       "      <td>0.000000</td>\n",
       "      <td>0.000000</td>\n",
       "      <td>0.000000</td>\n",
       "      <td>0.000000</td>\n",
       "      <td>0.000000</td>\n",
       "      <td>0.000000</td>\n",
       "      <td>0.000000</td>\n",
       "      <td>0.000000</td>\n",
       "      <td>0.00000</td>\n",
       "      <td>0.000000</td>\n",
       "      <td>0.000000</td>\n",
       "      <td>0.0</td>\n",
       "      <td>0.000000</td>\n",
       "      <td>0.000000</td>\n",
       "      <td>0.000000</td>\n",
       "      <td>0.000000</td>\n",
       "      <td>0.000000</td>\n",
       "      <td>0.000000</td>\n",
       "      <td>0.000000</td>\n",
       "      <td>0.000000</td>\n",
       "      <td>0.000000</td>\n",
       "      <td>0.000000</td>\n",
       "      <td>0.000000</td>\n",
       "      <td>0.000000</td>\n",
       "      <td>0.000000</td>\n",
       "      <td>0.000000</td>\n",
       "      <td>0.000000</td>\n",
       "      <td>0.000000</td>\n",
       "      <td>0.000000</td>\n",
       "      <td>0.000000</td>\n",
       "      <td>0.000000</td>\n",
       "      <td>0.000000</td>\n",
       "      <td>0.000000</td>\n",
       "      <td>0.000000</td>\n",
       "      <td>0.000000</td>\n",
       "      <td>0.000000</td>\n",
       "      <td>0.000000</td>\n",
       "      <td>0.000000</td>\n",
       "      <td>0.000000</td>\n",
       "      <td>0.000000</td>\n",
       "      <td>0.000000</td>\n",
       "      <td>0.000000</td>\n",
       "      <td>0.000000</td>\n",
       "      <td>0.000000</td>\n",
       "      <td>NaN</td>\n",
       "      <td>0.000000</td>\n",
       "      <td>0.000000</td>\n",
       "      <td>0.000000</td>\n",
       "      <td>1.000000</td>\n",
       "      <td>0.000000</td>\n",
       "      <td>0.000000</td>\n",
       "      <td>0.000000</td>\n",
       "      <td>0.000000</td>\n",
       "      <td>0.000000</td>\n",
       "      <td>0.000000</td>\n",
       "      <td>0.000000</td>\n",
       "      <td>0.000000</td>\n",
       "      <td>0.000000</td>\n",
       "      <td>1.000000</td>\n",
       "      <td>0.200000</td>\n",
       "      <td>0.00000</td>\n",
       "      <td>0.000000</td>\n",
       "      <td>0.000000</td>\n",
       "      <td>0.000000</td>\n",
       "      <td>0.000000</td>\n",
       "      <td>0.000000</td>\n",
       "      <td>0.000000</td>\n",
       "      <td>0.000000</td>\n",
       "      <td>0.000000</td>\n",
       "      <td>0.000000</td>\n",
       "      <td>0.000000</td>\n",
       "      <td>0.000000</td>\n",
       "      <td>0.000000</td>\n",
       "      <td>0.000000</td>\n",
       "      <td>0.000000</td>\n",
       "      <td>0.000000</td>\n",
       "      <td>0.000000</td>\n",
       "      <td>0.000000</td>\n",
       "      <td>1.000000</td>\n",
       "    </tr>\n",
       "    <tr>\n",
       "      <th>25%</th>\n",
       "      <td>NaN</td>\n",
       "      <td>8.000000e+04</td>\n",
       "      <td>0.000000</td>\n",
       "      <td>4.000000</td>\n",
       "      <td>0.000000</td>\n",
       "      <td>1.000000</td>\n",
       "      <td>1.000000</td>\n",
       "      <td>0.000000</td>\n",
       "      <td>1.000000</td>\n",
       "      <td>0.000000</td>\n",
       "      <td>1.000000</td>\n",
       "      <td>1.000000</td>\n",
       "      <td>0.000000</td>\n",
       "      <td>1.000000</td>\n",
       "      <td>1.000000</td>\n",
       "      <td>0.000000</td>\n",
       "      <td>2.000000</td>\n",
       "      <td>3.000000</td>\n",
       "      <td>3.000000</td>\n",
       "      <td>3.000000</td>\n",
       "      <td>4.000000</td>\n",
       "      <td>0.000000</td>\n",
       "      <td>3.000000</td>\n",
       "      <td>0.000000</td>\n",
       "      <td>0.000000</td>\n",
       "      <td>0.000000</td>\n",
       "      <td>0.000000</td>\n",
       "      <td>0.000000</td>\n",
       "      <td>0.000000</td>\n",
       "      <td>0.000000</td>\n",
       "      <td>0.000000</td>\n",
       "      <td>0.000000</td>\n",
       "      <td>0.000000</td>\n",
       "      <td>0.000000</td>\n",
       "      <td>0.000000</td>\n",
       "      <td>0.000000</td>\n",
       "      <td>0.000000</td>\n",
       "      <td>1.000000</td>\n",
       "      <td>0.000000</td>\n",
       "      <td>0.000000</td>\n",
       "      <td>0.000000</td>\n",
       "      <td>0.000000</td>\n",
       "      <td>1.000000</td>\n",
       "      <td>0.000000</td>\n",
       "      <td>0.000000</td>\n",
       "      <td>1.000000</td>\n",
       "      <td>0.000000</td>\n",
       "      <td>0.000000</td>\n",
       "      <td>0.000000</td>\n",
       "      <td>0.000000</td>\n",
       "      <td>0.000000</td>\n",
       "      <td>1.000000</td>\n",
       "      <td>0.000000</td>\n",
       "      <td>0.000000</td>\n",
       "      <td>0.000000</td>\n",
       "      <td>0.000000</td>\n",
       "      <td>0.000000</td>\n",
       "      <td>0.000000</td>\n",
       "      <td>1.000000</td>\n",
       "      <td>0.00000</td>\n",
       "      <td>0.000000</td>\n",
       "      <td>0.000000</td>\n",
       "      <td>0.0</td>\n",
       "      <td>0.000000</td>\n",
       "      <td>0.000000</td>\n",
       "      <td>0.000000</td>\n",
       "      <td>0.000000</td>\n",
       "      <td>0.000000</td>\n",
       "      <td>0.000000</td>\n",
       "      <td>0.000000</td>\n",
       "      <td>0.000000</td>\n",
       "      <td>0.000000</td>\n",
       "      <td>0.000000</td>\n",
       "      <td>0.000000</td>\n",
       "      <td>0.000000</td>\n",
       "      <td>0.000000</td>\n",
       "      <td>0.000000</td>\n",
       "      <td>0.000000</td>\n",
       "      <td>0.000000</td>\n",
       "      <td>0.000000</td>\n",
       "      <td>0.000000</td>\n",
       "      <td>0.000000</td>\n",
       "      <td>0.000000</td>\n",
       "      <td>0.000000</td>\n",
       "      <td>0.000000</td>\n",
       "      <td>0.000000</td>\n",
       "      <td>0.000000</td>\n",
       "      <td>0.000000</td>\n",
       "      <td>0.000000</td>\n",
       "      <td>0.000000</td>\n",
       "      <td>0.000000</td>\n",
       "      <td>0.000000</td>\n",
       "      <td>0.000000</td>\n",
       "      <td>0.000000</td>\n",
       "      <td>0.000000</td>\n",
       "      <td>NaN</td>\n",
       "      <td>0.000000</td>\n",
       "      <td>2.000000</td>\n",
       "      <td>0.000000</td>\n",
       "      <td>3.000000</td>\n",
       "      <td>0.000000</td>\n",
       "      <td>0.000000</td>\n",
       "      <td>0.000000</td>\n",
       "      <td>0.000000</td>\n",
       "      <td>0.000000</td>\n",
       "      <td>0.000000</td>\n",
       "      <td>0.000000</td>\n",
       "      <td>0.000000</td>\n",
       "      <td>0.000000</td>\n",
       "      <td>2.000000</td>\n",
       "      <td>1.000000</td>\n",
       "      <td>0.00000</td>\n",
       "      <td>0.000000</td>\n",
       "      <td>0.000000</td>\n",
       "      <td>0.000000</td>\n",
       "      <td>0.000000</td>\n",
       "      <td>0.000000</td>\n",
       "      <td>0.000000</td>\n",
       "      <td>1.000000</td>\n",
       "      <td>2.000000</td>\n",
       "      <td>0.000000</td>\n",
       "      <td>0.000000</td>\n",
       "      <td>0.000000</td>\n",
       "      <td>0.000000</td>\n",
       "      <td>0.000000</td>\n",
       "      <td>0.000000</td>\n",
       "      <td>0.000000</td>\n",
       "      <td>0.000000</td>\n",
       "      <td>17.000000</td>\n",
       "      <td>3.000000</td>\n",
       "    </tr>\n",
       "    <tr>\n",
       "      <th>50%</th>\n",
       "      <td>NaN</td>\n",
       "      <td>1.300000e+05</td>\n",
       "      <td>0.000000</td>\n",
       "      <td>5.000000</td>\n",
       "      <td>0.000000</td>\n",
       "      <td>1.000000</td>\n",
       "      <td>1.000000</td>\n",
       "      <td>0.000000</td>\n",
       "      <td>1.000000</td>\n",
       "      <td>0.000000</td>\n",
       "      <td>1.000000</td>\n",
       "      <td>2.000000</td>\n",
       "      <td>0.000000</td>\n",
       "      <td>1.000000</td>\n",
       "      <td>2.000000</td>\n",
       "      <td>0.000000</td>\n",
       "      <td>3.000000</td>\n",
       "      <td>4.000000</td>\n",
       "      <td>4.000000</td>\n",
       "      <td>4.000000</td>\n",
       "      <td>6.000000</td>\n",
       "      <td>0.000000</td>\n",
       "      <td>4.000000</td>\n",
       "      <td>1.000000</td>\n",
       "      <td>0.000000</td>\n",
       "      <td>0.000000</td>\n",
       "      <td>0.000000</td>\n",
       "      <td>0.000000</td>\n",
       "      <td>0.000000</td>\n",
       "      <td>0.000000</td>\n",
       "      <td>0.000000</td>\n",
       "      <td>1.000000</td>\n",
       "      <td>0.000000</td>\n",
       "      <td>0.000000</td>\n",
       "      <td>0.000000</td>\n",
       "      <td>0.000000</td>\n",
       "      <td>0.000000</td>\n",
       "      <td>1.000000</td>\n",
       "      <td>0.000000</td>\n",
       "      <td>0.000000</td>\n",
       "      <td>0.000000</td>\n",
       "      <td>1.000000</td>\n",
       "      <td>1.000000</td>\n",
       "      <td>0.000000</td>\n",
       "      <td>0.000000</td>\n",
       "      <td>1.000000</td>\n",
       "      <td>0.000000</td>\n",
       "      <td>0.000000</td>\n",
       "      <td>0.000000</td>\n",
       "      <td>0.000000</td>\n",
       "      <td>0.000000</td>\n",
       "      <td>1.000000</td>\n",
       "      <td>0.000000</td>\n",
       "      <td>0.000000</td>\n",
       "      <td>0.000000</td>\n",
       "      <td>0.000000</td>\n",
       "      <td>0.000000</td>\n",
       "      <td>0.000000</td>\n",
       "      <td>1.000000</td>\n",
       "      <td>0.00000</td>\n",
       "      <td>0.000000</td>\n",
       "      <td>0.000000</td>\n",
       "      <td>0.0</td>\n",
       "      <td>0.000000</td>\n",
       "      <td>0.000000</td>\n",
       "      <td>0.000000</td>\n",
       "      <td>1.000000</td>\n",
       "      <td>0.000000</td>\n",
       "      <td>0.000000</td>\n",
       "      <td>1.000000</td>\n",
       "      <td>0.000000</td>\n",
       "      <td>0.000000</td>\n",
       "      <td>1.000000</td>\n",
       "      <td>0.000000</td>\n",
       "      <td>0.000000</td>\n",
       "      <td>1.000000</td>\n",
       "      <td>0.000000</td>\n",
       "      <td>0.000000</td>\n",
       "      <td>0.000000</td>\n",
       "      <td>0.000000</td>\n",
       "      <td>0.000000</td>\n",
       "      <td>0.000000</td>\n",
       "      <td>0.000000</td>\n",
       "      <td>0.000000</td>\n",
       "      <td>0.000000</td>\n",
       "      <td>0.000000</td>\n",
       "      <td>0.000000</td>\n",
       "      <td>0.000000</td>\n",
       "      <td>0.000000</td>\n",
       "      <td>0.000000</td>\n",
       "      <td>0.000000</td>\n",
       "      <td>0.000000</td>\n",
       "      <td>0.000000</td>\n",
       "      <td>0.000000</td>\n",
       "      <td>0.000000</td>\n",
       "      <td>NaN</td>\n",
       "      <td>1.000000</td>\n",
       "      <td>2.000000</td>\n",
       "      <td>0.000000</td>\n",
       "      <td>4.000000</td>\n",
       "      <td>0.000000</td>\n",
       "      <td>0.000000</td>\n",
       "      <td>0.000000</td>\n",
       "      <td>0.000000</td>\n",
       "      <td>0.000000</td>\n",
       "      <td>0.000000</td>\n",
       "      <td>0.000000</td>\n",
       "      <td>0.000000</td>\n",
       "      <td>0.000000</td>\n",
       "      <td>3.000000</td>\n",
       "      <td>1.500000</td>\n",
       "      <td>1.00000</td>\n",
       "      <td>0.000000</td>\n",
       "      <td>0.000000</td>\n",
       "      <td>0.000000</td>\n",
       "      <td>0.000000</td>\n",
       "      <td>0.000000</td>\n",
       "      <td>0.000000</td>\n",
       "      <td>1.000000</td>\n",
       "      <td>3.000000</td>\n",
       "      <td>1.000000</td>\n",
       "      <td>0.000000</td>\n",
       "      <td>0.000000</td>\n",
       "      <td>0.000000</td>\n",
       "      <td>0.000000</td>\n",
       "      <td>0.000000</td>\n",
       "      <td>1.000000</td>\n",
       "      <td>0.000000</td>\n",
       "      <td>31.000000</td>\n",
       "      <td>4.000000</td>\n",
       "    </tr>\n",
       "    <tr>\n",
       "      <th>75%</th>\n",
       "      <td>NaN</td>\n",
       "      <td>2.000000e+05</td>\n",
       "      <td>0.000000</td>\n",
       "      <td>6.000000</td>\n",
       "      <td>0.000000</td>\n",
       "      <td>1.000000</td>\n",
       "      <td>1.000000</td>\n",
       "      <td>0.000000</td>\n",
       "      <td>2.000000</td>\n",
       "      <td>1.000000</td>\n",
       "      <td>2.000000</td>\n",
       "      <td>3.000000</td>\n",
       "      <td>1.000000</td>\n",
       "      <td>2.000000</td>\n",
       "      <td>3.000000</td>\n",
       "      <td>1.000000</td>\n",
       "      <td>4.000000</td>\n",
       "      <td>5.000000</td>\n",
       "      <td>5.000000</td>\n",
       "      <td>5.000000</td>\n",
       "      <td>11.000000</td>\n",
       "      <td>1.000000</td>\n",
       "      <td>5.000000</td>\n",
       "      <td>1.000000</td>\n",
       "      <td>0.000000</td>\n",
       "      <td>0.000000</td>\n",
       "      <td>0.000000</td>\n",
       "      <td>0.000000</td>\n",
       "      <td>0.000000</td>\n",
       "      <td>0.000000</td>\n",
       "      <td>0.000000</td>\n",
       "      <td>1.000000</td>\n",
       "      <td>0.000000</td>\n",
       "      <td>0.000000</td>\n",
       "      <td>0.000000</td>\n",
       "      <td>0.000000</td>\n",
       "      <td>0.000000</td>\n",
       "      <td>1.000000</td>\n",
       "      <td>0.000000</td>\n",
       "      <td>0.000000</td>\n",
       "      <td>0.000000</td>\n",
       "      <td>1.000000</td>\n",
       "      <td>1.000000</td>\n",
       "      <td>0.000000</td>\n",
       "      <td>0.000000</td>\n",
       "      <td>1.000000</td>\n",
       "      <td>0.000000</td>\n",
       "      <td>0.000000</td>\n",
       "      <td>0.000000</td>\n",
       "      <td>0.000000</td>\n",
       "      <td>0.000000</td>\n",
       "      <td>1.000000</td>\n",
       "      <td>0.000000</td>\n",
       "      <td>0.000000</td>\n",
       "      <td>0.000000</td>\n",
       "      <td>1.000000</td>\n",
       "      <td>1.000000</td>\n",
       "      <td>0.000000</td>\n",
       "      <td>1.000000</td>\n",
       "      <td>0.00000</td>\n",
       "      <td>0.000000</td>\n",
       "      <td>0.000000</td>\n",
       "      <td>0.0</td>\n",
       "      <td>0.000000</td>\n",
       "      <td>0.000000</td>\n",
       "      <td>1.000000</td>\n",
       "      <td>1.000000</td>\n",
       "      <td>0.000000</td>\n",
       "      <td>1.000000</td>\n",
       "      <td>1.000000</td>\n",
       "      <td>0.000000</td>\n",
       "      <td>1.000000</td>\n",
       "      <td>1.000000</td>\n",
       "      <td>0.000000</td>\n",
       "      <td>1.000000</td>\n",
       "      <td>1.000000</td>\n",
       "      <td>0.000000</td>\n",
       "      <td>0.000000</td>\n",
       "      <td>1.000000</td>\n",
       "      <td>0.000000</td>\n",
       "      <td>0.000000</td>\n",
       "      <td>0.000000</td>\n",
       "      <td>1.000000</td>\n",
       "      <td>1.000000</td>\n",
       "      <td>0.000000</td>\n",
       "      <td>1.000000</td>\n",
       "      <td>0.000000</td>\n",
       "      <td>0.000000</td>\n",
       "      <td>0.000000</td>\n",
       "      <td>0.000000</td>\n",
       "      <td>0.000000</td>\n",
       "      <td>0.000000</td>\n",
       "      <td>0.000000</td>\n",
       "      <td>0.000000</td>\n",
       "      <td>0.000000</td>\n",
       "      <td>NaN</td>\n",
       "      <td>2.000000</td>\n",
       "      <td>3.000000</td>\n",
       "      <td>0.000000</td>\n",
       "      <td>5.000000</td>\n",
       "      <td>0.000000</td>\n",
       "      <td>0.000000</td>\n",
       "      <td>0.000000</td>\n",
       "      <td>0.000000</td>\n",
       "      <td>0.000000</td>\n",
       "      <td>0.000000</td>\n",
       "      <td>0.000000</td>\n",
       "      <td>0.000000</td>\n",
       "      <td>0.000000</td>\n",
       "      <td>3.000000</td>\n",
       "      <td>2.000000</td>\n",
       "      <td>1.00000</td>\n",
       "      <td>0.000000</td>\n",
       "      <td>0.000000</td>\n",
       "      <td>0.000000</td>\n",
       "      <td>0.000000</td>\n",
       "      <td>0.000000</td>\n",
       "      <td>1.000000</td>\n",
       "      <td>1.000000</td>\n",
       "      <td>4.000000</td>\n",
       "      <td>1.000000</td>\n",
       "      <td>0.000000</td>\n",
       "      <td>0.000000</td>\n",
       "      <td>0.000000</td>\n",
       "      <td>0.000000</td>\n",
       "      <td>0.000000</td>\n",
       "      <td>1.000000</td>\n",
       "      <td>1.000000</td>\n",
       "      <td>51.000000</td>\n",
       "      <td>4.000000</td>\n",
       "    </tr>\n",
       "    <tr>\n",
       "      <th>max</th>\n",
       "      <td>NaN</td>\n",
       "      <td>2.353477e+06</td>\n",
       "      <td>1.000000</td>\n",
       "      <td>11.000000</td>\n",
       "      <td>1.000000</td>\n",
       "      <td>1.000000</td>\n",
       "      <td>1.000000</td>\n",
       "      <td>1.000000</td>\n",
       "      <td>6.000000</td>\n",
       "      <td>5.000000</td>\n",
       "      <td>8.000000</td>\n",
       "      <td>8.000000</td>\n",
       "      <td>6.000000</td>\n",
       "      <td>6.000000</td>\n",
       "      <td>8.000000</td>\n",
       "      <td>7.000000</td>\n",
       "      <td>11.000000</td>\n",
       "      <td>13.000000</td>\n",
       "      <td>13.000000</td>\n",
       "      <td>15.000000</td>\n",
       "      <td>21.000000</td>\n",
       "      <td>5.000000</td>\n",
       "      <td>13.000000</td>\n",
       "      <td>1.000000</td>\n",
       "      <td>1.000000</td>\n",
       "      <td>1.000000</td>\n",
       "      <td>1.000000</td>\n",
       "      <td>1.000000</td>\n",
       "      <td>1.000000</td>\n",
       "      <td>1.000000</td>\n",
       "      <td>1.000000</td>\n",
       "      <td>1.000000</td>\n",
       "      <td>1.000000</td>\n",
       "      <td>1.000000</td>\n",
       "      <td>1.000000</td>\n",
       "      <td>1.000000</td>\n",
       "      <td>1.000000</td>\n",
       "      <td>1.000000</td>\n",
       "      <td>1.000000</td>\n",
       "      <td>1.000000</td>\n",
       "      <td>1.000000</td>\n",
       "      <td>1.000000</td>\n",
       "      <td>1.000000</td>\n",
       "      <td>1.000000</td>\n",
       "      <td>1.000000</td>\n",
       "      <td>1.000000</td>\n",
       "      <td>1.000000</td>\n",
       "      <td>1.000000</td>\n",
       "      <td>1.000000</td>\n",
       "      <td>1.000000</td>\n",
       "      <td>1.000000</td>\n",
       "      <td>1.000000</td>\n",
       "      <td>1.000000</td>\n",
       "      <td>1.000000</td>\n",
       "      <td>1.000000</td>\n",
       "      <td>1.000000</td>\n",
       "      <td>1.000000</td>\n",
       "      <td>1.000000</td>\n",
       "      <td>1.000000</td>\n",
       "      <td>1.00000</td>\n",
       "      <td>1.000000</td>\n",
       "      <td>1.000000</td>\n",
       "      <td>0.0</td>\n",
       "      <td>1.000000</td>\n",
       "      <td>1.000000</td>\n",
       "      <td>1.000000</td>\n",
       "      <td>1.000000</td>\n",
       "      <td>1.000000</td>\n",
       "      <td>1.000000</td>\n",
       "      <td>1.000000</td>\n",
       "      <td>1.000000</td>\n",
       "      <td>1.000000</td>\n",
       "      <td>1.000000</td>\n",
       "      <td>1.000000</td>\n",
       "      <td>1.000000</td>\n",
       "      <td>1.000000</td>\n",
       "      <td>1.000000</td>\n",
       "      <td>1.000000</td>\n",
       "      <td>1.000000</td>\n",
       "      <td>1.000000</td>\n",
       "      <td>1.000000</td>\n",
       "      <td>1.000000</td>\n",
       "      <td>1.000000</td>\n",
       "      <td>1.000000</td>\n",
       "      <td>1.000000</td>\n",
       "      <td>1.000000</td>\n",
       "      <td>1.000000</td>\n",
       "      <td>1.000000</td>\n",
       "      <td>1.000000</td>\n",
       "      <td>1.000000</td>\n",
       "      <td>1.000000</td>\n",
       "      <td>1.000000</td>\n",
       "      <td>1.000000</td>\n",
       "      <td>1.000000</td>\n",
       "      <td>1.000000</td>\n",
       "      <td>NaN</td>\n",
       "      <td>9.000000</td>\n",
       "      <td>9.000000</td>\n",
       "      <td>3.000000</td>\n",
       "      <td>13.000000</td>\n",
       "      <td>1.000000</td>\n",
       "      <td>1.000000</td>\n",
       "      <td>1.000000</td>\n",
       "      <td>1.000000</td>\n",
       "      <td>1.000000</td>\n",
       "      <td>1.000000</td>\n",
       "      <td>1.000000</td>\n",
       "      <td>1.000000</td>\n",
       "      <td>1.000000</td>\n",
       "      <td>8.000000</td>\n",
       "      <td>6.000000</td>\n",
       "      <td>1.00000</td>\n",
       "      <td>1.000000</td>\n",
       "      <td>1.000000</td>\n",
       "      <td>1.000000</td>\n",
       "      <td>1.000000</td>\n",
       "      <td>1.000000</td>\n",
       "      <td>1.000000</td>\n",
       "      <td>1.000000</td>\n",
       "      <td>10.000000</td>\n",
       "      <td>1.000000</td>\n",
       "      <td>1.000000</td>\n",
       "      <td>1.000000</td>\n",
       "      <td>1.000000</td>\n",
       "      <td>1.000000</td>\n",
       "      <td>1.000000</td>\n",
       "      <td>1.000000</td>\n",
       "      <td>1.000000</td>\n",
       "      <td>97.000000</td>\n",
       "      <td>4.000000</td>\n",
       "    </tr>\n",
       "  </tbody>\n",
       "</table>\n",
       "</div>"
      ],
      "text/plain": [
       "                  Id          v2a1       hacdor        rooms       hacapo  \\\n",
       "count           9557  2.697000e+03  9557.000000  9557.000000  9557.000000   \n",
       "unique          9557           NaN          NaN          NaN          NaN   \n",
       "top     ID_d50087b22           NaN          NaN          NaN          NaN   \n",
       "freq               1           NaN          NaN          NaN          NaN   \n",
       "mean             NaN  1.652316e+05     0.038087     4.955530     0.023648   \n",
       "std              NaN  1.504571e+05     0.191417     1.468381     0.151957   \n",
       "min              NaN  0.000000e+00     0.000000     1.000000     0.000000   \n",
       "25%              NaN  8.000000e+04     0.000000     4.000000     0.000000   \n",
       "50%              NaN  1.300000e+05     0.000000     5.000000     0.000000   \n",
       "75%              NaN  2.000000e+05     0.000000     6.000000     0.000000   \n",
       "max              NaN  2.353477e+06     1.000000    11.000000     1.000000   \n",
       "\n",
       "               v14a       refrig         v18q        v18q1         r4h1  \\\n",
       "count   9557.000000  9557.000000  9557.000000  2215.000000  9557.000000   \n",
       "unique          NaN          NaN          NaN          NaN          NaN   \n",
       "top             NaN          NaN          NaN          NaN          NaN   \n",
       "freq            NaN          NaN          NaN          NaN          NaN   \n",
       "mean       0.994768     0.957623     0.231767     1.404063     0.385895   \n",
       "std        0.072145     0.201459     0.421983     0.763131     0.680779   \n",
       "min        0.000000     0.000000     0.000000     1.000000     0.000000   \n",
       "25%        1.000000     1.000000     0.000000     1.000000     0.000000   \n",
       "50%        1.000000     1.000000     0.000000     1.000000     0.000000   \n",
       "75%        1.000000     1.000000     0.000000     2.000000     1.000000   \n",
       "max        1.000000     1.000000     1.000000     6.000000     5.000000   \n",
       "\n",
       "               r4h2         r4h3         r4m1         r4m2         r4m3  \\\n",
       "count   9557.000000  9557.000000  9557.000000  9557.000000  9557.000000   \n",
       "unique          NaN          NaN          NaN          NaN          NaN   \n",
       "top             NaN          NaN          NaN          NaN          NaN   \n",
       "freq            NaN          NaN          NaN          NaN          NaN   \n",
       "mean       1.559171     1.945066     0.399184     1.661714     2.060898   \n",
       "std        1.036574     1.188852     0.692460     0.933052     1.206172   \n",
       "min        0.000000     0.000000     0.000000     0.000000     0.000000   \n",
       "25%        1.000000     1.000000     0.000000     1.000000     1.000000   \n",
       "50%        1.000000     2.000000     0.000000     1.000000     2.000000   \n",
       "75%        2.000000     3.000000     1.000000     2.000000     3.000000   \n",
       "max        8.000000     8.000000     6.000000     6.000000     8.000000   \n",
       "\n",
       "               r4t1         r4t2         r4t3       tamhog       tamviv  \\\n",
       "count   9557.000000  9557.000000  9557.000000  9557.000000  9557.000000   \n",
       "unique          NaN          NaN          NaN          NaN          NaN   \n",
       "top             NaN          NaN          NaN          NaN          NaN   \n",
       "freq            NaN          NaN          NaN          NaN          NaN   \n",
       "mean       0.785079     3.220885     4.005964     3.999058     4.094590   \n",
       "std        1.047559     1.440995     1.771202     1.772216     1.876428   \n",
       "min        0.000000     1.000000     1.000000     1.000000     1.000000   \n",
       "25%        0.000000     2.000000     3.000000     3.000000     3.000000   \n",
       "50%        0.000000     3.000000     4.000000     4.000000     4.000000   \n",
       "75%        1.000000     4.000000     5.000000     5.000000     5.000000   \n",
       "max        7.000000    11.000000    13.000000    13.000000    15.000000   \n",
       "\n",
       "           escolari      rez_esc       hhsize  paredblolad  paredzocalo  \\\n",
       "count   9557.000000  1629.000000  9557.000000  9557.000000  9557.000000   \n",
       "unique          NaN          NaN          NaN          NaN          NaN   \n",
       "top             NaN          NaN          NaN          NaN          NaN   \n",
       "freq            NaN          NaN          NaN          NaN          NaN   \n",
       "mean       7.200272     0.459791     3.999058     0.594015     0.077744   \n",
       "std        4.730877     0.946550     1.772216     0.491107     0.267782   \n",
       "min        0.000000     0.000000     1.000000     0.000000     0.000000   \n",
       "25%        4.000000     0.000000     3.000000     0.000000     0.000000   \n",
       "50%        6.000000     0.000000     4.000000     1.000000     0.000000   \n",
       "75%       11.000000     1.000000     5.000000     1.000000     0.000000   \n",
       "max       21.000000     5.000000    13.000000     1.000000     1.000000   \n",
       "\n",
       "          paredpreb     pareddes     paredmad    paredzinc  paredfibras  \\\n",
       "count   9557.000000  9557.000000  9557.000000  9557.000000  9557.000000   \n",
       "unique          NaN          NaN          NaN          NaN          NaN   \n",
       "top             NaN          NaN          NaN          NaN          NaN   \n",
       "freq            NaN          NaN          NaN          NaN          NaN   \n",
       "mean       0.188030     0.008580     0.115622     0.013079     0.001465   \n",
       "std        0.390756     0.092235     0.319788     0.113621     0.038248   \n",
       "min        0.000000     0.000000     0.000000     0.000000     0.000000   \n",
       "25%        0.000000     0.000000     0.000000     0.000000     0.000000   \n",
       "50%        0.000000     0.000000     0.000000     0.000000     0.000000   \n",
       "75%        0.000000     0.000000     0.000000     0.000000     0.000000   \n",
       "max        1.000000     1.000000     1.000000     1.000000     1.000000   \n",
       "\n",
       "         paredother   pisomoscer  pisocemento    pisoother    pisonatur  \\\n",
       "count   9557.000000  9557.000000  9557.000000  9557.000000  9557.000000   \n",
       "unique          NaN          NaN          NaN          NaN          NaN   \n",
       "top             NaN          NaN          NaN          NaN          NaN   \n",
       "freq            NaN          NaN          NaN          NaN          NaN   \n",
       "mean       0.001465     0.692791     0.222873     0.000942     0.001046   \n",
       "std        0.038248     0.461361     0.416196     0.030675     0.032332   \n",
       "min        0.000000     0.000000     0.000000     0.000000     0.000000   \n",
       "25%        0.000000     0.000000     0.000000     0.000000     0.000000   \n",
       "50%        0.000000     1.000000     0.000000     0.000000     0.000000   \n",
       "75%        0.000000     1.000000     0.000000     0.000000     0.000000   \n",
       "max        1.000000     1.000000     1.000000     1.000000     1.000000   \n",
       "\n",
       "        pisonotiene   pisomadera    techozinc  techoentrepiso    techocane  \\\n",
       "count   9557.000000  9557.000000  9557.000000     9557.000000  9557.000000   \n",
       "unique          NaN          NaN          NaN             NaN          NaN   \n",
       "top             NaN          NaN          NaN             NaN          NaN   \n",
       "freq            NaN          NaN          NaN             NaN          NaN   \n",
       "mean       0.016428     0.065920     0.970074        0.017683     0.003139   \n",
       "std        0.127120     0.248156     0.170391        0.131805     0.055942   \n",
       "min        0.000000     0.000000     0.000000        0.000000     0.000000   \n",
       "25%        0.000000     0.000000     1.000000        0.000000     0.000000   \n",
       "50%        0.000000     0.000000     1.000000        0.000000     0.000000   \n",
       "75%        0.000000     0.000000     1.000000        0.000000     0.000000   \n",
       "max        1.000000     1.000000     1.000000        1.000000     1.000000   \n",
       "\n",
       "          techootro    cielorazo  abastaguadentro  abastaguafuera  \\\n",
       "count   9557.000000  9557.000000      9557.000000     9557.000000   \n",
       "unique          NaN          NaN              NaN             NaN   \n",
       "top             NaN          NaN              NaN             NaN   \n",
       "freq            NaN          NaN              NaN             NaN   \n",
       "mean       0.002197     0.677409         0.964738        0.031705   \n",
       "std        0.046827     0.467492         0.184451        0.175221   \n",
       "min        0.000000     0.000000         0.000000        0.000000   \n",
       "25%        0.000000     0.000000         1.000000        0.000000   \n",
       "50%        0.000000     1.000000         1.000000        0.000000   \n",
       "75%        0.000000     1.000000         1.000000        0.000000   \n",
       "max        1.000000     1.000000         1.000000        1.000000   \n",
       "\n",
       "        abastaguano       public      planpri       noelec      coopele  \\\n",
       "count   9557.000000  9557.000000  9557.000000  9557.000000  9557.000000   \n",
       "unique          NaN          NaN          NaN          NaN          NaN   \n",
       "top             NaN          NaN          NaN          NaN          NaN   \n",
       "freq            NaN          NaN          NaN          NaN          NaN   \n",
       "mean       0.003558     0.885110     0.000314     0.002197     0.110809   \n",
       "std        0.059543     0.318905     0.017716     0.046827     0.313912   \n",
       "min        0.000000     0.000000     0.000000     0.000000     0.000000   \n",
       "25%        0.000000     1.000000     0.000000     0.000000     0.000000   \n",
       "50%        0.000000     1.000000     0.000000     0.000000     0.000000   \n",
       "75%        0.000000     1.000000     0.000000     0.000000     0.000000   \n",
       "max        1.000000     1.000000     1.000000     1.000000     1.000000   \n",
       "\n",
       "         sanitario1   sanitario2   sanitario3   sanitario5   sanitario6  \\\n",
       "count   9557.000000  9557.000000  9557.000000  9557.000000  9557.000000   \n",
       "unique          NaN          NaN          NaN          NaN          NaN   \n",
       "top             NaN          NaN          NaN          NaN          NaN   \n",
       "freq            NaN          NaN          NaN          NaN          NaN   \n",
       "mean       0.003872     0.213979     0.764257     0.015381     0.002511   \n",
       "std        0.062104     0.410134     0.424485     0.123071     0.050052   \n",
       "min        0.000000     0.000000     0.000000     0.000000     0.000000   \n",
       "25%        0.000000     0.000000     1.000000     0.000000     0.000000   \n",
       "50%        0.000000     0.000000     1.000000     0.000000     0.000000   \n",
       "75%        0.000000     0.000000     1.000000     0.000000     0.000000   \n",
       "max        1.000000     1.000000     1.000000     1.000000     1.000000   \n",
       "\n",
       "        energcocinar1  energcocinar2  energcocinar3  energcocinar4  \\\n",
       "count     9557.000000    9557.000000    9557.000000    9557.000000   \n",
       "unique            NaN            NaN            NaN            NaN   \n",
       "top               NaN            NaN            NaN            NaN   \n",
       "freq              NaN            NaN            NaN            NaN   \n",
       "mean         0.001883       0.489589       0.458407       0.050120   \n",
       "std          0.043360       0.499918       0.498293       0.218205   \n",
       "min          0.000000       0.000000       0.000000       0.000000   \n",
       "25%          0.000000       0.000000       0.000000       0.000000   \n",
       "50%          0.000000       0.000000       0.000000       0.000000   \n",
       "75%          0.000000       1.000000       1.000000       0.000000   \n",
       "max          1.000000       1.000000       1.000000       1.000000   \n",
       "\n",
       "          elimbasu1   elimbasu2    elimbasu3    elimbasu4  elimbasu5  \\\n",
       "count   9557.000000  9557.00000  9557.000000  9557.000000     9557.0   \n",
       "unique          NaN         NaN          NaN          NaN        NaN   \n",
       "top             NaN         NaN          NaN          NaN        NaN   \n",
       "freq            NaN         NaN          NaN          NaN        NaN   \n",
       "mean       0.882704     0.03003     0.084545     0.001465        0.0   \n",
       "std        0.321790     0.17068     0.278219     0.038248        0.0   \n",
       "min        0.000000     0.00000     0.000000     0.000000        0.0   \n",
       "25%        1.000000     0.00000     0.000000     0.000000        0.0   \n",
       "50%        1.000000     0.00000     0.000000     0.000000        0.0   \n",
       "75%        1.000000     0.00000     0.000000     0.000000        0.0   \n",
       "max        1.000000     1.00000     1.000000     1.000000        0.0   \n",
       "\n",
       "          elimbasu6      epared1      epared2      epared3      etecho1  \\\n",
       "count   9557.000000  9557.000000  9557.000000  9557.000000  9557.000000   \n",
       "unique          NaN          NaN          NaN          NaN          NaN   \n",
       "top             NaN          NaN          NaN          NaN          NaN   \n",
       "freq            NaN          NaN          NaN          NaN          NaN   \n",
       "mean       0.001256     0.102438     0.327404     0.570158     0.128388   \n",
       "std        0.035414     0.303239     0.469291     0.495079     0.334538   \n",
       "min        0.000000     0.000000     0.000000     0.000000     0.000000   \n",
       "25%        0.000000     0.000000     0.000000     0.000000     0.000000   \n",
       "50%        0.000000     0.000000     0.000000     1.000000     0.000000   \n",
       "75%        0.000000     0.000000     1.000000     1.000000     0.000000   \n",
       "max        1.000000     1.000000     1.000000     1.000000     1.000000   \n",
       "\n",
       "            etecho2      etecho3        eviv1        eviv2        eviv3  \\\n",
       "count   9557.000000  9557.000000  9557.000000  9557.000000  9557.000000   \n",
       "unique          NaN          NaN          NaN          NaN          NaN   \n",
       "top             NaN          NaN          NaN          NaN          NaN   \n",
       "freq            NaN          NaN          NaN          NaN          NaN   \n",
       "mean       0.288061     0.583551     0.101078     0.252799     0.646123   \n",
       "std        0.452883     0.492996     0.301447     0.434639     0.478197   \n",
       "min        0.000000     0.000000     0.000000     0.000000     0.000000   \n",
       "25%        0.000000     0.000000     0.000000     0.000000     0.000000   \n",
       "50%        0.000000     1.000000     0.000000     0.000000     1.000000   \n",
       "75%        1.000000     1.000000     0.000000     1.000000     1.000000   \n",
       "max        1.000000     1.000000     1.000000     1.000000     1.000000   \n",
       "\n",
       "                dis         male       female  estadocivil1  estadocivil2  \\\n",
       "count   9557.000000  9557.000000  9557.000000   9557.000000   9557.000000   \n",
       "unique          NaN          NaN          NaN           NaN           NaN   \n",
       "top             NaN          NaN          NaN           NaN           NaN   \n",
       "freq            NaN          NaN          NaN           NaN           NaN   \n",
       "mean       0.057549     0.483415     0.516585      0.137805      0.123260   \n",
       "std        0.232902     0.499751     0.499751      0.344713      0.328753   \n",
       "min        0.000000     0.000000     0.000000      0.000000      0.000000   \n",
       "25%        0.000000     0.000000     0.000000      0.000000      0.000000   \n",
       "50%        0.000000     0.000000     1.000000      0.000000      0.000000   \n",
       "75%        0.000000     1.000000     1.000000      0.000000      0.000000   \n",
       "max        1.000000     1.000000     1.000000      1.000000      1.000000   \n",
       "\n",
       "        estadocivil3  estadocivil4  estadocivil5  estadocivil6  estadocivil7  \\\n",
       "count    9557.000000   9557.000000   9557.000000   9557.000000   9557.000000   \n",
       "unique           NaN           NaN           NaN           NaN           NaN   \n",
       "top              NaN           NaN           NaN           NaN           NaN   \n",
       "freq             NaN           NaN           NaN           NaN           NaN   \n",
       "mean        0.268390      0.031914      0.062781      0.033169      0.342681   \n",
       "std         0.443145      0.175780      0.242582      0.179088      0.474631   \n",
       "min         0.000000      0.000000      0.000000      0.000000      0.000000   \n",
       "25%         0.000000      0.000000      0.000000      0.000000      0.000000   \n",
       "50%         0.000000      0.000000      0.000000      0.000000      0.000000   \n",
       "75%         1.000000      0.000000      0.000000      0.000000      1.000000   \n",
       "max         1.000000      1.000000      1.000000      1.000000      1.000000   \n",
       "\n",
       "        parentesco1  parentesco2  parentesco3  parentesco4  parentesco5  \\\n",
       "count   9557.000000  9557.000000  9557.000000  9557.000000  9557.000000   \n",
       "unique          NaN          NaN          NaN          NaN          NaN   \n",
       "top             NaN          NaN          NaN          NaN          NaN   \n",
       "freq            NaN          NaN          NaN          NaN          NaN   \n",
       "mean       0.311081     0.184054     0.381814     0.012138     0.009522   \n",
       "std        0.462960     0.387548     0.485857     0.109506     0.097119   \n",
       "min        0.000000     0.000000     0.000000     0.000000     0.000000   \n",
       "25%        0.000000     0.000000     0.000000     0.000000     0.000000   \n",
       "50%        0.000000     0.000000     0.000000     0.000000     0.000000   \n",
       "75%        1.000000     0.000000     1.000000     0.000000     0.000000   \n",
       "max        1.000000     1.000000     1.000000     1.000000     1.000000   \n",
       "\n",
       "        parentesco6  parentesco7  parentesco8  parentesco9  parentesco10  \\\n",
       "count   9557.000000  9557.000000  9557.000000  9557.000000   9557.000000   \n",
       "unique          NaN          NaN          NaN          NaN           NaN   \n",
       "top             NaN          NaN          NaN          NaN           NaN   \n",
       "freq            NaN          NaN          NaN          NaN           NaN   \n",
       "mean       0.051167     0.010045     0.002407     0.013289      0.003139   \n",
       "std        0.220349     0.099725     0.049001     0.114514      0.055942   \n",
       "min        0.000000     0.000000     0.000000     0.000000      0.000000   \n",
       "25%        0.000000     0.000000     0.000000     0.000000      0.000000   \n",
       "50%        0.000000     0.000000     0.000000     0.000000      0.000000   \n",
       "75%        0.000000     0.000000     0.000000     0.000000      0.000000   \n",
       "max        1.000000     1.000000     1.000000     1.000000      1.000000   \n",
       "\n",
       "        parentesco11  parentesco12    idhogar    hogar_nin   hogar_adul  \\\n",
       "count    9557.000000   9557.000000       9557  9557.000000  9557.000000   \n",
       "unique           NaN           NaN       2988          NaN          NaN   \n",
       "top              NaN           NaN  fd8a6d014          NaN          NaN   \n",
       "freq             NaN           NaN         13          NaN          NaN   \n",
       "mean        0.012661      0.008685        NaN     1.406613     2.592445   \n",
       "std         0.111812      0.092791        NaN     1.366185     1.166074   \n",
       "min         0.000000      0.000000        NaN     0.000000     0.000000   \n",
       "25%         0.000000      0.000000        NaN     0.000000     2.000000   \n",
       "50%         0.000000      0.000000        NaN     1.000000     2.000000   \n",
       "75%         0.000000      0.000000        NaN     2.000000     3.000000   \n",
       "max         1.000000      1.000000        NaN     9.000000     9.000000   \n",
       "\n",
       "        hogar_mayor  hogar_total   instlevel1   instlevel2   instlevel3  \\\n",
       "count   9557.000000  9557.000000  9557.000000  9557.000000  9557.000000   \n",
       "unique          NaN          NaN          NaN          NaN          NaN   \n",
       "top             NaN          NaN          NaN          NaN          NaN   \n",
       "freq            NaN          NaN          NaN          NaN          NaN   \n",
       "mean       0.284085     3.999058     0.134666     0.170556     0.207701   \n",
       "std        0.597163     1.772216     0.341384     0.376140     0.405683   \n",
       "min        0.000000     1.000000     0.000000     0.000000     0.000000   \n",
       "25%        0.000000     3.000000     0.000000     0.000000     0.000000   \n",
       "50%        0.000000     4.000000     0.000000     0.000000     0.000000   \n",
       "75%        0.000000     5.000000     0.000000     0.000000     0.000000   \n",
       "max        3.000000    13.000000     1.000000     1.000000     1.000000   \n",
       "\n",
       "         instlevel4   instlevel5   instlevel6   instlevel7   instlevel8  \\\n",
       "count   9557.000000  9557.000000  9557.000000  9557.000000  9557.000000   \n",
       "unique          NaN          NaN          NaN          NaN          NaN   \n",
       "top             NaN          NaN          NaN          NaN          NaN   \n",
       "freq            NaN          NaN          NaN          NaN          NaN   \n",
       "mean       0.185414     0.112692     0.017893     0.015591     0.139793   \n",
       "std        0.388653     0.316233     0.132568     0.123892     0.346790   \n",
       "min        0.000000     0.000000     0.000000     0.000000     0.000000   \n",
       "25%        0.000000     0.000000     0.000000     0.000000     0.000000   \n",
       "50%        0.000000     0.000000     0.000000     0.000000     0.000000   \n",
       "75%        0.000000     0.000000     0.000000     0.000000     0.000000   \n",
       "max        1.000000     1.000000     1.000000     1.000000     1.000000   \n",
       "\n",
       "         instlevel9     bedrooms  overcrowding   tipovivi1    tipovivi2  \\\n",
       "count   9557.000000  9557.000000   9557.000000  9557.00000  9557.000000   \n",
       "unique          NaN          NaN           NaN         NaN          NaN   \n",
       "top             NaN          NaN           NaN         NaN          NaN   \n",
       "freq            NaN          NaN           NaN         NaN          NaN   \n",
       "mean       0.015381     2.739981      1.605380     0.61850     0.100555   \n",
       "std        0.123071     0.944507      0.819946     0.48578     0.300754   \n",
       "min        0.000000     1.000000      0.200000     0.00000     0.000000   \n",
       "25%        0.000000     2.000000      1.000000     0.00000     0.000000   \n",
       "50%        0.000000     3.000000      1.500000     1.00000     0.000000   \n",
       "75%        0.000000     3.000000      2.000000     1.00000     0.000000   \n",
       "max        1.000000     8.000000      6.000000     1.00000     1.000000   \n",
       "\n",
       "          tipovivi3    tipovivi4    tipovivi5     computer   television  \\\n",
       "count   9557.000000  9557.000000  9557.000000  9557.000000  9557.000000   \n",
       "unique          NaN          NaN          NaN          NaN          NaN   \n",
       "top             NaN          NaN          NaN          NaN          NaN   \n",
       "freq            NaN          NaN          NaN          NaN          NaN   \n",
       "mean       0.181647     0.017056     0.082243     0.102124     0.284608   \n",
       "std        0.385573     0.129485     0.274750     0.302827     0.451251   \n",
       "min        0.000000     0.000000     0.000000     0.000000     0.000000   \n",
       "25%        0.000000     0.000000     0.000000     0.000000     0.000000   \n",
       "50%        0.000000     0.000000     0.000000     0.000000     0.000000   \n",
       "75%        0.000000     0.000000     0.000000     0.000000     1.000000   \n",
       "max        1.000000     1.000000     1.000000     1.000000     1.000000   \n",
       "\n",
       "        mobilephone  qmobilephone       lugar1       lugar2       lugar3  \\\n",
       "count   9557.000000   9557.000000  9557.000000  9557.000000  9557.000000   \n",
       "unique          NaN           NaN          NaN          NaN          NaN   \n",
       "top             NaN           NaN          NaN          NaN          NaN   \n",
       "freq            NaN           NaN          NaN          NaN          NaN   \n",
       "mean       0.975306      2.821492     0.587632     0.092707     0.062363   \n",
       "std        0.155199      1.483249     0.492286     0.290036     0.241826   \n",
       "min        0.000000      0.000000     0.000000     0.000000     0.000000   \n",
       "25%        1.000000      2.000000     0.000000     0.000000     0.000000   \n",
       "50%        1.000000      3.000000     1.000000     0.000000     0.000000   \n",
       "75%        1.000000      4.000000     1.000000     0.000000     0.000000   \n",
       "max        1.000000     10.000000     1.000000     1.000000     1.000000   \n",
       "\n",
       "             lugar4       lugar5       lugar6        area1        area2  \\\n",
       "count   9557.000000  9557.000000  9557.000000  9557.000000  9557.000000   \n",
       "unique          NaN          NaN          NaN          NaN          NaN   \n",
       "top             NaN          NaN          NaN          NaN          NaN   \n",
       "freq            NaN          NaN          NaN          NaN          NaN   \n",
       "mean       0.082767     0.093858     0.080674     0.714555     0.285445   \n",
       "std        0.275543     0.291646     0.272348     0.451650     0.451650   \n",
       "min        0.000000     0.000000     0.000000     0.000000     0.000000   \n",
       "25%        0.000000     0.000000     0.000000     0.000000     0.000000   \n",
       "50%        0.000000     0.000000     0.000000     1.000000     0.000000   \n",
       "75%        0.000000     0.000000     0.000000     1.000000     1.000000   \n",
       "max        1.000000     1.000000     1.000000     1.000000     1.000000   \n",
       "\n",
       "                age       Target  \n",
       "count   9557.000000  9557.000000  \n",
       "unique          NaN          NaN  \n",
       "top             NaN          NaN  \n",
       "freq            NaN          NaN  \n",
       "mean      34.303547     3.302292  \n",
       "std       21.612261     1.009565  \n",
       "min        0.000000     1.000000  \n",
       "25%       17.000000     3.000000  \n",
       "50%       31.000000     4.000000  \n",
       "75%       51.000000     4.000000  \n",
       "max       97.000000     4.000000  "
      ]
     },
     "execution_count": 12,
     "metadata": {},
     "output_type": "execute_result"
    }
   ],
   "source": [
    "ds.describe(include='all')"
   ]
  },
  {
   "cell_type": "markdown",
   "metadata": {
    "colab_type": "text",
    "id": "qISrt-M-4T9X"
   },
   "source": [
    "### 1.2. Asegurar la Existencia de IDs o Claves Únicas"
   ]
  },
  {
   "cell_type": "markdown",
   "metadata": {
    "colab_type": "text",
    "id": "Kw66_I6i4T9Y"
   },
   "source": [
    "El siguiente paso implica chequear que no existen datos duplicados y que las claves, si existen, son únicas.\n",
    "\n",
    "Claves únicas son id hogar y id individuo.\n",
    "\n",
    "Como Pandas acepta valores duplicados en los índices también debemos verificar ahí"
   ]
  },
  {
   "cell_type": "code",
   "execution_count": 13,
   "metadata": {
    "colab": {
     "base_uri": "https://localhost:8080/",
     "height": 67
    },
    "colab_type": "code",
    "id": "6omNRzaptYK9",
    "outputId": "e809a82a-d0fb-4c92-dce5-806849d4a49c"
   },
   "outputs": [
    {
     "data": {
      "text/html": [
       "<div>\n",
       "<style scoped>\n",
       "    .dataframe tbody tr th:only-of-type {\n",
       "        vertical-align: middle;\n",
       "    }\n",
       "\n",
       "    .dataframe tbody tr th {\n",
       "        vertical-align: top;\n",
       "    }\n",
       "\n",
       "    .dataframe thead th {\n",
       "        text-align: right;\n",
       "    }\n",
       "</style>\n",
       "<table border=\"1\" class=\"dataframe\">\n",
       "  <thead>\n",
       "    <tr style=\"text-align: right;\">\n",
       "      <th></th>\n",
       "      <th>Id</th>\n",
       "      <th>v2a1</th>\n",
       "      <th>hacdor</th>\n",
       "      <th>rooms</th>\n",
       "      <th>hacapo</th>\n",
       "      <th>v14a</th>\n",
       "      <th>refrig</th>\n",
       "      <th>v18q</th>\n",
       "      <th>v18q1</th>\n",
       "      <th>r4h1</th>\n",
       "      <th>r4h2</th>\n",
       "      <th>r4h3</th>\n",
       "      <th>r4m1</th>\n",
       "      <th>r4m2</th>\n",
       "      <th>r4m3</th>\n",
       "      <th>r4t1</th>\n",
       "      <th>r4t2</th>\n",
       "      <th>r4t3</th>\n",
       "      <th>tamhog</th>\n",
       "      <th>tamviv</th>\n",
       "      <th>escolari</th>\n",
       "      <th>rez_esc</th>\n",
       "      <th>hhsize</th>\n",
       "      <th>paredblolad</th>\n",
       "      <th>paredzocalo</th>\n",
       "      <th>paredpreb</th>\n",
       "      <th>pareddes</th>\n",
       "      <th>paredmad</th>\n",
       "      <th>paredzinc</th>\n",
       "      <th>paredfibras</th>\n",
       "      <th>paredother</th>\n",
       "      <th>pisomoscer</th>\n",
       "      <th>pisocemento</th>\n",
       "      <th>pisoother</th>\n",
       "      <th>pisonatur</th>\n",
       "      <th>pisonotiene</th>\n",
       "      <th>pisomadera</th>\n",
       "      <th>techozinc</th>\n",
       "      <th>techoentrepiso</th>\n",
       "      <th>techocane</th>\n",
       "      <th>techootro</th>\n",
       "      <th>cielorazo</th>\n",
       "      <th>abastaguadentro</th>\n",
       "      <th>abastaguafuera</th>\n",
       "      <th>abastaguano</th>\n",
       "      <th>public</th>\n",
       "      <th>planpri</th>\n",
       "      <th>noelec</th>\n",
       "      <th>coopele</th>\n",
       "      <th>sanitario1</th>\n",
       "      <th>sanitario2</th>\n",
       "      <th>sanitario3</th>\n",
       "      <th>sanitario5</th>\n",
       "      <th>sanitario6</th>\n",
       "      <th>energcocinar1</th>\n",
       "      <th>energcocinar2</th>\n",
       "      <th>energcocinar3</th>\n",
       "      <th>energcocinar4</th>\n",
       "      <th>elimbasu1</th>\n",
       "      <th>elimbasu2</th>\n",
       "      <th>elimbasu3</th>\n",
       "      <th>elimbasu4</th>\n",
       "      <th>elimbasu5</th>\n",
       "      <th>elimbasu6</th>\n",
       "      <th>epared1</th>\n",
       "      <th>epared2</th>\n",
       "      <th>epared3</th>\n",
       "      <th>etecho1</th>\n",
       "      <th>etecho2</th>\n",
       "      <th>etecho3</th>\n",
       "      <th>eviv1</th>\n",
       "      <th>eviv2</th>\n",
       "      <th>eviv3</th>\n",
       "      <th>dis</th>\n",
       "      <th>male</th>\n",
       "      <th>female</th>\n",
       "      <th>estadocivil1</th>\n",
       "      <th>estadocivil2</th>\n",
       "      <th>estadocivil3</th>\n",
       "      <th>estadocivil4</th>\n",
       "      <th>estadocivil5</th>\n",
       "      <th>estadocivil6</th>\n",
       "      <th>estadocivil7</th>\n",
       "      <th>parentesco1</th>\n",
       "      <th>parentesco2</th>\n",
       "      <th>parentesco3</th>\n",
       "      <th>parentesco4</th>\n",
       "      <th>parentesco5</th>\n",
       "      <th>parentesco6</th>\n",
       "      <th>parentesco7</th>\n",
       "      <th>parentesco8</th>\n",
       "      <th>parentesco9</th>\n",
       "      <th>parentesco10</th>\n",
       "      <th>parentesco11</th>\n",
       "      <th>parentesco12</th>\n",
       "      <th>idhogar</th>\n",
       "      <th>hogar_nin</th>\n",
       "      <th>hogar_adul</th>\n",
       "      <th>hogar_mayor</th>\n",
       "      <th>hogar_total</th>\n",
       "      <th>instlevel1</th>\n",
       "      <th>instlevel2</th>\n",
       "      <th>instlevel3</th>\n",
       "      <th>instlevel4</th>\n",
       "      <th>instlevel5</th>\n",
       "      <th>instlevel6</th>\n",
       "      <th>instlevel7</th>\n",
       "      <th>instlevel8</th>\n",
       "      <th>instlevel9</th>\n",
       "      <th>bedrooms</th>\n",
       "      <th>overcrowding</th>\n",
       "      <th>tipovivi1</th>\n",
       "      <th>tipovivi2</th>\n",
       "      <th>tipovivi3</th>\n",
       "      <th>tipovivi4</th>\n",
       "      <th>tipovivi5</th>\n",
       "      <th>computer</th>\n",
       "      <th>television</th>\n",
       "      <th>mobilephone</th>\n",
       "      <th>qmobilephone</th>\n",
       "      <th>lugar1</th>\n",
       "      <th>lugar2</th>\n",
       "      <th>lugar3</th>\n",
       "      <th>lugar4</th>\n",
       "      <th>lugar5</th>\n",
       "      <th>lugar6</th>\n",
       "      <th>area1</th>\n",
       "      <th>area2</th>\n",
       "      <th>age</th>\n",
       "      <th>Target</th>\n",
       "    </tr>\n",
       "  </thead>\n",
       "  <tbody>\n",
       "  </tbody>\n",
       "</table>\n",
       "</div>"
      ],
      "text/plain": [
       "Empty DataFrame\n",
       "Columns: [Id, v2a1, hacdor, rooms, hacapo, v14a, refrig, v18q, v18q1, r4h1, r4h2, r4h3, r4m1, r4m2, r4m3, r4t1, r4t2, r4t3, tamhog, tamviv, escolari, rez_esc, hhsize, paredblolad, paredzocalo, paredpreb, pareddes, paredmad, paredzinc, paredfibras, paredother, pisomoscer, pisocemento, pisoother, pisonatur, pisonotiene, pisomadera, techozinc, techoentrepiso, techocane, techootro, cielorazo, abastaguadentro, abastaguafuera, abastaguano, public, planpri, noelec, coopele, sanitario1, sanitario2, sanitario3, sanitario5, sanitario6, energcocinar1, energcocinar2, energcocinar3, energcocinar4, elimbasu1, elimbasu2, elimbasu3, elimbasu4, elimbasu5, elimbasu6, epared1, epared2, epared3, etecho1, etecho2, etecho3, eviv1, eviv2, eviv3, dis, male, female, estadocivil1, estadocivil2, estadocivil3, estadocivil4, estadocivil5, estadocivil6, estadocivil7, parentesco1, parentesco2, parentesco3, parentesco4, parentesco5, parentesco6, parentesco7, parentesco8, parentesco9, parentesco10, parentesco11, parentesco12, idhogar, hogar_nin, hogar_adul, hogar_mayor, hogar_total, ...]\n",
       "Index: []"
      ]
     },
     "execution_count": 13,
     "metadata": {},
     "output_type": "execute_result"
    }
   ],
   "source": [
    "ds[ds.index.duplicated()]"
   ]
  },
  {
   "cell_type": "markdown",
   "metadata": {
    "colab_type": "text",
    "id": "-fQhMqjf5s46"
   },
   "source": [
    "#### Verificación de unicidad de id individuo"
   ]
  },
  {
   "cell_type": "code",
   "execution_count": 14,
   "metadata": {
    "colab": {
     "base_uri": "https://localhost:8080/",
     "height": 34
    },
    "colab_type": "code",
    "id": "zgwXLXe056UN",
    "outputId": "588b8614-5400-42bc-aa35-628cd6f27ffe"
   },
   "outputs": [
    {
     "data": {
      "text/plain": [
       "True"
      ]
     },
     "execution_count": 14,
     "metadata": {},
     "output_type": "execute_result"
    }
   ],
   "source": [
    "ds['Id'].nunique() == ds['Id'].count()"
   ]
  },
  {
   "cell_type": "markdown",
   "metadata": {
    "colab_type": "text",
    "id": "r2TSLeWRqdJ0"
   },
   "source": [
    "**Verificación de la unicidad de idHogar**\n",
    "\n",
    "EL id de hogar no es unico tiene un id por familia. más adelane se verificara si hay más de una jefe de hogar por familia. Por ahora se sabe que el id de Hogar se repite"
   ]
  },
  {
   "cell_type": "code",
   "execution_count": 15,
   "metadata": {
    "colab": {
     "base_uri": "https://localhost:8080/",
     "height": 34
    },
    "colab_type": "code",
    "id": "SgO6wkM-qk5S",
    "outputId": "58ba2718-ae30-44c8-ad2d-6cfa1a751247"
   },
   "outputs": [
    {
     "data": {
      "text/plain": [
       "False"
      ]
     },
     "execution_count": 15,
     "metadata": {},
     "output_type": "execute_result"
    }
   ],
   "source": [
    "ds['idhogar'].nunique() == ds['idhogar'].count()"
   ]
  },
  {
   "cell_type": "markdown",
   "metadata": {
    "colab_type": "text",
    "id": "B3ZksEkj4T92"
   },
   "source": [
    "### 1.3. Despersonalizar Datos y Guardarlos en un Nuevo Archivo"
   ]
  },
  {
   "cell_type": "markdown",
   "metadata": {
    "colab_type": "text",
    "id": "jj1bU8Nz4T94"
   },
   "source": [
    "En este caso, no es necesario despersonalizar ningún dato, dado que los mismos ya se encuentran despersonalizados."
   ]
  },
  {
   "cell_type": "markdown",
   "metadata": {
    "colab_type": "text",
    "id": "PmG6EouJ4T96"
   },
   "source": [
    "### 1.4. Nunca Modificar los Datos Crudos u Originales"
   ]
  },
  {
   "cell_type": "markdown",
   "metadata": {
    "colab_type": "text",
    "id": "7zCzYvvJ4T97"
   },
   "source": [
    "Al finalizar la limpieza, deberán guardar el dataset resultante, para asegurarse de no modificar los datos originales."
   ]
  },
  {
   "cell_type": "markdown",
   "metadata": {
    "colab_type": "text",
    "id": "1DDzdEvr4T98"
   },
   "source": [
    "## 2. Pasos de Limpieza Necesarios\n",
    "\n",
    "### 2.1. Etiquetas de Variables/Columnas y Problemas de Codificación/Encoding"
   ]
  },
  {
   "cell_type": "markdown",
   "metadata": {
    "colab_type": "text",
    "id": "01E9o_H84T99"
   },
   "source": [
    "Antes que nada, verificar el encoding de la fuente de datos, leyendo en crudo los primeros 100000 caracteres, por ejemplo:"
   ]
  },
  {
   "cell_type": "code",
   "execution_count": 16,
   "metadata": {
    "colab": {},
    "colab_type": "code",
    "id": "8u2NtR1g4T9-"
   },
   "outputs": [],
   "source": [
    "import chardet"
   ]
  },
  {
   "cell_type": "code",
   "execution_count": 17,
   "metadata": {
    "colab": {
     "base_uri": "https://localhost:8080/",
     "height": 34
    },
    "colab_type": "code",
    "id": "OjuQtznK4T-B",
    "outputId": "d2c42d41-034e-4f76-a2da-0aafb7190fb4",
    "scrolled": true
   },
   "outputs": [
    {
     "data": {
      "text/plain": [
       "{'encoding': 'UTF-8-SIG', 'confidence': 1.0, 'language': ''}"
      ]
     },
     "execution_count": 17,
     "metadata": {},
     "output_type": "execute_result"
    }
   ],
   "source": [
    "import requests\n",
    "rawdata = requests.get(url_data)\n",
    "result = chardet.detect(rawdata.content[:100000])\n",
    "result"
   ]
  },
  {
   "cell_type": "markdown",
   "metadata": {
    "colab_type": "text",
    "id": "uFg5TNqS4T-F"
   },
   "source": [
    "Analizar los nombres de columnas, utilizando por ejemplo `ds.columns.str.extract(r'^(\\w+)$')`."
   ]
  },
  {
   "cell_type": "code",
   "execution_count": 18,
   "metadata": {
    "colab": {
     "base_uri": "https://localhost:8080/",
     "height": 470
    },
    "colab_type": "code",
    "id": "GPSHtAIs4T-H",
    "outputId": "ff190d73-2529-45a7-cfbb-cd6b83a34894"
   },
   "outputs": [
    {
     "data": {
      "text/plain": [
       "array(['Id', 'v2a1', 'hacdor', 'rooms', 'hacapo', 'v14a', 'refrig',\n",
       "       'v18q', 'v18q1', 'r4h1', 'r4h2', 'r4h3', 'r4m1', 'r4m2', 'r4m3',\n",
       "       'r4t1', 'r4t2', 'r4t3', 'tamhog', 'tamviv', 'escolari', 'rez_esc',\n",
       "       'hhsize', 'paredblolad', 'paredzocalo', 'paredpreb', 'pareddes',\n",
       "       'paredmad', 'paredzinc', 'paredfibras', 'paredother', 'pisomoscer',\n",
       "       'pisocemento', 'pisoother', 'pisonatur', 'pisonotiene',\n",
       "       'pisomadera', 'techozinc', 'techoentrepiso', 'techocane',\n",
       "       'techootro', 'cielorazo', 'abastaguadentro', 'abastaguafuera',\n",
       "       'abastaguano', 'public', 'planpri', 'noelec', 'coopele',\n",
       "       'sanitario1', 'sanitario2', 'sanitario3', 'sanitario5',\n",
       "       'sanitario6', 'energcocinar1', 'energcocinar2', 'energcocinar3',\n",
       "       'energcocinar4', 'elimbasu1', 'elimbasu2', 'elimbasu3',\n",
       "       'elimbasu4', 'elimbasu5', 'elimbasu6', 'epared1', 'epared2',\n",
       "       'epared3', 'etecho1', 'etecho2', 'etecho3', 'eviv1', 'eviv2',\n",
       "       'eviv3', 'dis', 'male', 'female', 'estadocivil1', 'estadocivil2',\n",
       "       'estadocivil3', 'estadocivil4', 'estadocivil5', 'estadocivil6',\n",
       "       'estadocivil7', 'parentesco1', 'parentesco2', 'parentesco3',\n",
       "       'parentesco4', 'parentesco5', 'parentesco6', 'parentesco7',\n",
       "       'parentesco8', 'parentesco9', 'parentesco10', 'parentesco11',\n",
       "       'parentesco12', 'idhogar', 'hogar_nin', 'hogar_adul',\n",
       "       'hogar_mayor', 'hogar_total', 'instlevel1', 'instlevel2',\n",
       "       'instlevel3', 'instlevel4', 'instlevel5', 'instlevel6',\n",
       "       'instlevel7', 'instlevel8', 'instlevel9', 'bedrooms',\n",
       "       'overcrowding', 'tipovivi1', 'tipovivi2', 'tipovivi3', 'tipovivi4',\n",
       "       'tipovivi5', 'computer', 'television', 'mobilephone',\n",
       "       'qmobilephone', 'lugar1', 'lugar2', 'lugar3', 'lugar4', 'lugar5',\n",
       "       'lugar6', 'area1', 'area2', 'age', 'Target'], dtype=object)"
      ]
     },
     "execution_count": 18,
     "metadata": {},
     "output_type": "execute_result"
    }
   ],
   "source": [
    "ds.columns.values"
   ]
  },
  {
   "cell_type": "markdown",
   "metadata": {},
   "source": [
    "Las variables tiene no tienen problemas de enconding."
   ]
  },
  {
   "cell_type": "markdown",
   "metadata": {
    "colab_type": "text",
    "id": "XxtvlzHI4T-Q"
   },
   "source": [
    "### 2.2. Tratamiento de Valores Faltantes"
   ]
  },
  {
   "cell_type": "markdown",
   "metadata": {
    "colab_type": "text",
    "id": "9wCvMs8O4T-S"
   },
   "source": [
    "Para analizar los valores faltantes, primero deberán saber cuántos existen por campo y cuánto representan del total:"
   ]
  },
  {
   "cell_type": "code",
   "execution_count": 19,
   "metadata": {
    "colab": {
     "base_uri": "https://localhost:8080/",
     "height": 98
    },
    "colab_type": "code",
    "id": "37jLX2qT4T-U",
    "outputId": "1aabc959-ce43-4903-a68b-d38e5af99844"
   },
   "outputs": [
    {
     "data": {
      "text/html": [
       "<style  type=\"text/css\" >\n",
       "</style><table id=\"T_926188ac_a0ba_11e9_9c89_00dbdf6d0758\" ><thead>    <tr>        <th class=\"blank level0\" ></th>        <th class=\"col_heading level0 col0\" >Cantidad_NaN</th>        <th class=\"col_heading level0 col1\" >Porcentaje_Nan_s_Total</th>    </tr></thead><tbody>\n",
       "                <tr>\n",
       "                        <th id=\"T_926188ac_a0ba_11e9_9c89_00dbdf6d0758level0_row0\" class=\"row_heading level0 row0\" >v2a1</th>\n",
       "                        <td id=\"T_926188ac_a0ba_11e9_9c89_00dbdf6d0758row0_col0\" class=\"data row0 col0\" >6860</td>\n",
       "                        <td id=\"T_926188ac_a0ba_11e9_9c89_00dbdf6d0758row0_col1\" class=\"data row0 col1\" >71.78%</td>\n",
       "            </tr>\n",
       "            <tr>\n",
       "                        <th id=\"T_926188ac_a0ba_11e9_9c89_00dbdf6d0758level0_row1\" class=\"row_heading level0 row1\" >v18q1</th>\n",
       "                        <td id=\"T_926188ac_a0ba_11e9_9c89_00dbdf6d0758row1_col0\" class=\"data row1 col0\" >7342</td>\n",
       "                        <td id=\"T_926188ac_a0ba_11e9_9c89_00dbdf6d0758row1_col1\" class=\"data row1 col1\" >76.82%</td>\n",
       "            </tr>\n",
       "            <tr>\n",
       "                        <th id=\"T_926188ac_a0ba_11e9_9c89_00dbdf6d0758level0_row2\" class=\"row_heading level0 row2\" >rez_esc</th>\n",
       "                        <td id=\"T_926188ac_a0ba_11e9_9c89_00dbdf6d0758row2_col0\" class=\"data row2 col0\" >7928</td>\n",
       "                        <td id=\"T_926188ac_a0ba_11e9_9c89_00dbdf6d0758row2_col1\" class=\"data row2 col1\" >82.95%</td>\n",
       "            </tr>\n",
       "    </tbody></table>"
      ],
      "text/plain": [
       "<pandas.io.formats.style.Styler at 0x1cb44929860>"
      ]
     },
     "execution_count": 19,
     "metadata": {},
     "output_type": "execute_result"
    }
   ],
   "source": [
    "valores_faltantes = pd.DataFrame([ds.isnull().sum(),\n",
    "                                  ds.isnull().sum()/len(ds)]).transpose().rename(\n",
    "    columns = {0:'Cantidad_NaN',1:'Porcentaje_Nan_s_Total'})\n",
    "\n",
    "valores_faltantes.loc[valores_faltantes['Cantidad_NaN']>0].style.format({'Porcentaje_Nan_s_Total':\"{:.2%}\"})"
   ]
  },
  {
   "cell_type": "code",
   "execution_count": 20,
   "metadata": {
    "colab": {
     "base_uri": "https://localhost:8080/",
     "height": 136
    },
    "colab_type": "code",
    "id": "9M8mhftLVPSJ",
    "outputId": "cb5a5590-7369-4922-d2fd-0491a7d2a45b"
   },
   "outputs": [
    {
     "data": {
      "text/html": [
       "<div>\n",
       "<style scoped>\n",
       "    .dataframe tbody tr th:only-of-type {\n",
       "        vertical-align: middle;\n",
       "    }\n",
       "\n",
       "    .dataframe tbody tr th {\n",
       "        vertical-align: top;\n",
       "    }\n",
       "\n",
       "    .dataframe thead th {\n",
       "        text-align: right;\n",
       "    }\n",
       "</style>\n",
       "<table border=\"1\" class=\"dataframe\">\n",
       "  <thead>\n",
       "    <tr style=\"text-align: right;\">\n",
       "      <th></th>\n",
       "      <th>Variable_name</th>\n",
       "      <th>Variable_description</th>\n",
       "    </tr>\n",
       "  </thead>\n",
       "  <tbody>\n",
       "    <tr>\n",
       "      <th>0</th>\n",
       "      <td>v2a1</td>\n",
       "      <td>Monthly rent payment</td>\n",
       "    </tr>\n",
       "    <tr>\n",
       "      <th>7</th>\n",
       "      <td>v18q1</td>\n",
       "      <td>number of tablets household owns</td>\n",
       "    </tr>\n",
       "    <tr>\n",
       "      <th>20</th>\n",
       "      <td>rez_esc</td>\n",
       "      <td>Years behind in school</td>\n",
       "    </tr>\n",
       "  </tbody>\n",
       "</table>\n",
       "</div>"
      ],
      "text/plain": [
       "   Variable_name              Variable_description\n",
       "0           v2a1              Monthly rent payment\n",
       "7          v18q1  number of tablets household owns\n",
       "20       rez_esc            Years behind in school"
      ]
     },
     "execution_count": 20,
     "metadata": {},
     "output_type": "execute_result"
    }
   ],
   "source": [
    "_data_fields[_data_fields['Variable_name'].isin(['v2a1','v18q1','rez_esc'])]"
   ]
  },
  {
   "cell_type": "markdown",
   "metadata": {
    "colab_type": "text",
    "id": "ukaVcwZFV-Ny"
   },
   "source": [
    "#### v2a1:\tMonthly rent payment"
   ]
  },
  {
   "cell_type": "code",
   "execution_count": 21,
   "metadata": {
    "colab": {
     "base_uri": "https://localhost:8080/",
     "height": 34
    },
    "colab_type": "code",
    "id": "piLRSj_lWBD7",
    "outputId": "3e254b05-5151-4ebf-f5cd-c5769c97bc7f"
   },
   "outputs": [
    {
     "data": {
      "text/plain": [
       "array([nan])"
      ]
     },
     "execution_count": 21,
     "metadata": {},
     "output_type": "execute_result"
    }
   ],
   "source": [
    "ds[ds['tipovivi1']==1]['v2a1'].unique()"
   ]
  },
  {
   "cell_type": "code",
   "execution_count": 22,
   "metadata": {
    "colab": {
     "base_uri": "https://localhost:8080/",
     "height": 336
    },
    "colab_type": "code",
    "id": "9DjoDoBbZZ3V",
    "outputId": "d0655ff2-83e9-41d1-b887-401ce0637b74"
   },
   "outputs": [
    {
     "data": {
      "text/plain": [
       "array([ 100000.,  350000.,  250000.,  564834.,  270000.,  450000.,\n",
       "        119813.,  180000.,   35000.,  500000.,       0.,  200000.,\n",
       "        127000.,   52000.,  300000.,  278000.,  150000.,  400000.,\n",
       "        770229.,  285270.,  110000.,   96000.,  542013.,  140000.,\n",
       "        280000.,   20000.,  120000.,   55000.,   30000.,  283000.,\n",
       "        170000.,  510000.,  185000.,  230000.,   36350.,   40000.,\n",
       "         89000.,  600000.,  550000.,  132000.,  470000.,  260000.,\n",
       "         27000.,  176000.,  380000.,  855810.,  427905.,  290975.,\n",
       "        188000., 1000000.,  700000.,  219087.,  130000.,  160000.,\n",
       "        240000.,  190000.,   50000.,   51000.,  220000.,   68000.,\n",
       "        175000.,  145000.,  234000.,  570540.,  456432.,  432000.,\n",
       "         90000.,   45000.,  357000.,  115000.,  253000.,   70000.,\n",
       "        525000.,  684648.,   72000.,  480000.,   94000.,  159751.,\n",
       "       2353477.,   14000.,   13000.,   75000.,   78000.,  540000.,\n",
       "        420000.,   25000.,  328000.,   28000.,   80000.,  285000.,\n",
       "         83333.,   73000.,   23000.,  178000.,  172000.,  106000.,\n",
       "        620000.,   26000.,  107000.,  215000.,   42500.,  169000.,\n",
       "         32600.,  320000.,   17000.,   77000.,  102000.,  294000.,\n",
       "         32000.,   44000.,  163000.,   46500.])"
      ]
     },
     "execution_count": 22,
     "metadata": {},
     "output_type": "execute_result"
    }
   ],
   "source": [
    "ds[ds['tipovivi2']==1]['v2a1'].unique()"
   ]
  },
  {
   "cell_type": "code",
   "execution_count": 23,
   "metadata": {
    "colab": {
     "base_uri": "https://localhost:8080/",
     "height": 235
    },
    "colab_type": "code",
    "id": "eeMh0BimZaA9",
    "outputId": "c7527bea-3142-499e-f366-f8330b53ccd7"
   },
   "outputs": [
    {
     "data": {
      "text/plain": [
       "array([190000., 135000., 180000., 130000.,  90000., 215000., 150000.,\n",
       "       100000., 120000.,  80000., 168000.,  40000., 155000., 200000.,\n",
       "       270000., 300000., 260000., 175000.,  25310., 400000., 399378.,\n",
       "       125518., 125000.,  60000., 160000., 170000., 230000., 185000.,\n",
       "       220000., 570540., 342324., 240000.,  70000., 110000., 100297.,\n",
       "       210000., 350000., 145000.,  65000., 285270.,  85000., 104000.,\n",
       "       275000., 105661., 250000.,  16000.,  20000., 140000., 245000.,\n",
       "       191500.,  75000.,  50000.,  84529., 205000.,  30000., 118097.,\n",
       "       360000., 325000., 450000., 288750.,  35000.,  95000.,  93000.,\n",
       "        55000., 800000., 456432., 142635.,  97000.,  62539., 225000.,\n",
       "       105000., 427905.,  78039.,  72554., 165000., 268153.,  92000.,\n",
       "        52831., 855810., 115000.,  15000., 171162.,  45000., 249896.,\n",
       "       108000.,  25000.,  12000.,  58731.])"
      ]
     },
     "execution_count": 23,
     "metadata": {},
     "output_type": "execute_result"
    }
   ],
   "source": [
    "ds[ds['tipovivi3']==1]['v2a1'].unique()"
   ]
  },
  {
   "cell_type": "code",
   "execution_count": 24,
   "metadata": {
    "colab": {
     "base_uri": "https://localhost:8080/",
     "height": 34
    },
    "colab_type": "code",
    "id": "y4l_tPSjZaIm",
    "outputId": "5808d6d8-93b6-441a-d180-0426661862e8"
   },
   "outputs": [
    {
     "data": {
      "text/plain": [
       "array([nan])"
      ]
     },
     "execution_count": 24,
     "metadata": {},
     "output_type": "execute_result"
    }
   ],
   "source": [
    "ds[ds['tipovivi4']==1]['v2a1'].unique()"
   ]
  },
  {
   "cell_type": "code",
   "execution_count": 25,
   "metadata": {
    "colab": {
     "base_uri": "https://localhost:8080/",
     "height": 34
    },
    "colab_type": "code",
    "id": "R-al21UVZgyh",
    "outputId": "e05edc9d-fae4-449e-c993-e53e8c1c3782"
   },
   "outputs": [
    {
     "data": {
      "text/plain": [
       "array([nan])"
      ]
     },
     "execution_count": 25,
     "metadata": {},
     "output_type": "execute_result"
    }
   ],
   "source": [
    "ds[ds['tipovivi5']==1]['v2a1'].unique()"
   ]
  },
  {
   "cell_type": "markdown",
   "metadata": {
    "colab_type": "text",
    "id": "JQpNE1pRaRZu"
   },
   "source": [
    "Se observa que solo los tipo vivienda 2 y 3 tienen renta. Los tipo vivienda 2 son aquellos que son propietarios pero pagan una cuota, y los tipo 3 son los que pagan un alquiler. Más adelante se analizará la forma de completar los datos faltantes de esta variable."
   ]
  },
  {
   "cell_type": "markdown",
   "metadata": {
    "colab_type": "text",
    "id": "ncQJmC9udOlz"
   },
   "source": [
    "#### v18q1: number of tablets household owns\n",
    "\n",
    "el v18q1 es la cantidad de tablets que hay en el hogar. v18q indica si el individuo posee una tablet (puede tener mas de una). Si se cuenta la cantidad de personas que tienen tablet en el hogar (sum), y se compara con la cantidad informada (v18q1) de tablet, encontramos 3 situaciones:\n",
    "1. Caso 1: la cantidad informada es menor a la cantidad calculada (varios miembros de un hogar se atribuyen el dominio de la tablet). Total: 2061\n",
    "2. Caso 2: la cantidad informada es mayor a la calculada (un individuo posea mas de una tablet). Total: 18\n",
    "3. Caso 3: la cantidad informada es igual a la calculada (lo esperado). Total:  83\n",
    "\n"
   ]
  },
  {
   "cell_type": "code",
   "execution_count": 26,
   "metadata": {
    "colab": {
     "base_uri": "https://localhost:8080/",
     "height": 34
    },
    "colab_type": "code",
    "id": "M9Hq-YQ_v_0o",
    "outputId": "b2d7eec9-441d-454d-90ea-d8a312d14371"
   },
   "outputs": [
    {
     "name": "stdout",
     "output_type": "stream",
     "text": [
      "(0, 4)\n"
     ]
    }
   ],
   "source": [
    "#todos los datos de v18q que es si el individuo posee una tablet no son nulos. \n",
    "filtered_ds = ds[ds.v18q.isnull()][['Id', 'idhogar','v18q','v18q1']]\n",
    "print(filtered_ds.shape)"
   ]
  },
  {
   "cell_type": "code",
   "execution_count": 27,
   "metadata": {
    "colab": {
     "base_uri": "https://localhost:8080/",
     "height": 106
    },
    "colab_type": "code",
    "id": "JGF6lv1Vhy1y",
    "outputId": "687b28db-65dd-4d17-bb1a-9ade8c66e9cc"
   },
   "outputs": [
    {
     "data": {
      "text/html": [
       "<div>\n",
       "<style scoped>\n",
       "    .dataframe tbody tr th:only-of-type {\n",
       "        vertical-align: middle;\n",
       "    }\n",
       "\n",
       "    .dataframe tbody tr th {\n",
       "        vertical-align: top;\n",
       "    }\n",
       "\n",
       "    .dataframe thead th {\n",
       "        text-align: right;\n",
       "    }\n",
       "</style>\n",
       "<table border=\"1\" class=\"dataframe\">\n",
       "  <thead>\n",
       "    <tr style=\"text-align: right;\">\n",
       "      <th></th>\n",
       "      <th>Variable_name</th>\n",
       "      <th>Variable_description</th>\n",
       "    </tr>\n",
       "  </thead>\n",
       "  <tbody>\n",
       "    <tr>\n",
       "      <th>6</th>\n",
       "      <td>v18q</td>\n",
       "      <td>owns a tablet</td>\n",
       "    </tr>\n",
       "    <tr>\n",
       "      <th>7</th>\n",
       "      <td>v18q1</td>\n",
       "      <td>number of tablets household owns</td>\n",
       "    </tr>\n",
       "  </tbody>\n",
       "</table>\n",
       "</div>"
      ],
      "text/plain": [
       "  Variable_name              Variable_description\n",
       "6          v18q                     owns a tablet\n",
       "7         v18q1  number of tablets household owns"
      ]
     },
     "execution_count": 27,
     "metadata": {},
     "output_type": "execute_result"
    }
   ],
   "source": [
    "_data_fields[_data_fields['Variable_name'].isin(['v18q','v18q1'])]"
   ]
  },
  {
   "cell_type": "code",
   "execution_count": 28,
   "metadata": {
    "colab": {
     "base_uri": "https://localhost:8080/",
     "height": 67
    },
    "colab_type": "code",
    "id": "FmxvaAivdVOF",
    "outputId": "ecfcca4c-3dbd-4006-c24e-0a49f80e7579"
   },
   "outputs": [
    {
     "name": "stdout",
     "output_type": "stream",
     "text": [
      "Caso 1:  2061\n",
      "Caso 2:  18\n",
      "Caso 3:  83\n"
     ]
    }
   ],
   "source": [
    "hogares_list = ds.idhogar.unique()\n",
    "filtered_ds = ds[ds.idhogar.duplicated(keep=False)].sort_values(by='idhogar')[['Id', 'idhogar','v18q','v18q1']]\n",
    "calculated_ds = filtered_ds.groupby(['idhogar'])['v18q'].sum().reset_index(name='sum')\n",
    "total_ds = pd.merge(filtered_ds, calculated_ds, left_on='idhogar', right_on='idhogar')\n",
    "\n",
    "print(\"Caso 1: \",str(total_ds[total_ds['v18q1']<total_ds['sum']].count()['Id']))\n",
    "print(\"Caso 2: \",str(total_ds[total_ds['v18q1']>total_ds['sum']].count()['Id']))\n",
    "print(\"Caso 3: \",str(total_ds[total_ds['v18q1']==total_ds['sum']].count()['Id']))\n",
    "\n"
   ]
  },
  {
   "cell_type": "markdown",
   "metadata": {
    "colab_type": "text",
    "id": "f5JJ71vmDBst"
   },
   "source": [
    "Tratamiento de valores faltantes: \n",
    "\n",
    "Descartaría la variable por las siguientes razones:\n",
    "* Hay más casos tipo 1, es decir que la cantidad de tablets por hogar es menor a la suma de la cantidad de personas que dicen tener tablets en el hogar. Esto nos da pensar dos cosas: \n",
    "** La tablet tiene más de un dueño, es decir que varios individuos se atribuyen el dominio del objeto e incide en la variable v18q, pero no en el v18q1.\n",
    "** Existen más tablets en el hogar, esto incide en v18q1 pero no en v18q.\n",
    "* Casos 2, son aquellos que nos permiten decir que el individuo puede llegar a tener más de una tablet. Esto se refleja en cambios en el valor de v18q1, pero no en v18q que solo nos informa si el individuo posee o no una tablet.\n",
    "\n",
    "En ambos casos casos encontramos inconsistencia en los datos proporcionados, por lo cual se descarta la variable v18q1.\n",
    "Podria ser interesante incorporar una variable que nos indique la cantidad de individuos que dicen poseer una tablet en un hogar, ya que basados en el estudio anterior, la variable v18q tiene fuerte correlación con la variable target.\n"
   ]
  },
  {
   "cell_type": "markdown",
   "metadata": {
    "colab_type": "text",
    "id": "OASR0rhqznr5"
   },
   "source": [
    "#### rez_esc year behind school\n",
    "\n"
   ]
  },
  {
   "cell_type": "code",
   "execution_count": 29,
   "metadata": {
    "colab": {
     "base_uri": "https://localhost:8080/"
    },
    "colab_type": "code",
    "id": "VK1dl4ZzipSM",
    "outputId": "936cd074-72cc-49c6-d935-d0fef6cc0d53"
   },
   "outputs": [
    {
     "data": {
      "text/plain": [
       "1629"
      ]
     },
     "execution_count": 29,
     "metadata": {},
     "output_type": "execute_result"
    }
   ],
   "source": [
    "\n",
    "ds['rez_esc'].count()\n"
   ]
  },
  {
   "cell_type": "code",
   "execution_count": 30,
   "metadata": {
    "colab": {
     "base_uri": "https://localhost:8080/"
    },
    "colab_type": "code",
    "id": "i_-HM7AEFicX",
    "outputId": "f1a30f66-7d95-47d3-9990-00d770d5d45e"
   },
   "outputs": [
    {
     "data": {
      "text/plain": [
       "7928"
      ]
     },
     "execution_count": 30,
     "metadata": {},
     "output_type": "execute_result"
    }
   ],
   "source": [
    "ds[ds['rez_esc'].isna()]['Id'].count()"
   ]
  },
  {
   "cell_type": "code",
   "execution_count": 31,
   "metadata": {
    "colab": {
     "base_uri": "https://localhost:8080/"
    },
    "colab_type": "code",
    "id": "Ng1282NtGbm3",
    "outputId": "ed5a3099-78bc-4007-9def-690068a03c45"
   },
   "outputs": [
    {
     "data": {
      "text/plain": [
       "count    1629.000000\n",
       "mean        0.459791\n",
       "std         0.946550\n",
       "min         0.000000\n",
       "25%         0.000000\n",
       "50%         0.000000\n",
       "75%         1.000000\n",
       "max         5.000000\n",
       "Name: rez_esc, dtype: float64"
      ]
     },
     "execution_count": 31,
     "metadata": {},
     "output_type": "execute_result"
    }
   ],
   "source": [
    "ds['rez_esc'].describe()"
   ]
  },
  {
   "cell_type": "code",
   "execution_count": 32,
   "metadata": {
    "colab": {
     "base_uri": "https://localhost:8080/"
    },
    "colab_type": "code",
    "id": "jpvITJXUGhMX",
    "outputId": "e8f7364a-7b55-4351-edd0-6d1044aa2c17"
   },
   "outputs": [
    {
     "data": {
      "image/png": "[encoded data removed]",
      "text/plain": [
       "<Figure size 576x432 with 1 Axes>"
      ]
     },
     "metadata": {
      "needs_background": "light"
     },
     "output_type": "display_data"
    }
   ],
   "source": [
    "f, ax = plt.subplots(figsize=(8, 6))\n",
    "fig = sns.boxplot(x='rez_esc', y='escolari', data=ds)"
   ]
  },
  {
   "cell_type": "code",
   "execution_count": 33,
   "metadata": {},
   "outputs": [
    {
     "data": {
      "text/plain": [
       "<matplotlib.axes._subplots.AxesSubplot at 0x1cb45a05e48>"
      ]
     },
     "execution_count": 33,
     "metadata": {},
     "output_type": "execute_result"
    },
    {
     "data": {
      "image/png": "[encoded data removed]",
      "text/plain": [
       "<Figure size 432x288 with 1 Axes>"
      ]
     },
     "metadata": {
      "needs_background": "light"
     },
     "output_type": "display_data"
    }
   ],
   "source": [
    "\n",
    "ds.plot(x='age', y='rez_esc')\n"
   ]
  },
  {
   "cell_type": "code",
   "execution_count": 34,
   "metadata": {},
   "outputs": [
    {
     "data": {
      "text/html": [
       "<div>\n",
       "<style scoped>\n",
       "    .dataframe tbody tr th:only-of-type {\n",
       "        vertical-align: middle;\n",
       "    }\n",
       "\n",
       "    .dataframe tbody tr th {\n",
       "        vertical-align: top;\n",
       "    }\n",
       "\n",
       "    .dataframe thead th {\n",
       "        text-align: right;\n",
       "    }\n",
       "</style>\n",
       "<table border=\"1\" class=\"dataframe\">\n",
       "  <thead>\n",
       "    <tr style=\"text-align: right;\">\n",
       "      <th></th>\n",
       "      <th>age</th>\n",
       "      <th>rez_esc</th>\n",
       "    </tr>\n",
       "  </thead>\n",
       "  <tbody>\n",
       "  </tbody>\n",
       "</table>\n",
       "</div>"
      ],
      "text/plain": [
       "Empty DataFrame\n",
       "Columns: [age, rez_esc]\n",
       "Index: []"
      ]
     },
     "execution_count": 34,
     "metadata": {},
     "output_type": "execute_result"
    }
   ],
   "source": [
    "ds[(ds['age']>17)&(ds.rez_esc.notnull())][['age','rez_esc']]"
   ]
  },
  {
   "cell_type": "code",
   "execution_count": 35,
   "metadata": {},
   "outputs": [
    {
     "name": "stdout",
     "output_type": "stream",
     "text": [
      "Porcentaje de repitencia de jóvenes menores de 17 en hogares de extrema pobreza:  56.85618729096989\n",
      "Porcentaje de repitencia de jóvenes menores de 17 en hogares de pobreza moderada:  62.56684491978609\n",
      "Porcentaje de repitencia de jóvenes menores de 17 en hogares vulnerables:  64.85714285714286\n",
      "Porcentaje de repitencia de jóvenes menores de 17 en hogares no vulnerables:  61.60558464223386\n"
     ]
    }
   ],
   "source": [
    "count_repitencia = ds[(ds['age']<17)&(ds.rez_esc.notnull())][['rez_esc','Target']].groupby('Target')['rez_esc'].count()\n",
    "young_1 = ds[(ds['age']<17)&(ds.Target == 1)]['Id'].count()\n",
    "young_2 = ds[(ds['age']<17)&(ds.Target == 2)]['Id'].count()\n",
    "young_3 = ds[(ds['age']<17)&(ds.Target == 3)]['Id'].count()\n",
    "young_4 = ds[(ds['age']<17)&(ds.Target == 4)]['Id'].count()\n",
    "print(\"Porcentaje de repitencia de jóvenes menores de 17 en hogares de extrema pobreza: \",count_repitencia[1]/young_1*100)\n",
    "print(\"Porcentaje de repitencia de jóvenes menores de 17 en hogares de pobreza moderada: \",count_repitencia[2]/young_2*100)\n",
    "print(\"Porcentaje de repitencia de jóvenes menores de 17 en hogares vulnerables: \",count_repitencia[3]/young_3*100)\n",
    "print(\"Porcentaje de repitencia de jóvenes menores de 17 en hogares no vulnerables: \",count_repitencia[4]/young_4*100)"
   ]
  },
  {
   "cell_type": "markdown",
   "metadata": {
    "colab_type": "text",
    "id": "nouRp6J9Ekkg"
   },
   "source": [
    "Tratamiento de valores faltantes: \n",
    "\n",
    "Este campo es la cantidad de años de atraso de educación tiene el individuo. En el último gráfico observamos que los valores no nulos están concentrados en los individuos menores a 17 años. Por lo tanto no sería un indicador de analfabetismo de los jefes de hogar sino que indica el grado de repitencia de los individuos menores a 17 años. Podriamos suponer que el nivel de repitencia es una cuestión de clase social, pero el nivel de repitencia en las distintas clases sociales es de alrededor de 60%.\n",
    "\n",
    "Creo es esta variable puede ser descartada debido a que nuestro análisis está enfocado en los jefes de hogar. Sabemos que los jefes de hogar tiene una edad mayor a 17 años, por lo que no forma parte de nuesto de objeto de estudio.\n",
    "\n",
    "\n"
   ]
  },
  {
   "cell_type": "markdown",
   "metadata": {
    "colab_type": "text",
    "id": "ieJI_r-t4T-b"
   },
   "source": [
    "### 2.3. Codificación de Variables Categóricas"
   ]
  },
  {
   "cell_type": "markdown",
   "metadata": {
    "colab_type": "text",
    "id": "Eg2bf95L4T-d"
   },
   "source": [
    "Aplica?\n",
    "No aplica, ya que las variables categóricas ya están codificadas."
   ]
  },
  {
   "cell_type": "markdown",
   "metadata": {
    "colab_type": "text",
    "id": "LZ0WXmRH4T-h"
   },
   "source": [
    "### 2.4. No Cambiar los Nombres de las Variables de la Fuente de Origen"
   ]
  },
  {
   "cell_type": "code",
   "execution_count": null,
   "metadata": {
    "colab": {},
    "colab_type": "code",
    "id": "6X5k04WL4T-i"
   },
   "outputs": [],
   "source": []
  },
  {
   "cell_type": "markdown",
   "metadata": {
    "colab_type": "text",
    "id": "K12xL62v4T-k"
   },
   "source": [
    "### 2.5. Verificación de Consistencia de Datos"
   ]
  },
  {
   "cell_type": "markdown",
   "metadata": {
    "colab_type": "text",
    "id": "tBKaIkFq4T-l"
   },
   "source": [
    "Este es el paso más analítico, en donde se deben aplicar reglas de integridad."
   ]
  },
  {
   "cell_type": "markdown",
   "metadata": {
    "colab_type": "text",
    "id": "QKOwhRlLIxRA"
   },
   "source": [
    "#### Verificación de tamviv, tamhog, r4t3 y hhzise"
   ]
  },
  {
   "cell_type": "markdown",
   "metadata": {
    "colab_type": "text",
    "id": "iwsl9U5Z1zkM"
   },
   "source": [
    "Lo primero que verificamos son que tamhog y hhzise son exactamente iguales. No es necesario tener ambos almacenados. "
   ]
  },
  {
   "cell_type": "code",
   "execution_count": 36,
   "metadata": {
    "colab": {
     "base_uri": "https://localhost:8080/",
     "height": 225
    },
    "colab_type": "code",
    "id": "VlsPqvNE2NVC",
    "outputId": "53c78c6c-966e-4994-b4ab-33c981794ca6"
   },
   "outputs": [
    {
     "data": {
      "text/html": [
       "<div>\n",
       "<style scoped>\n",
       "    .dataframe tbody tr th:only-of-type {\n",
       "        vertical-align: middle;\n",
       "    }\n",
       "\n",
       "    .dataframe tbody tr th {\n",
       "        vertical-align: top;\n",
       "    }\n",
       "\n",
       "    .dataframe thead th {\n",
       "        text-align: right;\n",
       "    }\n",
       "</style>\n",
       "<table border=\"1\" class=\"dataframe\">\n",
       "  <thead>\n",
       "    <tr style=\"text-align: right;\">\n",
       "      <th></th>\n",
       "      <th>Variable_name</th>\n",
       "      <th>Variable_description</th>\n",
       "    </tr>\n",
       "  </thead>\n",
       "  <tbody>\n",
       "    <tr>\n",
       "      <th>16</th>\n",
       "      <td>r4t3</td>\n",
       "      <td>Total persons in the household</td>\n",
       "    </tr>\n",
       "    <tr>\n",
       "      <th>17</th>\n",
       "      <td>tamhog</td>\n",
       "      <td>size of the household</td>\n",
       "    </tr>\n",
       "    <tr>\n",
       "      <th>18</th>\n",
       "      <td>tamviv</td>\n",
       "      <td>number of persons living in the household</td>\n",
       "    </tr>\n",
       "    <tr>\n",
       "      <th>21</th>\n",
       "      <td>hhsize</td>\n",
       "      <td>household size</td>\n",
       "    </tr>\n",
       "    <tr>\n",
       "      <th>98</th>\n",
       "      <td>hogar_total</td>\n",
       "      <td># of total individuals in the household</td>\n",
       "    </tr>\n",
       "  </tbody>\n",
       "</table>\n",
       "</div>"
      ],
      "text/plain": [
       "   Variable_name                       Variable_description\n",
       "16          r4t3             Total persons in the household\n",
       "17        tamhog                      size of the household\n",
       "18        tamviv  number of persons living in the household\n",
       "21        hhsize                             household size\n",
       "98   hogar_total    # of total individuals in the household"
      ]
     },
     "execution_count": 36,
     "metadata": {},
     "output_type": "execute_result"
    }
   ],
   "source": [
    "_data_fields[_data_fields['Variable_name'].isin(['tamhog','hhsize','r4t3','tamviv','hogar_total'])]"
   ]
  },
  {
   "cell_type": "markdown",
   "metadata": {
    "colab_type": "text",
    "id": "cxK_QooQ6PqV"
   },
   "source": [
    "¿Es el tamhog igual que el hhsize?  **Si**"
   ]
  },
  {
   "cell_type": "code",
   "execution_count": 37,
   "metadata": {
    "colab": {
     "base_uri": "https://localhost:8080/",
     "height": 34
    },
    "colab_type": "code",
    "id": "l6vGV5ux3Hyz",
    "outputId": "6ad29363-cf8a-4643-b490-f41d6d352c5e"
   },
   "outputs": [
    {
     "name": "stdout",
     "output_type": "stream",
     "text": [
      "(0, 130)\n"
     ]
    }
   ],
   "source": [
    "print(ds[ds.tamhog != ds.hhsize].shape)"
   ]
  },
  {
   "cell_type": "markdown",
   "metadata": {
    "colab_type": "text",
    "id": "PM_eMqc_6i1X"
   },
   "source": [
    "¿Hay viviendas donde estos valores son diferentes tamviv y r4t3? **Si**\n",
    "\n",
    "Numero de personas viviendo en la casa\n",
    "\n",
    "Total de personas en la casa\n",
    "\n",
    "Para mi este caso se puede dar en los casos donde haya más de un hogar en una vivienda. "
   ]
  },
  {
   "cell_type": "code",
   "execution_count": 38,
   "metadata": {
    "colab": {
     "base_uri": "https://localhost:8080/",
     "height": 212
    },
    "colab_type": "code",
    "id": "wsCl3DGq7RAN",
    "outputId": "0005fb96-96e7-4fb4-e8b3-9ce88080a060"
   },
   "outputs": [
    {
     "name": "stdout",
     "output_type": "stream",
     "text": [
      "(258, 130)\n"
     ]
    },
    {
     "data": {
      "text/html": [
       "<div>\n",
       "<style scoped>\n",
       "    .dataframe tbody tr th:only-of-type {\n",
       "        vertical-align: middle;\n",
       "    }\n",
       "\n",
       "    .dataframe tbody tr th {\n",
       "        vertical-align: top;\n",
       "    }\n",
       "\n",
       "    .dataframe thead th {\n",
       "        text-align: right;\n",
       "    }\n",
       "</style>\n",
       "<table border=\"1\" class=\"dataframe\">\n",
       "  <thead>\n",
       "    <tr style=\"text-align: right;\">\n",
       "      <th></th>\n",
       "      <th>idhogar</th>\n",
       "      <th>r4t3</th>\n",
       "      <th>tamviv</th>\n",
       "    </tr>\n",
       "  </thead>\n",
       "  <tbody>\n",
       "    <tr>\n",
       "      <th>130</th>\n",
       "      <td>81cfc3f8c</td>\n",
       "      <td>4</td>\n",
       "      <td>6</td>\n",
       "    </tr>\n",
       "    <tr>\n",
       "      <th>131</th>\n",
       "      <td>81cfc3f8c</td>\n",
       "      <td>4</td>\n",
       "      <td>6</td>\n",
       "    </tr>\n",
       "    <tr>\n",
       "      <th>132</th>\n",
       "      <td>81cfc3f8c</td>\n",
       "      <td>4</td>\n",
       "      <td>6</td>\n",
       "    </tr>\n",
       "    <tr>\n",
       "      <th>133</th>\n",
       "      <td>81cfc3f8c</td>\n",
       "      <td>4</td>\n",
       "      <td>6</td>\n",
       "    </tr>\n",
       "    <tr>\n",
       "      <th>195</th>\n",
       "      <td>f1e36c6f8</td>\n",
       "      <td>4</td>\n",
       "      <td>6</td>\n",
       "    </tr>\n",
       "  </tbody>\n",
       "</table>\n",
       "</div>"
      ],
      "text/plain": [
       "       idhogar  r4t3  tamviv\n",
       "130  81cfc3f8c     4       6\n",
       "131  81cfc3f8c     4       6\n",
       "132  81cfc3f8c     4       6\n",
       "133  81cfc3f8c     4       6\n",
       "195  f1e36c6f8     4       6"
      ]
     },
     "execution_count": 38,
     "metadata": {},
     "output_type": "execute_result"
    }
   ],
   "source": [
    "print(ds[ds.tamviv != ds.r4t3].shape)\n",
    "ds[ds.tamviv != ds.r4t3][[\"idhogar\", 'r4t3','tamviv']].head()"
   ]
  },
  {
   "cell_type": "markdown",
   "metadata": {
    "colab_type": "text",
    "id": "_eg5QklX7Z67"
   },
   "source": [
    "¿Hay vivviendas donde estos valores son diferentes tamhog y r4t3? **SI**\n",
    "\n",
    "Numero de persona viviendo en la casa\n",
    "\n",
    "Total de personas en la casa"
   ]
  },
  {
   "cell_type": "code",
   "execution_count": 39,
   "metadata": {
    "colab": {
     "base_uri": "https://localhost:8080/",
     "height": 212
    },
    "colab_type": "code",
    "id": "Zdnn9gi07Y3L",
    "outputId": "19580766-66bf-4192-c8cd-a382a51131af"
   },
   "outputs": [
    {
     "name": "stdout",
     "output_type": "stream",
     "text": [
      "(48, 130)\n"
     ]
    },
    {
     "data": {
      "text/html": [
       "<div>\n",
       "<style scoped>\n",
       "    .dataframe tbody tr th:only-of-type {\n",
       "        vertical-align: middle;\n",
       "    }\n",
       "\n",
       "    .dataframe tbody tr th {\n",
       "        vertical-align: top;\n",
       "    }\n",
       "\n",
       "    .dataframe thead th {\n",
       "        text-align: right;\n",
       "    }\n",
       "</style>\n",
       "<table border=\"1\" class=\"dataframe\">\n",
       "  <thead>\n",
       "    <tr style=\"text-align: right;\">\n",
       "      <th></th>\n",
       "      <th>Id</th>\n",
       "      <th>idhogar</th>\n",
       "      <th>tamhog</th>\n",
       "      <th>r4t3</th>\n",
       "      <th>tamviv</th>\n",
       "    </tr>\n",
       "  </thead>\n",
       "  <tbody>\n",
       "    <tr>\n",
       "      <th>497</th>\n",
       "      <td>ID_352fa3f45</td>\n",
       "      <td>57d87865e</td>\n",
       "      <td>1</td>\n",
       "      <td>3</td>\n",
       "      <td>3</td>\n",
       "    </tr>\n",
       "    <tr>\n",
       "      <th>640</th>\n",
       "      <td>ID_b4f60b5a2</td>\n",
       "      <td>1d644ed80</td>\n",
       "      <td>3</td>\n",
       "      <td>4</td>\n",
       "      <td>4</td>\n",
       "    </tr>\n",
       "    <tr>\n",
       "      <th>641</th>\n",
       "      <td>ID_25a1721ec</td>\n",
       "      <td>1d644ed80</td>\n",
       "      <td>3</td>\n",
       "      <td>4</td>\n",
       "      <td>4</td>\n",
       "    </tr>\n",
       "    <tr>\n",
       "      <th>642</th>\n",
       "      <td>ID_9f855369a</td>\n",
       "      <td>1d644ed80</td>\n",
       "      <td>3</td>\n",
       "      <td>4</td>\n",
       "      <td>4</td>\n",
       "    </tr>\n",
       "    <tr>\n",
       "      <th>1034</th>\n",
       "      <td>ID_456fc2eb7</td>\n",
       "      <td>fd80dfac4</td>\n",
       "      <td>1</td>\n",
       "      <td>2</td>\n",
       "      <td>2</td>\n",
       "    </tr>\n",
       "  </tbody>\n",
       "</table>\n",
       "</div>"
      ],
      "text/plain": [
       "                Id    idhogar  tamhog  r4t3  tamviv\n",
       "497   ID_352fa3f45  57d87865e       1     3       3\n",
       "640   ID_b4f60b5a2  1d644ed80       3     4       4\n",
       "641   ID_25a1721ec  1d644ed80       3     4       4\n",
       "642   ID_9f855369a  1d644ed80       3     4       4\n",
       "1034  ID_456fc2eb7  fd80dfac4       1     2       2"
      ]
     },
     "execution_count": 39,
     "metadata": {},
     "output_type": "execute_result"
    }
   ],
   "source": [
    "print(ds[ds.tamhog != ds.r4t3].shape)\n",
    "ds[ds.tamhog != ds.r4t3][[\"Id\", \"idhogar\",'tamhog', 'r4t3','tamviv']].head()"
   ]
  },
  {
   "cell_type": "markdown",
   "metadata": {
    "colab_type": "text",
    "id": "TkGfNRqPJpVN"
   },
   "source": [
    "De estos analisis de integridad lo primero que notamos es que el tamhog, r4t3, tamviv. No son datos fiables y que poseen errores.\n",
    "\n",
    "\n",
    "Opino que lo mejor seria deshacernos de las filas que no tengan integridad con estos datos o recalcular estos datos en base al numero real de personas que tenemos."
   ]
  },
  {
   "cell_type": "markdown",
   "metadata": {},
   "source": [
    "#### Consistencia de integridad de variables r4m3, r4h3, r4t3, r4m2, r4m1, r4m3, r4h2, r4h1 y r4h3"
   ]
  },
  {
   "cell_type": "markdown",
   "metadata": {},
   "source": [
    "##### Verificación de integridad entre r4m3 + r4h3 = r4t3\n",
    "\n",
    "Verificamos que la variable r4t3 es la suma de las variables r4m3 y r4h3. Por lo que r4t3 va a ser elimada."
   ]
  },
  {
   "cell_type": "code",
   "execution_count": 40,
   "metadata": {},
   "outputs": [
    {
     "data": {
      "text/html": [
       "<div>\n",
       "<style scoped>\n",
       "    .dataframe tbody tr th:only-of-type {\n",
       "        vertical-align: middle;\n",
       "    }\n",
       "\n",
       "    .dataframe tbody tr th {\n",
       "        vertical-align: top;\n",
       "    }\n",
       "\n",
       "    .dataframe thead th {\n",
       "        text-align: right;\n",
       "    }\n",
       "</style>\n",
       "<table border=\"1\" class=\"dataframe\">\n",
       "  <thead>\n",
       "    <tr style=\"text-align: right;\">\n",
       "      <th></th>\n",
       "      <th>Variable_name</th>\n",
       "      <th>Variable_description</th>\n",
       "    </tr>\n",
       "  </thead>\n",
       "  <tbody>\n",
       "    <tr>\n",
       "      <th>10</th>\n",
       "      <td>r4h3</td>\n",
       "      <td>Total males in the household</td>\n",
       "    </tr>\n",
       "    <tr>\n",
       "      <th>13</th>\n",
       "      <td>r4m3</td>\n",
       "      <td>Total females in the household</td>\n",
       "    </tr>\n",
       "    <tr>\n",
       "      <th>16</th>\n",
       "      <td>r4t3</td>\n",
       "      <td>Total persons in the household</td>\n",
       "    </tr>\n",
       "  </tbody>\n",
       "</table>\n",
       "</div>"
      ],
      "text/plain": [
       "   Variable_name            Variable_description\n",
       "10          r4h3    Total males in the household\n",
       "13          r4m3  Total females in the household\n",
       "16          r4t3  Total persons in the household"
      ]
     },
     "execution_count": 40,
     "metadata": {},
     "output_type": "execute_result"
    }
   ],
   "source": [
    "_data_fields[_data_fields['Variable_name'].isin(['r4m3','r4h3','r4t3'])]"
   ]
  },
  {
   "cell_type": "code",
   "execution_count": 41,
   "metadata": {},
   "outputs": [
    {
     "name": "stdout",
     "output_type": "stream",
     "text": [
      "La variable r4t3 es la suma de r4m3 y r4h3:  True\n"
     ]
    },
    {
     "name": "stderr",
     "output_type": "stream",
     "text": [
      "C:\\Users\\soluj\\Anaconda3\\lib\\site-packages\\ipykernel_launcher.py:2: SettingWithCopyWarning: \n",
      "A value is trying to be set on a copy of a slice from a DataFrame.\n",
      "Try using .loc[row_indexer,col_indexer] = value instead\n",
      "\n",
      "See the caveats in the documentation: http://pandas.pydata.org/pandas-docs/stable/indexing.html#indexing-view-versus-copy\n",
      "  \n"
     ]
    }
   ],
   "source": [
    "total_person_household = ds[['r4m3','r4h3','r4t3']]\n",
    "total_person_household['r4m3_r4h3'] = total_person_household['r4m3']+total_person_household['r4h3']\n",
    "print(\"La variable r4t3 es la suma de r4m3 y r4h3: \",total_person_household[total_person_household.r4t3!=total_person_household.r4m3_r4h3].shape[0]==0)"
   ]
  },
  {
   "cell_type": "markdown",
   "metadata": {},
   "source": [
    "##### Verificación de integridad entre r4m2+ r4m1 = r4m3\n",
    "Se verifica que la variable r4m3 es la suma de r4m1 y r4m2."
   ]
  },
  {
   "cell_type": "code",
   "execution_count": 42,
   "metadata": {},
   "outputs": [
    {
     "data": {
      "text/html": [
       "<div>\n",
       "<style scoped>\n",
       "    .dataframe tbody tr th:only-of-type {\n",
       "        vertical-align: middle;\n",
       "    }\n",
       "\n",
       "    .dataframe tbody tr th {\n",
       "        vertical-align: top;\n",
       "    }\n",
       "\n",
       "    .dataframe thead th {\n",
       "        text-align: right;\n",
       "    }\n",
       "</style>\n",
       "<table border=\"1\" class=\"dataframe\">\n",
       "  <thead>\n",
       "    <tr style=\"text-align: right;\">\n",
       "      <th></th>\n",
       "      <th>Variable_name</th>\n",
       "      <th>Variable_description</th>\n",
       "    </tr>\n",
       "  </thead>\n",
       "  <tbody>\n",
       "    <tr>\n",
       "      <th>11</th>\n",
       "      <td>r4m1</td>\n",
       "      <td>Females younger than 12 years of age</td>\n",
       "    </tr>\n",
       "    <tr>\n",
       "      <th>12</th>\n",
       "      <td>r4m2</td>\n",
       "      <td>Females 12 years of age and older</td>\n",
       "    </tr>\n",
       "    <tr>\n",
       "      <th>13</th>\n",
       "      <td>r4m3</td>\n",
       "      <td>Total females in the household</td>\n",
       "    </tr>\n",
       "  </tbody>\n",
       "</table>\n",
       "</div>"
      ],
      "text/plain": [
       "   Variable_name                  Variable_description\n",
       "11          r4m1  Females younger than 12 years of age\n",
       "12          r4m2     Females 12 years of age and older\n",
       "13          r4m3        Total females in the household"
      ]
     },
     "execution_count": 42,
     "metadata": {},
     "output_type": "execute_result"
    }
   ],
   "source": [
    "_data_fields[_data_fields['Variable_name'].isin(['r4m1','r4m2','r4m3'])]"
   ]
  },
  {
   "cell_type": "code",
   "execution_count": 43,
   "metadata": {},
   "outputs": [
    {
     "name": "stdout",
     "output_type": "stream",
     "text": [
      "La variable r4m3 es la suma de r4m1 y r4m2:  True\n"
     ]
    },
    {
     "name": "stderr",
     "output_type": "stream",
     "text": [
      "C:\\Users\\soluj\\Anaconda3\\lib\\site-packages\\ipykernel_launcher.py:2: SettingWithCopyWarning: \n",
      "A value is trying to be set on a copy of a slice from a DataFrame.\n",
      "Try using .loc[row_indexer,col_indexer] = value instead\n",
      "\n",
      "See the caveats in the documentation: http://pandas.pydata.org/pandas-docs/stable/indexing.html#indexing-view-versus-copy\n",
      "  \n"
     ]
    }
   ],
   "source": [
    "total_female_household = ds[['r4m1','r4m2','r4m3']]\n",
    "total_female_household['suma'] = total_female_household[['r4m1','r4m2']].sum(axis=1)\n",
    "\n",
    "print(\"La variable r4m3 es la suma de r4m1 y r4m2: \",total_female_household[total_female_household.r4m3!=total_female_household.suma].shape[0]==0)"
   ]
  },
  {
   "cell_type": "markdown",
   "metadata": {},
   "source": [
    "##### Verificación de integridad entre r4h2+ r4h1 = r4h3\n",
    "Se verifica que la variable r4h3 es la suma de r4h1 y r4h2."
   ]
  },
  {
   "cell_type": "code",
   "execution_count": 44,
   "metadata": {},
   "outputs": [
    {
     "data": {
      "text/html": [
       "<div>\n",
       "<style scoped>\n",
       "    .dataframe tbody tr th:only-of-type {\n",
       "        vertical-align: middle;\n",
       "    }\n",
       "\n",
       "    .dataframe tbody tr th {\n",
       "        vertical-align: top;\n",
       "    }\n",
       "\n",
       "    .dataframe thead th {\n",
       "        text-align: right;\n",
       "    }\n",
       "</style>\n",
       "<table border=\"1\" class=\"dataframe\">\n",
       "  <thead>\n",
       "    <tr style=\"text-align: right;\">\n",
       "      <th></th>\n",
       "      <th>Variable_name</th>\n",
       "      <th>Variable_description</th>\n",
       "    </tr>\n",
       "  </thead>\n",
       "  <tbody>\n",
       "    <tr>\n",
       "      <th>8</th>\n",
       "      <td>r4h1</td>\n",
       "      <td>Males younger than 12 years of age</td>\n",
       "    </tr>\n",
       "    <tr>\n",
       "      <th>9</th>\n",
       "      <td>r4h2</td>\n",
       "      <td>Males 12 years of age and older</td>\n",
       "    </tr>\n",
       "    <tr>\n",
       "      <th>10</th>\n",
       "      <td>r4h3</td>\n",
       "      <td>Total males in the household</td>\n",
       "    </tr>\n",
       "  </tbody>\n",
       "</table>\n",
       "</div>"
      ],
      "text/plain": [
       "   Variable_name                Variable_description\n",
       "8           r4h1  Males younger than 12 years of age\n",
       "9           r4h2     Males 12 years of age and older\n",
       "10          r4h3        Total males in the household"
      ]
     },
     "execution_count": 44,
     "metadata": {},
     "output_type": "execute_result"
    }
   ],
   "source": [
    "_data_fields[_data_fields['Variable_name'].isin(['r4h1','r4h2','r4h3'])]"
   ]
  },
  {
   "cell_type": "code",
   "execution_count": 45,
   "metadata": {},
   "outputs": [
    {
     "name": "stdout",
     "output_type": "stream",
     "text": [
      "La variable r4h3 es la suma de r4h1 y r4h2:  True\n"
     ]
    },
    {
     "name": "stderr",
     "output_type": "stream",
     "text": [
      "C:\\Users\\soluj\\Anaconda3\\lib\\site-packages\\ipykernel_launcher.py:2: SettingWithCopyWarning: \n",
      "A value is trying to be set on a copy of a slice from a DataFrame.\n",
      "Try using .loc[row_indexer,col_indexer] = value instead\n",
      "\n",
      "See the caveats in the documentation: http://pandas.pydata.org/pandas-docs/stable/indexing.html#indexing-view-versus-copy\n",
      "  \n"
     ]
    }
   ],
   "source": [
    "total_male_household = ds[['r4h1','r4h2','r4h3']]\n",
    "total_male_household['suma'] = total_male_household[['r4h1','r4h2']].sum(axis=1)\n",
    "\n",
    "print(\"La variable r4h3 es la suma de r4h1 y r4h2: \",total_male_household[total_male_household.r4h3!=total_male_household.suma].shape[0]==0)"
   ]
  },
  {
   "cell_type": "markdown",
   "metadata": {},
   "source": [
    "##### Conclusión: \n",
    "* r4h1 + r4h2 = r4h3\n",
    "* r4m1 + r4m2 = r4m3\n",
    "* r4h3 + r4m3 = r4t3\n",
    "\n",
    "  \n",
    "<p style=\"background-color: #FFFF00\">Las variables r4t3, r4m3 y r4h3 son dependientes r4h1, r4h2, r4m1 y r4m2. Por lo que las variables r4t3, r4m3 y r4h3 serán eliminadas.</p>"
   ]
  },
  {
   "cell_type": "markdown",
   "metadata": {},
   "source": [
    "#### Consistencia de variables hogar_nin, hogar_adul, hogar_mayor y hogar_total"
   ]
  },
  {
   "cell_type": "markdown",
   "metadata": {},
   "source": [
    "##### Verificación de integridad entre 'hogar_nin', 'hogar_adul',  'hogar_mayor' == 'hogar_total'\n",
    "\n",
    "Verificamos que la variable hogar_total es igual a la suma de hogar_nin + hogar_adul + hogar_mayor. Encontramos 2028 casos en que esto no se cumple.\n"
   ]
  },
  {
   "cell_type": "code",
   "execution_count": 46,
   "metadata": {},
   "outputs": [
    {
     "data": {
      "text/html": [
       "<div>\n",
       "<style scoped>\n",
       "    .dataframe tbody tr th:only-of-type {\n",
       "        vertical-align: middle;\n",
       "    }\n",
       "\n",
       "    .dataframe tbody tr th {\n",
       "        vertical-align: top;\n",
       "    }\n",
       "\n",
       "    .dataframe thead th {\n",
       "        text-align: right;\n",
       "    }\n",
       "</style>\n",
       "<table border=\"1\" class=\"dataframe\">\n",
       "  <thead>\n",
       "    <tr style=\"text-align: right;\">\n",
       "      <th></th>\n",
       "      <th>Variable_name</th>\n",
       "      <th>Variable_description</th>\n",
       "    </tr>\n",
       "  </thead>\n",
       "  <tbody>\n",
       "    <tr>\n",
       "      <th>95</th>\n",
       "      <td>hogar_nin</td>\n",
       "      <td>Number of children 0 to 19 in household</td>\n",
       "    </tr>\n",
       "    <tr>\n",
       "      <th>96</th>\n",
       "      <td>hogar_adul</td>\n",
       "      <td>Number of adults in household</td>\n",
       "    </tr>\n",
       "    <tr>\n",
       "      <th>97</th>\n",
       "      <td>hogar_mayor</td>\n",
       "      <td># of individuals 65+ in the household</td>\n",
       "    </tr>\n",
       "    <tr>\n",
       "      <th>98</th>\n",
       "      <td>hogar_total</td>\n",
       "      <td># of total individuals in the household</td>\n",
       "    </tr>\n",
       "  </tbody>\n",
       "</table>\n",
       "</div>"
      ],
      "text/plain": [
       "   Variable_name                     Variable_description\n",
       "95     hogar_nin  Number of children 0 to 19 in household\n",
       "96    hogar_adul            Number of adults in household\n",
       "97   hogar_mayor    # of individuals 65+ in the household\n",
       "98   hogar_total  # of total individuals in the household"
      ]
     },
     "execution_count": 46,
     "metadata": {},
     "output_type": "execute_result"
    }
   ],
   "source": [
    "_data_fields[_data_fields['Variable_name'].isin(['hogar_nin', 'hogar_adul', 'hogar_mayor','hogar_total'])]"
   ]
  },
  {
   "cell_type": "code",
   "execution_count": 47,
   "metadata": {},
   "outputs": [
    {
     "name": "stderr",
     "output_type": "stream",
     "text": [
      "C:\\Users\\soluj\\Anaconda3\\lib\\site-packages\\ipykernel_launcher.py:2: SettingWithCopyWarning: \n",
      "A value is trying to be set on a copy of a slice from a DataFrame.\n",
      "Try using .loc[row_indexer,col_indexer] = value instead\n",
      "\n",
      "See the caveats in the documentation: http://pandas.pydata.org/pandas-docs/stable/indexing.html#indexing-view-versus-copy\n",
      "  \n"
     ]
    },
    {
     "data": {
      "text/plain": [
       "hogar_nin      2028\n",
       "hogar_adul     2028\n",
       "hogar_mayor    2028\n",
       "hogar_total    2028\n",
       "suma           2028\n",
       "dtype: int64"
      ]
     },
     "execution_count": 47,
     "metadata": {},
     "output_type": "execute_result"
    }
   ],
   "source": [
    "hogar = ds[['hogar_nin', 'hogar_adul', 'hogar_mayor', 'hogar_total']]\n",
    "hogar['suma'] = hogar[['hogar_nin', 'hogar_adul', 'hogar_mayor']].sum(axis=1)\n",
    "hogar[hogar.hogar_total!=hogar.suma].count()"
   ]
  },
  {
   "cell_type": "markdown",
   "metadata": {},
   "source": [
    "##### Verificación de integridad entre 'hogar_nin', 'hogar_adul',== 'hogar_total'\n",
    "\n",
    "Verificamos que la variable hogar_total es igual a la suma de hogar_nin + hogar_adul. Por lo que se puede mantener las variables hogar_nin y hogar_adult, y se descarta la variable hogar_total."
   ]
  },
  {
   "cell_type": "code",
   "execution_count": 48,
   "metadata": {},
   "outputs": [
    {
     "name": "stderr",
     "output_type": "stream",
     "text": [
      "C:\\Users\\soluj\\Anaconda3\\lib\\site-packages\\ipykernel_launcher.py:2: SettingWithCopyWarning: \n",
      "A value is trying to be set on a copy of a slice from a DataFrame.\n",
      "Try using .loc[row_indexer,col_indexer] = value instead\n",
      "\n",
      "See the caveats in the documentation: http://pandas.pydata.org/pandas-docs/stable/indexing.html#indexing-view-versus-copy\n",
      "  \n"
     ]
    },
    {
     "data": {
      "text/plain": [
       "hogar_nin      0\n",
       "hogar_adul     0\n",
       "hogar_mayor    0\n",
       "hogar_total    0\n",
       "suma           0\n",
       "dtype: int64"
      ]
     },
     "execution_count": 48,
     "metadata": {},
     "output_type": "execute_result"
    }
   ],
   "source": [
    "hogar = ds[['hogar_nin', 'hogar_adul', 'hogar_mayor', 'hogar_total']]\n",
    "hogar['suma'] = hogar[['hogar_nin', 'hogar_adul']].sum(axis=1)\n",
    "hogar[hogar.hogar_total!=hogar.suma].count()"
   ]
  },
  {
   "cell_type": "markdown",
   "metadata": {},
   "source": [
    "#### Consistencia de las variables paredblolad, paredzocalo, paredpreb, pareddes, paredmad, paredzinc, paredfibras y paredother"
   ]
  },
  {
   "cell_type": "markdown",
   "metadata": {},
   "source": [
    "##### Verificación que al menos uno de las variable pared haya sido elegido por individuo\n",
    "* paredblolad\n",
    "* paredzocalo\n",
    "* paredpreb\n",
    "* pareddes\n",
    "* paredmad\n",
    "* paredzinc\n",
    "* paredfibras\n",
    "* paredother"
   ]
  },
  {
   "cell_type": "code",
   "execution_count": 49,
   "metadata": {},
   "outputs": [
    {
     "data": {
      "text/html": [
       "<div>\n",
       "<style scoped>\n",
       "    .dataframe tbody tr th:only-of-type {\n",
       "        vertical-align: middle;\n",
       "    }\n",
       "\n",
       "    .dataframe tbody tr th {\n",
       "        vertical-align: top;\n",
       "    }\n",
       "\n",
       "    .dataframe thead th {\n",
       "        text-align: right;\n",
       "    }\n",
       "</style>\n",
       "<table border=\"1\" class=\"dataframe\">\n",
       "  <thead>\n",
       "    <tr style=\"text-align: right;\">\n",
       "      <th></th>\n",
       "      <th>Variable_name</th>\n",
       "      <th>Variable_description</th>\n",
       "    </tr>\n",
       "  </thead>\n",
       "  <tbody>\n",
       "    <tr>\n",
       "      <th>22</th>\n",
       "      <td>paredblolad</td>\n",
       "      <td>=1 if predominant material on the outside wall is block or brick</td>\n",
       "    </tr>\n",
       "    <tr>\n",
       "      <th>23</th>\n",
       "      <td>paredzocalo</td>\n",
       "      <td>=1 if predominant material on the outside wall is socket (wood, zinc or absbesto)</td>\n",
       "    </tr>\n",
       "    <tr>\n",
       "      <th>24</th>\n",
       "      <td>paredpreb</td>\n",
       "      <td>=1 if predominant material on the outside wall is prefabricated or cement</td>\n",
       "    </tr>\n",
       "    <tr>\n",
       "      <th>25</th>\n",
       "      <td>pareddes</td>\n",
       "      <td>=1 if predominant material on the outside wall is waste material</td>\n",
       "    </tr>\n",
       "    <tr>\n",
       "      <th>26</th>\n",
       "      <td>paredmad</td>\n",
       "      <td>=1 if predominant material on the outside wall is wood</td>\n",
       "    </tr>\n",
       "    <tr>\n",
       "      <th>27</th>\n",
       "      <td>paredzinc</td>\n",
       "      <td>=1 if predominant material on the outside wall is zink</td>\n",
       "    </tr>\n",
       "    <tr>\n",
       "      <th>28</th>\n",
       "      <td>paredfibras</td>\n",
       "      <td>=1 if predominant material on the outside wall is natural fibers</td>\n",
       "    </tr>\n",
       "    <tr>\n",
       "      <th>29</th>\n",
       "      <td>paredother</td>\n",
       "      <td>=1 if predominant material on the outside wall is other</td>\n",
       "    </tr>\n",
       "  </tbody>\n",
       "</table>\n",
       "</div>"
      ],
      "text/plain": [
       "   Variable_name  \\\n",
       "22   paredblolad   \n",
       "23   paredzocalo   \n",
       "24     paredpreb   \n",
       "25      pareddes   \n",
       "26      paredmad   \n",
       "27     paredzinc   \n",
       "28   paredfibras   \n",
       "29    paredother   \n",
       "\n",
       "                                                                 Variable_description  \n",
       "22                   =1 if predominant material on the outside wall is block or brick  \n",
       "23  =1 if predominant material on the outside wall is socket (wood, zinc or absbesto)  \n",
       "24          =1 if predominant material on the outside wall is prefabricated or cement  \n",
       "25                   =1 if predominant material on the outside wall is waste material  \n",
       "26                             =1 if predominant material on the outside wall is wood  \n",
       "27                             =1 if predominant material on the outside wall is zink  \n",
       "28                   =1 if predominant material on the outside wall is natural fibers  \n",
       "29                            =1 if predominant material on the outside wall is other  "
      ]
     },
     "execution_count": 49,
     "metadata": {},
     "output_type": "execute_result"
    }
   ],
   "source": [
    "_data_fields[_data_fields['Variable_name'].isin(['paredblolad','paredzocalo','paredpreb','pareddes','paredmad','paredzinc','paredfibras','paredother'])]"
   ]
  },
  {
   "cell_type": "code",
   "execution_count": 50,
   "metadata": {
    "scrolled": true
   },
   "outputs": [
    {
     "data": {
      "text/plain": [
       "0"
      ]
     },
     "execution_count": 50,
     "metadata": {},
     "output_type": "execute_result"
    }
   ],
   "source": [
    "ds.loc[ds[['paredblolad','paredzocalo','paredpreb','pareddes','paredmad','paredzinc','paredfibras','paredother']].sum(axis=1)==False]['Id'].count()"
   ]
  },
  {
   "cell_type": "markdown",
   "metadata": {},
   "source": [
    "##### Verificación que todos los integrantes de la familia tengan el mismo material de la pared asignado "
   ]
  },
  {
   "cell_type": "code",
   "execution_count": 51,
   "metadata": {},
   "outputs": [
    {
     "name": "stdout",
     "output_type": "stream",
     "text": [
      "Cantidad de familias sin caracteristicas comunes:  0\n"
     ]
    }
   ],
   "source": [
    "idhogar_list = pd.Series(ds['idhogar'].unique())\n",
    "pared_ds = ds[['idhogar','paredblolad','paredzocalo','paredpreb','pareddes','paredmad','paredzinc','paredfibras','paredother']]\n",
    "id = idhogar_list.apply(lambda x: x if pared_ds[pared_ds.idhogar==x].all().value_counts()[True]!=2 else None)\n",
    "print(\"Cantidad de familias sin caracteristicas comunes: \",len(id[id.notnull()]))"
   ]
  },
  {
   "cell_type": "markdown",
   "metadata": {},
   "source": [
    "#### Consistencia de las variables pisomoscer, pisocemento, pisoother, pisonatur, pisonotiene y pisomadera"
   ]
  },
  {
   "cell_type": "markdown",
   "metadata": {},
   "source": [
    "##### Verificación variable tipo de piso.\n",
    "* pisomoscer\n",
    "* pisocemento\n",
    "* pisoother\n",
    "* pisonatur\n",
    "* pisonotiene\n",
    "* pisomadera\n",
    "           \n"
   ]
  },
  {
   "cell_type": "code",
   "execution_count": 52,
   "metadata": {},
   "outputs": [
    {
     "data": {
      "text/html": [
       "<div>\n",
       "<style scoped>\n",
       "    .dataframe tbody tr th:only-of-type {\n",
       "        vertical-align: middle;\n",
       "    }\n",
       "\n",
       "    .dataframe tbody tr th {\n",
       "        vertical-align: top;\n",
       "    }\n",
       "\n",
       "    .dataframe thead th {\n",
       "        text-align: right;\n",
       "    }\n",
       "</style>\n",
       "<table border=\"1\" class=\"dataframe\">\n",
       "  <thead>\n",
       "    <tr style=\"text-align: right;\">\n",
       "      <th></th>\n",
       "      <th>Variable_name</th>\n",
       "      <th>Variable_description</th>\n",
       "    </tr>\n",
       "  </thead>\n",
       "  <tbody>\n",
       "    <tr>\n",
       "      <th>30</th>\n",
       "      <td>pisomoscer</td>\n",
       "      <td>=1 if predominant material on the floor is mosaic, ceramic, terrazo</td>\n",
       "    </tr>\n",
       "    <tr>\n",
       "      <th>31</th>\n",
       "      <td>pisocemento</td>\n",
       "      <td>=1 if predominant material on the floor is cement</td>\n",
       "    </tr>\n",
       "    <tr>\n",
       "      <th>32</th>\n",
       "      <td>pisoother</td>\n",
       "      <td>=1 if predominant material on the floor is other</td>\n",
       "    </tr>\n",
       "    <tr>\n",
       "      <th>33</th>\n",
       "      <td>pisonatur</td>\n",
       "      <td>=1 if predominant material on the floor is  natural material</td>\n",
       "    </tr>\n",
       "    <tr>\n",
       "      <th>34</th>\n",
       "      <td>pisonotiene</td>\n",
       "      <td>=1 if no floor at the household</td>\n",
       "    </tr>\n",
       "    <tr>\n",
       "      <th>35</th>\n",
       "      <td>pisomadera</td>\n",
       "      <td>=1 if predominant material on the floor is wood</td>\n",
       "    </tr>\n",
       "  </tbody>\n",
       "</table>\n",
       "</div>"
      ],
      "text/plain": [
       "   Variable_name  \\\n",
       "30    pisomoscer   \n",
       "31   pisocemento   \n",
       "32     pisoother   \n",
       "33     pisonatur   \n",
       "34   pisonotiene   \n",
       "35    pisomadera   \n",
       "\n",
       "                                                   Variable_description  \n",
       "30  =1 if predominant material on the floor is mosaic, ceramic, terrazo  \n",
       "31                    =1 if predominant material on the floor is cement  \n",
       "32                     =1 if predominant material on the floor is other  \n",
       "33         =1 if predominant material on the floor is  natural material  \n",
       "34                                      =1 if no floor at the household  \n",
       "35                      =1 if predominant material on the floor is wood  "
      ]
     },
     "execution_count": 52,
     "metadata": {},
     "output_type": "execute_result"
    }
   ],
   "source": [
    "_data_fields[_data_fields['Variable_name'].isin(['pisomoscer','pisocemento','pisoother','pisonatur','pisonotiene','pisomadera'])]"
   ]
  },
  {
   "cell_type": "code",
   "execution_count": 53,
   "metadata": {},
   "outputs": [
    {
     "data": {
      "text/plain": [
       "0"
      ]
     },
     "execution_count": 53,
     "metadata": {},
     "output_type": "execute_result"
    }
   ],
   "source": [
    "ds.loc[ds[['pisomoscer','pisocemento','pisoother','pisonatur','pisonotiene','pisomadera']].sum(axis=1)==False]['Id'].count()"
   ]
  },
  {
   "cell_type": "markdown",
   "metadata": {},
   "source": [
    "#####  Verificación que todos los integrantes de la familia tengan el mismo material del piso asignado"
   ]
  },
  {
   "cell_type": "code",
   "execution_count": 54,
   "metadata": {},
   "outputs": [
    {
     "name": "stdout",
     "output_type": "stream",
     "text": [
      "Cantidad de familias sin caracteristicas comunes:  0\n"
     ]
    }
   ],
   "source": [
    "idhogar_list = pd.Series(ds['idhogar'].unique())\n",
    "pared_ds = ds[['idhogar','pisomoscer','pisocemento','pisoother','pisonatur','pisonotiene','pisomadera']]\n",
    "id = idhogar_list.apply(lambda x: x if pared_ds[pared_ds.idhogar==x].all().value_counts()[True]!=2 else None)\n",
    "print(\"Cantidad de familias sin caracteristicas comunes: \",len(id[id.notnull()]))\n"
   ]
  },
  {
   "cell_type": "markdown",
   "metadata": {},
   "source": [
    "#### Consistencia de las variables techozinc, techoentrepiso, techocane y techootro"
   ]
  },
  {
   "cell_type": "markdown",
   "metadata": {},
   "source": [
    "##### Verificación variable tipo de techo.\n",
    "Se encontraron 66 casos en el individuo no tiene asigando un material para el techo. \n",
    "\n",
    "* techozinc\n",
    "* techoentrepiso\n",
    "* techocane\n",
    "* techootro"
   ]
  },
  {
   "cell_type": "code",
   "execution_count": 55,
   "metadata": {
    "scrolled": false
   },
   "outputs": [
    {
     "data": {
      "text/html": [
       "<div>\n",
       "<style scoped>\n",
       "    .dataframe tbody tr th:only-of-type {\n",
       "        vertical-align: middle;\n",
       "    }\n",
       "\n",
       "    .dataframe tbody tr th {\n",
       "        vertical-align: top;\n",
       "    }\n",
       "\n",
       "    .dataframe thead th {\n",
       "        text-align: right;\n",
       "    }\n",
       "</style>\n",
       "<table border=\"1\" class=\"dataframe\">\n",
       "  <thead>\n",
       "    <tr style=\"text-align: right;\">\n",
       "      <th></th>\n",
       "      <th>Variable_name</th>\n",
       "      <th>Variable_description</th>\n",
       "    </tr>\n",
       "  </thead>\n",
       "  <tbody>\n",
       "    <tr>\n",
       "      <th>36</th>\n",
       "      <td>techozinc</td>\n",
       "      <td>=1 if predominant material on the roof is metal foil or zink</td>\n",
       "    </tr>\n",
       "    <tr>\n",
       "      <th>37</th>\n",
       "      <td>techoentrepiso</td>\n",
       "      <td>=1 if predominant material on the roof is fiber cement, mezzanine</td>\n",
       "    </tr>\n",
       "    <tr>\n",
       "      <th>38</th>\n",
       "      <td>techocane</td>\n",
       "      <td>=1 if predominant material on the roof is natural fibers</td>\n",
       "    </tr>\n",
       "    <tr>\n",
       "      <th>39</th>\n",
       "      <td>techootro</td>\n",
       "      <td>=1 if predominant material on the roof is other</td>\n",
       "    </tr>\n",
       "    <tr>\n",
       "      <th>40</th>\n",
       "      <td>cielorazo</td>\n",
       "      <td>=1 if the house has ceiling</td>\n",
       "    </tr>\n",
       "    <tr>\n",
       "      <th>66</th>\n",
       "      <td>etecho1</td>\n",
       "      <td>=1 if roof are bad</td>\n",
       "    </tr>\n",
       "    <tr>\n",
       "      <th>67</th>\n",
       "      <td>etecho2</td>\n",
       "      <td>=1 if roof are regular</td>\n",
       "    </tr>\n",
       "    <tr>\n",
       "      <th>68</th>\n",
       "      <td>etecho3</td>\n",
       "      <td>=1 if roof are good</td>\n",
       "    </tr>\n",
       "  </tbody>\n",
       "</table>\n",
       "</div>"
      ],
      "text/plain": [
       "     Variable_name  \\\n",
       "36       techozinc   \n",
       "37  techoentrepiso   \n",
       "38       techocane   \n",
       "39       techootro   \n",
       "40       cielorazo   \n",
       "66         etecho1   \n",
       "67         etecho2   \n",
       "68         etecho3   \n",
       "\n",
       "                                                 Variable_description  \n",
       "36       =1 if predominant material on the roof is metal foil or zink  \n",
       "37  =1 if predominant material on the roof is fiber cement, mezzanine  \n",
       "38           =1 if predominant material on the roof is natural fibers  \n",
       "39                    =1 if predominant material on the roof is other  \n",
       "40                                        =1 if the house has ceiling  \n",
       "66                                                 =1 if roof are bad  \n",
       "67                                             =1 if roof are regular  \n",
       "68                                                =1 if roof are good  "
      ]
     },
     "execution_count": 55,
     "metadata": {},
     "output_type": "execute_result"
    }
   ],
   "source": [
    "_data_fields[_data_fields['Variable_name'].isin(['techozinc','techoentrepiso','techocane','techootro','cielorazo', 'etecho1', 'etecho2', 'etecho3'])]"
   ]
  },
  {
   "cell_type": "code",
   "execution_count": 56,
   "metadata": {},
   "outputs": [
    {
     "data": {
      "text/plain": [
       "66"
      ]
     },
     "execution_count": 56,
     "metadata": {},
     "output_type": "execute_result"
    }
   ],
   "source": [
    "# Totalindividuos\n",
    "ds.loc[ds[['techozinc','techoentrepiso','techocane','techootro']].sum(axis=1)==False]['Id'].count()"
   ]
  },
  {
   "cell_type": "markdown",
   "metadata": {},
   "source": [
    "Se observa que son familias de todas las clases. El estado del techo para dichas familias es malo exeptuando una familia que es regular. \n",
    "La falta de este valor se puede deber a un problema de dataentry ya que en caso de no existir la opción que se ajuste más a la característica del hogar se podría haber elegido la opción techo otro. \n",
    "\n",
    "Se incluye el cielo razo para observar si hubo algún tipo de confusión y se seleccionó dicha opción como material del techo, pero tampoco tiene un valor asignado para estas familias."
   ]
  },
  {
   "cell_type": "code",
   "execution_count": 57,
   "metadata": {
    "scrolled": false
   },
   "outputs": [
    {
     "data": {
      "text/html": [
       "<div>\n",
       "<style scoped>\n",
       "    .dataframe tbody tr th:only-of-type {\n",
       "        vertical-align: middle;\n",
       "    }\n",
       "\n",
       "    .dataframe tbody tr th {\n",
       "        vertical-align: top;\n",
       "    }\n",
       "\n",
       "    .dataframe thead th {\n",
       "        text-align: right;\n",
       "    }\n",
       "</style>\n",
       "<table border=\"1\" class=\"dataframe\">\n",
       "  <thead>\n",
       "    <tr style=\"text-align: right;\">\n",
       "      <th></th>\n",
       "      <th>Target</th>\n",
       "      <th>tamhog</th>\n",
       "      <th>idhogar</th>\n",
       "      <th>etecho1</th>\n",
       "      <th>etecho2</th>\n",
       "      <th>etecho3</th>\n",
       "      <th>techozinc</th>\n",
       "      <th>techoentrepiso</th>\n",
       "      <th>techocane</th>\n",
       "      <th>techootro</th>\n",
       "      <th>cielorazo</th>\n",
       "    </tr>\n",
       "  </thead>\n",
       "  <tbody>\n",
       "    <tr>\n",
       "      <th>166</th>\n",
       "      <td>2</td>\n",
       "      <td>7</td>\n",
       "      <td>71bec40bc</td>\n",
       "      <td>1</td>\n",
       "      <td>0</td>\n",
       "      <td>0</td>\n",
       "      <td>0</td>\n",
       "      <td>0</td>\n",
       "      <td>0</td>\n",
       "      <td>0</td>\n",
       "      <td>0</td>\n",
       "    </tr>\n",
       "    <tr>\n",
       "      <th>167</th>\n",
       "      <td>2</td>\n",
       "      <td>7</td>\n",
       "      <td>71bec40bc</td>\n",
       "      <td>1</td>\n",
       "      <td>0</td>\n",
       "      <td>0</td>\n",
       "      <td>0</td>\n",
       "      <td>0</td>\n",
       "      <td>0</td>\n",
       "      <td>0</td>\n",
       "      <td>0</td>\n",
       "    </tr>\n",
       "    <tr>\n",
       "      <th>168</th>\n",
       "      <td>2</td>\n",
       "      <td>7</td>\n",
       "      <td>71bec40bc</td>\n",
       "      <td>1</td>\n",
       "      <td>0</td>\n",
       "      <td>0</td>\n",
       "      <td>0</td>\n",
       "      <td>0</td>\n",
       "      <td>0</td>\n",
       "      <td>0</td>\n",
       "      <td>0</td>\n",
       "    </tr>\n",
       "    <tr>\n",
       "      <th>169</th>\n",
       "      <td>2</td>\n",
       "      <td>7</td>\n",
       "      <td>71bec40bc</td>\n",
       "      <td>1</td>\n",
       "      <td>0</td>\n",
       "      <td>0</td>\n",
       "      <td>0</td>\n",
       "      <td>0</td>\n",
       "      <td>0</td>\n",
       "      <td>0</td>\n",
       "      <td>0</td>\n",
       "    </tr>\n",
       "    <tr>\n",
       "      <th>170</th>\n",
       "      <td>2</td>\n",
       "      <td>7</td>\n",
       "      <td>71bec40bc</td>\n",
       "      <td>1</td>\n",
       "      <td>0</td>\n",
       "      <td>0</td>\n",
       "      <td>0</td>\n",
       "      <td>0</td>\n",
       "      <td>0</td>\n",
       "      <td>0</td>\n",
       "      <td>0</td>\n",
       "    </tr>\n",
       "  </tbody>\n",
       "</table>\n",
       "</div>"
      ],
      "text/plain": [
       "     Target  tamhog    idhogar  etecho1  etecho2  etecho3  techozinc  \\\n",
       "166       2       7  71bec40bc        1        0        0          0   \n",
       "167       2       7  71bec40bc        1        0        0          0   \n",
       "168       2       7  71bec40bc        1        0        0          0   \n",
       "169       2       7  71bec40bc        1        0        0          0   \n",
       "170       2       7  71bec40bc        1        0        0          0   \n",
       "\n",
       "     techoentrepiso  techocane  techootro  cielorazo  \n",
       "166               0          0          0          0  \n",
       "167               0          0          0          0  \n",
       "168               0          0          0          0  \n",
       "169               0          0          0          0  \n",
       "170               0          0          0          0  "
      ]
     },
     "execution_count": 57,
     "metadata": {},
     "output_type": "execute_result"
    }
   ],
   "source": [
    "ds.loc[ds[['techozinc','techoentrepiso','techocane','techootro','cielorazo']].sum(axis=1)==False][['Target','tamhog','idhogar', 'etecho1', 'etecho2', 'etecho3','techozinc','techoentrepiso','techocane','techootro','cielorazo']].head()"
   ]
  },
  {
   "cell_type": "markdown",
   "metadata": {},
   "source": [
    "#####  Verificación que todos los integrantes de la familia tengan el mismo material del techo asignado"
   ]
  },
  {
   "cell_type": "code",
   "execution_count": 58,
   "metadata": {
    "scrolled": true
   },
   "outputs": [
    {
     "name": "stdout",
     "output_type": "stream",
     "text": [
      "Cantidad de familias sin caracteristicas comunes:  19\n"
     ]
    }
   ],
   "source": [
    "idhogar_list = pd.Series(ds['idhogar'].unique())\n",
    "techo_ds = ds[['idhogar','techozinc','techoentrepiso','techocane','techootro']]\n",
    "id = idhogar_list.apply(lambda x: x if techo_ds[techo_ds.idhogar==x].all().value_counts()[True]!=2 else None)\n",
    "print(\"Cantidad de familias sin caracteristicas comunes: \",len(id[id.notnull()]))\n",
    "\n"
   ]
  },
  {
   "cell_type": "markdown",
   "metadata": {},
   "source": [
    "<span style=\"border: 4px solid #52A5D8;background-color: #E87079;padding: 12px\">66 personas pertenecientes a 19 familias cuyo material del techo es distinto para los miembros de la familia</span>"
   ]
  },
  {
   "cell_type": "markdown",
   "metadata": {},
   "source": [
    "#### Consistencia de las variables abastaguadentro, abastaguafuera y abastaguano"
   ]
  },
  {
   "cell_type": "markdown",
   "metadata": {},
   "source": [
    " ##### Verificación variable abastecimiento de agua.\n",
    "\n",
    "* abastaguadentro\n",
    "* abastaguafuera\n",
    "* abastaguano\n"
   ]
  },
  {
   "cell_type": "code",
   "execution_count": 59,
   "metadata": {},
   "outputs": [
    {
     "data": {
      "text/html": [
       "<div>\n",
       "<style scoped>\n",
       "    .dataframe tbody tr th:only-of-type {\n",
       "        vertical-align: middle;\n",
       "    }\n",
       "\n",
       "    .dataframe tbody tr th {\n",
       "        vertical-align: top;\n",
       "    }\n",
       "\n",
       "    .dataframe thead th {\n",
       "        text-align: right;\n",
       "    }\n",
       "</style>\n",
       "<table border=\"1\" class=\"dataframe\">\n",
       "  <thead>\n",
       "    <tr style=\"text-align: right;\">\n",
       "      <th></th>\n",
       "      <th>Variable_name</th>\n",
       "      <th>Variable_description</th>\n",
       "    </tr>\n",
       "  </thead>\n",
       "  <tbody>\n",
       "    <tr>\n",
       "      <th>41</th>\n",
       "      <td>abastaguadentro</td>\n",
       "      <td>=1 if water provision inside the dwelling</td>\n",
       "    </tr>\n",
       "    <tr>\n",
       "      <th>42</th>\n",
       "      <td>abastaguafuera</td>\n",
       "      <td>=1 if water provision outside the dwelling</td>\n",
       "    </tr>\n",
       "    <tr>\n",
       "      <th>43</th>\n",
       "      <td>abastaguano</td>\n",
       "      <td>=1 if no water provision</td>\n",
       "    </tr>\n",
       "  </tbody>\n",
       "</table>\n",
       "</div>"
      ],
      "text/plain": [
       "      Variable_name                        Variable_description\n",
       "41  abastaguadentro   =1 if water provision inside the dwelling\n",
       "42   abastaguafuera  =1 if water provision outside the dwelling\n",
       "43      abastaguano                    =1 if no water provision"
      ]
     },
     "execution_count": 59,
     "metadata": {},
     "output_type": "execute_result"
    }
   ],
   "source": [
    "_data_fields[_data_fields['Variable_name'].isin(['abastaguadentro','abastaguafuera','abastaguano'])]"
   ]
  },
  {
   "cell_type": "code",
   "execution_count": 60,
   "metadata": {},
   "outputs": [
    {
     "data": {
      "text/plain": [
       "0"
      ]
     },
     "execution_count": 60,
     "metadata": {},
     "output_type": "execute_result"
    }
   ],
   "source": [
    "ds.loc[ds[['abastaguadentro','abastaguafuera','abastaguano']].sum(axis=1)==False]['Id'].count()"
   ]
  },
  {
   "cell_type": "markdown",
   "metadata": {},
   "source": [
    "#####  Verificación que todos los integrantes de la familia tengan el mismo abastecimiento de agua"
   ]
  },
  {
   "cell_type": "code",
   "execution_count": 61,
   "metadata": {},
   "outputs": [
    {
     "name": "stdout",
     "output_type": "stream",
     "text": [
      "Cantidad de familias sin caracteristicas comunes:  0\n"
     ]
    }
   ],
   "source": [
    "idhogar_list = pd.Series(ds['idhogar'].unique())\n",
    "agua_ds = ds[['idhogar','abastaguadentro','abastaguafuera','abastaguano']]\n",
    "id = idhogar_list.apply(lambda x: x if agua_ds[agua_ds.idhogar==x].all().value_counts()[True]!=2 else None)\n",
    "print(\"Cantidad de familias sin caracteristicas comunes: \",len(id[id.notnull()]))\n",
    "\n"
   ]
  },
  {
   "cell_type": "markdown",
   "metadata": {},
   "source": [
    "#### Consistencia de las variables public, planpri, noelec y coopele"
   ]
  },
  {
   "cell_type": "markdown",
   "metadata": {},
   "source": [
    " ##### Verificación variable abastecimiento de electricidad.\n",
    "\n",
    "* public\n",
    "* planpri\n",
    "* noelec\n",
    "* coopele\n",
    " "
   ]
  },
  {
   "cell_type": "code",
   "execution_count": 62,
   "metadata": {
    "scrolled": true
   },
   "outputs": [
    {
     "data": {
      "text/html": [
       "<div>\n",
       "<style scoped>\n",
       "    .dataframe tbody tr th:only-of-type {\n",
       "        vertical-align: middle;\n",
       "    }\n",
       "\n",
       "    .dataframe tbody tr th {\n",
       "        vertical-align: top;\n",
       "    }\n",
       "\n",
       "    .dataframe thead th {\n",
       "        text-align: right;\n",
       "    }\n",
       "</style>\n",
       "<table border=\"1\" class=\"dataframe\">\n",
       "  <thead>\n",
       "    <tr style=\"text-align: right;\">\n",
       "      <th></th>\n",
       "      <th>Variable_name</th>\n",
       "      <th>Variable_description</th>\n",
       "    </tr>\n",
       "  </thead>\n",
       "  <tbody>\n",
       "    <tr>\n",
       "      <th>44</th>\n",
       "      <td>public</td>\n",
       "      <td>=1 electricity from CNFL, ICE, ESPH/JASEC</td>\n",
       "    </tr>\n",
       "    <tr>\n",
       "      <th>45</th>\n",
       "      <td>planpri</td>\n",
       "      <td>=1 electricity from private plant</td>\n",
       "    </tr>\n",
       "    <tr>\n",
       "      <th>46</th>\n",
       "      <td>noelec</td>\n",
       "      <td>=1 no electricity in the dwelling</td>\n",
       "    </tr>\n",
       "    <tr>\n",
       "      <th>47</th>\n",
       "      <td>coopele</td>\n",
       "      <td>=1 electricity from cooperative</td>\n",
       "    </tr>\n",
       "  </tbody>\n",
       "</table>\n",
       "</div>"
      ],
      "text/plain": [
       "   Variable_name                       Variable_description\n",
       "44        public  =1 electricity from CNFL, ICE, ESPH/JASEC\n",
       "45       planpri          =1 electricity from private plant\n",
       "46        noelec          =1 no electricity in the dwelling\n",
       "47       coopele            =1 electricity from cooperative"
      ]
     },
     "execution_count": 62,
     "metadata": {},
     "output_type": "execute_result"
    }
   ],
   "source": [
    "_data_fields[_data_fields['Variable_name'].isin(['public','planpri','noelec','coopele'])]"
   ]
  },
  {
   "cell_type": "code",
   "execution_count": 63,
   "metadata": {},
   "outputs": [
    {
     "data": {
      "text/plain": [
       "15"
      ]
     },
     "execution_count": 63,
     "metadata": {},
     "output_type": "execute_result"
    }
   ],
   "source": [
    "# Totalindividuos\n",
    "ds.loc[ds[['public','planpri','noelec','coopele']].sum(axis=1)==False]['Id'].count()"
   ]
  },
  {
   "cell_type": "code",
   "execution_count": 64,
   "metadata": {},
   "outputs": [
    {
     "data": {
      "text/plain": [
       "4"
      ]
     },
     "execution_count": 64,
     "metadata": {},
     "output_type": "execute_result"
    }
   ],
   "source": [
    "# Total de familias sin electricidad\n",
    "len(ds.loc[ds[['public','planpri','noelec','coopele']].sum(axis=1)==False]['idhogar'].unique())"
   ]
  },
  {
   "cell_type": "code",
   "execution_count": 65,
   "metadata": {},
   "outputs": [
    {
     "data": {
      "text/html": [
       "<div>\n",
       "<style scoped>\n",
       "    .dataframe tbody tr th:only-of-type {\n",
       "        vertical-align: middle;\n",
       "    }\n",
       "\n",
       "    .dataframe tbody tr th {\n",
       "        vertical-align: top;\n",
       "    }\n",
       "\n",
       "    .dataframe thead th {\n",
       "        text-align: right;\n",
       "    }\n",
       "</style>\n",
       "<table border=\"1\" class=\"dataframe\">\n",
       "  <thead>\n",
       "    <tr style=\"text-align: right;\">\n",
       "      <th></th>\n",
       "      <th>Target</th>\n",
       "      <th>tamhog</th>\n",
       "      <th>idhogar</th>\n",
       "      <th>public</th>\n",
       "      <th>planpri</th>\n",
       "      <th>noelec</th>\n",
       "      <th>coopele</th>\n",
       "    </tr>\n",
       "  </thead>\n",
       "  <tbody>\n",
       "    <tr>\n",
       "      <th>987</th>\n",
       "      <td>1</td>\n",
       "      <td>3</td>\n",
       "      <td>2848ab152</td>\n",
       "      <td>0</td>\n",
       "      <td>0</td>\n",
       "      <td>0</td>\n",
       "      <td>0</td>\n",
       "    </tr>\n",
       "    <tr>\n",
       "      <th>988</th>\n",
       "      <td>1</td>\n",
       "      <td>3</td>\n",
       "      <td>2848ab152</td>\n",
       "      <td>0</td>\n",
       "      <td>0</td>\n",
       "      <td>0</td>\n",
       "      <td>0</td>\n",
       "    </tr>\n",
       "    <tr>\n",
       "      <th>989</th>\n",
       "      <td>1</td>\n",
       "      <td>3</td>\n",
       "      <td>2848ab152</td>\n",
       "      <td>0</td>\n",
       "      <td>0</td>\n",
       "      <td>0</td>\n",
       "      <td>0</td>\n",
       "    </tr>\n",
       "    <tr>\n",
       "      <th>5579</th>\n",
       "      <td>4</td>\n",
       "      <td>2</td>\n",
       "      <td>4774805db</td>\n",
       "      <td>0</td>\n",
       "      <td>0</td>\n",
       "      <td>0</td>\n",
       "      <td>0</td>\n",
       "    </tr>\n",
       "    <tr>\n",
       "      <th>5580</th>\n",
       "      <td>4</td>\n",
       "      <td>2</td>\n",
       "      <td>4774805db</td>\n",
       "      <td>0</td>\n",
       "      <td>0</td>\n",
       "      <td>0</td>\n",
       "      <td>0</td>\n",
       "    </tr>\n",
       "    <tr>\n",
       "      <th>6477</th>\n",
       "      <td>2</td>\n",
       "      <td>5</td>\n",
       "      <td>f7b421c2c</td>\n",
       "      <td>0</td>\n",
       "      <td>0</td>\n",
       "      <td>0</td>\n",
       "      <td>0</td>\n",
       "    </tr>\n",
       "    <tr>\n",
       "      <th>6478</th>\n",
       "      <td>2</td>\n",
       "      <td>5</td>\n",
       "      <td>f7b421c2c</td>\n",
       "      <td>0</td>\n",
       "      <td>0</td>\n",
       "      <td>0</td>\n",
       "      <td>0</td>\n",
       "    </tr>\n",
       "    <tr>\n",
       "      <th>6479</th>\n",
       "      <td>2</td>\n",
       "      <td>5</td>\n",
       "      <td>f7b421c2c</td>\n",
       "      <td>0</td>\n",
       "      <td>0</td>\n",
       "      <td>0</td>\n",
       "      <td>0</td>\n",
       "    </tr>\n",
       "    <tr>\n",
       "      <th>6480</th>\n",
       "      <td>2</td>\n",
       "      <td>5</td>\n",
       "      <td>f7b421c2c</td>\n",
       "      <td>0</td>\n",
       "      <td>0</td>\n",
       "      <td>0</td>\n",
       "      <td>0</td>\n",
       "    </tr>\n",
       "    <tr>\n",
       "      <th>6481</th>\n",
       "      <td>1</td>\n",
       "      <td>5</td>\n",
       "      <td>f7b421c2c</td>\n",
       "      <td>0</td>\n",
       "      <td>0</td>\n",
       "      <td>0</td>\n",
       "      <td>0</td>\n",
       "    </tr>\n",
       "    <tr>\n",
       "      <th>9540</th>\n",
       "      <td>2</td>\n",
       "      <td>5</td>\n",
       "      <td>e87e70c06</td>\n",
       "      <td>0</td>\n",
       "      <td>0</td>\n",
       "      <td>0</td>\n",
       "      <td>0</td>\n",
       "    </tr>\n",
       "    <tr>\n",
       "      <th>9541</th>\n",
       "      <td>2</td>\n",
       "      <td>5</td>\n",
       "      <td>e87e70c06</td>\n",
       "      <td>0</td>\n",
       "      <td>0</td>\n",
       "      <td>0</td>\n",
       "      <td>0</td>\n",
       "    </tr>\n",
       "    <tr>\n",
       "      <th>9542</th>\n",
       "      <td>2</td>\n",
       "      <td>5</td>\n",
       "      <td>e87e70c06</td>\n",
       "      <td>0</td>\n",
       "      <td>0</td>\n",
       "      <td>0</td>\n",
       "      <td>0</td>\n",
       "    </tr>\n",
       "    <tr>\n",
       "      <th>9543</th>\n",
       "      <td>2</td>\n",
       "      <td>5</td>\n",
       "      <td>e87e70c06</td>\n",
       "      <td>0</td>\n",
       "      <td>0</td>\n",
       "      <td>0</td>\n",
       "      <td>0</td>\n",
       "    </tr>\n",
       "    <tr>\n",
       "      <th>9544</th>\n",
       "      <td>2</td>\n",
       "      <td>5</td>\n",
       "      <td>e87e70c06</td>\n",
       "      <td>0</td>\n",
       "      <td>0</td>\n",
       "      <td>0</td>\n",
       "      <td>0</td>\n",
       "    </tr>\n",
       "  </tbody>\n",
       "</table>\n",
       "</div>"
      ],
      "text/plain": [
       "      Target  tamhog    idhogar  public  planpri  noelec  coopele\n",
       "987        1       3  2848ab152       0        0       0        0\n",
       "988        1       3  2848ab152       0        0       0        0\n",
       "989        1       3  2848ab152       0        0       0        0\n",
       "5579       4       2  4774805db       0        0       0        0\n",
       "5580       4       2  4774805db       0        0       0        0\n",
       "6477       2       5  f7b421c2c       0        0       0        0\n",
       "6478       2       5  f7b421c2c       0        0       0        0\n",
       "6479       2       5  f7b421c2c       0        0       0        0\n",
       "6480       2       5  f7b421c2c       0        0       0        0\n",
       "6481       1       5  f7b421c2c       0        0       0        0\n",
       "9540       2       5  e87e70c06       0        0       0        0\n",
       "9541       2       5  e87e70c06       0        0       0        0\n",
       "9542       2       5  e87e70c06       0        0       0        0\n",
       "9543       2       5  e87e70c06       0        0       0        0\n",
       "9544       2       5  e87e70c06       0        0       0        0"
      ]
     },
     "execution_count": 65,
     "metadata": {},
     "output_type": "execute_result"
    }
   ],
   "source": [
    "ds.loc[ds[['public','planpri','noelec','coopele']].sum(axis=1)==False][['Target','tamhog','idhogar','public','planpri','noelec','coopele']]"
   ]
  },
  {
   "cell_type": "markdown",
   "metadata": {},
   "source": [
    "#####  Verificación que todos los integrantes de la familia tengan asignados mismo proveedor de electricidad"
   ]
  },
  {
   "cell_type": "code",
   "execution_count": 66,
   "metadata": {},
   "outputs": [
    {
     "name": "stdout",
     "output_type": "stream",
     "text": [
      "Cantidad de familias sin caracteristicas comunes:  4\n"
     ]
    }
   ],
   "source": [
    "idhogar_list = pd.Series(ds['idhogar'].unique())\n",
    "elect_ds = ds[['idhogar','public','planpri','noelec','coopele']]\n",
    "id = idhogar_list.apply(lambda x: x if elect_ds[elect_ds.idhogar==x].all().value_counts()[True]!=2 else None)\n",
    "print(\"Cantidad de familias sin caracteristicas comunes: \",len(id[id.notnull()]))\n"
   ]
  },
  {
   "cell_type": "markdown",
   "metadata": {},
   "source": [
    "<span style=\"border: 4px solid #52A5D8;background-color: #E87079;padding: 12px\">Hay 4 familias sin proveedor de electricidad asignado.</span>"
   ]
  },
  {
   "cell_type": "markdown",
   "metadata": {},
   "source": [
    "#### Consistencia de las variables sanitario1, sanitario2, sanitario3, sanitario5 y sanitario6"
   ]
  },
  {
   "cell_type": "markdown",
   "metadata": {},
   "source": [
    " Hace referencia a las características del baño en la vivienda.\n",
    "\n",
    "* sanitario1: no hay baño en la vivienda\n",
    "* sanitario2: baño conectado a alcantarillado o pozo de agua.\n",
    "* sanitario3: baño conectado al tanque séptico.\n",
    "* sanitario5: baño conectado a agujero negro o letrina.\n",
    "* sanitario6: baño conectado a otro sistema\n",
    " "
   ]
  },
  {
   "cell_type": "code",
   "execution_count": 67,
   "metadata": {
    "scrolled": false
   },
   "outputs": [
    {
     "data": {
      "text/html": [
       "<div>\n",
       "<style scoped>\n",
       "    .dataframe tbody tr th:only-of-type {\n",
       "        vertical-align: middle;\n",
       "    }\n",
       "\n",
       "    .dataframe tbody tr th {\n",
       "        vertical-align: top;\n",
       "    }\n",
       "\n",
       "    .dataframe thead th {\n",
       "        text-align: right;\n",
       "    }\n",
       "</style>\n",
       "<table border=\"1\" class=\"dataframe\">\n",
       "  <thead>\n",
       "    <tr style=\"text-align: right;\">\n",
       "      <th></th>\n",
       "      <th>Variable_name</th>\n",
       "      <th>Variable_description</th>\n",
       "    </tr>\n",
       "  </thead>\n",
       "  <tbody>\n",
       "    <tr>\n",
       "      <th>48</th>\n",
       "      <td>sanitario1</td>\n",
       "      <td>=1 no toilet in the dwelling</td>\n",
       "    </tr>\n",
       "    <tr>\n",
       "      <th>49</th>\n",
       "      <td>sanitario2</td>\n",
       "      <td>=1 toilet connected to sewer or cesspool</td>\n",
       "    </tr>\n",
       "    <tr>\n",
       "      <th>50</th>\n",
       "      <td>sanitario3</td>\n",
       "      <td>=1 toilet connected to  septic tank</td>\n",
       "    </tr>\n",
       "    <tr>\n",
       "      <th>51</th>\n",
       "      <td>sanitario5</td>\n",
       "      <td>=1 toilet connected to black hole or letrine</td>\n",
       "    </tr>\n",
       "    <tr>\n",
       "      <th>52</th>\n",
       "      <td>sanitario6</td>\n",
       "      <td>=1 toilet connected to other system</td>\n",
       "    </tr>\n",
       "  </tbody>\n",
       "</table>\n",
       "</div>"
      ],
      "text/plain": [
       "   Variable_name                          Variable_description\n",
       "48    sanitario1                  =1 no toilet in the dwelling\n",
       "49    sanitario2      =1 toilet connected to sewer or cesspool\n",
       "50    sanitario3           =1 toilet connected to  septic tank\n",
       "51    sanitario5  =1 toilet connected to black hole or letrine\n",
       "52    sanitario6           =1 toilet connected to other system"
      ]
     },
     "execution_count": 67,
     "metadata": {},
     "output_type": "execute_result"
    }
   ],
   "source": [
    "_data_fields[_data_fields['Variable_name'].isin(['sanitario1', 'sanitario2', 'sanitario3', 'sanitario5','sanitario6'])]"
   ]
  },
  {
   "cell_type": "code",
   "execution_count": 68,
   "metadata": {
    "scrolled": true
   },
   "outputs": [
    {
     "data": {
      "text/plain": [
       "0"
      ]
     },
     "execution_count": 68,
     "metadata": {},
     "output_type": "execute_result"
    }
   ],
   "source": [
    "# Total individuos sin ninguna variable sanitario seleccionada.\n",
    "ds.loc[ds[['sanitario1', 'sanitario2', 'sanitario3', 'sanitario5','sanitario6']].sum(axis=1)==False]['Id'].count()"
   ]
  },
  {
   "cell_type": "markdown",
   "metadata": {},
   "source": [
    "#####  Verificación que todos los integrantes de la familia tengan asignados mismo variable sanitario elegida."
   ]
  },
  {
   "cell_type": "code",
   "execution_count": 69,
   "metadata": {
    "scrolled": true
   },
   "outputs": [
    {
     "name": "stdout",
     "output_type": "stream",
     "text": [
      "Cantidad de familias sin caracteristicas comunes:  0\n"
     ]
    }
   ],
   "source": [
    "idhogar_list = pd.Series(ds['idhogar'].unique())\n",
    "elect_ds = ds[['idhogar','sanitario1', 'sanitario2', 'sanitario3', 'sanitario5','sanitario6']]\n",
    "id = idhogar_list.apply(lambda x: x if elect_ds[elect_ds.idhogar==x].all().value_counts()[True]!=2 else None)\n",
    "print(\"Cantidad de familias sin caracteristicas comunes: \",len(id[id.notnull()]))\n"
   ]
  },
  {
   "cell_type": "markdown",
   "metadata": {},
   "source": [
    "#### Consistencia de las variables energcocinar1, energcocinar2, energcocinar3 y  energcocinar4 "
   ]
  },
  {
   "cell_type": "markdown",
   "metadata": {},
   "source": [
    " Hace referencia a la fuente de energía para cocinar en la vivienda.\n",
    "\n",
    "* energcocinar1: no hay cocina\n",
    "* energcocinar2: principal fuente de energía para cocinar es la electricidad.\n",
    "* energcocinar3: principal fuente de energía para cocinar es el gas.\n",
    "* energcocinar4: principal fuente de energía para cocinar es carbón o leña.\n",
    "\n",
    " "
   ]
  },
  {
   "cell_type": "code",
   "execution_count": null,
   "metadata": {
    "scrolled": false
   },
   "outputs": [
    {
     "data": {
      "text/html": [
       "<div>\n",
       "<style scoped>\n",
       "    .dataframe tbody tr th:only-of-type {\n",
       "        vertical-align: middle;\n",
       "    }\n",
       "\n",
       "    .dataframe tbody tr th {\n",
       "        vertical-align: top;\n",
       "    }\n",
       "\n",
       "    .dataframe thead th {\n",
       "        text-align: right;\n",
       "    }\n",
       "</style>\n",
       "<table border=\"1\" class=\"dataframe\">\n",
       "  <thead>\n",
       "    <tr style=\"text-align: right;\">\n",
       "      <th></th>\n",
       "      <th>Variable_name</th>\n",
       "      <th>Variable_description</th>\n",
       "    </tr>\n",
       "  </thead>\n",
       "  <tbody>\n",
       "    <tr>\n",
       "      <th>53</th>\n",
       "      <td>energcocinar1</td>\n",
       "      <td>=1 no main source of energy used for cooking (no kitchen)</td>\n",
       "    </tr>\n",
       "    <tr>\n",
       "      <th>54</th>\n",
       "      <td>energcocinar2</td>\n",
       "      <td>=1 main source of energy used for cooking electricity</td>\n",
       "    </tr>\n",
       "    <tr>\n",
       "      <th>55</th>\n",
       "      <td>energcocinar3</td>\n",
       "      <td>=1 main source of energy used for cooking gas</td>\n",
       "    </tr>\n",
       "    <tr>\n",
       "      <th>56</th>\n",
       "      <td>energcocinar4</td>\n",
       "      <td>=1 main source of energy used for cooking wood charcoal</td>\n",
       "    </tr>\n",
       "  </tbody>\n",
       "</table>\n",
       "</div>"
      ],
      "text/plain": [
       "    Variable_name                                       Variable_description\n",
       "53  energcocinar1  =1 no main source of energy used for cooking (no kitchen)\n",
       "54  energcocinar2      =1 main source of energy used for cooking electricity\n",
       "55  energcocinar3              =1 main source of energy used for cooking gas\n",
       "56  energcocinar4    =1 main source of energy used for cooking wood charcoal"
      ]
     },
     "execution_count": 70,
     "metadata": {},
     "output_type": "execute_result"
    }
   ],
   "source": [
    "_data_fields[_data_fields['Variable_name'].isin(['energcocinar1', 'energcocinar2', 'energcocinar3', 'energcocinar4'])]"
   ]
  },
  {
   "cell_type": "code",
   "execution_count": null,
   "metadata": {
    "scrolled": true
   },
   "outputs": [
    {
     "data": {
      "text/plain": [
       "0"
      ]
     },
     "execution_count": 71,
     "metadata": {},
     "output_type": "execute_result"
    }
   ],
   "source": [
    "# Total individuos sin ninguna variable energía en cocina seleccionada.\n",
    "ds.loc[ds[['energcocinar1', 'energcocinar2', 'energcocinar3', 'energcocinar4']].sum(axis=1)==False]['Id'].count()"
   ]
  },
  {
   "cell_type": "markdown",
   "metadata": {},
   "source": [
    "#####  Verificación que todos los integrantes de la familia tengan asignados mismo fuente de energía para cocinar en la vivienda"
   ]
  },
  {
   "cell_type": "code",
   "execution_count": null,
   "metadata": {},
   "outputs": [
    {
     "name": "stdout",
     "output_type": "stream",
     "text": [
      "Cantidad de familias sin caracteristicas comunes:  0\n"
     ]
    }
   ],
   "source": [
    "idhogar_list = pd.Series(ds['idhogar'].unique())\n",
    "elect_ds = ds[['idhogar','energcocinar1', 'energcocinar2', 'energcocinar3', 'energcocinar4']]\n",
    "id = idhogar_list.apply(lambda x: x if elect_ds[elect_ds.idhogar==x].all().value_counts()[True]!=2 else None)\n",
    "print(\"Cantidad de familias sin caracteristicas comunes: \",len(id[id.notnull()]))\n"
   ]
  },
  {
   "cell_type": "markdown",
   "metadata": {},
   "source": [
    "#### Consistencia de las variables  elimbasu1, elimbasu2, elimbasu3, elimbasu4, elimbasu5 y  elimbasu6."
   ]
  },
  {
   "cell_type": "markdown",
   "metadata": {},
   "source": [
    " Hace referencia a la forma de eliminación de la basura en la vivienda:\n",
    "\n",
    "* elimbasu1: la eliminación de residuos se realiza en camión cisterna.\n",
    "* elimbasu2: la eliminación de residuos se realiza en hueco o la entierran \n",
    "* elimbasu3: la eliminación de residuos se realiza mediante la quema.\n",
    "* elimbasu4: la eliminación de residuos se realiza en espacios desocupados\n",
    "* elimbasu5: la eliminación de residuos se realiza en el rio, arroyo o mar.\n",
    "* elimbasu6: la eliminación de residuos se realiza en otro.\n",
    " "
   ]
  },
  {
   "cell_type": "code",
   "execution_count": null,
   "metadata": {
    "scrolled": false
   },
   "outputs": [
    {
     "data": {
      "text/html": [
       "<div>\n",
       "<style scoped>\n",
       "    .dataframe tbody tr th:only-of-type {\n",
       "        vertical-align: middle;\n",
       "    }\n",
       "\n",
       "    .dataframe tbody tr th {\n",
       "        vertical-align: top;\n",
       "    }\n",
       "\n",
       "    .dataframe thead th {\n",
       "        text-align: right;\n",
       "    }\n",
       "</style>\n",
       "<table border=\"1\" class=\"dataframe\">\n",
       "  <thead>\n",
       "    <tr style=\"text-align: right;\">\n",
       "      <th></th>\n",
       "      <th>Variable_name</th>\n",
       "      <th>Variable_description</th>\n",
       "    </tr>\n",
       "  </thead>\n",
       "  <tbody>\n",
       "    <tr>\n",
       "      <th>57</th>\n",
       "      <td>elimbasu1</td>\n",
       "      <td>=1 if rubbish disposal mainly by tanker truck</td>\n",
       "    </tr>\n",
       "    <tr>\n",
       "      <th>58</th>\n",
       "      <td>elimbasu2</td>\n",
       "      <td>=1 if rubbish disposal mainly by botan hollow or buried</td>\n",
       "    </tr>\n",
       "    <tr>\n",
       "      <th>59</th>\n",
       "      <td>elimbasu3</td>\n",
       "      <td>=1 if rubbish disposal mainly by burning</td>\n",
       "    </tr>\n",
       "    <tr>\n",
       "      <th>60</th>\n",
       "      <td>elimbasu4</td>\n",
       "      <td>=1 if rubbish disposal mainly by throwing in an unoccupied space</td>\n",
       "    </tr>\n",
       "    <tr>\n",
       "      <th>61</th>\n",
       "      <td>elimbasu5</td>\n",
       "      <td>=1 if rubbish disposal mainly by throwing in river, creek or sea</td>\n",
       "    </tr>\n",
       "    <tr>\n",
       "      <th>62</th>\n",
       "      <td>elimbasu6</td>\n",
       "      <td>=1 if rubbish disposal mainly other</td>\n",
       "    </tr>\n",
       "  </tbody>\n",
       "</table>\n",
       "</div>"
      ],
      "text/plain": [
       "   Variable_name  \\\n",
       "57     elimbasu1   \n",
       "58     elimbasu2   \n",
       "59     elimbasu3   \n",
       "60     elimbasu4   \n",
       "61     elimbasu5   \n",
       "62     elimbasu6   \n",
       "\n",
       "                                                Variable_description  \n",
       "57                     =1 if rubbish disposal mainly by tanker truck  \n",
       "58           =1 if rubbish disposal mainly by botan hollow or buried  \n",
       "59                          =1 if rubbish disposal mainly by burning  \n",
       "60  =1 if rubbish disposal mainly by throwing in an unoccupied space  \n",
       "61  =1 if rubbish disposal mainly by throwing in river, creek or sea  \n",
       "62                               =1 if rubbish disposal mainly other  "
      ]
     },
     "execution_count": 73,
     "metadata": {},
     "output_type": "execute_result"
    }
   ],
   "source": [
    "_data_fields[_data_fields['Variable_name'].isin(['elimbasu1', 'elimbasu2', 'elimbasu3', 'elimbasu4', 'elimbasu5','elimbasu6'])]"
   ]
  },
  {
   "cell_type": "code",
   "execution_count": null,
   "metadata": {
    "scrolled": true
   },
   "outputs": [
    {
     "data": {
      "text/plain": [
       "0"
      ]
     },
     "execution_count": 74,
     "metadata": {},
     "output_type": "execute_result"
    }
   ],
   "source": [
    "# Total individuos sin ninguna variable eliminación basura seleccionada.\n",
    "ds.loc[ds[['elimbasu1', 'elimbasu2', 'elimbasu3', 'elimbasu4', 'elimbasu5','elimbasu6']].sum(axis=1)==False]['Id'].count()"
   ]
  },
  {
   "cell_type": "markdown",
   "metadata": {},
   "source": [
    "#####  Verificación que todos los integrantes de la familia tengan asignados mismo tipo de eliminación de basura."
   ]
  },
  {
   "cell_type": "code",
   "execution_count": null,
   "metadata": {},
   "outputs": [
    {
     "name": "stdout",
     "output_type": "stream",
     "text": [
      "Cantidad de familias sin caracteristicas comunes:  0\n"
     ]
    }
   ],
   "source": [
    "idhogar_list = pd.Series(ds['idhogar'].unique())\n",
    "elect_ds = ds[['idhogar','elimbasu1', 'elimbasu2', 'elimbasu3', 'elimbasu4', 'elimbasu5','elimbasu6']]\n",
    "id = idhogar_list.apply(lambda x: x if elect_ds[elect_ds.idhogar==x].all().value_counts()[True]!=2 else None)\n",
    "print(\"Cantidad de familias sin caracteristicas comunes: \",len(id[id.notnull()]))\n"
   ]
  },
  {
   "cell_type": "markdown",
   "metadata": {},
   "source": [
    "#### Consistencia de las variables epared1, epared2 y epared3"
   ]
  },
  {
   "cell_type": "markdown",
   "metadata": {},
   "source": [
    " Hace referencia al estado de la pared:\n",
    "\n",
    "* epared1: el estado de la pared es malo.\n",
    "* epared2: el estado de la pared es regular.\n",
    "* epared3: el estado de la pared es bueno."
   ]
  },
  {
   "cell_type": "code",
   "execution_count": null,
   "metadata": {
    "scrolled": false
   },
   "outputs": [
    {
     "data": {
      "text/html": [
       "<div>\n",
       "<style scoped>\n",
       "    .dataframe tbody tr th:only-of-type {\n",
       "        vertical-align: middle;\n",
       "    }\n",
       "\n",
       "    .dataframe tbody tr th {\n",
       "        vertical-align: top;\n",
       "    }\n",
       "\n",
       "    .dataframe thead th {\n",
       "        text-align: right;\n",
       "    }\n",
       "</style>\n",
       "<table border=\"1\" class=\"dataframe\">\n",
       "  <thead>\n",
       "    <tr style=\"text-align: right;\">\n",
       "      <th></th>\n",
       "      <th>Variable_name</th>\n",
       "      <th>Variable_description</th>\n",
       "    </tr>\n",
       "  </thead>\n",
       "  <tbody>\n",
       "    <tr>\n",
       "      <th>63</th>\n",
       "      <td>epared1</td>\n",
       "      <td>=1 if walls are bad</td>\n",
       "    </tr>\n",
       "    <tr>\n",
       "      <th>64</th>\n",
       "      <td>epared2</td>\n",
       "      <td>=1 if walls are regular</td>\n",
       "    </tr>\n",
       "    <tr>\n",
       "      <th>65</th>\n",
       "      <td>epared3</td>\n",
       "      <td>=1 if walls are good</td>\n",
       "    </tr>\n",
       "  </tbody>\n",
       "</table>\n",
       "</div>"
      ],
      "text/plain": [
       "   Variable_name     Variable_description\n",
       "63       epared1      =1 if walls are bad\n",
       "64       epared2  =1 if walls are regular\n",
       "65       epared3     =1 if walls are good"
      ]
     },
     "execution_count": 76,
     "metadata": {},
     "output_type": "execute_result"
    }
   ],
   "source": [
    "_data_fields[_data_fields['Variable_name'].isin(['epared1', 'epared2','epared3'])]"
   ]
  },
  {
   "cell_type": "code",
   "execution_count": null,
   "metadata": {
    "scrolled": true
   },
   "outputs": [
    {
     "data": {
      "text/plain": [
       "0"
      ]
     },
     "execution_count": 77,
     "metadata": {},
     "output_type": "execute_result"
    }
   ],
   "source": [
    "# Total individuos sin ninguna variable estado pared seleccionada.\n",
    "ds.loc[ds[['epared1', 'epared2','epared3']].sum(axis=1)==False]['Id'].count()"
   ]
  },
  {
   "cell_type": "markdown",
   "metadata": {},
   "source": [
    "#####  Verificación que todos los integrantes de la familia tengan asignados mismo tipo de eliminación de basura."
   ]
  },
  {
   "cell_type": "code",
   "execution_count": null,
   "metadata": {},
   "outputs": [
    {
     "name": "stdout",
     "output_type": "stream",
     "text": [
      "Cantidad de familias sin caracteristicas comunes:  0\n"
     ]
    }
   ],
   "source": [
    "idhogar_list = pd.Series(ds['idhogar'].unique())\n",
    "elect_ds = ds[['idhogar','epared1', 'epared2','epared3']]\n",
    "id = idhogar_list.apply(lambda x: x if elect_ds[elect_ds.idhogar==x].all().value_counts()[True]!=2 else None)\n",
    "print(\"Cantidad de familias sin caracteristicas comunes: \",len(id[id.notnull()]))\n"
   ]
  },
  {
   "cell_type": "markdown",
   "metadata": {},
   "source": [
    "#### Consistencia de las variables  etecho1, etecho2 y etecho3"
   ]
  },
  {
   "cell_type": "markdown",
   "metadata": {},
   "source": [
    " Hace referencia al estado de la pared:\n",
    "\n",
    "* etecho1: el estado del techo es malo.\n",
    "* etecho2: el estado del techo es regular.\n",
    "* etecho3: el estado del techo es bueno."
   ]
  },
  {
   "cell_type": "code",
   "execution_count": null,
   "metadata": {
    "scrolled": false
   },
   "outputs": [
    {
     "data": {
      "text/html": [
       "<div>\n",
       "<style scoped>\n",
       "    .dataframe tbody tr th:only-of-type {\n",
       "        vertical-align: middle;\n",
       "    }\n",
       "\n",
       "    .dataframe tbody tr th {\n",
       "        vertical-align: top;\n",
       "    }\n",
       "\n",
       "    .dataframe thead th {\n",
       "        text-align: right;\n",
       "    }\n",
       "</style>\n",
       "<table border=\"1\" class=\"dataframe\">\n",
       "  <thead>\n",
       "    <tr style=\"text-align: right;\">\n",
       "      <th></th>\n",
       "      <th>Variable_name</th>\n",
       "      <th>Variable_description</th>\n",
       "    </tr>\n",
       "  </thead>\n",
       "  <tbody>\n",
       "    <tr>\n",
       "      <th>66</th>\n",
       "      <td>etecho1</td>\n",
       "      <td>=1 if roof are bad</td>\n",
       "    </tr>\n",
       "    <tr>\n",
       "      <th>67</th>\n",
       "      <td>etecho2</td>\n",
       "      <td>=1 if roof are regular</td>\n",
       "    </tr>\n",
       "    <tr>\n",
       "      <th>68</th>\n",
       "      <td>etecho3</td>\n",
       "      <td>=1 if roof are good</td>\n",
       "    </tr>\n",
       "  </tbody>\n",
       "</table>\n",
       "</div>"
      ],
      "text/plain": [
       "   Variable_name    Variable_description\n",
       "66       etecho1      =1 if roof are bad\n",
       "67       etecho2  =1 if roof are regular\n",
       "68       etecho3     =1 if roof are good"
      ]
     },
     "execution_count": 79,
     "metadata": {},
     "output_type": "execute_result"
    }
   ],
   "source": [
    "_data_fields[_data_fields['Variable_name'].isin(['etecho1', 'etecho2', 'etecho3'])]"
   ]
  },
  {
   "cell_type": "code",
   "execution_count": null,
   "metadata": {
    "scrolled": true
   },
   "outputs": [
    {
     "data": {
      "text/plain": [
       "0"
      ]
     },
     "execution_count": 80,
     "metadata": {},
     "output_type": "execute_result"
    }
   ],
   "source": [
    "# Total individuos sin ninguna variable estado pared seleccionada.\n",
    "ds.loc[ds[['etecho1', 'etecho2', 'etecho3']].sum(axis=1)==False]['Id'].count()"
   ]
  },
  {
   "cell_type": "markdown",
   "metadata": {},
   "source": [
    "#####  Verificación que todos los integrantes de la familia tengan asignados mismo tipo de eliminación de basura."
   ]
  },
  {
   "cell_type": "code",
   "execution_count": null,
   "metadata": {},
   "outputs": [
    {
     "name": "stdout",
     "output_type": "stream",
     "text": [
      "Cantidad de familias sin caracteristicas comunes:  0\n"
     ]
    }
   ],
   "source": [
    "idhogar_list = pd.Series(ds['idhogar'].unique())\n",
    "elect_ds = ds[['idhogar','etecho1', 'etecho2', 'etecho3']]\n",
    "id = idhogar_list.apply(lambda x: x if elect_ds[elect_ds.idhogar==x].all().value_counts()[True]!=2 else None)\n",
    "print(\"Cantidad de familias sin caracteristicas comunes: \",len(id[id.notnull()]))\n"
   ]
  },
  {
   "cell_type": "markdown",
   "metadata": {},
   "source": [
    "#### Consistencia de las variables  eviv1, eviv2 y eviv3"
   ]
  },
  {
   "cell_type": "markdown",
   "metadata": {},
   "source": [
    " Hace referencia al estado de la piso:\n",
    "\n",
    "* eviv1: el estado del piso es malo.\n",
    "* eviv2: el estado del piso es regular.\n",
    "* eviv3: el estado del piso es bueno."
   ]
  },
  {
   "cell_type": "code",
   "execution_count": null,
   "metadata": {
    "scrolled": false
   },
   "outputs": [
    {
     "data": {
      "text/html": [
       "<div>\n",
       "<style scoped>\n",
       "    .dataframe tbody tr th:only-of-type {\n",
       "        vertical-align: middle;\n",
       "    }\n",
       "\n",
       "    .dataframe tbody tr th {\n",
       "        vertical-align: top;\n",
       "    }\n",
       "\n",
       "    .dataframe thead th {\n",
       "        text-align: right;\n",
       "    }\n",
       "</style>\n",
       "<table border=\"1\" class=\"dataframe\">\n",
       "  <thead>\n",
       "    <tr style=\"text-align: right;\">\n",
       "      <th></th>\n",
       "      <th>Variable_name</th>\n",
       "      <th>Variable_description</th>\n",
       "    </tr>\n",
       "  </thead>\n",
       "  <tbody>\n",
       "    <tr>\n",
       "      <th>69</th>\n",
       "      <td>eviv1</td>\n",
       "      <td>=1 if floor are bad</td>\n",
       "    </tr>\n",
       "    <tr>\n",
       "      <th>70</th>\n",
       "      <td>eviv2</td>\n",
       "      <td>=1 if floor are regular</td>\n",
       "    </tr>\n",
       "    <tr>\n",
       "      <th>71</th>\n",
       "      <td>eviv3</td>\n",
       "      <td>=1 if floor are good</td>\n",
       "    </tr>\n",
       "  </tbody>\n",
       "</table>\n",
       "</div>"
      ],
      "text/plain": [
       "   Variable_name     Variable_description\n",
       "69         eviv1      =1 if floor are bad\n",
       "70         eviv2  =1 if floor are regular\n",
       "71         eviv3     =1 if floor are good"
      ]
     },
     "execution_count": 82,
     "metadata": {},
     "output_type": "execute_result"
    }
   ],
   "source": [
    "_data_fields[_data_fields['Variable_name'].isin(['eviv1', 'eviv2','eviv3'])]"
   ]
  },
  {
   "cell_type": "code",
   "execution_count": null,
   "metadata": {
    "scrolled": true
   },
   "outputs": [
    {
     "data": {
      "text/plain": [
       "0"
      ]
     },
     "execution_count": 83,
     "metadata": {},
     "output_type": "execute_result"
    }
   ],
   "source": [
    "# Total individuos sin ninguna variable estado piso seleccionada.\n",
    "ds.loc[ds[['eviv1', 'eviv2','eviv3']].sum(axis=1)==False]['Id'].count()"
   ]
  },
  {
   "cell_type": "markdown",
   "metadata": {},
   "source": [
    "#####  Verificación que todos los integrantes de la familia tengan asignados mismo estado del piso "
   ]
  },
  {
   "cell_type": "code",
   "execution_count": null,
   "metadata": {},
   "outputs": [
    {
     "name": "stdout",
     "output_type": "stream",
     "text": [
      "Cantidad de familias sin caracteristicas comunes:  0\n"
     ]
    }
   ],
   "source": [
    "idhogar_list = pd.Series(ds['idhogar'].unique())\n",
    "elect_ds = ds[['idhogar','eviv1', 'eviv2','eviv3']]\n",
    "id = idhogar_list.apply(lambda x: x if elect_ds[elect_ds.idhogar==x].all().value_counts()[True]!=2 else None)\n",
    "print(\"Cantidad de familias sin caracteristicas comunes: \",len(id[id.notnull()]))\n"
   ]
  },
  {
   "cell_type": "markdown",
   "metadata": {},
   "source": [
    "#### Consistencia de las variables   estadocivil1, estadocivil2, estadocivil3, estadocivil4, estadocivil5, estadocivil6 y estadocivil7"
   ]
  },
  {
   "cell_type": "markdown",
   "metadata": {},
   "source": [
    " Hace referencia estado cívil de la persona:\n",
    "\n",
    "* estadocivil1: persona menor a 10 años\n",
    "* estadocivil2: unión libre o acoplada\n",
    "* estadocivil3: casado/a\n",
    "* estadocivil4: divorcio/a\n",
    "* estadocivil5: separado/a\n",
    "* estadocivil6: viudo/a\n",
    "* estadocivil7: soltero/a"
   ]
  },
  {
   "cell_type": "code",
   "execution_count": null,
   "metadata": {
    "scrolled": false
   },
   "outputs": [
    {
     "data": {
      "text/html": [
       "<div>\n",
       "<style scoped>\n",
       "    .dataframe tbody tr th:only-of-type {\n",
       "        vertical-align: middle;\n",
       "    }\n",
       "\n",
       "    .dataframe tbody tr th {\n",
       "        vertical-align: top;\n",
       "    }\n",
       "\n",
       "    .dataframe thead th {\n",
       "        text-align: right;\n",
       "    }\n",
       "</style>\n",
       "<table border=\"1\" class=\"dataframe\">\n",
       "  <thead>\n",
       "    <tr style=\"text-align: right;\">\n",
       "      <th></th>\n",
       "      <th>Variable_name</th>\n",
       "      <th>Variable_description</th>\n",
       "    </tr>\n",
       "  </thead>\n",
       "  <tbody>\n",
       "    <tr>\n",
       "      <th>75</th>\n",
       "      <td>estadocivil1</td>\n",
       "      <td>=1 if less than 10 years old</td>\n",
       "    </tr>\n",
       "    <tr>\n",
       "      <th>76</th>\n",
       "      <td>estadocivil2</td>\n",
       "      <td>=1 if free or coupled uunion</td>\n",
       "    </tr>\n",
       "    <tr>\n",
       "      <th>77</th>\n",
       "      <td>estadocivil3</td>\n",
       "      <td>=1 if married</td>\n",
       "    </tr>\n",
       "    <tr>\n",
       "      <th>78</th>\n",
       "      <td>estadocivil4</td>\n",
       "      <td>=1 if divorced</td>\n",
       "    </tr>\n",
       "    <tr>\n",
       "      <th>79</th>\n",
       "      <td>estadocivil5</td>\n",
       "      <td>=1 if separated</td>\n",
       "    </tr>\n",
       "    <tr>\n",
       "      <th>80</th>\n",
       "      <td>estadocivil6</td>\n",
       "      <td>=1 if widow/er</td>\n",
       "    </tr>\n",
       "    <tr>\n",
       "      <th>81</th>\n",
       "      <td>estadocivil7</td>\n",
       "      <td>=1 if single</td>\n",
       "    </tr>\n",
       "  </tbody>\n",
       "</table>\n",
       "</div>"
      ],
      "text/plain": [
       "   Variable_name          Variable_description\n",
       "75  estadocivil1  =1 if less than 10 years old\n",
       "76  estadocivil2  =1 if free or coupled uunion\n",
       "77  estadocivil3                 =1 if married\n",
       "78  estadocivil4                =1 if divorced\n",
       "79  estadocivil5               =1 if separated\n",
       "80  estadocivil6                =1 if widow/er\n",
       "81  estadocivil7                  =1 if single"
      ]
     },
     "execution_count": 85,
     "metadata": {},
     "output_type": "execute_result"
    }
   ],
   "source": [
    "_data_fields[_data_fields['Variable_name'].isin(['estadocivil1', 'estadocivil2', 'estadocivil3', 'estadocivil4','estadocivil5','estadocivil6','estadocivil7'])]"
   ]
  },
  {
   "cell_type": "code",
   "execution_count": null,
   "metadata": {
    "scrolled": true
   },
   "outputs": [
    {
     "data": {
      "text/plain": [
       "0"
      ]
     },
     "execution_count": 86,
     "metadata": {},
     "output_type": "execute_result"
    }
   ],
   "source": [
    "# Total individuos sin ninguna variable estado civil seleccionada.\n",
    "ds.loc[ds[['estadocivil1', 'estadocivil2', 'estadocivil3', 'estadocivil4','estadocivil5','estadocivil6','estadocivil7']].sum(axis=1)==False]['Id'].count()"
   ]
  },
  {
   "cell_type": "markdown",
   "metadata": {},
   "source": [
    "#### Consistencia de las variables parentesco1, parentesco2, parentesco3, parentesco4, parentesco5, parentesco6, parentesco7, parentesco8, parentesco9, parentesco10, parentesco11 y parentesco12"
   ]
  },
  {
   "cell_type": "markdown",
   "metadata": {},
   "source": [
    " Hace referencia estado cívil de la persona:\n",
    "\n",
    "* parentesco1: si es jefe de hogar\n",
    "* parentesco2: si es esposo/compañero\n",
    "* parentesco3: hijo/a\n",
    "* parentesco4: hijastro/a\n",
    "* parentesco5: nuero/a\n",
    "* parentesco6: nieto/a\n",
    "* parentesco7: madre/padre\n",
    "* parentesco8: suegro/a\n",
    "* parentesco9: hermano/a\n",
    "* parentesco10: cuñado/a\n",
    "* parentesco11: otro miembro familiar\n",
    "* parentesco12: no es miembro de familia."
   ]
  },
  {
   "cell_type": "code",
   "execution_count": null,
   "metadata": {
    "scrolled": false
   },
   "outputs": [
    {
     "data": {
      "text/html": [
       "<div>\n",
       "<style scoped>\n",
       "    .dataframe tbody tr th:only-of-type {\n",
       "        vertical-align: middle;\n",
       "    }\n",
       "\n",
       "    .dataframe tbody tr th {\n",
       "        vertical-align: top;\n",
       "    }\n",
       "\n",
       "    .dataframe thead th {\n",
       "        text-align: right;\n",
       "    }\n",
       "</style>\n",
       "<table border=\"1\" class=\"dataframe\">\n",
       "  <thead>\n",
       "    <tr style=\"text-align: right;\">\n",
       "      <th></th>\n",
       "      <th>Variable_name</th>\n",
       "      <th>Variable_description</th>\n",
       "    </tr>\n",
       "  </thead>\n",
       "  <tbody>\n",
       "    <tr>\n",
       "      <th>82</th>\n",
       "      <td>parentesco1</td>\n",
       "      <td>=1 if household head</td>\n",
       "    </tr>\n",
       "    <tr>\n",
       "      <th>83</th>\n",
       "      <td>parentesco2</td>\n",
       "      <td>=1 if spouse/partner</td>\n",
       "    </tr>\n",
       "    <tr>\n",
       "      <th>84</th>\n",
       "      <td>parentesco3</td>\n",
       "      <td>=1 if son/doughter</td>\n",
       "    </tr>\n",
       "    <tr>\n",
       "      <th>85</th>\n",
       "      <td>parentesco4</td>\n",
       "      <td>=1 if stepson/doughter</td>\n",
       "    </tr>\n",
       "    <tr>\n",
       "      <th>86</th>\n",
       "      <td>parentesco5</td>\n",
       "      <td>=1 if son/doughter in law</td>\n",
       "    </tr>\n",
       "    <tr>\n",
       "      <th>87</th>\n",
       "      <td>parentesco6</td>\n",
       "      <td>=1 if grandson/doughter</td>\n",
       "    </tr>\n",
       "    <tr>\n",
       "      <th>88</th>\n",
       "      <td>parentesco7</td>\n",
       "      <td>=1 if mother/father</td>\n",
       "    </tr>\n",
       "    <tr>\n",
       "      <th>89</th>\n",
       "      <td>parentesco8</td>\n",
       "      <td>=1 if father/mother in law</td>\n",
       "    </tr>\n",
       "    <tr>\n",
       "      <th>90</th>\n",
       "      <td>parentesco9</td>\n",
       "      <td>=1 if brother/sister</td>\n",
       "    </tr>\n",
       "    <tr>\n",
       "      <th>91</th>\n",
       "      <td>parentesco10</td>\n",
       "      <td>=1 if brother/sister in law</td>\n",
       "    </tr>\n",
       "    <tr>\n",
       "      <th>92</th>\n",
       "      <td>parentesco11</td>\n",
       "      <td>=1 if other family member</td>\n",
       "    </tr>\n",
       "    <tr>\n",
       "      <th>93</th>\n",
       "      <td>parentesco12</td>\n",
       "      <td>=1 if other non family member</td>\n",
       "    </tr>\n",
       "  </tbody>\n",
       "</table>\n",
       "</div>"
      ],
      "text/plain": [
       "   Variable_name           Variable_description\n",
       "82   parentesco1           =1 if household head\n",
       "83   parentesco2           =1 if spouse/partner\n",
       "84   parentesco3             =1 if son/doughter\n",
       "85   parentesco4         =1 if stepson/doughter\n",
       "86   parentesco5      =1 if son/doughter in law\n",
       "87   parentesco6        =1 if grandson/doughter\n",
       "88   parentesco7            =1 if mother/father\n",
       "89   parentesco8     =1 if father/mother in law\n",
       "90   parentesco9           =1 if brother/sister\n",
       "91  parentesco10    =1 if brother/sister in law\n",
       "92  parentesco11      =1 if other family member\n",
       "93  parentesco12  =1 if other non family member"
      ]
     },
     "execution_count": 87,
     "metadata": {},
     "output_type": "execute_result"
    }
   ],
   "source": [
    "_data_fields[_data_fields['Variable_name'].isin(['parentesco1', 'parentesco2', 'parentesco3', 'parentesco4', 'parentesco5', 'parentesco6', 'parentesco7', 'parentesco8', 'parentesco9', 'parentesco10', 'parentesco11','parentesco12'])]"
   ]
  },
  {
   "cell_type": "code",
   "execution_count": null,
   "metadata": {
    "scrolled": true
   },
   "outputs": [],
   "source": [
    "# Total individuos sin ninguna variable parentesco seleccionada.\n",
    "ds.loc[ds[['parentesco1', 'parentesco2', 'parentesco3', 'parentesco4', 'parentesco5', 'parentesco6', 'parentesco7', 'parentesco8', 'parentesco9', 'parentesco10', 'parentesco11','parentesco12']].sum(axis=1)==False]['Id'].count()"
   ]
  },
  {
   "cell_type": "code",
   "execution_count": null,
   "metadata": {},
   "outputs": [],
   "source": [
    "_data_fields[_data_fields['Variable_name']]"
   ]
  },
  {
   "cell_type": "markdown",
   "metadata": {},
   "source": [
    "\n",
    "\n",
    "#### Verificación de idhogar y parentesco\n",
    "\n",
    "\n",
    "Casa donde solo hay un mienbro, pero que las columnas de numero de personas de hogar dicen que hay más de uno. "
   ]
  },
  {
   "cell_type": "code",
   "execution_count": null,
   "metadata": {
    "colab": {
     "base_uri": "https://localhost:8080/",
     "height": 419
    },
    "colab_type": "code",
    "id": "RaxcOQSi_Vlm",
    "outputId": "2b1e64bc-97e5-4926-dd9c-356dcf120262"
   },
   "outputs": [
    {
     "name": "stdout",
     "output_type": "stream",
     "text": [
      "(12, 5)\n"
     ]
    },
    {
     "data": {
      "text/html": [
       "<div>\n",
       "<style scoped>\n",
       "    .dataframe tbody tr th:only-of-type {\n",
       "        vertical-align: middle;\n",
       "    }\n",
       "\n",
       "    .dataframe tbody tr th {\n",
       "        vertical-align: top;\n",
       "    }\n",
       "\n",
       "    .dataframe thead th {\n",
       "        text-align: right;\n",
       "    }\n",
       "</style>\n",
       "<table border=\"1\" class=\"dataframe\">\n",
       "  <thead>\n",
       "    <tr style=\"text-align: right;\">\n",
       "      <th></th>\n",
       "      <th>Id</th>\n",
       "      <th>idhogar</th>\n",
       "      <th>tamhog</th>\n",
       "      <th>r4t3</th>\n",
       "      <th>tamviv</th>\n",
       "    </tr>\n",
       "  </thead>\n",
       "  <tbody>\n",
       "    <tr>\n",
       "      <th>9507</th>\n",
       "      <td>ID_139a33398</td>\n",
       "      <td>053f09ebb</td>\n",
       "      <td>2</td>\n",
       "      <td>2</td>\n",
       "      <td>2</td>\n",
       "    </tr>\n",
       "    <tr>\n",
       "      <th>4935</th>\n",
       "      <td>ID_717302050</td>\n",
       "      <td>09b195e7a</td>\n",
       "      <td>4</td>\n",
       "      <td>4</td>\n",
       "      <td>4</td>\n",
       "    </tr>\n",
       "    <tr>\n",
       "      <th>7086</th>\n",
       "      <td>ID_ba2ac56bb</td>\n",
       "      <td>1367ab31d</td>\n",
       "      <td>5</td>\n",
       "      <td>5</td>\n",
       "      <td>5</td>\n",
       "    </tr>\n",
       "    <tr>\n",
       "      <th>9497</th>\n",
       "      <td>ID_60c0ce2d4</td>\n",
       "      <td>1bc617b23</td>\n",
       "      <td>4</td>\n",
       "      <td>4</td>\n",
       "      <td>4</td>\n",
       "    </tr>\n",
       "    <tr>\n",
       "      <th>5396</th>\n",
       "      <td>ID_8948b1f91</td>\n",
       "      <td>374ca5a19</td>\n",
       "      <td>5</td>\n",
       "      <td>5</td>\n",
       "      <td>5</td>\n",
       "    </tr>\n",
       "    <tr>\n",
       "      <th>5391</th>\n",
       "      <td>ID_64c9eabac</td>\n",
       "      <td>61c10e099</td>\n",
       "      <td>3</td>\n",
       "      <td>3</td>\n",
       "      <td>3</td>\n",
       "    </tr>\n",
       "    <tr>\n",
       "      <th>5129</th>\n",
       "      <td>ID_cc1cb71fa</td>\n",
       "      <td>66701a0de</td>\n",
       "      <td>2</td>\n",
       "      <td>2</td>\n",
       "      <td>2</td>\n",
       "    </tr>\n",
       "    <tr>\n",
       "      <th>4975</th>\n",
       "      <td>ID_ff6f13458</td>\n",
       "      <td>896fe6d3e</td>\n",
       "      <td>4</td>\n",
       "      <td>4</td>\n",
       "      <td>4</td>\n",
       "    </tr>\n",
       "    <tr>\n",
       "      <th>8636</th>\n",
       "      <td>ID_a6e897e47</td>\n",
       "      <td>a0812ef17</td>\n",
       "      <td>3</td>\n",
       "      <td>3</td>\n",
       "      <td>3</td>\n",
       "    </tr>\n",
       "    <tr>\n",
       "      <th>7756</th>\n",
       "      <td>ID_f81c03ca9</td>\n",
       "      <td>ad687ad89</td>\n",
       "      <td>5</td>\n",
       "      <td>5</td>\n",
       "      <td>5</td>\n",
       "    </tr>\n",
       "    <tr>\n",
       "      <th>7757</th>\n",
       "      <td>ID_c792d2a9b</td>\n",
       "      <td>b1f4d89d7</td>\n",
       "      <td>3</td>\n",
       "      <td>3</td>\n",
       "      <td>3</td>\n",
       "    </tr>\n",
       "    <tr>\n",
       "      <th>9489</th>\n",
       "      <td>ID_7788ff3e2</td>\n",
       "      <td>d363d9183</td>\n",
       "      <td>5</td>\n",
       "      <td>5</td>\n",
       "      <td>5</td>\n",
       "    </tr>\n",
       "  </tbody>\n",
       "</table>\n",
       "</div>"
      ],
      "text/plain": [
       "                Id    idhogar  tamhog  r4t3  tamviv\n",
       "9507  ID_139a33398  053f09ebb       2     2       2\n",
       "4935  ID_717302050  09b195e7a       4     4       4\n",
       "7086  ID_ba2ac56bb  1367ab31d       5     5       5\n",
       "9497  ID_60c0ce2d4  1bc617b23       4     4       4\n",
       "5396  ID_8948b1f91  374ca5a19       5     5       5\n",
       "5391  ID_64c9eabac  61c10e099       3     3       3\n",
       "5129  ID_cc1cb71fa  66701a0de       2     2       2\n",
       "4975  ID_ff6f13458  896fe6d3e       4     4       4\n",
       "8636  ID_a6e897e47  a0812ef17       3     3       3\n",
       "7756  ID_f81c03ca9  ad687ad89       5     5       5\n",
       "7757  ID_c792d2a9b  b1f4d89d7       3     3       3\n",
       "9489  ID_7788ff3e2  d363d9183       5     5       5"
      ]
     },
     "execution_count": 89,
     "metadata": {},
     "output_type": "execute_result"
    }
   ],
   "source": [
    "hogares_list = ds.idhogar.unique()\n",
    "filtered_ds = ds[ds.idhogar.duplicated(keep=False) == False].sort_values(by='idhogar')[['Id', 'idhogar','tamhog', 'r4t3','tamviv']]\n",
    "filtered_ds = filtered_ds[filtered_ds.tamhog > 1]\n",
    "\n",
    "print(filtered_ds.shape)\n",
    "filtered_ds"
   ]
  },
  {
   "cell_type": "markdown",
   "metadata": {
    "colab_type": "text",
    "id": "gb-_RnPWECj9"
   },
   "source": [
    "¿Todas las casas tienen un jefe de hogar? ¿Alguna casa tiene más de un jefe de hogar?"
   ]
  },
  {
   "cell_type": "code",
   "execution_count": null,
   "metadata": {
    "colab": {
     "base_uri": "https://localhost:8080/",
     "height": 50
    },
    "colab_type": "code",
    "id": "zFFOFJiTDNoE",
    "outputId": "73c36122-515c-47fb-ad0d-8df241178c55"
   },
   "outputs": [
    {
     "name": "stdout",
     "output_type": "stream",
     "text": [
      "2988\n",
      "2973\n"
     ]
    }
   ],
   "source": [
    "print(ds.drop_duplicates(subset=['idhogar']).drop_duplicates(subset =\"idhogar\").shape[0])\n",
    "print(ds[ds.parentesco1==1].shape[0])"
   ]
  },
  {
   "cell_type": "code",
   "execution_count": null,
   "metadata": {
    "colab": {
     "base_uri": "https://localhost:8080/",
     "height": 521
    },
    "colab_type": "code",
    "id": "rrPyTltEFa3j",
    "outputId": "06756528-b84f-4739-edaf-d67a2abf7f00"
   },
   "outputs": [
    {
     "data": {
      "text/html": [
       "<div>\n",
       "<style scoped>\n",
       "    .dataframe tbody tr th:only-of-type {\n",
       "        vertical-align: middle;\n",
       "    }\n",
       "\n",
       "    .dataframe tbody tr th {\n",
       "        vertical-align: top;\n",
       "    }\n",
       "\n",
       "    .dataframe thead th {\n",
       "        text-align: right;\n",
       "    }\n",
       "</style>\n",
       "<table border=\"1\" class=\"dataframe\">\n",
       "  <thead>\n",
       "    <tr style=\"text-align: right;\">\n",
       "      <th></th>\n",
       "      <th>parentesco1</th>\n",
       "    </tr>\n",
       "    <tr>\n",
       "      <th>idhogar</th>\n",
       "      <th></th>\n",
       "    </tr>\n",
       "  </thead>\n",
       "  <tbody>\n",
       "    <tr>\n",
       "      <th>03c6bdf85</th>\n",
       "      <td>0</td>\n",
       "    </tr>\n",
       "    <tr>\n",
       "      <th>09b195e7a</th>\n",
       "      <td>0</td>\n",
       "    </tr>\n",
       "    <tr>\n",
       "      <th>1367ab31d</th>\n",
       "      <td>0</td>\n",
       "    </tr>\n",
       "    <tr>\n",
       "      <th>1bc617b23</th>\n",
       "      <td>0</td>\n",
       "    </tr>\n",
       "    <tr>\n",
       "      <th>374ca5a19</th>\n",
       "      <td>0</td>\n",
       "    </tr>\n",
       "    <tr>\n",
       "      <th>61c10e099</th>\n",
       "      <td>0</td>\n",
       "    </tr>\n",
       "    <tr>\n",
       "      <th>6b1b2405f</th>\n",
       "      <td>0</td>\n",
       "    </tr>\n",
       "    <tr>\n",
       "      <th>896fe6d3e</th>\n",
       "      <td>0</td>\n",
       "    </tr>\n",
       "    <tr>\n",
       "      <th>a0812ef17</th>\n",
       "      <td>0</td>\n",
       "    </tr>\n",
       "    <tr>\n",
       "      <th>ad687ad89</th>\n",
       "      <td>0</td>\n",
       "    </tr>\n",
       "    <tr>\n",
       "      <th>b1f4d89d7</th>\n",
       "      <td>0</td>\n",
       "    </tr>\n",
       "    <tr>\n",
       "      <th>bfd5067c2</th>\n",
       "      <td>0</td>\n",
       "    </tr>\n",
       "    <tr>\n",
       "      <th>c0c8a5013</th>\n",
       "      <td>0</td>\n",
       "    </tr>\n",
       "    <tr>\n",
       "      <th>d363d9183</th>\n",
       "      <td>0</td>\n",
       "    </tr>\n",
       "    <tr>\n",
       "      <th>f2bfa75c4</th>\n",
       "      <td>0</td>\n",
       "    </tr>\n",
       "  </tbody>\n",
       "</table>\n",
       "</div>"
      ],
      "text/plain": [
       "           parentesco1\n",
       "idhogar               \n",
       "03c6bdf85            0\n",
       "09b195e7a            0\n",
       "1367ab31d            0\n",
       "1bc617b23            0\n",
       "374ca5a19            0\n",
       "61c10e099            0\n",
       "6b1b2405f            0\n",
       "896fe6d3e            0\n",
       "a0812ef17            0\n",
       "ad687ad89            0\n",
       "b1f4d89d7            0\n",
       "bfd5067c2            0\n",
       "c0c8a5013            0\n",
       "d363d9183            0\n",
       "f2bfa75c4            0"
      ]
     },
     "execution_count": 91,
     "metadata": {},
     "output_type": "execute_result"
    }
   ],
   "source": [
    "hogares = ds[[\"parentesco1\", \"idhogar\"]].groupby(['idhogar']).sum()\n",
    "hogares[hogares.parentesco1 != 1]"
   ]
  },
  {
   "cell_type": "markdown",
   "metadata": {
    "colab_type": "text",
    "id": "ee1jtn8mCBoL"
   },
   "source": [
    "Notamos de que problemente nos faltan datos de personas pertenecientes a hogares y por eso probablemente tenemos hogares incompletos. \n",
    "\n",
    "Opino que lo mejor seria deshacernos de las filas que no tengan esos datos completos, ya que les falta una parte importante de la información"
   ]
  },
  {
   "cell_type": "code",
   "execution_count": null,
   "metadata": {
    "colab": {
     "base_uri": "https://localhost:8080/",
     "height": 34
    },
    "colab_type": "code",
    "id": "FvG1id28rQLt",
    "outputId": "362be0b0-1142-42d7-8b34-c52db16a2bbd"
   },
   "outputs": [
    {
     "name": "stdout",
     "output_type": "stream",
     "text": [
      "(9534, 130)\n"
     ]
    }
   ],
   "source": [
    "#ds[ds.idhogar in hogares.index]\n",
    "array_hogares = hogares[hogares.parentesco1 != 1].index.values\n",
    "#ds.idhogar in list(array_hogares)\n",
    "\n",
    "ds = ds[ds.idhogar.isin(list(array_hogares)) == False]\n",
    "print(ds.shape)"
   ]
  },
  {
   "cell_type": "markdown",
   "metadata": {
    "colab_type": "text",
    "id": "K7fIg2EuKBVQ"
   },
   "source": [
    "#### Verificación de tipovivi\n"
   ]
  },
  {
   "cell_type": "markdown",
   "metadata": {
    "colab_type": "text",
    "id": "Bm5BaYFdKYtn"
   },
   "source": [
    "¿Para qué casos de las variables TipoVivienda (tipovivi) no existe renta? ¿Es un si y solo si? Es decir, por ejemplo, si son propietarios, nunca hay valor en el campo renta, mientras que si no lo son, siempre hay valor. En caso de que esto no sea así, ¿es razonable? ¿Qué decisión tomarían al respecto?"
   ]
  },
  {
   "cell_type": "code",
   "execution_count": null,
   "metadata": {
    "colab": {
     "base_uri": "https://localhost:8080/",
     "height": 470
    },
    "colab_type": "code",
    "id": "Y3NxJZUAKD7p",
    "outputId": "057e92f0-4506-4a39-ecc7-467c374d11ec"
   },
   "outputs": [
    {
     "name": "stdout",
     "output_type": "stream",
     "text": [
      "Vivienda tipo 1 [nan]\n",
      "Vivienda tipo 4 [nan]\n",
      "Vivienda tipo 5 [nan]\n",
      "Vivienda tipo 2 [ 100000.  350000.  250000.  564834.  270000.  450000.  119813.  180000.\n",
      "   35000.  500000.       0.  200000.  127000.   52000.  300000.  278000.\n",
      "  150000.  400000.  770229.  285270.  110000.   96000.  542013.  140000.\n",
      "  280000.   20000.  120000.   55000.   30000.  283000.  170000.  510000.\n",
      "  185000.  230000.   36350.   40000.   89000.  600000.  550000.  132000.\n",
      "  470000.  260000.   27000.  176000.  380000.  855810.  427905.  290975.\n",
      "  188000. 1000000.  700000.  219087.  130000.  160000.  240000.  190000.\n",
      "   50000.   51000.  220000.   68000.  175000.  145000.  234000.  570540.\n",
      "  456432.  432000.   90000.   45000.  357000.  115000.  253000.   70000.\n",
      "  525000.  684648.   72000.  480000.   94000.  159751. 2353477.   14000.\n",
      "   13000.   75000.   78000.  540000.  420000.   25000.  328000.   28000.\n",
      "   80000.  285000.   83333.   73000.   23000.  178000.  172000.  106000.\n",
      "  620000.   26000.  107000.  215000.   42500.  169000.   32600.  320000.\n",
      "   17000.   77000.  102000.  294000.   32000.   44000.  163000.   46500.]\n",
      "Vivienda tipo 3 [190000. 135000. 180000. 130000.  90000. 215000. 150000. 100000. 120000.\n",
      "  80000. 168000.  40000. 155000. 200000. 270000. 300000. 260000. 175000.\n",
      "  25310. 400000. 399378. 125518. 125000.  60000. 160000. 170000. 230000.\n",
      " 185000. 220000. 570540. 342324. 240000.  70000. 110000. 100297. 210000.\n",
      " 350000. 145000.  65000. 285270.  85000. 104000. 275000. 105661. 250000.\n",
      "  16000.  20000. 140000. 245000. 191500.  75000.  50000.  84529. 205000.\n",
      "  30000. 118097. 360000. 325000. 450000. 288750.  35000.  95000.  93000.\n",
      "  55000. 800000. 456432. 142635.  97000.  62539. 225000. 105000. 427905.\n",
      "  78039.  72554. 165000. 268153.  92000.  52831. 855810. 115000.  15000.\n",
      " 171162.  45000. 249896. 108000.  25000.  12000.]\n"
     ]
    }
   ],
   "source": [
    "print(\"Vivienda tipo 1\", ds[ds['tipovivi1']==1]['v2a1'].unique())\n",
    "print(\"Vivienda tipo 4\",ds[ds['tipovivi4']==1]['v2a1'].unique())\n",
    "print(\"Vivienda tipo 5\",ds[ds['tipovivi5']==1]['v2a1'].unique())\n",
    "\n",
    "print(\"Vivienda tipo 2\",ds[ds['tipovivi2']==1]['v2a1'].unique())\n",
    "print(\"Vivienda tipo 3\",ds[ds['tipovivi3']==1]['v2a1'].unique())"
   ]
  },
  {
   "cell_type": "markdown",
   "metadata": {
    "colab_type": "text",
    "id": "o8kyguTDKr8z"
   },
   "source": [
    "Se observa que solo los tipo vivienda 2 y 3 tienen renta. Los tipo vivienda 2 son aquellos que son propietarios pero pagan una cuota, y los tipo 3 son los que pagan un alquiler.\n",
    "\n",
    "Lo cual es bastante logico ya que al ser dueños de la casa, estar en situación precaria o ser prestada es bastante probable que no paguen ningun monto en el alquiler"
   ]
  },
  {
   "cell_type": "markdown",
   "metadata": {
    "colab_type": "text",
    "id": "ZYx3Yht84T-o"
   },
   "source": [
    "### 2.6. Identificar y Documentar Valores Atípicos/Outliers"
   ]
  },
  {
   "cell_type": "markdown",
   "metadata": {
    "colab_type": "text",
    "id": "GgaDfVLk4T-p"
   },
   "source": [
    "Calcular estadísticos."
   ]
  },
  {
   "cell_type": "code",
   "execution_count": null,
   "metadata": {
    "colab": {
     "base_uri": "https://localhost:8080/"
    },
    "colab_type": "code",
    "id": "a0dzQ4MR4T-q",
    "outputId": "bba7d343-a71f-40a7-e82e-f8193dff033f"
   },
   "outputs": [
    {
     "data": {
      "text/plain": [
       "<matplotlib.axes._subplots.AxesSubplot at 0x1cb45ad0f60>"
      ]
     },
     "execution_count": 94,
     "metadata": {},
     "output_type": "execute_result"
    },
    {
     "data": {
      "image/png": "[encoded data removed]",
      "text/plain": [
       "<Figure size 432x288 with 1 Axes>"
      ]
     },
     "metadata": {
      "needs_background": "light"
     },
     "output_type": "display_data"
    }
   ],
   "source": [
    "sns.distplot(ds[ds.v2a1 > 0].v2a1)"
   ]
  },
  {
   "cell_type": "code",
   "execution_count": null,
   "metadata": {
    "colab": {
     "base_uri": "https://localhost:8080/"
    },
    "colab_type": "code",
    "id": "upp2bhXuOn19",
    "outputId": "e4551ee8-2c3b-4444-8edb-dd5c3774097a"
   },
   "outputs": [
    {
     "name": "stdout",
     "output_type": "stream",
     "text": [
      "9494\n",
      "9534\n",
      "-0.004195510803440272\n"
     ]
    }
   ],
   "source": [
    "v2a1_max = ds.v2a1.std() * 3 + ds.v2a1.mean()\n",
    "# ds = ds[ds.v2a1 < v2a1_max]\n",
    "print(ds[ (ds.v2a1 < v2a1_max) | (ds.v2a1.isnull())].shape[0])\n",
    "print(ds.shape[0])\n",
    "print(ds[ (ds.v2a1 < v2a1_max) | (ds.v2a1.isnull())].shape[0] / ds.shape[0] - 1)\n",
    "ds = ds[ (ds.v2a1 < v2a1_max) | (ds.v2a1.isnull())]"
   ]
  },
  {
   "cell_type": "code",
   "execution_count": null,
   "metadata": {
    "colab": {
     "base_uri": "https://localhost:8080/"
    },
    "colab_type": "code",
    "id": "iRbv0XoAOGLW",
    "outputId": "f3863846-ef9b-46bf-fc70-3a62203a3ab8"
   },
   "outputs": [
    {
     "data": {
      "text/plain": [
       "<matplotlib.axes._subplots.AxesSubplot at 0x1cb45b9e240>"
      ]
     },
     "execution_count": 96,
     "metadata": {},
     "output_type": "execute_result"
    },
    {
     "data": {
      "image/png": "[encoded data removed]",
      "text/plain": [
       "<Figure size 432x288 with 1 Axes>"
      ]
     },
     "metadata": {
      "needs_background": "light"
     },
     "output_type": "display_data"
    }
   ],
   "source": [
    "sns.distplot(ds[ds.v2a1 > 0].v2a1)"
   ]
  },
  {
   "cell_type": "markdown",
   "metadata": {
    "colab_type": "text",
    "id": "tNEHSWbu4T-s"
   },
   "source": [
    "### 2.7. Evaluar Cómo Comprimir los Datos Para su Almacenamiento Más Eficiente"
   ]
  },
  {
   "cell_type": "code",
   "execution_count": null,
   "metadata": {
    "colab": {
     "base_uri": "https://localhost:8080/"
    },
    "colab_type": "code",
    "id": "-h8FKG0myUHE",
    "outputId": "5ad7bdde-e857-4abf-c638-71e50373dd3f"
   },
   "outputs": [],
   "source": [
    "!pip install fastparquet\n",
    "\n",
    "import os\n",
    "def get_save_load(df, fmt):\n",
    "    save = getattr(df, f'to_{fmt}')\n",
    "    load = getattr(pd, f'read_{fmt}')\n",
    "    return save, load\n",
    "def size_of(filename, unit=1024**2):\n",
    "    return round(os.stat(filename).st_size / unit, 2)"
   ]
  },
  {
   "cell_type": "code",
   "execution_count": null,
   "metadata": {
    "colab": {
     "base_uri": "https://localhost:8080/"
    },
    "colab_type": "code",
    "id": "el6J6uYi4T-t",
    "outputId": "376710ce-41b3-4a7b-a6cf-e27f2fa9d088"
   },
   "outputs": [],
   "source": [
    "formats = [\n",
    "    ('hdf', {'key': 'data', 'format': 'table'}),\n",
    "    ('pickle',),\n",
    "    ('pickle',{\"compression\":\"bz2\"}),\n",
    "    ('pickle',{\"compression\":\"gzip\"}),\n",
    "    ('msgpack',),\n",
    "    ('csv',),\n",
    "    ('json',),\n",
    "    ('parquet', {'engine': 'pyarrow'}),\n",
    "    ('parquet', {'engine': 'fastparquet', \"compression\":\"gzip\"})\n",
    "]\n",
    "\n",
    "\n",
    "for case in formats:\n",
    "  fmt, params = case if len(case) == 2 else (case[0], {})\n",
    "  save, load = get_save_load(ds, fmt)\n",
    "  filename = f'pobreza_costa_rica_step_bench_test.{fmt}'\n",
    "  save(filename, **params)\n",
    "  print(fmt, size_of(filename)) "
   ]
  },
  {
   "cell_type": "markdown",
   "metadata": {
    "colab_type": "text",
    "id": "0aaaGOIt4T-w"
   },
   "source": [
    "### 2.8. Guardar el Set de Datos con un Nombre Informativo"
   ]
  },
  {
   "cell_type": "code",
   "execution_count": null,
   "metadata": {
    "colab": {},
    "colab_type": "code",
    "id": "18AlNtIR4T-x"
   },
   "outputs": [],
   "source": [
    "ds.to_csv('pobreza_costa_rica_step2.csv')"
   ]
  },
  {
   "cell_type": "markdown",
   "metadata": {
    "colab_type": "text",
    "id": "018TdZXk4T-1"
   },
   "source": [
    "## 3. Pasos de Limpieza Deseables\n",
    "\n",
    "### 3.1. Ordenar Variables/Columnas"
   ]
  },
  {
   "cell_type": "code",
   "execution_count": null,
   "metadata": {
    "colab": {},
    "colab_type": "code",
    "id": "Cud16maY4T-3"
   },
   "outputs": [],
   "source": []
  },
  {
   "cell_type": "markdown",
   "metadata": {
    "colab_type": "text",
    "id": "45owWGZb4T-5"
   },
   "source": [
    "### 3.2. Quitar Variables/Columnas Irrelevantes"
   ]
  },
  {
   "cell_type": "markdown",
   "metadata": {
    "colab_type": "text",
    "id": "EiB94Y844T-6"
   },
   "source": [
    "Tenemos alguna en este caso?"
   ]
  },
  {
   "cell_type": "code",
   "execution_count": null,
   "metadata": {
    "colab": {
     "base_uri": "https://localhost:8080/",
     "height": 1000
    },
    "colab_type": "code",
    "id": "yGWijrHr4T-7",
    "outputId": "ca8f07bc-d6d5-4272-a6c5-b64fd6b080bf"
   },
   "outputs": [],
   "source": [
    "ds"
   ]
  },
  {
   "cell_type": "markdown",
   "metadata": {
    "colab_type": "text",
    "id": "mW0by2_h4T-9"
   },
   "source": [
    "### 3.3. Renombrar Variables de Grillas"
   ]
  },
  {
   "cell_type": "markdown",
   "metadata": {
    "colab_type": "text",
    "id": "X43iW5Zl4T--"
   },
   "source": [
    "Esto se puede hacer de manera transparente a través de un diccionario.\n",
    "Sugiero darles nombres más informativos a algunas columnas, como por ejemplo la de Renta Mensual y las de lugares. Como ayuda, sigue el diccionario de las columnas `lugar` con su nuevo nombre haciendo referencia directa a la región:"
   ]
  },
  {
   "cell_type": "code",
   "execution_count": null,
   "metadata": {
    "colab": {
     "base_uri": "https://localhost:8080/",
     "height": 215
    },
    "colab_type": "code",
    "id": "Kjrl2ZKH4T--",
    "outputId": "8061a930-41c2-4634-d7eb-5ad49c7a4087"
   },
   "outputs": [],
   "source": [
    "# lugar1 =1 region Central\n",
    "# lugar2 =1 region Chorotega\n",
    "# lugar3 =1 region Pacífico central\n",
    "# lugar4 =1 region Brunca\n",
    "# lugar5 =1 region Huetar Atlántica\n",
    "# lugar6 =1 region Huetar Norte\n",
    "\n",
    "_col_dict = {\n",
    "  'area1':'zona_urbana',\n",
    "  'area2':'zona_rural', \n",
    "  'v2a1': 'monthly_rent',\n",
    "  'lugar1': 'region_central',\n",
    "  'lugar2': 'region_chorotega',\n",
    "  'lugar3': 'region_pacifico_central',\n",
    "  'lugar4': 'region_brunca',\n",
    "  'lugar5': 'region_huetar_atlantica',\n",
    "  'lugar6': 'region_huetar_norte'}\n",
    "ds.rename(columns=_col_dict, inplace=True)\n",
    "ds.head()"
   ]
  },
  {
   "cell_type": "code",
   "execution_count": null,
   "metadata": {
    "colab": {},
    "colab_type": "code",
    "id": "ilHTBlMR4T_C"
   },
   "outputs": [],
   "source": []
  },
  {
   "cell_type": "markdown",
   "metadata": {
    "colab_type": "text",
    "id": "jx1luozW4T_H"
   },
   "source": [
    "### 3.4. Categorizar Variables que Contengan “Otros”"
   ]
  },
  {
   "cell_type": "code",
   "execution_count": null,
   "metadata": {
    "colab": {},
    "colab_type": "code",
    "id": "o8gBYEG64T_I"
   },
   "outputs": [],
   "source": []
  },
  {
   "cell_type": "markdown",
   "metadata": {
    "colab_type": "text",
    "id": "MztNs3Vh4T_L"
   },
   "source": [
    "### 3.5. Agregar Metadata a los Datos"
   ]
  },
  {
   "cell_type": "markdown",
   "metadata": {
    "colab_type": "text",
    "id": "pqzOUPOB4T_M"
   },
   "source": [
    "Cuando y como fueron obtenidos, limpieza realizada, decisiones implementadas, asunciones, etc."
   ]
  },
  {
   "cell_type": "code",
   "execution_count": null,
   "metadata": {
    "colab": {},
    "colab_type": "code",
    "id": "0B-2I6mq4T_N"
   },
   "outputs": [],
   "source": []
  },
  {
   "cell_type": "markdown",
   "metadata": {
    "colab_type": "text",
    "id": "mcAu3_rv4T_P"
   },
   "source": [
    "## II. Análisis en Profundidad del Contenido"
   ]
  },
  {
   "cell_type": "markdown",
   "metadata": {
    "colab_type": "text",
    "id": "c_ZbSFIB4T_Q"
   },
   "source": [
    "### 1. Features Tipo Objetos"
   ]
  },
  {
   "cell_type": "markdown",
   "metadata": {
    "colab_type": "text",
    "id": "uwPep_3c4T_R"
   },
   "source": [
    "Primero nos quedamos con las features cuyo tipo es 'Objeto'."
   ]
  },
  {
   "cell_type": "code",
   "execution_count": null,
   "metadata": {
    "colab": {
     "base_uri": "https://localhost:8080/",
     "height": 118
    },
    "colab_type": "code",
    "id": "phMPQKKE4T_R",
    "outputId": "8bdf4221-1040-4928-c3d1-3326785bafa0",
    "scrolled": false
   },
   "outputs": [],
   "source": [
    "# Observamos los campos que tienen tipo 'Objeto'\n",
    "_ds.dtypes[_ds.dtypes == 'object']"
   ]
  },
  {
   "cell_type": "markdown",
   "metadata": {
    "colab_type": "text",
    "id": "bHMwf5fw4T_U"
   },
   "source": [
    "`Id` e `idhogar`, qué son?"
   ]
  },
  {
   "cell_type": "code",
   "execution_count": null,
   "metadata": {
    "colab": {
     "base_uri": "https://localhost:8080/",
     "height": 101
    },
    "colab_type": "code",
    "id": "qPCOeNcB4T_V",
    "outputId": "0ccbd30e-afb3-4609-b0bd-cd35e433c349"
   },
   "outputs": [],
   "source": [
    "# Observamos los valores posibles del campo \"Dependency\"\n",
    "_dep_arr = _ds['dependency'].unique()\n",
    "_dep_arr.sort()\n",
    "_dep_arr[::-1]"
   ]
  },
  {
   "cell_type": "code",
   "execution_count": null,
   "metadata": {
    "colab": {
     "base_uri": "https://localhost:8080/",
     "height": 67
    },
    "colab_type": "code",
    "id": "1WGe6M3V4T_Y",
    "outputId": "9df9f31e-0397-4058-b68a-5436c6a4e479",
    "scrolled": false
   },
   "outputs": [],
   "source": [
    "# Observamos los valores posibles del campo \"Edjefe\"\n",
    "_arr = _ds['edjefe'].unique()\n",
    "_arr.sort()\n",
    "_arr[::-1]"
   ]
  },
  {
   "cell_type": "code",
   "execution_count": null,
   "metadata": {
    "colab": {
     "base_uri": "https://localhost:8080/",
     "height": 94
    },
    "colab_type": "code",
    "id": "z6qNMNfH4T_d",
    "outputId": "db9a8a3f-4dea-4205-b5ba-136c122b1888",
    "scrolled": false
   },
   "outputs": [],
   "source": [
    "# Analizamos el significado del campo \"Edjefe\"\n",
    "_data_fields[_data_fields['Variable_name'] == 'edjefe']"
   ]
  },
  {
   "cell_type": "code",
   "execution_count": null,
   "metadata": {
    "colab": {
     "base_uri": "https://localhost:8080/",
     "height": 67
    },
    "colab_type": "code",
    "id": "vNYTg2_v4T_j",
    "outputId": "2f53c13e-54c2-4e97-f9ce-5b93caba312d",
    "scrolled": true
   },
   "outputs": [],
   "source": [
    "# Observamos los valores posibles del campo \"Edjefa\"\n",
    "_arr = _ds['edjefa'].unique()\n",
    "_arr.sort()\n",
    "_arr[::-1]"
   ]
  },
  {
   "cell_type": "markdown",
   "metadata": {
    "colab_type": "text",
    "id": "dkqCeOQM4T_p"
   },
   "source": [
    "### 2. Campos `tamhog` y `hhsize`"
   ]
  },
  {
   "cell_type": "code",
   "execution_count": null,
   "metadata": {
    "colab": {
     "base_uri": "https://localhost:8080/",
     "height": 34
    },
    "colab_type": "code",
    "id": "MDSz2rI44T_r",
    "outputId": "0f2763b6-7919-4bc6-a967-560a4859be89"
   },
   "outputs": [],
   "source": [
    "# Tenemos dos campos iguales!!\n",
    "_ds['tamhog'].equals(_ds['hhsize'])"
   ]
  },
  {
   "cell_type": "markdown",
   "metadata": {
    "colab_type": "text",
    "id": "xKdsL_qI4T_v"
   },
   "source": [
    "### 3. Renta Mensual: Outliers"
   ]
  },
  {
   "cell_type": "code",
   "execution_count": null,
   "metadata": {
    "colab": {
     "base_uri": "https://localhost:8080/",
     "height": 34
    },
    "colab_type": "code",
    "id": "SPvpS7aP4T_v",
    "outputId": "598e1161-cbc7-408e-e64d-bf41ab20dca2"
   },
   "outputs": [],
   "source": [
    "ds_filtered =  _ds[_ds['parentesco1']==1]\n",
    "ds_filtered['idhogar'].count()"
   ]
  },
  {
   "cell_type": "code",
   "execution_count": null,
   "metadata": {
    "colab": {
     "base_uri": "https://localhost:8080/",
     "height": 908
    },
    "colab_type": "code",
    "id": "85ZNekEpBg9p",
    "outputId": "2b88931e-264e-449d-c503-101cc6e11454"
   },
   "outputs": [],
   "source": [
    "plt.figure(figsize=(30,15))\n",
    "\n",
    "plt.subplot2grid((2,3),(0,0))\n",
    "sns.distplot(ds_filtered[(ds_filtered['area1']==1)&(ds_filtered['Target']==1)]['v2a1'].dropna(), bins=10 ,label='Extrema Pobreza', hist=False)\n",
    "sns.distplot(ds_filtered[(ds_filtered['area1']==1)&(ds_filtered['Target']==2)]['v2a1'].dropna(), bins=10 ,label='Pobreza Moderada', hist=False)\n",
    "sns.distplot(ds_filtered[(ds_filtered['area1']==1)&(ds_filtered['Target']==3)]['v2a1'].dropna(), bins=10 ,label='Hogares Vulnerables', hist=False)\n",
    "sns.distplot(ds_filtered[(ds_filtered['area1']==1)&(ds_filtered['Target']==4)]['v2a1'].dropna(), bins=10 ,label='Hogares No Vulnerables', hist=False)\n",
    "plt.title('Distribucion de frecuencia de renta de jefes\\n de hogar en zona urbana de acuerdo al nivel de pobreza')\n",
    "plt.legend()\n",
    "plt.ylim(0, 0.00002)\n",
    "\n",
    "sns.despine()\n",
    "\n",
    "plt.subplot2grid((2,3),(1,0))\n",
    "sns.distplot(ds_filtered[(ds_filtered['area2']==1)&(ds_filtered['Target']==1)]['v2a1'].dropna(), bins=10 ,label='Extrema Pobreza', hist=False)\n",
    "sns.distplot(ds_filtered[(ds_filtered['area2']==1)&(ds_filtered['Target']==2)]['v2a1'].dropna(), bins=10 ,label='Pobreza Moderada', hist=False)\n",
    "sns.distplot(ds_filtered[(ds_filtered['area2']==1)&(ds_filtered['Target']==3)]['v2a1'].dropna(), bins=10 ,label='Hogares Vulnerables', hist=False)\n",
    "sns.distplot(ds_filtered[(ds_filtered['area2']==1)&(ds_filtered['Target']==4)]['v2a1'].dropna(), bins=10 ,label='Hogares No Vulnerables', hist=False)\n",
    "plt.title('Distribucion de frecuencia de la renta de jefes\\n de hogar en zona rural de acuerdo al nivel de pobreza')\n",
    "plt.legend()\n",
    "plt.ylim(0, 0.00002)\n",
    "\n",
    "sns.despine()"
   ]
  },
  {
   "cell_type": "code",
   "execution_count": null,
   "metadata": {
    "colab": {
     "base_uri": "https://localhost:8080/",
     "height": 312
    },
    "colab_type": "code",
    "id": "t6qukLmBDf0P",
    "outputId": "2356bed2-342e-49cf-e179-ca5d6a2afcd7"
   },
   "outputs": [],
   "source": [
    "plt.figure(figsize=(8,4))\n",
    "sns.boxplot(data=ds_filtered, x='Target', y='v2a1')\n",
    "plt.ylabel('Alquiler mensual')\n",
    "plt.xlabel('Clase')\n",
    "plt.xticks(rotation=45)\n",
    "plt.ylim(0, 1200000)\n",
    "plt.title(\"Boxplot de la renta de los hogares \\n dependiendo el nivel de pobreza\")\n",
    "sns.despine()"
   ]
  },
  {
   "cell_type": "code",
   "execution_count": null,
   "metadata": {
    "colab": {
     "base_uri": "https://localhost:8080/",
     "height": 156
    },
    "colab_type": "code",
    "id": "aj7Y5ac1OmVS",
    "outputId": "bae861dd-620f-4956-f36d-c1f5ae7fa3ab"
   },
   "outputs": [],
   "source": [
    "renta_outlier.sort_values('v2a1',ascending =False)[:3]"
   ]
  },
  {
   "cell_type": "code",
   "execution_count": null,
   "metadata": {
    "colab": {
     "base_uri": "https://localhost:8080/",
     "height": 190
    },
    "colab_type": "code",
    "id": "pUZqMXsWGjrK",
    "outputId": "d9324700-85a2-4cdd-db95-34ef584177ec"
   },
   "outputs": [],
   "source": [
    "renta_outlier = ds_filtered[ds_filtered['v2a1']>500000].sort_values('v2a1',ascending =False)\n",
    "print(\"Cantidad de outliers: \",renta_outlier['v2a1'].count())\n",
    "print(\"Cantidad de outliers correspondientes a Target 4: \",renta_outlier[renta_outlier['Target']==4]['v2a1'].count())\n",
    "\n",
    "# Verificación de las características de los hogares mas extremos\n",
    "renta_outlier.sort_values('v2a1',ascending =False)[:3]\n",
    "\n",
    "renta_outlier.sort_values('v2a1',ascending =False)[:3][['v2a1','rooms','tamviv','escolari','paredblolad','pisomoscer','techozinc','cielorazo','epared3','etecho3','eviv3','hogar_total','bedrooms','tipovivi2','lugar1',\t'lugar2','area1','Target']]\n"
   ]
  },
  {
   "cell_type": "markdown",
   "metadata": {
    "colab_type": "text",
    "id": "y2m5F75yLeZ1"
   },
   "source": [
    "Se observa que la renta de los 3 hogares más extremos tienen características similares:\n",
    "* Ubicadas en zona urbana\n",
    "* 2 corresponden a región Central y la otra a región Chorotega\n",
    "* Gran cantidad de habitaciones\n",
    "* La pared es de bloque o ladrillo\n",
    "* Piso de cerámico\n",
    "* Techo de zinc\n",
    "* Cielo razo.\n",
    "* El techo, las paredes y el piso están en buen estado.\n",
    "* Los jefes de hogar de dichas viviendas tiene educación superior.\n",
    "* Las tres corresponden a propietarios con cuotas por pagar.\n",
    "\n",
    "Podriamos considerar que no son outlier, pero primero estudiaremos las siguientes 27 hogares para verificar si tienen similares caracteristicas y decidir si eliminar dichos casos\n"
   ]
  },
  {
   "cell_type": "code",
   "execution_count": null,
   "metadata": {
    "colab": {
     "base_uri": "https://localhost:8080/",
     "height": 215
    },
    "colab_type": "code",
    "id": "WSEYiIKOOJqb",
    "outputId": "5e18757f-6afa-429c-a864-734fb45a5ce2"
   },
   "outputs": [],
   "source": [
    "renta_outlier.sort_values('v2a1',ascending =False)[3:30][['v2a1','rooms','tamviv','escolari','paredblolad','pisomoscer','techozinc','cielorazo','epared3','etecho3','eviv3','hogar_total','bedrooms','tipovivi2','tipovivi3','lugar1','area1','Target']].head()"
   ]
  },
  {
   "cell_type": "markdown",
   "metadata": {
    "colab_type": "text",
    "id": "QkOVOk-8PlAJ"
   },
   "source": [
    "Llama la atención que la mayoría de los hogares se situan en región central y en zona urbana.\n",
    "\n",
    "Si nos basamos en el monto estimado que se informa en https://preciosmundi.com/costa-rica/precio-vivienda-salarios\n",
    "entonces  estos outliers (expresada en moneda local) no podría ser considerada como valores atipicos."
   ]
  },
  {
   "cell_type": "code",
   "execution_count": null,
   "metadata": {
    "colab": {
     "base_uri": "https://localhost:8080/",
     "height": 312
    },
    "colab_type": "code",
    "id": "g9JvxpFYFUxj",
    "outputId": "4234add9-3bff-4866-9f67-03314816947c"
   },
   "outputs": [],
   "source": [
    "ds_filtered_out = ds_filtered[np.abs(ds_filtered.v2a1-ds_filtered.v2a1.mean()) <= (3*ds_filtered.v2a1.std())]\n",
    "\n",
    "plt.figure(figsize=(8,4))\n",
    "sns.boxplot(data=ds_filtered_out, x='Target', y='v2a1')\n",
    "plt.ylabel('Alquiler mensual')\n",
    "plt.xlabel('Clase')\n",
    "plt.xticks(rotation=45)\n",
    "plt.ylim(0, 1200000)\n",
    "plt.title(\"Boxplot de la renta de los hogares \\n dependiendo el nivel de pobreza\")\n",
    "sns.despine()"
   ]
  },
  {
   "cell_type": "markdown",
   "metadata": {
    "colab_type": "text",
    "id": "LCB10KiO4T_0"
   },
   "source": [
    "### 4. Renta Mensual y Tipo de Vivienda"
   ]
  },
  {
   "cell_type": "code",
   "execution_count": null,
   "metadata": {
    "colab": {
     "base_uri": "https://localhost:8080/",
     "height": 118
    },
    "colab_type": "code",
    "id": "eX-F0NqATfUN",
    "outputId": "93885a24-09a6-4338-f8b3-94362a37e95d"
   },
   "outputs": [],
   "source": [
    "ds_filtered =  _ds[_ds['parentesco1']==1]\n",
    "\n",
    "print(\"Cantidad de hogares con tipo vivienda 1: \", ds_filtered[ds_filtered['tipovivi1']==1]['v2a1'].count())\n",
    "print(\"Cantidad de hogares con tipo vivienda 2: \", ds_filtered[ds_filtered['tipovivi2']==1]['v2a1'].count())\n",
    "print(\"Cantidad de hogares con tipo vivienda 3: \", ds_filtered[ds_filtered['tipovivi3']==1]['v2a1'].count())\n",
    "print(\"Cantidad de hogares con tipo vivienda 4: \", ds_filtered[ds_filtered['tipovivi4']==1]['v2a1'].count())\n",
    "print(\"Cantidad de hogares con tipo vivienda 5: \", ds_filtered[ds_filtered['tipovivi5']==1]['v2a1'].count())\n",
    "\n",
    "print(\"Total: \",_ds[_ds['parentesco1']==1].shape[0])\n"
   ]
  },
  {
   "cell_type": "markdown",
   "metadata": {
    "colab_type": "text",
    "id": "nWbXVOS8eDT2"
   },
   "source": [
    "Los únicos que tienen el campo renta distinto de nulo son aquellos que tienen tipo vivienda 2 y 3. Y corresponden a aquellos que alquilan o son propietarios con cuota adeudada. "
   ]
  },
  {
   "cell_type": "markdown",
   "metadata": {
    "colab_type": "text",
    "id": "VbjaNOKl4T_4"
   },
   "source": [
    "### 5. Renta Mensual: Valores Faltantes"
   ]
  },
  {
   "cell_type": "markdown",
   "metadata": {
    "colab_type": "text",
    "id": "UI_OB7Kfeg7C"
   },
   "source": [
    "El tratamiento de los faltantes se realizará calculando el costo oportunidad de la vivienda teniendo en cuenta las siguientes variables:\n",
    "* Region\n",
    "* zona\n",
    "* rooms \n",
    "* bedrooms\n",
    "* estado de la pared, piso y techo\n",
    "\n",
    "Teniendo en cuenta el registro al cual se le quiere registrar la renta, se buscarán aquellas viviendas que tengan las mismas características, y se calculará la media de la renta de las mismas."
   ]
  },
  {
   "cell_type": "code",
   "execution_count": null,
   "metadata": {
    "colab": {
     "base_uri": "https://localhost:8080/",
     "height": 34
    },
    "colab_type": "code",
    "id": "zzROLJk14T_5",
    "outputId": "dc7baa16-5d5a-49ef-960b-6f9486d191db"
   },
   "outputs": [],
   "source": [
    "def get_region(input):\n",
    "  if((input.region_central ==1)[0]):\n",
    "    return 'region_central'\n",
    "  elif((input.region_chorotega ==1)[0]):\n",
    "    return 'region_chorotega'\n",
    "  elif((input.region_pacifico_central==1)[0]):\n",
    "    return 'region_pacifico_central'\n",
    "  elif((input.region_brunca==1)[0]):\n",
    "    return 'region_brunca'\n",
    "  elif((input.region_huetar_atlantica==1)[0]):\n",
    "    return 'region_huetar_atlantica'\n",
    "  \n",
    "def get_zona(input):\n",
    "  if((input.zona_urbana==1)[0]):\n",
    "    return 'zona_urbana'\n",
    "  elif((input.zona_rural==1)[0]):\n",
    "    return 'zona_rural'\n",
    "  \n",
    "def get_estado_piso(input):\n",
    "  if((input.eviv1==1)[0]):\n",
    "    return 'eviv1'\n",
    "  elif((input.eviv2==1)[0]):\n",
    "    return 'eviv2'\n",
    "  elif((input.eviv3==1)[0]):\n",
    "    return 'eviv3'\n",
    "    \n",
    "def get_costo_de_oportunidad(input):\n",
    "  region = get_region(input)\n",
    "  zona = get_zona(input)\n",
    "  estado_piso = get_estado_piso(input)\n",
    "  rooms = input['rooms'][0]\n",
    "  return ds[(ds[region]==1)&(ds[zona]==1)&(ds['rooms']==rooms)]['monthly_rent'].mean()\n",
    "\n",
    "serie = ds[:1]\n",
    "print(get_costo_de_oportunidad(serie))\n",
    "#(serie.region_central==1)[0]\n"
   ]
  },
  {
   "cell_type": "code",
   "execution_count": null,
   "metadata": {
    "colab": {},
    "colab_type": "code",
    "id": "4g3heFTiup9D"
   },
   "outputs": [],
   "source": [
    "ds.head()"
   ]
  },
  {
   "cell_type": "markdown",
   "metadata": {
    "colab_type": "text",
    "id": "cJB0mfVU4T_6"
   },
   "source": [
    "### 6. Datos Únicos por `idhogar`"
   ]
  },
  {
   "cell_type": "code",
   "execution_count": null,
   "metadata": {
    "colab": {},
    "colab_type": "code",
    "id": "0zhTns0Y4T_7"
   },
   "outputs": [],
   "source": []
  },
  {
   "cell_type": "markdown",
   "metadata": {
    "colab_type": "text",
    "id": "sLm5pTXM4T_9"
   },
   "source": [
    "### 7. Individuos por Hogar"
   ]
  },
  {
   "cell_type": "code",
   "execution_count": null,
   "metadata": {
    "colab": {},
    "colab_type": "code",
    "id": "Ejj2SFb74T_-"
   },
   "outputs": [],
   "source": []
  },
  {
   "cell_type": "markdown",
   "metadata": {
    "colab_type": "text",
    "id": "kRAwZTB14UAB"
   },
   "source": [
    "### 8. `rooms` y `bedrooms`"
   ]
  },
  {
   "cell_type": "code",
   "execution_count": null,
   "metadata": {
    "colab": {},
    "colab_type": "code",
    "id": "Lz3ELEqX4UAC"
   },
   "outputs": [],
   "source": [
    "_ds['rooms'].equals(_ds['bedrooms'])"
   ]
  },
  {
   "cell_type": "markdown",
   "metadata": {
    "colab_type": "text",
    "id": "SoS6YOfB4UAG"
   },
   "source": [
    "### 9. Jef@s de Hogar por `idhogar`"
   ]
  },
  {
   "cell_type": "code",
   "execution_count": null,
   "metadata": {
    "colab": {},
    "colab_type": "code",
    "id": "l7F-jFhv4UAG"
   },
   "outputs": [],
   "source": []
  },
  {
   "cell_type": "markdown",
   "metadata": {
    "colab_type": "text",
    "id": "vtTCRDT24UAJ"
   },
   "source": [
    "### 10. Adicional"
   ]
  },
  {
   "cell_type": "code",
   "execution_count": null,
   "metadata": {},
   "outputs": [],
   "source": []
  },
  {
   "cell_type": "code",
   "execution_count": null,
   "metadata": {
    "colab": {},
    "colab_type": "code",
    "id": "gnAV1McU4UAK"
   },
   "outputs": [],
   "source": []
  }
 ],
 "metadata": {
  "colab": {
   "collapsed_sections": [
    "OASR0rhqznr5",
    "ZYx3Yht84T-o",
    "tNEHSWbu4T-s",
    "0aaaGOIt4T-w",
    "MztNs3Vh4T_L",
    "SoS6YOfB4UAG"
   ],
   "name": "2- Pobreza en Costa Rica - Exploración y Curación.ipynb",
   "provenance": [],
   "toc_visible": true,
   "version": "0.3.2"
  },
  "kernelspec": {
   "display_name": "Python 3",
   "language": "python",
   "name": "python3"
  },
  "language_info": {
   "codemirror_mode": {
    "name": "ipython",
    "version": 3
   },
   "file_extension": ".py",
   "mimetype": "text/x-python",
   "name": "python",
   "nbconvert_exporter": "python",
   "pygments_lexer": "ipython3",
   "version": "3.7.3"
  }
 },
 "nbformat": 4,
 "nbformat_minor": 1
}
