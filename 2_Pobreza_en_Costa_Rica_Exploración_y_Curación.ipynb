{
 "cells": [
  {
   "cell_type": "markdown",
   "metadata": {
    "colab_type": "text",
    "id": "msSmmQWg4T8d"
   },
   "source": [
    "<center>\n",
    "<h4>Diplomatura en CDAAyA 2019 - FaMAF - UNC</h4>\n",
    "<h1>Predicción del Nivel de Pobreza de Hogares en Costa Rica</h1>\n",
    "<h3>Exploración y Curación</h3>\n",
    "</center>\n",
    "</left>\n",
    "<h4>Sofía Luján</h4>\n",
    "<h4>Mariano Ramirez</h4>\n",
    "</left>"
   ]
  },
  {
   "cell_type": "markdown",
   "metadata": {
    "colab_type": "text",
    "id": "Xdtwf4Y34T8f"
   },
   "source": [
    "### Introducción\n",
    "\n",
    "En la siguiente notebook, se presentará la consigna a seguir para el segundo práctico de la materia Exploración y Curación. El objetivo consiste en identificar e implementar los pasos necesarios para la limpieza de la base de datos de pobreza en hogares de Costa Rica, así como también analizar cruces de datos con mayor profundidad y validando el sentido lógico. Para ello, comenzaremos con las importaciones pertinentes."
   ]
  },
  {
   "cell_type": "markdown",
   "metadata": {
    "colab_type": "text",
    "id": "KA4EdJa54T8g"
   },
   "source": [
    "### Importaciones"
   ]
  },
  {
   "cell_type": "code",
   "execution_count": null,
   "metadata": {
    "colab": {},
    "colab_type": "code",
    "id": "r2ELWhZL4T8h"
   },
   "outputs": [],
   "source": [
    "# Importación de las librerías necesarias\n",
    "import numpy as np\n",
    "import pandas as pd\n",
    "# Puede que nos sirvan también\n",
    "import matplotlib as mpl\n",
    "mpl.get_cachedir()\n",
    "import matplotlib.pyplot as plt\n",
    "%matplotlib inline\n",
    "import seaborn as sns\n"
   ]
  },
  {
   "cell_type": "code",
   "execution_count": null,
   "metadata": {
    "colab": {},
    "colab_type": "code",
    "id": "8QbhclSv4T8m"
   },
   "outputs": [],
   "source": [
    "pd.set_option('display.max_columns', 150)\n",
    "pd.set_option('display.max_rows', 150)\n",
    "pd.set_option('max_colwidth', 151)"
   ]
  },
  {
   "cell_type": "markdown",
   "metadata": {
    "colab_type": "text",
    "id": "2hH3K42u4T8p"
   },
   "source": [
    "## Consigna para Curación y Exploración del Dataset"
   ]
  },
  {
   "cell_type": "markdown",
   "metadata": {
    "colab_type": "text",
    "id": "iCXHGNzy4T8q"
   },
   "source": [
    "### I. Rutina de Curación\n",
    "\n",
    "Inicialmente, con el objetivo de preparar los datos que alimentarán futuros modelos de aprendizaje automático (ML), se propone seguir la siguiente __[checklist](https://dimewiki.worldbank.org/wiki/Checklist:_Data_Cleaning)__ para la limpieza de los datos de nuestro proyecto. Esta _checklist_ es la misma que utilizaron en el primer práctico de la materia y nos será de utilidad como guía para curar el dataset. A modo de ayuda, **en esta notebook encontrarán una especie de template** que sigue la _checklist_ y que deberán ir completando.\n",
    "\n",
    "**Cada decisión tomada deberá quedar registrada de manera explícita y clara.** Luego de pasar por todos los puntos de la _checklist_ propuesta, deberán almacenar en un nuevo archivo los datos resultantes. Adicionalmente, deben tener en cuenta que las acciones de limpieza que realicen sobre este dataset también deberán ser implementadas sobre el dataset de test (que, por el momento, no ha sido disponibilizado).\n",
    "\n",
    "A los fines de realizar este práctico, se utilizará el dataset original, pero descartando todas aquellas columnas que se hayan calculado en base a features preexistentes, ya que éstas están relacionadas a decisiones que adoptaremos más adelante, como por ejemplo, sobre si es necesario crear nuevas features y si incluirlas o no. Recuerden que la ciencia de datos es un **proceso circular, continuo y no lineal**. Es decir, si los datos requieren de mayor procesamiento para satisfacer las necesidades de algoritmos de ML (cualesquiera de ellos), vamos a volver a la etapa inicial para, por ejemplo, crear nuevas features, tomar decisiones diferentes sobre valores faltantes o valores atípicos (outliers), descartar features, entre otras."
   ]
  },
  {
   "cell_type": "markdown",
   "metadata": {
    "colab_type": "text",
    "id": "zE6eD6il4T8r"
   },
   "source": [
    "### II. Análisis en Profundidad del Contenido\n",
    "\n",
    "Una vez aplicada la _Checklist_, lo que vamos a hacer es profundizar aún más el análisis y tomar decisiones que se consideren pertinentes, si es que no lo han hecho aún en el desarrollo del primer apartado. Por supuesto, se deberán registrar todas las decisiones que tomen al respecto.\n",
    "\n",
    "Al finalizar con el práctico, las preguntas listadas a continuación deberán quedar respondidas, mientras que si ya lo hicieron durante el desarrollo de la ´checklist´, el objetivo es que se replanteen las decisiones tomadas al respecto:\n",
    "\n",
    "1. Hay tres features que, por su descripción, deberían ser numéricas: `dependency`, `edjefe` y `edjefa`. Sin embargo, el tipo de dato de estos campos es 'Objeto'. Obtener los valores únicos, analizar por qué no son numéricos y decidir cómo se transformarán a numéricos, teniendo en cuenta su significado.\n",
    "\n",
    "2. Comparar los campos `tamhog` y `hhsize`. ¿Qué información nos da cada una? ¿Qué deberíamos hacer al respecto? ¿Qué diferencia hay con el campo `r4t3`?\n",
    "\n",
    "3. ¿Qué ocurre con las rentas (`v2a1`) outliers? ¿Son razonables? ¿Mantenemos o descartamos estos registros?\n",
    "\n",
    "4. ¿Para qué casos de las variables TipoVivienda (`tipovivi`) no existe renta? ¿Es un si y solo si? Es decir, por ejemplo, si son propietarios, nunca hay valor en el campo renta, mientras que si no lo son, siempre hay valor. En caso de que esto no sea así, ¿es razonable? ¿Qué decisión tomarían al respecto?\n",
    "\n",
    "5. ¿Qué decidieron respecto a los valores faltantes de la renta? Una **propuesta que podría considerarse interesante** es completar tales valores faltantes con el **costo de oportunidad** de los propietarios de ese hogar. Es decir, ese hogar está dejando de percibir una renta igual a $x$ por estar habitando esa vivienda. Por lo tanto, ese costo de oportunidad puede estimarse de acuerdo al valor de la renta de viviendas similares, en base a múltiples criterios, como por ejemplo: zona, región, tipo de construcción, acceso a servicios y todas las características que ustedes consideren pertinentes. Esto quedará a su criterio. ¿Cuál es el único feature que no deberíamos usar para obtener el costo de oportunidad y por qué?\n",
    "\n",
    "6. ¿Qué datos se repiten para `idhogar` y cuáles no? ¿Tiene sentido?\n",
    "\n",
    "7. Si contamos la cantidad de individuos entrevistados por hogar, ¿coincide con el tamaño del hogar? ¿Y coincide con la suma de las variables que indican cantidad de personas? ¿Qué se puede hacer en los casos en que no?\n",
    "\n",
    "8. Considerando los campos `rooms` y `bedrooms`, debería haber al menos tantos ambientes como habitaciones o bien más. Comprobar si esto es así efectivamente. Si no lo fuera, ¿puede ser un error de carga? ¿Cómo lo solucionarían?\n",
    "\n",
    "9. ¿Todos los `idhogar` tienen jefa o jefe de hogar? (`parentesco1` == 1) Si esto no ocurre, ¿qué harían con los hogares que no tienen?\n",
    "\n",
    "Esta lista es extensa e intenta abarcar todas las posibles irregularidades en los datos, pero puede no ser exhaustiva. **Cualquier análisis adicional de consistencia que deseen agregar porque lo consideran pertinente, será bienvenido y valorado.**"
   ]
  },
  {
   "cell_type": "markdown",
   "metadata": {
    "colab_type": "text",
    "id": "-TO4K_lT4T8s"
   },
   "source": [
    "### Entregables\n",
    "\n",
    "El entregable de este práctico consiste en esta misma Notebook, pero con la _checklist_ realizada y el análisis de contenido completo, explicando las decisiones tomadas en cada etapa. Además, deberán elaborar un script que contenga una función para curar nuevos datos con la misma estructura. Finalmente, deberán actualizar la metadata."
   ]
  },
  {
   "cell_type": "markdown",
   "metadata": {
    "colab_type": "text",
    "id": "eendfik24T8t"
   },
   "source": [
    "# Resolución"
   ]
  },
  {
   "cell_type": "markdown",
   "metadata": {
    "colab_type": "text",
    "id": "1Py0paOw4T8u"
   },
   "source": [
    "## I. Rutina de Curación\n",
    "\n",
    "### 1. Importación de Datos\n",
    "\n",
    "#### 1.1. Verificación de Inexistencia de Problemas en la Importación"
   ]
  },
  {
   "cell_type": "markdown",
   "metadata": {
    "colab_type": "text",
    "id": "gET_XkkF4T8v"
   },
   "source": [
    "Para comenzar, importamos los datos que vamos a procesar:"
   ]
  },
  {
   "cell_type": "code",
   "execution_count": null,
   "metadata": {
    "colab": {},
    "colab_type": "code",
    "id": "6VMr58vd4T8w"
   },
   "outputs": [],
   "source": [
    "# Cargamos el Dataset original en una variable\n",
    "# url = 'https://github.com/jbergamasco/DiploDatos2019/raw/master/ProyectoPobrezaCostaRica/DatasetPobCR_Train.txt'\n",
    "url_data = 'https://github.com/jbergamasco/DiploDatos2019/raw/master/ProyectoPobrezaCostaRica/DatasetPobCR_Train.csv'\n",
    "ds = pd.read_csv(url_data)\n",
    "ds.head()"
   ]
  },
  {
   "cell_type": "code",
   "execution_count": null,
   "metadata": {
    "colab": {
     "base_uri": "https://localhost:8080/",
     "height": 1000
    },
    "colab_type": "code",
    "id": "tsXrobE54T83",
    "outputId": "74f770f0-60ad-476a-8056-b7d6f51ab5f2"
   },
   "outputs": [],
   "source": [
    "# Cargamos el Dataset Fields en una variable, para tener la información de cada campo\n",
    "url_fields_info = 'https://raw.githubusercontent.com/solujan/DiploDatos2019/master/ProyectoPobrezaCostaRica/Dataset%20Fields.csv'\n",
    "_data_fields = pd.read_csv(url_fields_info, sep=';')\n",
    "_data_fields"
   ]
  },
  {
   "cell_type": "markdown",
   "metadata": {
    "colab_type": "text",
    "id": "89nzEgQA4T87"
   },
   "source": [
    "Recuerden que la variable `Target` constituye nuestro objetivo de predicción. Es la etiqueta de los datos de acuerdo al nivel de pobreza del hogar que habitan, según la siguiente escala o clases:\n",
    "\n",
    "1 = pobreza extrema<br>\n",
    "2 = pobreza moderada<br>\n",
    "3 = hogares vulnerables<br>\n",
    "4 = hogares no vulnerables<br>"
   ]
  },
  {
   "cell_type": "code",
   "execution_count": null,
   "metadata": {
    "colab": {
     "base_uri": "https://localhost:8080/",
     "height": 50
    },
    "colab_type": "code",
    "id": "2maVI3bK4T88",
    "outputId": "e459b9b9-e1da-4ef7-a2dc-1022b2a7daa7",
    "scrolled": false
   },
   "outputs": [],
   "source": [
    "# Eliminamos columnas que son features calculadas en base a otros features\n",
    "_calc_feat = ds.loc[:,'SQBescolari':'agesq'].columns\n",
    "print('Columnas eliminadas: ', _calc_feat.values)\n",
    "ds.drop(columns = _calc_feat, inplace = True)"
   ]
  },
  {
   "cell_type": "markdown",
   "metadata": {
    "colab_type": "text",
    "id": "0HJ7rvZQ4T9E"
   },
   "source": [
    "Tomamos una muestra aleatoria para ver valores más dispersos."
   ]
  },
  {
   "cell_type": "code",
   "execution_count": null,
   "metadata": {
    "colab": {
     "base_uri": "https://localhost:8080/",
     "height": 363
    },
    "colab_type": "code",
    "id": "FKcx3bYa4T9F",
    "outputId": "c5a92e29-bb6c-4a7d-ffdf-79fa503eca6e"
   },
   "outputs": [],
   "source": [
    "# Fijar seed para asegurar reproducibilidad\n",
    "np.random.seed(0)\n",
    "ds.sample(10)"
   ]
  },
  {
   "cell_type": "markdown",
   "metadata": {
    "colab_type": "text",
    "id": "WdhW9AFR4T9N"
   },
   "source": [
    "\n",
    "Veamos los tipos de datos que tenemos"
   ]
  },
  {
   "cell_type": "code",
   "execution_count": null,
   "metadata": {
    "colab": {
     "base_uri": "https://localhost:8080/",
     "height": 34
    },
    "colab_type": "code",
    "id": "mQ1dTL4S4T9P",
    "outputId": "16e01a48-8911-4b98-fdf2-b9ee8585d9ec"
   },
   "outputs": [],
   "source": [
    "cat = len(ds.select_dtypes(include=['object']).columns)\n",
    "num = len(ds.select_dtypes(include=['int64','float64']).columns)\n",
    "print('Total Features: ', cat, 'objetos', '+',\n",
    "      num, 'numerical', '=', cat+num, 'features')"
   ]
  },
  {
   "cell_type": "markdown",
   "metadata": {
    "colab_type": "text",
    "id": "psjJcYiBkIZo"
   },
   "source": [
    "Verificamos los tipos de datos objeto, el porque estan hay y que tipo de datos deberian ser.\n",
    "\n",
    "Lo primero que notamos es que la edjefe, edjefa y dependency. \n",
    "\n",
    "*  Segun la descrićión de las columnas dependency, es un campo calculado, y no deberia tener valores como yes o no.\n",
    "\n",
    "*   edjefe y edjefa, que son el nivel de educación del jefe y de la jefa, tienen mezcla de valores numericos, y no numericos como \"no\" y \"yes\"\n",
    "\n",
    "Considero que se deben descartar y volver a ser calculadas despues de manera adecuada. \n"
   ]
  },
  {
   "cell_type": "code",
   "execution_count": null,
   "metadata": {
    "colab": {
     "base_uri": "https://localhost:8080/",
     "height": 235
    },
    "colab_type": "code",
    "id": "MLihuRMvmH0R",
    "outputId": "843fc6ea-63c2-4fff-8f3e-129089c48530"
   },
   "outputs": [],
   "source": [
    "print(ds.edjefe.unique())\n",
    "print(ds.edjefa.unique())\n",
    "print(ds.dependency.unique())\n",
    "print(ds.select_dtypes(include=['object']).describe())"
   ]
  },
  {
   "cell_type": "code",
   "execution_count": null,
   "metadata": {
    "colab": {
     "base_uri": "https://localhost:8080/",
     "height": 343
    },
    "colab_type": "code",
    "id": "0dsZQKbRjywj",
    "outputId": "35b6c08e-0a64-4ac7-88b6-5f2589b96ec2"
   },
   "outputs": [],
   "source": [
    "ds[[\"Id\",\"idhogar\", \"dependency\",\"age\",\"edjefe\", \"edjefa\", \"parentesco1\", \"escolari\"]].head(10)"
   ]
  },
  {
   "cell_type": "code",
   "execution_count": null,
   "metadata": {
    "colab": {
     "base_uri": "https://localhost:8080/",
     "height": 34
    },
    "colab_type": "code",
    "id": "ySDPX-qIo0Wu",
    "outputId": "9c8ceaeb-aa2a-4c99-a3b5-b71fd4528ab5"
   },
   "outputs": [],
   "source": [
    "#Elimino aoarte de edjefe, edjega y dependency. meaneduc ya que tambien es una variable calculada. \n",
    "ds.drop(columns =[\"edjefe\", \"edjefa\", \"dependency\", \"meaneduc\"], inplace = True)\n",
    "cat = len(ds.select_dtypes(include=['object']).columns)\n",
    "num = len(ds.select_dtypes(include=['int64','float64']).columns)\n",
    "print('Total Features: ', cat, 'objetos', '+',\n",
    "      num, 'numerical', '=', cat+num, 'features')"
   ]
  },
  {
   "cell_type": "markdown",
   "metadata": {
    "colab_type": "text",
    "id": "XdZYbJovsrx1"
   },
   "source": [
    "Y veamos el resumen de los datos"
   ]
  },
  {
   "cell_type": "code",
   "execution_count": null,
   "metadata": {
    "colab": {
     "base_uri": "https://localhost:8080/",
     "height": 393
    },
    "colab_type": "code",
    "id": "2pS35oaRssJz",
    "outputId": "7acf4572-8a4e-47b2-9cb6-87af861cf13b"
   },
   "outputs": [],
   "source": [
    "ds.describe(include='all')"
   ]
  },
  {
   "cell_type": "markdown",
   "metadata": {
    "colab_type": "text",
    "id": "qISrt-M-4T9X"
   },
   "source": [
    "### 1.2. Asegurar la Existencia de IDs o Claves Únicas"
   ]
  },
  {
   "cell_type": "markdown",
   "metadata": {
    "colab_type": "text",
    "id": "Kw66_I6i4T9Y"
   },
   "source": [
    "El siguiente paso implica chequear que no existen datos duplicados y que las claves, si existen, son únicas.\n",
    "\n",
    "Claves únicas son id hogar y id individuo.\n",
    "\n",
    "Como Pandas acepta valores duplicados en los índices también debemos verificar ahí"
   ]
  },
  {
   "cell_type": "code",
   "execution_count": null,
   "metadata": {
    "colab": {
     "base_uri": "https://localhost:8080/",
     "height": 67
    },
    "colab_type": "code",
    "id": "6omNRzaptYK9",
    "outputId": "e809a82a-d0fb-4c92-dce5-806849d4a49c"
   },
   "outputs": [],
   "source": [
    "ds[ds.index.duplicated()]"
   ]
  },
  {
   "cell_type": "markdown",
   "metadata": {
    "colab_type": "text",
    "id": "-fQhMqjf5s46"
   },
   "source": [
    "#### Verificación de unicidad de id individuo"
   ]
  },
  {
   "cell_type": "code",
   "execution_count": null,
   "metadata": {
    "colab": {
     "base_uri": "https://localhost:8080/",
     "height": 34
    },
    "colab_type": "code",
    "id": "zgwXLXe056UN",
    "outputId": "588b8614-5400-42bc-aa35-628cd6f27ffe"
   },
   "outputs": [],
   "source": [
    "ds['Id'].nunique() == ds['Id'].count()"
   ]
  },
  {
   "cell_type": "markdown",
   "metadata": {
    "colab_type": "text",
    "id": "B3ZksEkj4T92"
   },
   "source": [
    "### 1.3. Despersonalizar Datos y Guardarlos en un Nuevo Archivo"
   ]
  },
  {
   "cell_type": "markdown",
   "metadata": {
    "colab_type": "text",
    "id": "jj1bU8Nz4T94"
   },
   "source": [
    "En este caso, no es necesario despersonalizar ningún dato, dado que los mismos ya se encuentran despersonalizados."
   ]
  },
  {
   "cell_type": "markdown",
   "metadata": {
    "colab_type": "text",
    "id": "PmG6EouJ4T96"
   },
   "source": [
    "### 1.4. Nunca Modificar los Datos Crudos u Originales"
   ]
  },
  {
   "cell_type": "markdown",
   "metadata": {
    "colab_type": "text",
    "id": "7zCzYvvJ4T97"
   },
   "source": [
    "Al finalizar la limpieza, deberán guardar el dataset resultante, para asegurarse de no modificar los datos originales."
   ]
  },
  {
   "cell_type": "markdown",
   "metadata": {
    "colab_type": "text",
    "id": "1DDzdEvr4T98"
   },
   "source": [
    "## 2. Pasos de Limpieza Necesarios\n",
    "\n",
    "### 2.1. Etiquetas de Variables/Columnas y Problemas de Codificación/Encoding"
   ]
  },
  {
   "cell_type": "markdown",
   "metadata": {
    "colab_type": "text",
    "id": "01E9o_H84T99"
   },
   "source": [
    "Antes que nada, verificar el encoding de la fuente de datos, leyendo en crudo los primeros 100000 caracteres, por ejemplo:"
   ]
  },
  {
   "cell_type": "code",
   "execution_count": null,
   "metadata": {
    "colab": {},
    "colab_type": "code",
    "id": "8u2NtR1g4T9-"
   },
   "outputs": [],
   "source": [
    "import chardet"
   ]
  },
  {
   "cell_type": "code",
   "execution_count": null,
   "metadata": {
    "colab": {
     "base_uri": "https://localhost:8080/",
     "height": 34
    },
    "colab_type": "code",
    "id": "OjuQtznK4T-B",
    "outputId": "d2c42d41-034e-4f76-a2da-0aafb7190fb4",
    "scrolled": true
   },
   "outputs": [],
   "source": [
    "import requests\n",
    "rawdata = requests.get(url_data)\n",
    "result = chardet.detect(rawdata.content[:100000])\n",
    "result"
   ]
  },
  {
   "cell_type": "markdown",
   "metadata": {
    "colab_type": "text",
    "id": "uFg5TNqS4T-F"
   },
   "source": [
    "Analizar los nombres de columnas, utilizando por ejemplo `ds.columns.str.extract(r'^(\\w+)$')`."
   ]
  },
  {
   "cell_type": "code",
   "execution_count": null,
   "metadata": {
    "colab": {
     "base_uri": "https://localhost:8080/",
     "height": 470
    },
    "colab_type": "code",
    "id": "GPSHtAIs4T-H",
    "outputId": "ff190d73-2529-45a7-cfbb-cd6b83a34894"
   },
   "outputs": [],
   "source": [
    "ds.columns.values"
   ]
  },
  {
   "cell_type": "markdown",
   "metadata": {},
   "source": [
    "Las variables tiene no tienen problemas de enconding."
   ]
  },
  {
   "cell_type": "markdown",
   "metadata": {
    "colab_type": "text",
    "id": "XxtvlzHI4T-Q"
   },
   "source": [
    "### 2.2. Tratamiento de Valores Faltantes"
   ]
  },
  {
   "cell_type": "markdown",
   "metadata": {
    "colab_type": "text",
    "id": "9wCvMs8O4T-S"
   },
   "source": [
    "Para analizar los valores faltantes, primero deberán saber cuántos existen por campo y cuánto representan del total:"
   ]
  },
  {
   "cell_type": "code",
   "execution_count": null,
   "metadata": {
    "colab": {
     "base_uri": "https://localhost:8080/",
     "height": 98
    },
    "colab_type": "code",
    "id": "37jLX2qT4T-U",
    "outputId": "1aabc959-ce43-4903-a68b-d38e5af99844"
   },
   "outputs": [],
   "source": [
    "valores_faltantes = pd.DataFrame([ds.isnull().sum(),\n",
    "                                  ds.isnull().sum()/len(ds)]).transpose().rename(\n",
    "    columns = {0:'Cantidad_NaN',1:'Porcentaje_Nan_s_Total'})\n",
    "\n",
    "valores_faltantes.loc[valores_faltantes['Cantidad_NaN']>0].style.format({'Porcentaje_Nan_s_Total':\"{:.2%}\"})"
   ]
  },
  {
   "cell_type": "code",
   "execution_count": null,
   "metadata": {
    "colab": {
     "base_uri": "https://localhost:8080/",
     "height": 136
    },
    "colab_type": "code",
    "id": "9M8mhftLVPSJ",
    "outputId": "cb5a5590-7369-4922-d2fd-0491a7d2a45b"
   },
   "outputs": [],
   "source": [
    "_data_fields[_data_fields['Variable_name'].isin(['v2a1','v18q1','rez_esc'])]"
   ]
  },
  {
   "cell_type": "markdown",
   "metadata": {
    "colab_type": "text",
    "id": "ukaVcwZFV-Ny"
   },
   "source": [
    "#### v2a1:\tMonthly rent payment"
   ]
  },
  {
   "cell_type": "code",
   "execution_count": null,
   "metadata": {
    "colab": {
     "base_uri": "https://localhost:8080/",
     "height": 34
    },
    "colab_type": "code",
    "id": "piLRSj_lWBD7",
    "outputId": "3e254b05-5151-4ebf-f5cd-c5769c97bc7f"
   },
   "outputs": [],
   "source": [
    "ds[ds['tipovivi1']==1]['v2a1'].unique()"
   ]
  },
  {
   "cell_type": "code",
   "execution_count": null,
   "metadata": {
    "colab": {
     "base_uri": "https://localhost:8080/",
     "height": 336
    },
    "colab_type": "code",
    "id": "9DjoDoBbZZ3V",
    "outputId": "d0655ff2-83e9-41d1-b887-401ce0637b74"
   },
   "outputs": [],
   "source": [
    "ds[ds['tipovivi2']==1]['v2a1'].unique()"
   ]
  },
  {
   "cell_type": "code",
   "execution_count": null,
   "metadata": {
    "colab": {
     "base_uri": "https://localhost:8080/",
     "height": 235
    },
    "colab_type": "code",
    "id": "eeMh0BimZaA9",
    "outputId": "c7527bea-3142-499e-f366-f8330b53ccd7"
   },
   "outputs": [],
   "source": [
    "ds[ds['tipovivi3']==1]['v2a1'].unique()"
   ]
  },
  {
   "cell_type": "code",
   "execution_count": null,
   "metadata": {
    "colab": {
     "base_uri": "https://localhost:8080/",
     "height": 34
    },
    "colab_type": "code",
    "id": "y4l_tPSjZaIm",
    "outputId": "5808d6d8-93b6-441a-d180-0426661862e8"
   },
   "outputs": [],
   "source": [
    "ds[ds['tipovivi4']==1]['v2a1'].unique()"
   ]
  },
  {
   "cell_type": "code",
   "execution_count": null,
   "metadata": {
    "colab": {
     "base_uri": "https://localhost:8080/",
     "height": 34
    },
    "colab_type": "code",
    "id": "R-al21UVZgyh",
    "outputId": "e05edc9d-fae4-449e-c993-e53e8c1c3782"
   },
   "outputs": [],
   "source": [
    "ds[ds['tipovivi5']==1]['v2a1'].unique()"
   ]
  },
  {
   "cell_type": "markdown",
   "metadata": {
    "colab_type": "text",
    "id": "JQpNE1pRaRZu"
   },
   "source": [
    "Se observa que solo los tipo vivienda 2 y 3 tienen renta. Los tipo vivienda 2 son aquellos que son propietarios pero pagan una cuota, y los tipo 3 son los que pagan un alquiler. Más adelante se analizará la forma de completar los datos faltantes de esta variable."
   ]
  },
  {
   "cell_type": "markdown",
   "metadata": {
    "colab_type": "text",
    "id": "ncQJmC9udOlz"
   },
   "source": [
    "#### v18q1: number of tablets household owns\n",
    "\n",
    "el v18q1 es la cantidad de tablets que hay en el hogar. v18q indica si el individuo posee una tablet (puede tener mas de una). Si se cuenta la cantidad de personas que tienen tablet en el hogar (sum), y se compara con la cantidad informada (v18q1) de tablet, encontramos 3 situaciones:\n",
    "1. Caso 1: la cantidad informada es menor a la cantidad calculada (varios miembros de un hogar se atribuyen el dominio de la tablet). Total: 2061\n",
    "2. Caso 2: la cantidad informada es mayor a la calculada (un individuo posea mas de una tablet). Total: 18\n",
    "3. Caso 3: la cantidad informada es igual a la calculada (lo esperado). Total:  83\n",
    "\n"
   ]
  },
  {
   "cell_type": "code",
   "execution_count": null,
   "metadata": {
    "colab": {
     "base_uri": "https://localhost:8080/",
     "height": 34
    },
    "colab_type": "code",
    "id": "M9Hq-YQ_v_0o",
    "outputId": "b2d7eec9-441d-454d-90ea-d8a312d14371"
   },
   "outputs": [],
   "source": [
    "#todos los datos de v18q que es si el individuo posee una tablet no son nulos. \n",
    "filtered_ds = ds[ds.v18q.isnull()][['Id', 'idhogar','v18q','v18q1']]\n",
    "print(filtered_ds.shape)"
   ]
  },
  {
   "cell_type": "code",
   "execution_count": null,
   "metadata": {
    "colab": {
     "base_uri": "https://localhost:8080/",
     "height": 106
    },
    "colab_type": "code",
    "id": "JGF6lv1Vhy1y",
    "outputId": "687b28db-65dd-4d17-bb1a-9ade8c66e9cc"
   },
   "outputs": [],
   "source": [
    "_data_fields[_data_fields['Variable_name'].isin(['v18q','v18q1'])]"
   ]
  },
  {
   "cell_type": "code",
   "execution_count": null,
   "metadata": {
    "colab": {
     "base_uri": "https://localhost:8080/",
     "height": 67
    },
    "colab_type": "code",
    "id": "FmxvaAivdVOF",
    "outputId": "ecfcca4c-3dbd-4006-c24e-0a49f80e7579"
   },
   "outputs": [],
   "source": [
    "hogares_list = ds.idhogar.unique()\n",
    "filtered_ds = ds[ds.idhogar.duplicated(keep=False)].sort_values(by='idhogar')[['Id', 'idhogar','v18q','v18q1']]\n",
    "calculated_ds = filtered_ds.groupby(['idhogar'])['v18q'].sum().reset_index(name='sum')\n",
    "total_ds = pd.merge(filtered_ds, calculated_ds, left_on='idhogar', right_on='idhogar')\n",
    "\n",
    "print(\"Caso 1: \",str(total_ds[total_ds['v18q1']<total_ds['sum']].count()['Id']))\n",
    "print(\"Caso 2: \",str(total_ds[total_ds['v18q1']>total_ds['sum']].count()['Id']))\n",
    "print(\"Caso 3: \",str(total_ds[total_ds['v18q1']==total_ds['sum']].count()['Id']))\n",
    "\n"
   ]
  },
  {
   "cell_type": "markdown",
   "metadata": {
    "colab_type": "text",
    "id": "f5JJ71vmDBst"
   },
   "source": [
    "Tratamiento de valores faltantes: \n",
    "\n",
    "Descartaría la variable por las siguientes razones:\n",
    "* Hay más casos tipo 1, es decir que la cantidad de tablets por hogar es menor a la suma de la cantidad de personas que dicen tener tablets en el hogar. Esto nos da pensar dos cosas: \n",
    "** La tablet tiene más de un dueño, es decir que varios individuos se atribuyen el dominio del objeto e incide en la variable v18q, pero no en el v18q1.\n",
    "** Existen más tablets en el hogar, esto incide en v18q1 pero no en v18q.\n",
    "* Casos 2, son aquellos que nos permiten decir que el individuo puede llegar a tener más de una tablet. Esto se refleja en cambios en el valor de v18q1, pero no en v18q que solo nos informa si el individuo posee o no una tablet.\n",
    "\n",
    "En ambos casos casos encontramos inconsistencia en los datos proporcionados, por lo cual se descarta la variable v18q1.\n",
    "Podria ser interesante incorporar una variable que nos indique la cantidad de individuos que dicen poseer una tablet en un hogar, ya que basados en el estudio anterior, la variable v18q tiene fuerte correlación con la variable target.\n"
   ]
  },
  {
   "cell_type": "markdown",
   "metadata": {
    "colab_type": "text",
    "id": "OASR0rhqznr5"
   },
   "source": [
    "#### rez_esc year behind school\n",
    "\n"
   ]
  },
  {
   "cell_type": "code",
   "execution_count": null,
   "metadata": {
    "colab": {
     "base_uri": "https://localhost:8080/"
    },
    "colab_type": "code",
    "id": "VK1dl4ZzipSM",
    "outputId": "936cd074-72cc-49c6-d935-d0fef6cc0d53"
   },
   "outputs": [],
   "source": [
    "\n",
    "ds['rez_esc'].count()\n"
   ]
  },
  {
   "cell_type": "code",
   "execution_count": null,
   "metadata": {
    "colab": {
     "base_uri": "https://localhost:8080/"
    },
    "colab_type": "code",
    "id": "i_-HM7AEFicX",
    "outputId": "f1a30f66-7d95-47d3-9990-00d770d5d45e"
   },
   "outputs": [],
   "source": [
    "ds[ds['rez_esc'].isna()]['Id'].count()"
   ]
  },
  {
   "cell_type": "code",
   "execution_count": null,
   "metadata": {
    "colab": {
     "base_uri": "https://localhost:8080/"
    },
    "colab_type": "code",
    "id": "Ng1282NtGbm3",
    "outputId": "ed5a3099-78bc-4007-9def-690068a03c45"
   },
   "outputs": [],
   "source": [
    "ds['rez_esc'].describe()"
   ]
  },
  {
   "cell_type": "code",
   "execution_count": null,
   "metadata": {
    "colab": {
     "base_uri": "https://localhost:8080/"
    },
    "colab_type": "code",
    "id": "jpvITJXUGhMX",
    "outputId": "e8f7364a-7b55-4351-edd0-6d1044aa2c17"
   },
   "outputs": [],
   "source": [
    "f, ax = plt.subplots(figsize=(8, 6))\n",
    "fig = sns.boxplot(x='rez_esc', y='escolari', data=ds)"
   ]
  },
  {
   "cell_type": "code",
   "execution_count": null,
   "metadata": {},
   "outputs": [],
   "source": [
    "\n",
    "ds.plot(x='age', y='rez_esc')\n"
   ]
  },
  {
   "cell_type": "code",
   "execution_count": null,
   "metadata": {},
   "outputs": [],
   "source": [
    "ds[(ds['age']>17)&(ds.rez_esc.notnull())][['age','rez_esc']]"
   ]
  },
  {
   "cell_type": "code",
   "execution_count": null,
   "metadata": {},
   "outputs": [],
   "source": [
    "count_repitencia = ds[(ds['age']<17)&(ds.rez_esc.notnull())][['rez_esc','Target']].groupby('Target')['rez_esc'].count()\n",
    "young_1 = ds[(ds['age']<17)&(ds.Target == 1)]['Id'].count()\n",
    "young_2 = ds[(ds['age']<17)&(ds.Target == 2)]['Id'].count()\n",
    "young_3 = ds[(ds['age']<17)&(ds.Target == 3)]['Id'].count()\n",
    "young_4 = ds[(ds['age']<17)&(ds.Target == 4)]['Id'].count()\n",
    "print(\"Porcentaje de repitencia de jóvenes menores de 17 en hogares de extrema pobreza: \",count_repitencia[1]/young_1*100)\n",
    "print(\"Porcentaje de repitencia de jóvenes menores de 17 en hogares de pobreza moderada: \",count_repitencia[2]/young_2*100)\n",
    "print(\"Porcentaje de repitencia de jóvenes menores de 17 en hogares vulnerables: \",count_repitencia[3]/young_3*100)\n",
    "print(\"Porcentaje de repitencia de jóvenes menores de 17 en hogares no vulnerables: \",count_repitencia[4]/young_4*100)"
   ]
  },
  {
   "cell_type": "markdown",
   "metadata": {
    "colab_type": "text",
    "id": "nouRp6J9Ekkg"
   },
   "source": [
    "Tratamiento de valores faltantes: \n",
    "\n",
    "Este campo es la cantidad de años de atraso de educación tiene el individuo. En el último gráfico observamos que los valores no nulos están concentrados en los individuos menores a 17 años. Por lo tanto no sería un indicador de analfabetismo de los jefes de hogar sino que indica el grado de repitencia de los individuos menores a 17 años. Podriamos suponer que el nivel de repitencia es una cuestión de clase social, pero el nivel de repitencia en las distintas clases sociales es de alrededor de 60%.\n",
    "\n",
    "Creo es esta variable puede ser descartada debido a que nuestro análisis está enfocado en los jefes de hogar. Sabemos que los jefes de hogar tiene una edad mayor a 17 años, por lo que no forma parte de nuesto de objeto de estudio.\n",
    "<p>\n",
    "<span style=\"border: 4px solid #52A5D8;background-color: #E87079;padding: 12px\">Conclusión: eliminar variable rez_esc</span>\n",
    "</p>\n",
    "\n"
   ]
  },
  {
   "cell_type": "code",
   "execution_count": null,
   "metadata": {},
   "outputs": [],
   "source": [
    "ds = ds.drop(columns=['rez_esc'])"
   ]
  },
  {
   "cell_type": "markdown",
   "metadata": {
    "colab_type": "text",
    "id": "ieJI_r-t4T-b"
   },
   "source": [
    "### 2.3. Codificación de Variables Categóricas"
   ]
  },
  {
   "cell_type": "markdown",
   "metadata": {
    "colab_type": "text",
    "id": "Eg2bf95L4T-d"
   },
   "source": [
    "Aplica?\n",
    "No aplica, ya que las variables categóricas ya están codificadas."
   ]
  },
  {
   "cell_type": "markdown",
   "metadata": {
    "colab_type": "text",
    "id": "LZ0WXmRH4T-h"
   },
   "source": [
    "### 2.4. No Cambiar los Nombres de las Variables de la Fuente de Origen"
   ]
  },
  {
   "cell_type": "code",
   "execution_count": null,
   "metadata": {
    "colab": {},
    "colab_type": "code",
    "id": "6X5k04WL4T-i"
   },
   "outputs": [],
   "source": []
  },
  {
   "cell_type": "markdown",
   "metadata": {
    "colab_type": "text",
    "id": "K12xL62v4T-k"
   },
   "source": [
    "### 2.5. Verificación de Consistencia de Datos"
   ]
  },
  {
   "cell_type": "markdown",
   "metadata": {
    "colab_type": "text",
    "id": "tBKaIkFq4T-l"
   },
   "source": [
    "Este es el paso más analítico, en donde se deben aplicar reglas de integridad."
   ]
  },
  {
   "cell_type": "markdown",
   "metadata": {
    "colab_type": "text",
    "id": "QKOwhRlLIxRA"
   },
   "source": [
    "#### Verificación de tamviv, tamhog, r4t3 y hhzise"
   ]
  },
  {
   "cell_type": "markdown",
   "metadata": {
    "colab_type": "text",
    "id": "iwsl9U5Z1zkM"
   },
   "source": [
    "Lo primero que verificamos son que tamhog y hhzise son exactamente iguales. No es necesario tener ambos almacenados. "
   ]
  },
  {
   "cell_type": "code",
   "execution_count": null,
   "metadata": {
    "colab": {
     "base_uri": "https://localhost:8080/",
     "height": 225
    },
    "colab_type": "code",
    "id": "VlsPqvNE2NVC",
    "outputId": "53c78c6c-966e-4994-b4ab-33c981794ca6"
   },
   "outputs": [],
   "source": [
    "_data_fields[_data_fields['Variable_name'].isin(['tamhog','hhsize','r4t3','tamviv','hogar_total'])]"
   ]
  },
  {
   "cell_type": "markdown",
   "metadata": {
    "colab_type": "text",
    "id": "cxK_QooQ6PqV"
   },
   "source": [
    "¿Es el tamhog igual que el hhsize?  **Si**\n"
   ]
  },
  {
   "cell_type": "code",
   "execution_count": null,
   "metadata": {
    "colab": {
     "base_uri": "https://localhost:8080/",
     "height": 34
    },
    "colab_type": "code",
    "id": "l6vGV5ux3Hyz",
    "outputId": "6ad29363-cf8a-4643-b490-f41d6d352c5e"
   },
   "outputs": [],
   "source": [
    "print(ds[ds.tamhog != ds.hhsize].shape)"
   ]
  },
  {
   "cell_type": "code",
   "execution_count": null,
   "metadata": {},
   "outputs": [],
   "source": [
    "ds = ds.drop(columns=['hhsize'])"
   ]
  },
  {
   "cell_type": "markdown",
   "metadata": {
    "colab_type": "text",
    "id": "PM_eMqc_6i1X"
   },
   "source": [
    "¿Hay viviendas donde estos valores son diferentes tamviv y r4t3? **Si**\n",
    "\n",
    "Numero de personas viviendo en la casa\n",
    "\n",
    "Total de personas en la casa\n",
    "\n",
    "Para mi este caso se puede dar en los casos donde haya más de un hogar en una vivienda. "
   ]
  },
  {
   "cell_type": "code",
   "execution_count": null,
   "metadata": {
    "colab": {
     "base_uri": "https://localhost:8080/",
     "height": 212
    },
    "colab_type": "code",
    "id": "wsCl3DGq7RAN",
    "outputId": "0005fb96-96e7-4fb4-e8b3-9ce88080a060"
   },
   "outputs": [],
   "source": [
    "print(ds[ds.tamviv != ds.r4t3].shape)\n",
    "ds[ds.tamviv != ds.r4t3][[\"idhogar\", 'r4t3','tamviv']].head()"
   ]
  },
  {
   "cell_type": "markdown",
   "metadata": {
    "colab_type": "text",
    "id": "_eg5QklX7Z67"
   },
   "source": [
    "¿Hay vivviendas donde estos valores son diferentes tamhog y r4t3? **SI**\n",
    "\n",
    "Numero de persona viviendo en la casa\n",
    "\n",
    "Total de personas en la casa"
   ]
  },
  {
   "cell_type": "code",
   "execution_count": null,
   "metadata": {
    "colab": {
     "base_uri": "https://localhost:8080/",
     "height": 212
    },
    "colab_type": "code",
    "id": "Zdnn9gi07Y3L",
    "outputId": "19580766-66bf-4192-c8cd-a382a51131af"
   },
   "outputs": [],
   "source": [
    "print(ds[ds.tamhog != ds.r4t3].shape)\n",
    "ds[ds.tamhog != ds.r4t3][[\"Id\", \"idhogar\",'tamhog', 'r4t3','tamviv']].head()"
   ]
  },
  {
   "cell_type": "markdown",
   "metadata": {
    "colab_type": "text",
    "id": "TkGfNRqPJpVN"
   },
   "source": [
    "De estos analisis de integridad lo primero que notamos es que el tamhog, r4t3, tamviv. No son datos fiables y que poseen errores.\n",
    "\n",
    "\n",
    "Opino que lo mejor seria deshacernos de las filas que no tengan integridad con estos datos o recalcular estos datos en base al numero real de personas que tenemos."
   ]
  },
  {
   "cell_type": "markdown",
   "metadata": {},
   "source": [
    "#### Consistencia de integridad de variables r4m3, r4h3, r4t3, r4m2, r4m1, r4m3, r4h2, r4h1 y r4h3"
   ]
  },
  {
   "cell_type": "markdown",
   "metadata": {},
   "source": [
    "##### Verificación de integridad entre r4m3 + r4h3 = r4t3\n",
    "\n",
    "Verificamos que la variable r4t3 es la suma de las variables r4m3 y r4h3. Por lo que r4t3 va a ser elimada."
   ]
  },
  {
   "cell_type": "code",
   "execution_count": null,
   "metadata": {},
   "outputs": [],
   "source": [
    "_data_fields[_data_fields['Variable_name'].isin(['r4m3','r4h3','r4t3'])]"
   ]
  },
  {
   "cell_type": "code",
   "execution_count": null,
   "metadata": {},
   "outputs": [],
   "source": [
    "total_person_household = ds[['r4m3','r4h3','r4t3']]\n",
    "total_person_household['r4m3_r4h3'] = total_person_household['r4m3']+total_person_household['r4h3']\n",
    "print(\"La variable r4t3 es la suma de r4m3 y r4h3: \",total_person_household[total_person_household.r4t3!=total_person_household.r4m3_r4h3].shape[0]==0)"
   ]
  },
  {
   "cell_type": "markdown",
   "metadata": {},
   "source": [
    "##### Verificación de integridad entre r4m2+ r4m1 = r4m3\n",
    "Se verifica que la variable r4m3 es la suma de r4m1 y r4m2."
   ]
  },
  {
   "cell_type": "code",
   "execution_count": null,
   "metadata": {},
   "outputs": [],
   "source": [
    "_data_fields[_data_fields['Variable_name'].isin(['r4m1','r4m2','r4m3'])]"
   ]
  },
  {
   "cell_type": "code",
   "execution_count": null,
   "metadata": {},
   "outputs": [],
   "source": [
    "total_female_household = ds[['r4m1','r4m2','r4m3']]\n",
    "total_female_household['suma'] = total_female_household[['r4m1','r4m2']].sum(axis=1)\n",
    "\n",
    "print(\"La variable r4m3 es la suma de r4m1 y r4m2: \",total_female_household[total_female_household.r4m3!=total_female_household.suma].shape[0]==0)"
   ]
  },
  {
   "cell_type": "markdown",
   "metadata": {},
   "source": [
    "##### Verificación de integridad entre r4h2+ r4h1 = r4h3\n",
    "Se verifica que la variable r4h3 es la suma de r4h1 y r4h2."
   ]
  },
  {
   "cell_type": "code",
   "execution_count": null,
   "metadata": {},
   "outputs": [],
   "source": [
    "_data_fields[_data_fields['Variable_name'].isin(['r4h1','r4h2','r4h3'])]"
   ]
  },
  {
   "cell_type": "code",
   "execution_count": null,
   "metadata": {
    "scrolled": true
   },
   "outputs": [],
   "source": [
    "total_male_household = ds[['r4h1','r4h2','r4h3']]\n",
    "total_male_household['suma'] = total_male_household[['r4h1','r4h2']].sum(axis=1)\n",
    "\n",
    "print(\"La variable r4h3 es la suma de r4h1 y r4h2: \",total_male_household[total_male_household.r4h3!=total_male_household.suma].shape[0]==0)"
   ]
  },
  {
   "cell_type": "markdown",
   "metadata": {},
   "source": [
    "##### Verificación de integridad entre r4t1\t= r4h1 + r4m1\n",
    "Se verifica que la variable r4h3 es la suma de r4h1 y r4h2."
   ]
  },
  {
   "cell_type": "code",
   "execution_count": null,
   "metadata": {},
   "outputs": [],
   "source": [
    "_data_fields[_data_fields['Variable_name'].isin(['r4t1','r4h1','r4m1'])]"
   ]
  },
  {
   "cell_type": "code",
   "execution_count": null,
   "metadata": {
    "scrolled": true
   },
   "outputs": [],
   "source": [
    "r4 = ds[['r4t1','r4h1','r4m1']]\n",
    "r4['suma'] = r4[['r4h1','r4m1']].sum(axis=1)\n",
    "\n",
    "print(\"La variable r4t1 es la suma de r4h1 y r4m1: \",r4[r4.r4t1!=r4.suma].shape[0]==0)"
   ]
  },
  {
   "cell_type": "markdown",
   "metadata": {},
   "source": [
    "##### Verificación de integridad entre r4t2\t= r4h2 + r4m2\n",
    "Se verifica que la variable r4t2 es la suma de r4h2 y r4m2."
   ]
  },
  {
   "cell_type": "code",
   "execution_count": null,
   "metadata": {},
   "outputs": [],
   "source": [
    "_data_fields[_data_fields['Variable_name'].isin(['r4t2','r4h2','r4m2'])]"
   ]
  },
  {
   "cell_type": "code",
   "execution_count": null,
   "metadata": {},
   "outputs": [],
   "source": [
    "r4 = ds[['r4t2','r4h2','r4m2']]\n",
    "r4['suma'] = r4[['r4h2','r4m2']].sum(axis=1)\n",
    "\n",
    "print(\"La variable r4t2 es la suma de r4h2 y r4m2: \",r4[r4.r4t2!=r4.suma].shape[0]==0)"
   ]
  },
  {
   "cell_type": "markdown",
   "metadata": {},
   "source": [
    "##### Conclusión: \n",
    "* r4h1 + r4h2 = r4h3\n",
    "* r4m1 + r4m2 = r4m3\n",
    "* r4h3 + r4m3 = r4t3\n",
    "* r4h1 + r4m1 = r4t1\n",
    "* r4h2 + r4m2 = r4t2\n",
    "* r4t1 + r4t2 = r4t3\n",
    "\n",
    "  \n",
    "<p style=\"background-color: #FFFF00\">Las variables r4t3, r4m3 y r4h3 son dependientes r4h1, r4h2, r4m1 y r4m2. Por lo que las variables r4t2, r4t2,r4t3, r4m3 y r4h3 serán eliminadas.</p>"
   ]
  },
  {
   "cell_type": "code",
   "execution_count": null,
   "metadata": {},
   "outputs": [],
   "source": [
    "ds = ds.drop(columns=['r4t1','r4t2','r4t3', 'r4m3','r4h3'])"
   ]
  },
  {
   "cell_type": "code",
   "execution_count": null,
   "metadata": {},
   "outputs": [],
   "source": [
    "ds.head()"
   ]
  },
  {
   "cell_type": "markdown",
   "metadata": {},
   "source": [
    "#### Consistencia de variables hogar_nin, hogar_adul, hogar_mayor y hogar_total"
   ]
  },
  {
   "cell_type": "markdown",
   "metadata": {},
   "source": [
    "##### Verificación de integridad entre 'hogar_nin', 'hogar_adul',  'hogar_mayor' == 'hogar_total'\n",
    "\n",
    "Verificamos que la variable hogar_total es igual a la suma de hogar_nin + hogar_adul + hogar_mayor. Encontramos 2028 casos en que esto no se cumple.\n"
   ]
  },
  {
   "cell_type": "code",
   "execution_count": null,
   "metadata": {},
   "outputs": [],
   "source": [
    "_data_fields[_data_fields['Variable_name'].isin(['hogar_nin', 'hogar_adul', 'hogar_mayor','hogar_total'])]"
   ]
  },
  {
   "cell_type": "code",
   "execution_count": null,
   "metadata": {},
   "outputs": [],
   "source": [
    "hogar = ds[['hogar_nin', 'hogar_adul', 'hogar_mayor', 'hogar_total']]\n",
    "hogar['suma'] = hogar[['hogar_nin', 'hogar_adul', 'hogar_mayor']].sum(axis=1)\n",
    "hogar[hogar.hogar_total!=hogar.suma].count()"
   ]
  },
  {
   "cell_type": "markdown",
   "metadata": {},
   "source": [
    "##### Verificación de integridad entre 'hogar_nin', 'hogar_adul',== 'hogar_total'\n",
    "\n",
    "Verificamos que la variable hogar_total es igual a la suma de hogar_nin + hogar_adul. Por lo que se puede mantener las variables hogar_nin y hogar_adult, y se descarta la variable hogar_total."
   ]
  },
  {
   "cell_type": "code",
   "execution_count": null,
   "metadata": {},
   "outputs": [],
   "source": [
    "hogar = ds[['hogar_nin', 'hogar_adul', 'hogar_mayor', 'hogar_total']]\n",
    "hogar['suma'] = hogar[['hogar_nin', 'hogar_adul']].sum(axis=1)\n",
    "hogar[hogar.hogar_total!=hogar.suma].shape[0]"
   ]
  },
  {
   "cell_type": "markdown",
   "metadata": {},
   "source": [
    "<p style=\"background-color: #FFFF00\">Se descarta la variable hogar_total.</p>"
   ]
  },
  {
   "cell_type": "code",
   "execution_count": null,
   "metadata": {},
   "outputs": [],
   "source": [
    "ds = ds.drop(columns=['hogar_total'])"
   ]
  },
  {
   "cell_type": "markdown",
   "metadata": {},
   "source": [
    "#### Consistencia de las variables paredblolad, paredzocalo, paredpreb, pareddes, paredmad, paredzinc, paredfibras y paredother"
   ]
  },
  {
   "cell_type": "markdown",
   "metadata": {},
   "source": [
    "##### Verificación que al menos uno de las variable pared haya sido elegido por individuo\n",
    "* paredblolad\n",
    "* paredzocalo\n",
    "* paredpreb\n",
    "* pareddes\n",
    "* paredmad\n",
    "* paredzinc\n",
    "* paredfibras\n",
    "* paredother"
   ]
  },
  {
   "cell_type": "code",
   "execution_count": null,
   "metadata": {},
   "outputs": [],
   "source": [
    "_data_fields[_data_fields['Variable_name'].isin(['paredblolad','paredzocalo','paredpreb','pareddes','paredmad','paredzinc','paredfibras','paredother'])]"
   ]
  },
  {
   "cell_type": "code",
   "execution_count": null,
   "metadata": {
    "scrolled": true
   },
   "outputs": [],
   "source": [
    "ds.loc[ds[['paredblolad','paredzocalo','paredpreb','pareddes','paredmad','paredzinc','paredfibras','paredother']].sum(axis=1)==False]['Id'].count()"
   ]
  },
  {
   "cell_type": "markdown",
   "metadata": {},
   "source": [
    "##### Verificación que todos los integrantes de la familia tengan el mismo material de la pared asignado "
   ]
  },
  {
   "cell_type": "code",
   "execution_count": null,
   "metadata": {},
   "outputs": [],
   "source": [
    "idhogar_list = pd.Series(ds['idhogar'].unique())\n",
    "pared_ds = ds[['idhogar','paredblolad','paredzocalo','paredpreb','pareddes','paredmad','paredzinc','paredfibras','paredother']]\n",
    "id = idhogar_list.apply(lambda x: x if pared_ds[pared_ds.idhogar==x].all().value_counts()[True]!=2 else None)\n",
    "print(\"Cantidad de familias sin caracteristicas comunes: \",len(id[id.notnull()]))"
   ]
  },
  {
   "cell_type": "markdown",
   "metadata": {},
   "source": [
    "#### Consistencia de las variables pisomoscer, pisocemento, pisoother, pisonatur, pisonotiene y pisomadera"
   ]
  },
  {
   "cell_type": "markdown",
   "metadata": {},
   "source": [
    "##### Verificación variable tipo de piso.\n",
    "* pisomoscer\n",
    "* pisocemento\n",
    "* pisoother\n",
    "* pisonatur\n",
    "* pisonotiene\n",
    "* pisomadera\n",
    "           \n"
   ]
  },
  {
   "cell_type": "code",
   "execution_count": null,
   "metadata": {},
   "outputs": [],
   "source": [
    "_data_fields[_data_fields['Variable_name'].isin(['pisomoscer','pisocemento','pisoother','pisonatur','pisonotiene','pisomadera'])]"
   ]
  },
  {
   "cell_type": "code",
   "execution_count": null,
   "metadata": {},
   "outputs": [],
   "source": [
    "ds.loc[ds[['pisomoscer','pisocemento','pisoother','pisonatur','pisonotiene','pisomadera']].sum(axis=1)==False]['Id'].count()"
   ]
  },
  {
   "cell_type": "markdown",
   "metadata": {},
   "source": [
    "#####  Verificación que todos los integrantes de la familia tengan el mismo material del piso asignado"
   ]
  },
  {
   "cell_type": "code",
   "execution_count": null,
   "metadata": {},
   "outputs": [],
   "source": [
    "idhogar_list = pd.Series(ds['idhogar'].unique())\n",
    "pared_ds = ds[['idhogar','pisomoscer','pisocemento','pisoother','pisonatur','pisonotiene','pisomadera']]\n",
    "id = idhogar_list.apply(lambda x: x if pared_ds[pared_ds.idhogar==x].all().value_counts()[True]!=2 else None)\n",
    "print(\"Cantidad de familias sin caracteristicas comunes: \",len(id[id.notnull()]))\n"
   ]
  },
  {
   "cell_type": "markdown",
   "metadata": {},
   "source": [
    "#### Consistencia de las variables techozinc, techoentrepiso, techocane y techootro"
   ]
  },
  {
   "cell_type": "markdown",
   "metadata": {},
   "source": [
    "##### Verificación variable tipo de techo.\n",
    "Se encontraron 66 casos en el individuo no tiene asigando un material para el techo. \n",
    "\n",
    "* techozinc\n",
    "* techoentrepiso\n",
    "* techocane\n",
    "* techootro"
   ]
  },
  {
   "cell_type": "code",
   "execution_count": null,
   "metadata": {
    "scrolled": false
   },
   "outputs": [],
   "source": [
    "_data_fields[_data_fields['Variable_name'].isin(['techozinc','techoentrepiso','techocane','techootro','cielorazo', 'etecho1', 'etecho2', 'etecho3'])]"
   ]
  },
  {
   "cell_type": "code",
   "execution_count": null,
   "metadata": {},
   "outputs": [],
   "source": [
    "# Totalindividuos\n",
    "ds.loc[ds[['techozinc','techoentrepiso','techocane','techootro']].sum(axis=1)==False][['Id','techozinc','techoentrepiso','techocane','techootro']]"
   ]
  },
  {
   "cell_type": "markdown",
   "metadata": {},
   "source": [
    "Se observa que son familias de todas las clases. El estado del techo para dichas familias es malo exeptuando una familia que es regular. \n",
    "La falta de este valor se puede deber a un problema de dataentry ya que en caso de no existir la opción que se ajuste más a la característica del hogar se podría haber elegido la opción techo otro. \n",
    "\n",
    "Se incluye el cielo razo para observar si hubo algún tipo de confusión y se seleccionó dicha opción como material del techo, pero tampoco tiene un valor asignado para estas familias."
   ]
  },
  {
   "cell_type": "code",
   "execution_count": null,
   "metadata": {
    "scrolled": false
   },
   "outputs": [],
   "source": [
    "ds.loc[ds[['techozinc','techoentrepiso','techocane','techootro','cielorazo']].sum(axis=1)==False][['Target','tamhog','idhogar', 'etecho1', 'etecho2', 'etecho3','techozinc','techoentrepiso','techocane','techootro','cielorazo']].head()"
   ]
  },
  {
   "cell_type": "markdown",
   "metadata": {},
   "source": [
    "#####  Verificación que todos los integrantes de la familia tengan el mismo material del techo asignado"
   ]
  },
  {
   "cell_type": "code",
   "execution_count": null,
   "metadata": {
    "scrolled": true
   },
   "outputs": [],
   "source": [
    "idhogar_list = pd.Series(ds['idhogar'].unique())\n",
    "techo_ds = ds[['idhogar','techozinc','techoentrepiso','techocane','techootro']]\n",
    "id = idhogar_list.apply(lambda x: x if techo_ds[techo_ds.idhogar==x].all().value_counts()[True]!=2 else None)\n",
    "print(\"Cantidad de familias sin campo techo: \",len(id[id.notnull()]))\n",
    "\n"
   ]
  },
  {
   "cell_type": "markdown",
   "metadata": {},
   "source": [
    "<span style=\"border: 4px solid #52A5D8;background-color: #E87079;padding: 12px\">66 personas pertenecientes a 19 familias cuyo material del techo no tiene asignado ningún valor</span>"
   ]
  },
  {
   "cell_type": "markdown",
   "metadata": {},
   "source": [
    "#### Consistencia de las variables abastaguadentro, abastaguafuera y abastaguano"
   ]
  },
  {
   "cell_type": "markdown",
   "metadata": {},
   "source": [
    " ##### Verificación variable abastecimiento de agua.\n",
    "\n",
    "* abastaguadentro\n",
    "* abastaguafuera\n",
    "* abastaguano\n"
   ]
  },
  {
   "cell_type": "code",
   "execution_count": null,
   "metadata": {},
   "outputs": [],
   "source": [
    "_data_fields[_data_fields['Variable_name'].isin(['abastaguadentro','abastaguafuera','abastaguano'])]"
   ]
  },
  {
   "cell_type": "code",
   "execution_count": null,
   "metadata": {},
   "outputs": [],
   "source": [
    "ds.loc[ds[['abastaguadentro','abastaguafuera','abastaguano']].sum(axis=1)==False]['Id'].count()"
   ]
  },
  {
   "cell_type": "markdown",
   "metadata": {},
   "source": [
    "#####  Verificación que todos los integrantes de la familia tengan el mismo abastecimiento de agua"
   ]
  },
  {
   "cell_type": "code",
   "execution_count": null,
   "metadata": {},
   "outputs": [],
   "source": [
    "idhogar_list = pd.Series(ds['idhogar'].unique())\n",
    "agua_ds = ds[['idhogar','abastaguadentro','abastaguafuera','abastaguano']]\n",
    "id = idhogar_list.apply(lambda x: x if agua_ds[agua_ds.idhogar==x].all().value_counts()[True]!=2 else None)\n",
    "print(\"Cantidad de familias sin caracteristicas comunes: \",len(id[id.notnull()]))\n",
    "\n"
   ]
  },
  {
   "cell_type": "markdown",
   "metadata": {},
   "source": [
    "#### Consistencia de las variables public, planpri, noelec y coopele"
   ]
  },
  {
   "cell_type": "markdown",
   "metadata": {},
   "source": [
    " ##### Verificación variable abastecimiento de electricidad.\n",
    "\n",
    "* public\n",
    "* planpri\n",
    "* noelec\n",
    "* coopele\n",
    " "
   ]
  },
  {
   "cell_type": "code",
   "execution_count": null,
   "metadata": {
    "scrolled": true
   },
   "outputs": [],
   "source": [
    "_data_fields[_data_fields['Variable_name'].isin(['public','planpri','noelec','coopele'])]"
   ]
  },
  {
   "cell_type": "code",
   "execution_count": null,
   "metadata": {},
   "outputs": [],
   "source": [
    "# Totalindividuos\n",
    "ds.loc[ds[['public','planpri','noelec','coopele']].sum(axis=1)==False]['Id'].count()"
   ]
  },
  {
   "cell_type": "code",
   "execution_count": null,
   "metadata": {},
   "outputs": [],
   "source": [
    "# Total de familias sin electricidad\n",
    "len(ds.loc[ds[['public','planpri','noelec','coopele']].sum(axis=1)==False]['idhogar'].unique())"
   ]
  },
  {
   "cell_type": "code",
   "execution_count": null,
   "metadata": {},
   "outputs": [],
   "source": [
    "ds.loc[ds[['public','planpri','noelec','coopele']].sum(axis=1)==False][['Target','tamhog','idhogar','public','planpri','noelec','coopele']]"
   ]
  },
  {
   "cell_type": "markdown",
   "metadata": {},
   "source": [
    "#####  Verificación que todos los integrantes de la familia tengan asignados mismo proveedor de electricidad"
   ]
  },
  {
   "cell_type": "code",
   "execution_count": null,
   "metadata": {},
   "outputs": [],
   "source": [
    "idhogar_list = pd.Series(ds['idhogar'].unique())\n",
    "elect_ds = ds[['idhogar','public','planpri','noelec','coopele']]\n",
    "id = idhogar_list.apply(lambda x: x if elect_ds[elect_ds.idhogar==x].all().value_counts()[True]!=2 else None)\n",
    "print(\"Cantidad de familias sin caracteristicas comunes: \",len(id[id.notnull()]))\n"
   ]
  },
  {
   "cell_type": "markdown",
   "metadata": {},
   "source": [
    "<span style=\"border: 4px solid #52A5D8;background-color: #E87079;padding: 12px\">Hay 4 familias sin proveedor de electricidad asignado.</span>"
   ]
  },
  {
   "cell_type": "markdown",
   "metadata": {},
   "source": [
    "#### Consistencia de las variables sanitario1, sanitario2, sanitario3, sanitario5 y sanitario6"
   ]
  },
  {
   "cell_type": "markdown",
   "metadata": {},
   "source": [
    " Hace referencia a las características del baño en la vivienda.\n",
    "\n",
    "* sanitario1: no hay baño en la vivienda\n",
    "* sanitario2: baño conectado a alcantarillado o pozo de agua.\n",
    "* sanitario3: baño conectado al tanque séptico.\n",
    "* sanitario5: baño conectado a agujero negro o letrina.\n",
    "* sanitario6: baño conectado a otro sistema\n",
    " "
   ]
  },
  {
   "cell_type": "code",
   "execution_count": null,
   "metadata": {
    "scrolled": false
   },
   "outputs": [],
   "source": [
    "_data_fields[_data_fields['Variable_name'].isin(['sanitario1', 'sanitario2', 'sanitario3', 'sanitario5','sanitario6'])]"
   ]
  },
  {
   "cell_type": "code",
   "execution_count": null,
   "metadata": {
    "scrolled": true
   },
   "outputs": [],
   "source": [
    "# Total individuos sin ninguna variable sanitario seleccionada.\n",
    "ds.loc[ds[['sanitario1', 'sanitario2', 'sanitario3', 'sanitario5','sanitario6']].sum(axis=1)==False]['Id'].count()"
   ]
  },
  {
   "cell_type": "markdown",
   "metadata": {},
   "source": [
    "#####  Verificación que todos los integrantes de la familia tengan asignados mismo variable sanitario elegida."
   ]
  },
  {
   "cell_type": "code",
   "execution_count": null,
   "metadata": {
    "scrolled": true
   },
   "outputs": [],
   "source": [
    "idhogar_list = pd.Series(ds['idhogar'].unique())\n",
    "elect_ds = ds[['idhogar','sanitario1', 'sanitario2', 'sanitario3', 'sanitario5','sanitario6']]\n",
    "id = idhogar_list.apply(lambda x: x if elect_ds[elect_ds.idhogar==x].all().value_counts()[True]!=2 else None)\n",
    "print(\"Cantidad de familias sin caracteristicas comunes: \",len(id[id.notnull()]))\n"
   ]
  },
  {
   "cell_type": "markdown",
   "metadata": {},
   "source": [
    "#### Consistencia de las variables energcocinar1, energcocinar2, energcocinar3 y  energcocinar4 "
   ]
  },
  {
   "cell_type": "markdown",
   "metadata": {},
   "source": [
    " Hace referencia a la fuente de energía para cocinar en la vivienda.\n",
    "\n",
    "* energcocinar1: no hay cocina\n",
    "* energcocinar2: principal fuente de energía para cocinar es la electricidad.\n",
    "* energcocinar3: principal fuente de energía para cocinar es el gas.\n",
    "* energcocinar4: principal fuente de energía para cocinar es carbón o leña.\n",
    "\n",
    " "
   ]
  },
  {
   "cell_type": "code",
   "execution_count": null,
   "metadata": {
    "scrolled": false
   },
   "outputs": [],
   "source": [
    "_data_fields[_data_fields['Variable_name'].isin(['energcocinar1', 'energcocinar2', 'energcocinar3', 'energcocinar4'])]"
   ]
  },
  {
   "cell_type": "code",
   "execution_count": null,
   "metadata": {
    "scrolled": true
   },
   "outputs": [],
   "source": [
    "# Total individuos sin ninguna variable energía en cocina seleccionada.\n",
    "ds.loc[ds[['energcocinar1', 'energcocinar2', 'energcocinar3', 'energcocinar4']].sum(axis=1)==False]['Id'].count()"
   ]
  },
  {
   "cell_type": "markdown",
   "metadata": {},
   "source": [
    "#####  Verificación que todos los integrantes de la familia tengan asignados mismo fuente de energía para cocinar en la vivienda"
   ]
  },
  {
   "cell_type": "code",
   "execution_count": null,
   "metadata": {},
   "outputs": [],
   "source": [
    "idhogar_list = pd.Series(ds['idhogar'].unique())\n",
    "elect_ds = ds[['idhogar','energcocinar1', 'energcocinar2', 'energcocinar3', 'energcocinar4']]\n",
    "id = idhogar_list.apply(lambda x: x if elect_ds[elect_ds.idhogar==x].all().value_counts()[True]!=2 else None)\n",
    "print(\"Cantidad de familias sin caracteristicas comunes: \",len(id[id.notnull()]))\n"
   ]
  },
  {
   "cell_type": "markdown",
   "metadata": {},
   "source": [
    "#### Consistencia de las variables  elimbasu1, elimbasu2, elimbasu3, elimbasu4, elimbasu5 y  elimbasu6."
   ]
  },
  {
   "cell_type": "markdown",
   "metadata": {},
   "source": [
    " Hace referencia a la forma de eliminación de la basura en la vivienda:\n",
    "\n",
    "* elimbasu1: la eliminación de residuos se realiza en camión cisterna.\n",
    "* elimbasu2: la eliminación de residuos se realiza en hueco o la entierran \n",
    "* elimbasu3: la eliminación de residuos se realiza mediante la quema.\n",
    "* elimbasu4: la eliminación de residuos se realiza en espacios desocupados\n",
    "* elimbasu5: la eliminación de residuos se realiza en el rio, arroyo o mar.\n",
    "* elimbasu6: la eliminación de residuos se realiza en otro.\n",
    " "
   ]
  },
  {
   "cell_type": "code",
   "execution_count": null,
   "metadata": {
    "scrolled": false
   },
   "outputs": [],
   "source": [
    "_data_fields[_data_fields['Variable_name'].isin(['elimbasu1', 'elimbasu2', 'elimbasu3', 'elimbasu4', 'elimbasu5','elimbasu6'])]"
   ]
  },
  {
   "cell_type": "code",
   "execution_count": null,
   "metadata": {
    "scrolled": true
   },
   "outputs": [],
   "source": [
    "# Total individuos sin ninguna variable eliminación basura seleccionada.\n",
    "ds.loc[ds[['elimbasu1', 'elimbasu2', 'elimbasu3', 'elimbasu4', 'elimbasu5','elimbasu6']].sum(axis=1)==False]['Id'].count()"
   ]
  },
  {
   "cell_type": "markdown",
   "metadata": {},
   "source": [
    "#####  Verificación que todos los integrantes de la familia tengan asignados mismo tipo de eliminación de basura."
   ]
  },
  {
   "cell_type": "code",
   "execution_count": null,
   "metadata": {},
   "outputs": [],
   "source": [
    "idhogar_list = pd.Series(ds['idhogar'].unique())\n",
    "elect_ds = ds[['idhogar','elimbasu1', 'elimbasu2', 'elimbasu3', 'elimbasu4', 'elimbasu5','elimbasu6']]\n",
    "id = idhogar_list.apply(lambda x: x if elect_ds[elect_ds.idhogar==x].all().value_counts()[True]!=2 else None)\n",
    "print(\"Cantidad de familias sin caracteristicas comunes: \",len(id[id.notnull()]))\n"
   ]
  },
  {
   "cell_type": "markdown",
   "metadata": {},
   "source": [
    "#### Consistencia de las variables epared1, epared2 y epared3"
   ]
  },
  {
   "cell_type": "markdown",
   "metadata": {},
   "source": [
    " Hace referencia al estado de la pared:\n",
    "\n",
    "* epared1: el estado de la pared es malo.\n",
    "* epared2: el estado de la pared es regular.\n",
    "* epared3: el estado de la pared es bueno."
   ]
  },
  {
   "cell_type": "code",
   "execution_count": null,
   "metadata": {
    "scrolled": false
   },
   "outputs": [],
   "source": [
    "_data_fields[_data_fields['Variable_name'].isin(['epared1', 'epared2','epared3'])]"
   ]
  },
  {
   "cell_type": "code",
   "execution_count": null,
   "metadata": {
    "scrolled": true
   },
   "outputs": [],
   "source": [
    "# Total individuos sin ninguna variable estado pared seleccionada.\n",
    "ds.loc[ds[['epared1', 'epared2','epared3']].sum(axis=1)==False]['Id'].count()"
   ]
  },
  {
   "cell_type": "markdown",
   "metadata": {},
   "source": [
    "#####  Verificación que todos los integrantes de la familia tengan asignados mismo tipo de eliminación de basura."
   ]
  },
  {
   "cell_type": "code",
   "execution_count": null,
   "metadata": {},
   "outputs": [],
   "source": [
    "idhogar_list = pd.Series(ds['idhogar'].unique())\n",
    "elect_ds = ds[['idhogar','epared1', 'epared2','epared3']]\n",
    "id = idhogar_list.apply(lambda x: x if elect_ds[elect_ds.idhogar==x].all().value_counts()[True]!=2 else None)\n",
    "print(\"Cantidad de familias sin caracteristicas comunes: \",len(id[id.notnull()]))\n"
   ]
  },
  {
   "cell_type": "markdown",
   "metadata": {},
   "source": [
    "#### Consistencia de las variables  etecho1, etecho2 y etecho3"
   ]
  },
  {
   "cell_type": "markdown",
   "metadata": {},
   "source": [
    " Hace referencia al estado de la pared:\n",
    "\n",
    "* etecho1: el estado del techo es malo.\n",
    "* etecho2: el estado del techo es regular.\n",
    "* etecho3: el estado del techo es bueno."
   ]
  },
  {
   "cell_type": "code",
   "execution_count": null,
   "metadata": {
    "scrolled": false
   },
   "outputs": [],
   "source": [
    "_data_fields[_data_fields['Variable_name'].isin(['etecho1', 'etecho2', 'etecho3'])]"
   ]
  },
  {
   "cell_type": "code",
   "execution_count": null,
   "metadata": {
    "scrolled": true
   },
   "outputs": [],
   "source": [
    "# Total individuos sin ninguna variable estado pared seleccionada.\n",
    "ds.loc[ds[['etecho1', 'etecho2', 'etecho3']].sum(axis=1)==False]['Id'].count()"
   ]
  },
  {
   "cell_type": "markdown",
   "metadata": {},
   "source": [
    "#####  Verificación que todos los integrantes de la familia tengan asignados mismo tipo de eliminación de basura."
   ]
  },
  {
   "cell_type": "code",
   "execution_count": null,
   "metadata": {},
   "outputs": [],
   "source": [
    "idhogar_list = pd.Series(ds['idhogar'].unique())\n",
    "elect_ds = ds[['idhogar','etecho1', 'etecho2', 'etecho3']]\n",
    "id = idhogar_list.apply(lambda x: x if elect_ds[elect_ds.idhogar==x].all().value_counts()[True]!=2 else None)\n",
    "print(\"Cantidad de familias sin caracteristicas comunes: \",len(id[id.notnull()]))\n"
   ]
  },
  {
   "cell_type": "markdown",
   "metadata": {},
   "source": [
    "#### Consistencia de las variables  eviv1, eviv2 y eviv3"
   ]
  },
  {
   "cell_type": "markdown",
   "metadata": {},
   "source": [
    " Hace referencia al estado de la piso:\n",
    "\n",
    "* eviv1: el estado del piso es malo.\n",
    "* eviv2: el estado del piso es regular.\n",
    "* eviv3: el estado del piso es bueno."
   ]
  },
  {
   "cell_type": "code",
   "execution_count": null,
   "metadata": {
    "scrolled": false
   },
   "outputs": [],
   "source": [
    "_data_fields[_data_fields['Variable_name'].isin(['eviv1', 'eviv2','eviv3'])]"
   ]
  },
  {
   "cell_type": "code",
   "execution_count": null,
   "metadata": {
    "scrolled": true
   },
   "outputs": [],
   "source": [
    "# Total individuos sin ninguna variable estado piso seleccionada.\n",
    "ds.loc[ds[['eviv1', 'eviv2','eviv3']].sum(axis=1)==False]['Id'].count()"
   ]
  },
  {
   "cell_type": "markdown",
   "metadata": {},
   "source": [
    "#####  Verificación que todos los integrantes de la familia tengan asignados mismo estado del piso "
   ]
  },
  {
   "cell_type": "code",
   "execution_count": null,
   "metadata": {},
   "outputs": [],
   "source": [
    "idhogar_list = pd.Series(ds['idhogar'].unique())\n",
    "elect_ds = ds[['idhogar','eviv1', 'eviv2','eviv3']]\n",
    "id = idhogar_list.apply(lambda x: x if elect_ds[elect_ds.idhogar==x].all().value_counts()[True]!=2 else None)\n",
    "print(\"Cantidad de familias sin caracteristicas comunes: \",len(id[id.notnull()]))\n"
   ]
  },
  {
   "cell_type": "markdown",
   "metadata": {},
   "source": [
    "#### Consistencia de las variables   estadocivil1, estadocivil2, estadocivil3, estadocivil4, estadocivil5, estadocivil6 y estadocivil7"
   ]
  },
  {
   "cell_type": "markdown",
   "metadata": {},
   "source": [
    " Hace referencia estado cívil de la persona:\n",
    "\n",
    "* estadocivil1: persona menor a 10 años\n",
    "* estadocivil2: unión libre o acoplada\n",
    "* estadocivil3: casado/a\n",
    "* estadocivil4: divorcio/a\n",
    "* estadocivil5: separado/a\n",
    "* estadocivil6: viudo/a\n",
    "* estadocivil7: soltero/a"
   ]
  },
  {
   "cell_type": "code",
   "execution_count": null,
   "metadata": {
    "scrolled": false
   },
   "outputs": [],
   "source": [
    "_data_fields[_data_fields['Variable_name'].isin(['estadocivil1', 'estadocivil2', 'estadocivil3', 'estadocivil4','estadocivil5','estadocivil6','estadocivil7'])]"
   ]
  },
  {
   "cell_type": "code",
   "execution_count": null,
   "metadata": {
    "scrolled": true
   },
   "outputs": [],
   "source": [
    "# Total individuos sin ninguna variable estado piso seleccionada.\n",
    "ds.loc[ds[['estadocivil1', 'estadocivil2', 'estadocivil3', 'estadocivil4','estadocivil5','estadocivil6','estadocivil7']].sum(axis=1)==False]['Id'].count()"
   ]
  },
  {
   "cell_type": "markdown",
   "metadata": {},
   "source": [
    "#### Consistencia de las variables parentesco1, parentesco2, parentesco3, parentesco4, parentesco5, parentesco6, parentesco7, parentesco8, parentesco9, parentesco10, parentesco11 y parentesco12"
   ]
  },
  {
   "cell_type": "markdown",
   "metadata": {},
   "source": [
    " Hace referencia estado cívil de la persona:\n",
    "\n",
    "* parentesco1: si es jefe de hogar\n",
    "* parentesco2: si es esposo/compañero\n",
    "* parentesco3: hijo/a\n",
    "* parentesco4: hijastro/a\n",
    "* parentesco5: nuero/a\n",
    "* parentesco6: nieto/a\n",
    "* parentesco7: madre/padre\n",
    "* parentesco8: suegro/a\n",
    "* parentesco9: hermano/a\n",
    "* parentesco10: cuñado/a\n",
    "* parentesco11: otro miembro familiar\n",
    "* parentesco12: no es miembro de familia."
   ]
  },
  {
   "cell_type": "code",
   "execution_count": null,
   "metadata": {
    "scrolled": false
   },
   "outputs": [],
   "source": [
    "_data_fields[_data_fields['Variable_name'].isin(['parentesco1', 'parentesco2', 'parentesco3', 'parentesco4', 'parentesco5', 'parentesco6', 'parentesco7', 'parentesco8', 'parentesco9', 'parentesco10', 'parentesco11','parentesco12'])]"
   ]
  },
  {
   "cell_type": "code",
   "execution_count": null,
   "metadata": {
    "scrolled": true
   },
   "outputs": [],
   "source": [
    "# Total individuos sin ninguna variable parentesco seleccionada.\n",
    "ds.loc[ds[['parentesco1', 'parentesco2', 'parentesco3', 'parentesco4', 'parentesco5', 'parentesco6', 'parentesco7', 'parentesco8', 'parentesco9', 'parentesco10', 'parentesco11','parentesco12']].sum(axis=1)==False]['Id'].count()"
   ]
  },
  {
   "cell_type": "code",
   "execution_count": null,
   "metadata": {},
   "outputs": [],
   "source": [
    "_data_fields"
   ]
  },
  {
   "cell_type": "markdown",
   "metadata": {},
   "source": [
    "\n",
    "#### Verificación de idhogar y parentesco"
   ]
  },
  {
   "cell_type": "markdown",
   "metadata": {
    "colab_type": "text",
    "id": "gb-_RnPWECj9"
   },
   "source": [
    "¿Todas las casas tienen un jefe de hogar? ¿Alguna casa tiene más de un jefe de hogar?"
   ]
  },
  {
   "cell_type": "code",
   "execution_count": null,
   "metadata": {
    "colab": {
     "base_uri": "https://localhost:8080/",
     "height": 50
    },
    "colab_type": "code",
    "id": "zFFOFJiTDNoE",
    "outputId": "73c36122-515c-47fb-ad0d-8df241178c55"
   },
   "outputs": [],
   "source": [
    "print(ds.drop_duplicates(subset=['idhogar']).drop_duplicates(subset =\"idhogar\").shape[0])\n",
    "print(ds[ds.parentesco1==1].shape[0])"
   ]
  },
  {
   "cell_type": "code",
   "execution_count": null,
   "metadata": {
    "colab": {
     "base_uri": "https://localhost:8080/",
     "height": 521
    },
    "colab_type": "code",
    "id": "rrPyTltEFa3j",
    "outputId": "06756528-b84f-4739-edaf-d67a2abf7f00"
   },
   "outputs": [],
   "source": [
    "hogares = ds[[\"parentesco1\", \"idhogar\"]].groupby(['idhogar']).sum()\n",
    "hogares[hogares.parentesco1 != 1]"
   ]
  },
  {
   "cell_type": "markdown",
   "metadata": {
    "colab_type": "text",
    "id": "ee1jtn8mCBoL"
   },
   "source": [
    "Se observan 15 familias sin jefe de hogar.\n",
    "Problemente en la selección de datos para train los grupos familiares hayan quedado divididos, por lo tanto tenemos hogares sin jefe de hogar.\n",
    "Por esta razón se eliminarán las personas que pertenezcan a hogares sin jefe de hogar."
   ]
  },
  {
   "cell_type": "code",
   "execution_count": null,
   "metadata": {
    "colab": {
     "base_uri": "https://localhost:8080/",
     "height": 34
    },
    "colab_type": "code",
    "id": "FvG1id28rQLt",
    "outputId": "362be0b0-1142-42d7-8b34-c52db16a2bbd"
   },
   "outputs": [],
   "source": [
    "#ds[ds.idhogar in hogares.index]\n",
    "array_hogares = hogares[hogares.parentesco1 != 1].index.values\n",
    "#ds.idhogar in list(array_hogares)\n",
    "\n",
    "ds = ds[ds.idhogar.isin(list(array_hogares)) == False]\n",
    "print(ds.shape)"
   ]
  },
  {
   "cell_type": "markdown",
   "metadata": {},
   "source": [
    "#### Verificación de tamhog es la suma de los individuos con mismo idhogar"
   ]
  },
  {
   "cell_type": "code",
   "execution_count": null,
   "metadata": {},
   "outputs": [],
   "source": [
    "ds.shape"
   ]
  },
  {
   "cell_type": "code",
   "execution_count": null,
   "metadata": {
    "colab": {
     "base_uri": "https://localhost:8080/",
     "height": 419
    },
    "colab_type": "code",
    "id": "RaxcOQSi_Vlm",
    "outputId": "2b1e64bc-97e5-4926-dd9c-356dcf120262"
   },
   "outputs": [],
   "source": [
    "filtered_idhogar = ds[ds.idhogar.duplicated(keep=False)].sort_values(by='idhogar')[['Id', 'idhogar','parentesco1', 'Target','tamhog','tamviv']]\n",
    "filtered_idhogar['MiembrosFlia'] = filtered_idhogar.groupby(['idhogar'])['Id'].transform(len)\n",
    "\n",
    "filtered_idhogar[filtered_idhogar.MiembrosFlia != filtered_idhogar.tamhog].sort_values(by='idhogar')[['Id', 'idhogar','parentesco1', 'Target','tamhog','MiembrosFlia','tamviv']]\n"
   ]
  },
  {
   "cell_type": "code",
   "execution_count": null,
   "metadata": {},
   "outputs": [],
   "source": [
    "filtered_idhogar[filtered_idhogar.MiembrosFlia != filtered_idhogar.tamhog].sort_values(by='idhogar')[['Id', 'idhogar','parentesco1', 'Target','tamhog','MiembrosFlia','tamviv']]['idhogar'].unique().shape[0]"
   ]
  },
  {
   "cell_type": "markdown",
   "metadata": {},
   "source": [
    "Hay un total de 10 familias cuyo tamaño de hogar es distinto a la suma de los familiares que tienen mismo id de hogar."
   ]
  },
  {
   "cell_type": "markdown",
   "metadata": {
    "colab_type": "text",
    "id": "K7fIg2EuKBVQ"
   },
   "source": [
    "#### Verificación de tipovivi\n"
   ]
  },
  {
   "cell_type": "markdown",
   "metadata": {
    "colab_type": "text",
    "id": "Bm5BaYFdKYtn"
   },
   "source": [
    "¿Para qué casos de las variables TipoVivienda (tipovivi) no existe renta? ¿Es un si y solo si? Es decir, por ejemplo, si son propietarios, nunca hay valor en el campo renta, mientras que si no lo son, siempre hay valor. En caso de que esto no sea así, ¿es razonable? ¿Qué decisión tomarían al respecto?"
   ]
  },
  {
   "cell_type": "code",
   "execution_count": null,
   "metadata": {
    "colab": {
     "base_uri": "https://localhost:8080/",
     "height": 470
    },
    "colab_type": "code",
    "id": "Y3NxJZUAKD7p",
    "outputId": "057e92f0-4506-4a39-ecc7-467c374d11ec"
   },
   "outputs": [],
   "source": [
    "print(\"Vivienda tipo 1\", ds[ds['tipovivi1']==1]['v2a1'].unique())\n",
    "print(\"Vivienda tipo 4\",ds[ds['tipovivi4']==1]['v2a1'].unique())\n",
    "print(\"Vivienda tipo 5\",ds[ds['tipovivi5']==1]['v2a1'].unique())\n",
    "\n",
    "print(\"Vivienda tipo 2\",ds[ds['tipovivi2']==1]['v2a1'].unique())\n",
    "print(\"Vivienda tipo 3\",ds[ds['tipovivi3']==1]['v2a1'].unique())"
   ]
  },
  {
   "cell_type": "markdown",
   "metadata": {
    "colab_type": "text",
    "id": "o8kyguTDKr8z"
   },
   "source": [
    "Se observa que solo los tipo vivienda 2 y 3 tienen renta. Los tipo vivienda 2 son aquellos que son propietarios pero pagan una cuota, y los tipo 3 son los que pagan un alquiler.\n",
    "\n",
    "Lo cual es bastante logico ya que al ser dueños de la casa, estar en situación precaria o ser prestada es bastante probable que no paguen ningun monto en el alquiler"
   ]
  },
  {
   "cell_type": "markdown",
   "metadata": {
    "colab_type": "text",
    "id": "ZYx3Yht84T-o"
   },
   "source": [
    "### 2.6. Identificar y Documentar Valores Atípicos/Outliers"
   ]
  },
  {
   "cell_type": "markdown",
   "metadata": {
    "colab_type": "text",
    "id": "GgaDfVLk4T-p"
   },
   "source": [
    "Calcular estadísticos."
   ]
  },
  {
   "cell_type": "code",
   "execution_count": null,
   "metadata": {
    "colab": {
     "base_uri": "https://localhost:8080/"
    },
    "colab_type": "code",
    "id": "a0dzQ4MR4T-q",
    "outputId": "bba7d343-a71f-40a7-e82e-f8193dff033f"
   },
   "outputs": [],
   "source": [
    "sns.distplot(ds[ds.v2a1 > 0].v2a1)"
   ]
  },
  {
   "cell_type": "code",
   "execution_count": null,
   "metadata": {
    "colab": {
     "base_uri": "https://localhost:8080/"
    },
    "colab_type": "code",
    "id": "upp2bhXuOn19",
    "outputId": "e4551ee8-2c3b-4444-8edb-dd5c3774097a"
   },
   "outputs": [],
   "source": [
    "v2a1_max = ds.v2a1.std() * 3 + ds.v2a1.mean()\n",
    "# ds = ds[ds.v2a1 < v2a1_max]\n",
    "print(ds[ (ds.v2a1 < v2a1_max) | (ds.v2a1.isnull())].shape[0])\n",
    "print(ds.shape[0])\n",
    "print(ds[ (ds.v2a1 < v2a1_max) | (ds.v2a1.isnull())].shape[0] / ds.shape[0] - 1)\n",
    "ds = ds[ (ds.v2a1 < v2a1_max) | (ds.v2a1.isnull())]"
   ]
  },
  {
   "cell_type": "code",
   "execution_count": null,
   "metadata": {
    "colab": {
     "base_uri": "https://localhost:8080/"
    },
    "colab_type": "code",
    "id": "iRbv0XoAOGLW",
    "outputId": "f3863846-ef9b-46bf-fc70-3a62203a3ab8"
   },
   "outputs": [],
   "source": [
    "sns.distplot(ds[ds.v2a1 > 0].v2a1)"
   ]
  },
  {
   "cell_type": "markdown",
   "metadata": {
    "colab_type": "text",
    "id": "tNEHSWbu4T-s"
   },
   "source": [
    "### 2.7. Evaluar Cómo Comprimir los Datos Para su Almacenamiento Más Eficiente"
   ]
  },
  {
   "cell_type": "code",
   "execution_count": null,
   "metadata": {
    "colab": {
     "base_uri": "https://localhost:8080/"
    },
    "colab_type": "code",
    "id": "-h8FKG0myUHE",
    "outputId": "5ad7bdde-e857-4abf-c638-71e50373dd3f"
   },
   "outputs": [],
   "source": [
    "!pip install fastparquet tables pyarrow numpy==1.15.4\n",
    "\n",
    "import os\n",
    "def get_save_load(df, fmt):\n",
    "    save = getattr(df, f'to_{fmt}')\n",
    "    load = getattr(pd, f'read_{fmt}')\n",
    "    return save, load\n",
    "def size_of(filename, unit=1024**2):\n",
    "    return round(os.stat(filename).st_size / unit, 2)"
   ]
  },
  {
   "cell_type": "code",
   "execution_count": null,
   "metadata": {
    "colab": {
     "base_uri": "https://localhost:8080/"
    },
    "colab_type": "code",
    "id": "el6J6uYi4T-t",
    "outputId": "376710ce-41b3-4a7b-a6cf-e27f2fa9d088"
   },
   "outputs": [],
   "source": [
    "formats = [\n",
    "    ('hdf', {'key': 'data', 'format': 'table'}),\n",
    "    ('pickle',),\n",
    "    ('pickle',{\"compression\":\"bz2\"}),\n",
    "    ('pickle',{\"compression\":\"gzip\"}),\n",
    "    ('msgpack',),\n",
    "    ('csv',),\n",
    "    ('json',)\n",
    "]\n",
    "\n",
    "\n",
    "for case in formats:\n",
    "  fmt, params = case if len(case) == 2 else (case[0], {})\n",
    "  save, load = get_save_load(ds, fmt)\n",
    "  filename = f'pobreza_costa_rica_step_bench_test.{fmt}'\n",
    "  save(filename, **params)\n",
    "  print(fmt, size_of(filename)) "
   ]
  },
  {
   "cell_type": "markdown",
   "metadata": {
    "colab_type": "text",
    "id": "0aaaGOIt4T-w"
   },
   "source": [
    "### 2.8. Guardar el Set de Datos con un Nombre Informativo"
   ]
  },
  {
   "cell_type": "code",
   "execution_count": null,
   "metadata": {
    "colab": {},
    "colab_type": "code",
    "id": "18AlNtIR4T-x"
   },
   "outputs": [],
   "source": [
    "ds.to_csv('pobreza_costa_rica_step2.csv')"
   ]
  },
  {
   "cell_type": "markdown",
   "metadata": {
    "colab_type": "text",
    "id": "018TdZXk4T-1"
   },
   "source": [
    "## 3. Pasos de Limpieza Deseables\n",
    "\n",
    "### 3.1. Ordenar Variables/Columnas"
   ]
  },
  {
   "cell_type": "code",
   "execution_count": null,
   "metadata": {
    "colab": {},
    "colab_type": "code",
    "id": "Cud16maY4T-3"
   },
   "outputs": [],
   "source": []
  },
  {
   "cell_type": "markdown",
   "metadata": {
    "colab_type": "text",
    "id": "45owWGZb4T-5"
   },
   "source": [
    "### 3.2. Quitar Variables/Columnas Irrelevantes"
   ]
  },
  {
   "cell_type": "markdown",
   "metadata": {
    "colab_type": "text",
    "id": "EiB94Y844T-6"
   },
   "source": [
    "Tenemos alguna en este caso?"
   ]
  },
  {
   "cell_type": "code",
   "execution_count": null,
   "metadata": {
    "colab": {
     "base_uri": "https://localhost:8080/",
     "height": 1000
    },
    "colab_type": "code",
    "id": "yGWijrHr4T-7",
    "outputId": "ca8f07bc-d6d5-4272-a6c5-b64fd6b080bf"
   },
   "outputs": [],
   "source": [
    "ds"
   ]
  },
  {
   "cell_type": "markdown",
   "metadata": {
    "colab_type": "text",
    "id": "mW0by2_h4T-9"
   },
   "source": [
    "### 3.3. Renombrar Variables de Grillas"
   ]
  },
  {
   "cell_type": "markdown",
   "metadata": {
    "colab_type": "text",
    "id": "X43iW5Zl4T--"
   },
   "source": [
    "Esto se puede hacer de manera transparente a través de un diccionario.\n",
    "Sugiero darles nombres más informativos a algunas columnas, como por ejemplo la de Renta Mensual y las de lugares. Como ayuda, sigue el diccionario de las columnas `lugar` con su nuevo nombre haciendo referencia directa a la región:"
   ]
  },
  {
   "cell_type": "code",
   "execution_count": null,
   "metadata": {
    "colab": {
     "base_uri": "https://localhost:8080/",
     "height": 215
    },
    "colab_type": "code",
    "id": "Kjrl2ZKH4T--",
    "outputId": "8061a930-41c2-4634-d7eb-5ad49c7a4087"
   },
   "outputs": [],
   "source": [
    "# lugar1 =1 region Central\n",
    "# lugar2 =1 region Chorotega\n",
    "# lugar3 =1 region Pacífico central\n",
    "# lugar4 =1 region Brunca\n",
    "# lugar5 =1 region Huetar Atlántica\n",
    "# lugar6 =1 region Huetar Norte\n",
    "\n",
    "_col_dict = {\n",
    "  'area1':'zona_urbana',\n",
    "  'area2':'zona_rural', \n",
    "  'v2a1': 'monthly_rent',\n",
    "  'lugar1': 'region_central',\n",
    "  'lugar2': 'region_chorotega',\n",
    "  'lugar3': 'region_pacifico_central',\n",
    "  'lugar4': 'region_brunca',\n",
    "  'lugar5': 'region_huetar_atlantica',\n",
    "  'lugar6': 'region_huetar_norte'}\n",
    "ds.rename(columns=_col_dict, inplace=True)\n",
    "ds.head()"
   ]
  },
  {
   "cell_type": "markdown",
   "metadata": {
    "colab_type": "text",
    "id": "jx1luozW4T_H"
   },
   "source": [
    "### 3.4. Categorizar Variables que Contengan “Otros”"
   ]
  },
  {
   "cell_type": "code",
   "execution_count": null,
   "metadata": {
    "colab": {},
    "colab_type": "code",
    "id": "o8gBYEG64T_I"
   },
   "outputs": [],
   "source": []
  },
  {
   "cell_type": "markdown",
   "metadata": {
    "colab_type": "text",
    "id": "MztNs3Vh4T_L"
   },
   "source": [
    "### 3.5. Agregar Metadata a los Datos"
   ]
  },
  {
   "cell_type": "markdown",
   "metadata": {
    "colab_type": "text",
    "id": "pqzOUPOB4T_M"
   },
   "source": [
    "Cuando y como fueron obtenidos, limpieza realizada, decisiones implementadas, asunciones, etc."
   ]
  },
  {
   "cell_type": "code",
   "execution_count": null,
   "metadata": {
    "colab": {},
    "colab_type": "code",
    "id": "0B-2I6mq4T_N"
   },
   "outputs": [],
   "source": []
  },
  {
   "cell_type": "markdown",
   "metadata": {
    "colab_type": "text",
    "id": "mcAu3_rv4T_P"
   },
   "source": [
    "## II. Análisis en Profundidad del Contenido"
   ]
  },
  {
   "cell_type": "code",
   "execution_count": null,
   "metadata": {},
   "outputs": [],
   "source": [
    "ds = pd.read_csv(url_data)"
   ]
  },
  {
   "cell_type": "markdown",
   "metadata": {
    "colab_type": "text",
    "id": "c_ZbSFIB4T_Q"
   },
   "source": [
    "### 1. Features Tipo Objetos"
   ]
  },
  {
   "cell_type": "markdown",
   "metadata": {
    "colab_type": "text",
    "id": "uwPep_3c4T_R"
   },
   "source": [
    "Primero nos quedamos con las features cuyo tipo es 'Objeto'."
   ]
  },
  {
   "cell_type": "code",
   "execution_count": null,
   "metadata": {
    "colab": {
     "base_uri": "https://localhost:8080/",
     "height": 118
    },
    "colab_type": "code",
    "id": "phMPQKKE4T_R",
    "outputId": "8bdf4221-1040-4928-c3d1-3326785bafa0",
    "scrolled": false
   },
   "outputs": [],
   "source": [
    "# Observamos los campos que tienen tipo 'Objeto'\n",
    "ds.dtypes[ds.dtypes == 'object']"
   ]
  },
  {
   "cell_type": "markdown",
   "metadata": {
    "colab_type": "text",
    "id": "bHMwf5fw4T_U"
   },
   "source": [
    "`Id` e `idhogar`, qué son?"
   ]
  },
  {
   "cell_type": "code",
   "execution_count": null,
   "metadata": {
    "colab": {
     "base_uri": "https://localhost:8080/",
     "height": 101
    },
    "colab_type": "code",
    "id": "qPCOeNcB4T_V",
    "outputId": "0ccbd30e-afb3-4609-b0bd-cd35e433c349"
   },
   "outputs": [],
   "source": [
    "# Observamos los valores posibles del campo \"Dependency\"\n",
    "_dep_arr = ds['dependency'].unique()\n",
    "_dep_arr.sort()\n",
    "_dep_arr[::-1]"
   ]
  },
  {
   "cell_type": "code",
   "execution_count": null,
   "metadata": {
    "colab": {
     "base_uri": "https://localhost:8080/",
     "height": 67
    },
    "colab_type": "code",
    "id": "1WGe6M3V4T_Y",
    "outputId": "9df9f31e-0397-4058-b68a-5436c6a4e479",
    "scrolled": false
   },
   "outputs": [],
   "source": [
    "# Observamos los valores posibles del campo \"Edjefe\"\n",
    "_arr = ds['edjefe'].unique()\n",
    "_arr.sort()\n",
    "_arr[::-1]"
   ]
  },
  {
   "cell_type": "code",
   "execution_count": null,
   "metadata": {
    "colab": {
     "base_uri": "https://localhost:8080/",
     "height": 94
    },
    "colab_type": "code",
    "id": "z6qNMNfH4T_d",
    "outputId": "db9a8a3f-4dea-4205-b5ba-136c122b1888",
    "scrolled": false
   },
   "outputs": [],
   "source": [
    "# Analizamos el significado del campo \"Edjefe\"\n",
    "_data_fields[_data_fields['Variable_name'] == 'edjefe']"
   ]
  },
  {
   "cell_type": "code",
   "execution_count": null,
   "metadata": {
    "colab": {
     "base_uri": "https://localhost:8080/",
     "height": 67
    },
    "colab_type": "code",
    "id": "vNYTg2_v4T_j",
    "outputId": "2f53c13e-54c2-4e97-f9ce-5b93caba312d",
    "scrolled": true
   },
   "outputs": [],
   "source": [
    "# Observamos los valores posibles del campo \"Edjefa\"\n",
    "_arr = ds['edjefa'].unique()\n",
    "_arr.sort()\n",
    "_arr[::-1]"
   ]
  },
  {
   "cell_type": "markdown",
   "metadata": {
    "colab_type": "text",
    "id": "dkqCeOQM4T_p"
   },
   "source": [
    "### 2. Campos `tamhog` y `hhsize`"
   ]
  },
  {
   "cell_type": "code",
   "execution_count": null,
   "metadata": {
    "colab": {
     "base_uri": "https://localhost:8080/",
     "height": 34
    },
    "colab_type": "code",
    "id": "MDSz2rI44T_r",
    "outputId": "0f2763b6-7919-4bc6-a967-560a4859be89"
   },
   "outputs": [],
   "source": [
    "# Tenemos dos campos iguales!!\n",
    "ds['tamhog'].equals(ds['hhsize'])"
   ]
  },
  {
   "cell_type": "markdown",
   "metadata": {
    "colab_type": "text",
    "id": "xKdsL_qI4T_v"
   },
   "source": [
    "### 3. Renta Mensual: Outliers"
   ]
  },
  {
   "cell_type": "code",
   "execution_count": null,
   "metadata": {
    "colab": {
     "base_uri": "https://localhost:8080/",
     "height": 34
    },
    "colab_type": "code",
    "id": "SPvpS7aP4T_v",
    "outputId": "598e1161-cbc7-408e-e64d-bf41ab20dca2"
   },
   "outputs": [],
   "source": [
    "ds_filtered =  ds[ds['parentesco1']==1]\n",
    "ds_filtered['idhogar'].count()"
   ]
  },
  {
   "cell_type": "code",
   "execution_count": null,
   "metadata": {
    "colab": {
     "base_uri": "https://localhost:8080/",
     "height": 908
    },
    "colab_type": "code",
    "id": "85ZNekEpBg9p",
    "outputId": "2b88931e-264e-449d-c503-101cc6e11454"
   },
   "outputs": [],
   "source": [
    "plt.figure(figsize=(30,15))\n",
    "\n",
    "plt.subplot2grid((2,3),(0,0))\n",
    "sns.distplot(ds_filtered[(ds_filtered['area1']==1)&(ds_filtered['Target']==1)]['v2a1'].dropna(), bins=10 ,label='Extrema Pobreza', hist=False)\n",
    "sns.distplot(ds_filtered[(ds_filtered['area1']==1)&(ds_filtered['Target']==2)]['v2a1'].dropna(), bins=10 ,label='Pobreza Moderada', hist=False)\n",
    "sns.distplot(ds_filtered[(ds_filtered['area1']==1)&(ds_filtered['Target']==3)]['v2a1'].dropna(), bins=10 ,label='Hogares Vulnerables', hist=False)\n",
    "sns.distplot(ds_filtered[(ds_filtered['area1']==1)&(ds_filtered['Target']==4)]['v2a1'].dropna(), bins=10 ,label='Hogares No Vulnerables', hist=False)\n",
    "plt.title('Distribucion de frecuencia de renta de jefes\\n de hogar en zona urbana de acuerdo al nivel de pobreza')\n",
    "plt.legend()\n",
    "plt.ylim(0, 0.00002)\n",
    "\n",
    "sns.despine()\n",
    "\n",
    "plt.subplot2grid((2,3),(1,0))\n",
    "sns.distplot(ds_filtered[(ds_filtered['area2']==1)&(ds_filtered['Target']==1)]['v2a1'].dropna(), bins=10 ,label='Extrema Pobreza', hist=False)\n",
    "sns.distplot(ds_filtered[(ds_filtered['area2']==1)&(ds_filtered['Target']==2)]['v2a1'].dropna(), bins=10 ,label='Pobreza Moderada', hist=False)\n",
    "sns.distplot(ds_filtered[(ds_filtered['area2']==1)&(ds_filtered['Target']==3)]['v2a1'].dropna(), bins=10 ,label='Hogares Vulnerables', hist=False)\n",
    "sns.distplot(ds_filtered[(ds_filtered['area2']==1)&(ds_filtered['Target']==4)]['v2a1'].dropna(), bins=10 ,label='Hogares No Vulnerables', hist=False)\n",
    "plt.title('Distribucion de frecuencia de la renta de jefes\\n de hogar en zona rural de acuerdo al nivel de pobreza')\n",
    "plt.legend()\n",
    "plt.ylim(0, 0.00002)\n",
    "\n",
    "sns.despine()"
   ]
  },
  {
   "cell_type": "code",
   "execution_count": null,
   "metadata": {
    "colab": {
     "base_uri": "https://localhost:8080/",
     "height": 312
    },
    "colab_type": "code",
    "id": "t6qukLmBDf0P",
    "outputId": "2356bed2-342e-49cf-e179-ca5d6a2afcd7"
   },
   "outputs": [],
   "source": [
    "plt.figure(figsize=(8,4))\n",
    "sns.boxplot(data=ds_filtered, x='Target', y='v2a1')\n",
    "plt.ylabel('Alquiler mensual')\n",
    "plt.xlabel('Clase')\n",
    "plt.xticks(rotation=45)\n",
    "plt.ylim(0, 1200000)\n",
    "plt.title(\"Boxplot de la renta de los hogares \\n dependiendo el nivel de pobreza\")\n",
    "sns.despine()"
   ]
  },
  {
   "cell_type": "code",
   "execution_count": null,
   "metadata": {
    "colab": {
     "base_uri": "https://localhost:8080/",
     "height": 190
    },
    "colab_type": "code",
    "id": "pUZqMXsWGjrK",
    "outputId": "d9324700-85a2-4cdd-db95-34ef584177ec"
   },
   "outputs": [],
   "source": [
    "renta_outlier = ds_filtered[ds_filtered['v2a1']>500000].sort_values('v2a1',ascending =False)\n",
    "print(\"Cantidad de outliers: \",renta_outlier['v2a1'].count())\n",
    "print(\"Cantidad de outliers correspondientes a Target 4: \",renta_outlier[renta_outlier['Target']==4]['v2a1'].count())\n",
    "\n",
    "# Verificación de las características de los hogares mas extremos\n",
    "renta_outlier.sort_values('v2a1',ascending =False)[:3]\n",
    "\n",
    "renta_outlier.sort_values('v2a1',ascending =False)[:3][['v2a1','rooms','tamviv','escolari','paredblolad','pisomoscer','techozinc','cielorazo','epared3','etecho3','eviv3','hogar_total','bedrooms','tipovivi2','lugar1',\t'lugar2','area1','Target']]\n"
   ]
  },
  {
   "cell_type": "code",
   "execution_count": null,
   "metadata": {},
   "outputs": [],
   "source": [
    "renta_outlier.sort_values('v2a1',ascending =False)[:3]"
   ]
  },
  {
   "cell_type": "markdown",
   "metadata": {
    "colab_type": "text",
    "id": "y2m5F75yLeZ1"
   },
   "source": [
    "Se observa que la renta de los 3 hogares más extremos tienen características similares:\n",
    "* Ubicadas en zona urbana\n",
    "* 2 corresponden a región Central y la otra a región Chorotega\n",
    "* Gran cantidad de habitaciones\n",
    "* La pared es de bloque o ladrillo\n",
    "* Piso de cerámico\n",
    "* Techo de zinc\n",
    "* Cielo razo.\n",
    "* El techo, las paredes y el piso están en buen estado.\n",
    "* Los jefes de hogar de dichas viviendas tiene educación superior.\n",
    "* Las tres corresponden a propietarios con cuotas por pagar.\n",
    "\n",
    "Podriamos considerar que no son outlier, pero primero estudiaremos las siguientes 27 hogares para verificar si tienen similares caracteristicas y decidir si eliminar dichos casos\n"
   ]
  },
  {
   "cell_type": "code",
   "execution_count": null,
   "metadata": {
    "colab": {
     "base_uri": "https://localhost:8080/",
     "height": 215
    },
    "colab_type": "code",
    "id": "WSEYiIKOOJqb",
    "outputId": "5e18757f-6afa-429c-a864-734fb45a5ce2"
   },
   "outputs": [],
   "source": [
    "renta_outlier.sort_values('v2a1',ascending =False)[3:30][['v2a1','rooms','tamviv','escolari','paredblolad','pisomoscer','techozinc','cielorazo','epared3','etecho3','eviv3','hogar_total','bedrooms','tipovivi2','tipovivi3','lugar1','area1','Target']].head()"
   ]
  },
  {
   "cell_type": "markdown",
   "metadata": {
    "colab_type": "text",
    "id": "QkOVOk-8PlAJ"
   },
   "source": [
    "Llama la atención que la mayoría de los hogares se situan en región central y en zona urbana.\n",
    "\n",
    "Si nos basamos en el monto estimado que se informa en https://preciosmundi.com/costa-rica/precio-vivienda-salarios\n",
    "entonces  estos outliers (expresada en moneda local) no podría ser considerada como valores atipicos."
   ]
  },
  {
   "cell_type": "code",
   "execution_count": null,
   "metadata": {
    "colab": {
     "base_uri": "https://localhost:8080/",
     "height": 312
    },
    "colab_type": "code",
    "id": "g9JvxpFYFUxj",
    "outputId": "4234add9-3bff-4866-9f67-03314816947c"
   },
   "outputs": [],
   "source": [
    "ds_filtered_out = ds_filtered[np.abs(ds_filtered.v2a1-ds_filtered.v2a1.mean()) <= (3*ds_filtered.v2a1.std())]\n",
    "\n",
    "plt.figure(figsize=(8,4))\n",
    "sns.boxplot(data=ds_filtered_out, x='Target', y='v2a1')\n",
    "plt.ylabel('Alquiler mensual')\n",
    "plt.xlabel('Clase')\n",
    "plt.xticks(rotation=45)\n",
    "plt.ylim(0, 1200000)\n",
    "plt.title(\"Boxplot de la renta de los hogares \\n dependiendo el nivel de pobreza\")\n",
    "sns.despine()"
   ]
  },
  {
   "cell_type": "markdown",
   "metadata": {
    "colab_type": "text",
    "id": "LCB10KiO4T_0"
   },
   "source": [
    "### 4. Renta Mensual y Tipo de Vivienda"
   ]
  },
  {
   "cell_type": "code",
   "execution_count": null,
   "metadata": {
    "colab": {
     "base_uri": "https://localhost:8080/",
     "height": 118
    },
    "colab_type": "code",
    "id": "eX-F0NqATfUN",
    "outputId": "93885a24-09a6-4338-f8b3-94362a37e95d"
   },
   "outputs": [],
   "source": [
    "ds_filtered =  _ds[_ds['parentesco1']==1]\n",
    "\n",
    "print(\"Cantidad de hogares con tipo vivienda 1: \", ds_filtered[ds_filtered['tipovivi1']==1]['v2a1'].count())\n",
    "print(\"Cantidad de hogares con tipo vivienda 2: \", ds_filtered[ds_filtered['tipovivi2']==1]['v2a1'].count())\n",
    "print(\"Cantidad de hogares con tipo vivienda 3: \", ds_filtered[ds_filtered['tipovivi3']==1]['v2a1'].count())\n",
    "print(\"Cantidad de hogares con tipo vivienda 4: \", ds_filtered[ds_filtered['tipovivi4']==1]['v2a1'].count())\n",
    "print(\"Cantidad de hogares con tipo vivienda 5: \", ds_filtered[ds_filtered['tipovivi5']==1]['v2a1'].count())\n",
    "\n",
    "print(\"Total: \",_ds[_ds['parentesco1']==1].shape[0])\n"
   ]
  },
  {
   "cell_type": "markdown",
   "metadata": {
    "colab_type": "text",
    "id": "nWbXVOS8eDT2"
   },
   "source": [
    "Los únicos que tienen el campo renta distinto de nulo son aquellos que tienen tipo vivienda 2 y 3. Y corresponden a aquellos que alquilan o son propietarios con cuota adeudada. "
   ]
  },
  {
   "cell_type": "markdown",
   "metadata": {
    "colab_type": "text",
    "id": "VbjaNOKl4T_4"
   },
   "source": [
    "### 5. Renta Mensual: Valores Faltantes"
   ]
  },
  {
   "cell_type": "markdown",
   "metadata": {
    "colab_type": "text",
    "id": "UI_OB7Kfeg7C"
   },
   "source": [
    "El tratamiento de los faltantes se realizará calculando el costo oportunidad de la vivienda teniendo en cuenta las siguientes variables:\n",
    "* Region\n",
    "* zona\n",
    "* rooms \n",
    "* bedrooms\n",
    "* estado de la pared, piso y techo\n",
    "\n",
    "Teniendo en cuenta el registro al cual se le quiere registrar la renta, se buscarán aquellas viviendas que tengan las mismas características, y se calculará la media de la renta de las mismas."
   ]
  },
  {
   "cell_type": "code",
   "execution_count": null,
   "metadata": {},
   "outputs": [],
   "source": [
    "ds_paid_rent = ds[(ds.monthly_rent > 0) & (ds.parentesco1==1)]\n",
    "ds_paid_rent.shape[0]"
   ]
  },
  {
   "cell_type": "code",
   "execution_count": null,
   "metadata": {
    "colab": {
     "base_uri": "https://localhost:8080/",
     "height": 34
    },
    "colab_type": "code",
    "id": "zzROLJk14T_5",
    "outputId": "dc7baa16-5d5a-49ef-960b-6f9486d191db"
   },
   "outputs": [],
   "source": [
    "variables = [\n",
    "    {\"columns\":[\"region_central\", \"region_chorotega\", \"region_pacifico_central\", \"region_brunca\", \"region_huetar_atlantica\", \"region_huetar_norte\"]},\n",
    "    {\"columns\":[\"zona_urbana\", \"zona_rural\"]},\n",
    "    {\"columns\":[\"eviv1\", \"eviv2\", \"eviv3\"]},\n",
    "    {\"columns\":[\"etecho1\", \"etecho2\", \"etecho3\"]},\n",
    "    {\"columns\":[\"epared1\", \"epared2\", \"epared3\"]},\n",
    "    {\"name\":\"rooms\"},\n",
    "]\n",
    "\n",
    "def get_value(input, columns):\n",
    "    filter_data = {}\n",
    "    for col in columns:\n",
    "        if \"columns\" in col:\n",
    "            for df_column in col[\"columns\"]:\n",
    "                if input[df_column] == 1:\n",
    "                    filter_data[df_column] = 1\n",
    "        elif \"name\" in col:\n",
    "            filter_data[col[\"name\"]] = input[col[\"name\"]]\n",
    "    return filter_data\n",
    "few_information  \n",
    "def get_costo_de_oportunidad(input):\n",
    "    filter_data = {}\n",
    "    if input.monthly_rent > 0:\n",
    "        return input.monthly_rent\n",
    "    for n in range(len(variables)):\n",
    "        filter_data = None\n",
    "        if n==0:\n",
    "            filter_data = get_value(input, variables)\n",
    "        elif n > 0:\n",
    "            filter_data = get_value(input, variables[:-n])\n",
    "        filtered_ds = ds_paid_rent.loc[(ds_paid_rent[list(filter_data)] == pd.Series(filter_data)).all(axis=1)]\n",
    "        if filtered_ds.shape[0] > 0:\n",
    "            if len(filter_data) == 3:\n",
    "                print(input)\n",
    "            print(filter_data)\n",
    "            return filtered_ds.monthly_rent.mean()\n",
    "\n",
    "\n",
    "#serie = ds[:1]\n",
    "#print(get_costo_de_oportunidad(serie))\n",
    "#(serie.region_central==1)[0]\n",
    "get_costo_de_oportunidad(ds.iloc[2])\n",
    "\n",
    "ds['newcolumn'] = ds.apply(lambda x: get_costo_de_oportunidad(x), axis=1)\n",
    "#ds[(ds[\"region_central\"]==1)&(ds[\"zona_urbana\"]==1)].describe()"
   ]
  },
  {
   "cell_type": "code",
   "execution_count": null,
   "metadata": {
    "colab": {},
    "colab_type": "code",
    "id": "4g3heFTiup9D"
   },
   "outputs": [],
   "source": [
    "filter_data = {'region_huetar_norte': 1, 'zona_rural': 1, 'eviv2': 1, 'etecho2': 1,}\n",
    "ds_paid_rent.loc[(ds_paid_rent[list(filter_data)] == pd.Series(filter_data)).all(axis=1)]\n"
   ]
  },
  {
   "cell_type": "code",
   "execution_count": null,
   "metadata": {},
   "outputs": [],
   "source": [
    "sns.distplot(ds.newcolumn)"
   ]
  },
  {
   "cell_type": "markdown",
   "metadata": {
    "colab_type": "text",
    "id": "cJB0mfVU4T_6"
   },
   "source": [
    "### 6. Datos Únicos por `idhogar`"
   ]
  },
  {
   "cell_type": "code",
   "execution_count": null,
   "metadata": {
    "colab": {},
    "colab_type": "code",
    "id": "0zhTns0Y4T_7"
   },
   "outputs": [],
   "source": []
  },
  {
   "cell_type": "markdown",
   "metadata": {
    "colab_type": "text",
    "id": "sLm5pTXM4T_9"
   },
   "source": [
    "### 7. Individuos por Hogar"
   ]
  },
  {
   "cell_type": "markdown",
   "metadata": {},
   "source": [
    "#### Verificación de tamhog es la suma de los individuos con mismo idhogar"
   ]
  },
  {
   "cell_type": "code",
   "execution_count": null,
   "metadata": {},
   "outputs": [],
   "source": [
    "ds.shape"
   ]
  },
  {
   "cell_type": "code",
   "execution_count": null,
   "metadata": {
    "colab": {
     "base_uri": "https://localhost:8080/",
     "height": 419
    },
    "colab_type": "code",
    "id": "RaxcOQSi_Vlm",
    "outputId": "2b1e64bc-97e5-4926-dd9c-356dcf120262"
   },
   "outputs": [],
   "source": [
    "filtered_idhogar = ds[ds.idhogar.duplicated(keep=False)].sort_values(by='idhogar')[['Id', 'idhogar','parentesco1', 'Target','tamhog','tamviv']]\n",
    "filtered_idhogar['MiembrosFlia'] = filtered_idhogar.groupby(['idhogar'])['Id'].transform(len)\n",
    "\n",
    "filtered_idhogar[filtered_idhogar.MiembrosFlia != filtered_idhogar.tamhog].sort_values(by='idhogar')[['Id', 'idhogar','parentesco1', 'Target','tamhog','MiembrosFlia','tamviv']]\n"
   ]
  },
  {
   "cell_type": "code",
   "execution_count": null,
   "metadata": {},
   "outputs": [],
   "source": [
    "filtered_idhogar[filtered_idhogar.MiembrosFlia != filtered_idhogar.tamhog].sort_values(by='idhogar')[['Id', 'idhogar','parentesco1', 'Target','tamhog','MiembrosFlia','tamviv']]['idhogar'].unique().shape[0]"
   ]
  },
  {
   "cell_type": "markdown",
   "metadata": {},
   "source": [
    "Hay un total de 10 familias cuyo tamaño de hogar es distinto a la suma de los familiares que tienen mismo id de hogar. Puede que las personas no hayan sido entrevistadas y por eso no aparecen en el dataset."
   ]
  },
  {
   "cell_type": "markdown",
   "metadata": {
    "colab_type": "text",
    "id": "kRAwZTB14UAB"
   },
   "source": [
    "### 8. `rooms` y `bedrooms`"
   ]
  },
  {
   "cell_type": "markdown",
   "metadata": {},
   "source": [
    "Hay misma cantidad de habitaciones que de dormitorios?"
   ]
  },
  {
   "cell_type": "code",
   "execution_count": null,
   "metadata": {
    "colab": {},
    "colab_type": "code",
    "id": "Lz3ELEqX4UAC"
   },
   "outputs": [],
   "source": [
    "ds['rooms'].equals(ds['bedrooms'])"
   ]
  },
  {
   "cell_type": "markdown",
   "metadata": {},
   "source": [
    "Hay mayor cantidad de dormitorios que de habitaciones?"
   ]
  },
  {
   "cell_type": "code",
   "execution_count": null,
   "metadata": {},
   "outputs": [],
   "source": [
    "ds[ds['rooms']<ds['bedrooms']][['rooms', 'bedrooms']].shape[0]"
   ]
  },
  {
   "cell_type": "markdown",
   "metadata": {
    "colab_type": "text",
    "id": "SoS6YOfB4UAG"
   },
   "source": [
    "### 9. Jef@s de Hogar por `idhogar`"
   ]
  },
  {
   "cell_type": "markdown",
   "metadata": {
    "colab_type": "text",
    "id": "gb-_RnPWECj9"
   },
   "source": [
    "¿Todas las casas tienen un jefe de hogar? "
   ]
  },
  {
   "cell_type": "code",
   "execution_count": null,
   "metadata": {
    "colab": {
     "base_uri": "https://localhost:8080/",
     "height": 50
    },
    "colab_type": "code",
    "id": "zFFOFJiTDNoE",
    "outputId": "73c36122-515c-47fb-ad0d-8df241178c55"
   },
   "outputs": [],
   "source": [
    "print(ds.drop_duplicates(subset=['idhogar']).drop_duplicates(subset =\"idhogar\").shape[0])\n",
    "print(ds[ds.parentesco1==1].shape[0])"
   ]
  },
  {
   "cell_type": "code",
   "execution_count": null,
   "metadata": {
    "colab": {
     "base_uri": "https://localhost:8080/",
     "height": 521
    },
    "colab_type": "code",
    "id": "rrPyTltEFa3j",
    "outputId": "06756528-b84f-4739-edaf-d67a2abf7f00"
   },
   "outputs": [],
   "source": [
    "hogares = ds[[\"parentesco1\", \"idhogar\"]].groupby(['idhogar']).sum()\n",
    "hogares[hogares.parentesco1 != 1]"
   ]
  },
  {
   "cell_type": "markdown",
   "metadata": {
    "colab_type": "text",
    "id": "ee1jtn8mCBoL"
   },
   "source": [
    "Se observan 15 familias sin jefe de hogar.\n",
    "Problemente en la selección de datos para train los grupos familiares hayan quedado divididos, por lo tanto tenemos hogares sin jefe de hogar.\n",
    "Por esta razón se eliminarán las personas que pertenezcan a hogares sin jefe de hogar."
   ]
  },
  {
   "cell_type": "markdown",
   "metadata": {},
   "source": [
    "¿Alguna casa tiene más de un jefe de hogar?\n",
    "Ningún hogar tiene más de un jefe de hogar"
   ]
  },
  {
   "cell_type": "code",
   "execution_count": null,
   "metadata": {},
   "outputs": [],
   "source": [
    "hogares = ds[[\"parentesco1\", \"idhogar\"]].groupby(['idhogar']).sum()\n",
    "hogares[hogares.parentesco1 > 1].shape[0]"
   ]
  },
  {
   "cell_type": "markdown",
   "metadata": {
    "colab_type": "text",
    "id": "vtTCRDT24UAJ"
   },
   "source": [
    "### 10. Adicional"
   ]
  },
  {
   "cell_type": "markdown",
   "metadata": {},
   "source": [
    "##### Actualizacón de metadata"
   ]
  },
  {
   "cell_type": "code",
   "execution_count": null,
   "metadata": {
    "colab": {},
    "colab_type": "code",
    "id": "gnAV1McU4UAK"
   },
   "outputs": [],
   "source": [
    "_data_fields\n"
   ]
  },
  {
   "cell_type": "code",
   "execution_count": null,
   "metadata": {},
   "outputs": [],
   "source": [
    "dropped_fields =['SQBescolari','SQBage','SQBhogar_total','SQBedjefe','SQBhogar_nin','SQBovercrowding','SQBdependency','SQBmeaned','agesq',\"edjefe\", \"edjefa\", \"dependency\", \"meaneduc\",'r4t1','r4t2','r4t3', 'r4m3','r4h3','hogar_total','hhsize','rez_esc']\n",
    "updated_data_fields = _data_fields[~_data_fields.Variable_name.isin(dropped_fields)]"
   ]
  },
  {
   "cell_type": "code",
   "execution_count": null,
   "metadata": {},
   "outputs": [],
   "source": [
    "_col_dict = {\n",
    "  'area1':'zona_urbana',\n",
    "  'area2':'zona_rural', \n",
    "  'v2a1': 'monthly_rent',\n",
    "  'lugar1': 'region_central',\n",
    "  'lugar2': 'region_chorotega',\n",
    "  'lugar3': 'region_pacifico_central',\n",
    "  'lugar4': 'region_brunca',\n",
    "  'lugar5': 'region_huetar_atlantica',\n",
    "  'lugar6': 'region_huetar_norte'}\n",
    "updated_data_fields['Variable_name'] = updated_data_fields['Variable_name'].replace(_col_dict)\n"
   ]
  },
  {
   "cell_type": "code",
   "execution_count": null,
   "metadata": {},
   "outputs": [],
   "source": [
    "updated_data_fields"
   ]
  },
  {
   "cell_type": "code",
   "execution_count": null,
   "metadata": {},
   "outputs": [],
   "source": [
    "formats = [\n",
    "    ('csv',)\n",
    "]\n",
    "from datetime import date\n",
    "today = date.today()\n",
    "\n",
    "updated_data_fields.to_csv(r'dataset_fields'+today.strftime(\"%d%m%Y\")+'.csv', index=None, sep=';', mode='a')\n"
   ]
  },
  {
   "cell_type": "code",
   "execution_count": null,
   "metadata": {},
   "outputs": [],
   "source": []
  }
 ],
 "metadata": {
  "colab": {
   "collapsed_sections": [
    "OASR0rhqznr5",
    "ZYx3Yht84T-o",
    "tNEHSWbu4T-s",
    "0aaaGOIt4T-w",
    "MztNs3Vh4T_L",
    "SoS6YOfB4UAG"
   ],
   "name": "2- Pobreza en Costa Rica - Exploración y Curación.ipynb",
   "provenance": [],
   "toc_visible": true,
   "version": "0.3.2"
  },
  "kernelspec": {
   "display_name": "Python 3",
   "language": "python",
   "name": "python3"
  },
  "language_info": {
   "codemirror_mode": {
    "name": "ipython",
    "version": 3
   },
   "file_extension": ".py",
   "mimetype": "text/x-python",
   "name": "python",
   "nbconvert_exporter": "python",
   "pygments_lexer": "ipython3",
   "version": "3.7.3"
  }
 },
 "nbformat": 4,
 "nbformat_minor": 1
}
